{
 "cells": [
  {
   "cell_type": "markdown",
   "metadata": {},
   "source": [
    "### 변수명 명명규칙\n",
    "\n",
    "1. 첫 글자는 영문대소문자와 언더바('_')로 시작해야 한다.\n",
    "2. 나머지 글자는 영문자, 숫자, 언더바로 구성할 수 있다.\n",
    "3. 대소문자를 구분한다.\n",
    "4. 변수명의 길이 제한은 없다.\n",
    "5. 예약어는 사용할 수 없다."
   ]
  },
  {
   "cell_type": "code",
   "execution_count": 1,
   "metadata": {},
   "outputs": [
    {
     "name": "stdout",
     "output_type": "stream",
     "text": [
      "keyword\t \n",
      "['False', 'None', 'True', 'and', 'as', 'assert', 'async', 'await', 'break', 'class', 'continue', 'def', 'del', 'elif', 'else', 'except', 'finally', 'for', 'from', 'global', 'if', 'import', 'in', 'is', 'lambda', 'nonlocal', 'not', 'or', 'pass', 'raise', 'return', 'try', 'while', 'with', 'yield']\n",
      "35\n"
     ]
    }
   ],
   "source": [
    "# 파이썬에서 사용하는 keyword리스트\n",
    "import keyword\n",
    "\n",
    "# %who 현재 세션에서 사용중인 변수, 모듈등을 출력\n",
    "# (주의) 매직명령어 뒤에 주석을 추가하면 실행이 되지 않는다.\n",
    "%who \n",
    "# keyword?\n",
    "print(keyword.kwlist)\n",
    "print(len(keyword.kwlist))"
   ]
  },
  {
   "cell_type": "markdown",
   "metadata": {},
   "source": [
    "### 리스트자료형\n",
    "\n",
    "파이썬에서는 리스트자료형을 만들 때 대괄호([])로 감싸주고 그 안에 요소들을 컴마(,)로 구분해 준다.\n",
    "파이썬에서 리스트자료형은 String(문자열)만큼 자주 사용되는 자료형이다.\n",
    "\n",
    ">리스트형 = [요소1, 요소2, ... 요소n]\n",
    "\n",
    "###### 리스트란?\n",
    "1. 순서가 있는 수정가능한 객체의 집합이다.\n",
    "2. 수정, 삭제, 추가가 가능하다.\n",
    "3. list는 <code>대괄호 []</code>로 작성되고 내부원소는 <code>컴마 ,</code>로 구분된다.\n",
    "4. list의 인데스는 0부터 시작된다.\n",
    "5. index의 범위를 벗어나면 에러가 발생된다.\n",
    "6. list에는 list뿐만 아니라 여러가지의 자료형도 함께 정의할 수 있다.\n",
    "7. list는 마지막원소뒤에 컴마(,)가 있어도 에러가 발생하지는 않는다. 보통은 생략하지만 편의를 위해 컴마를 찍기도 한다."
   ]
  },
  {
   "cell_type": "code",
   "execution_count": 2,
   "metadata": {
    "scrolled": false
   },
   "outputs": [
    {
     "name": "stdout",
     "output_type": "stream",
     "text": [
      "[]\n",
      "<class 'list'>\n",
      "Help on list object:\n",
      "\n",
      "class list(object)\n",
      " |  list(iterable=(), /)\n",
      " |  \n",
      " |  Built-in mutable sequence.\n",
      " |  \n",
      " |  If no argument is given, the constructor creates a new empty list.\n",
      " |  The argument must be an iterable if specified.\n",
      " |  \n",
      " |  Methods defined here:\n",
      " |  \n",
      " |  __add__(self, value, /)\n",
      " |      Return self+value.\n",
      " |  \n",
      " |  __contains__(self, key, /)\n",
      " |      Return key in self.\n",
      " |  \n",
      " |  __delitem__(self, key, /)\n",
      " |      Delete self[key].\n",
      " |  \n",
      " |  __eq__(self, value, /)\n",
      " |      Return self==value.\n",
      " |  \n",
      " |  __ge__(self, value, /)\n",
      " |      Return self>=value.\n",
      " |  \n",
      " |  __getattribute__(self, name, /)\n",
      " |      Return getattr(self, name).\n",
      " |  \n",
      " |  __getitem__(...)\n",
      " |      x.__getitem__(y) <==> x[y]\n",
      " |  \n",
      " |  __gt__(self, value, /)\n",
      " |      Return self>value.\n",
      " |  \n",
      " |  __iadd__(self, value, /)\n",
      " |      Implement self+=value.\n",
      " |  \n",
      " |  __imul__(self, value, /)\n",
      " |      Implement self*=value.\n",
      " |  \n",
      " |  __init__(self, /, *args, **kwargs)\n",
      " |      Initialize self.  See help(type(self)) for accurate signature.\n",
      " |  \n",
      " |  __iter__(self, /)\n",
      " |      Implement iter(self).\n",
      " |  \n",
      " |  __le__(self, value, /)\n",
      " |      Return self<=value.\n",
      " |  \n",
      " |  __len__(self, /)\n",
      " |      Return len(self).\n",
      " |  \n",
      " |  __lt__(self, value, /)\n",
      " |      Return self<value.\n",
      " |  \n",
      " |  __mul__(self, value, /)\n",
      " |      Return self*value.\n",
      " |  \n",
      " |  __ne__(self, value, /)\n",
      " |      Return self!=value.\n",
      " |  \n",
      " |  __repr__(self, /)\n",
      " |      Return repr(self).\n",
      " |  \n",
      " |  __reversed__(self, /)\n",
      " |      Return a reverse iterator over the list.\n",
      " |  \n",
      " |  __rmul__(self, value, /)\n",
      " |      Return value*self.\n",
      " |  \n",
      " |  __setitem__(self, key, value, /)\n",
      " |      Set self[key] to value.\n",
      " |  \n",
      " |  __sizeof__(self, /)\n",
      " |      Return the size of the list in memory, in bytes.\n",
      " |  \n",
      " |  append(self, object, /)\n",
      " |      Append object to the end of the list.\n",
      " |  \n",
      " |  clear(self, /)\n",
      " |      Remove all items from list.\n",
      " |  \n",
      " |  copy(self, /)\n",
      " |      Return a shallow copy of the list.\n",
      " |  \n",
      " |  count(self, value, /)\n",
      " |      Return number of occurrences of value.\n",
      " |  \n",
      " |  extend(self, iterable, /)\n",
      " |      Extend list by appending elements from the iterable.\n",
      " |  \n",
      " |  index(self, value, start=0, stop=9223372036854775807, /)\n",
      " |      Return first index of value.\n",
      " |      \n",
      " |      Raises ValueError if the value is not present.\n",
      " |  \n",
      " |  insert(self, index, object, /)\n",
      " |      Insert object before index.\n",
      " |  \n",
      " |  pop(self, index=-1, /)\n",
      " |      Remove and return item at index (default last).\n",
      " |      \n",
      " |      Raises IndexError if list is empty or index is out of range.\n",
      " |  \n",
      " |  remove(self, value, /)\n",
      " |      Remove first occurrence of value.\n",
      " |      \n",
      " |      Raises ValueError if the value is not present.\n",
      " |  \n",
      " |  reverse(self, /)\n",
      " |      Reverse *IN PLACE*.\n",
      " |  \n",
      " |  sort(self, /, *, key=None, reverse=False)\n",
      " |      Stable sort *IN PLACE*.\n",
      " |  \n",
      " |  ----------------------------------------------------------------------\n",
      " |  Static methods defined here:\n",
      " |  \n",
      " |  __new__(*args, **kwargs) from builtins.type\n",
      " |      Create and return a new object.  See help(type) for accurate signature.\n",
      " |  \n",
      " |  ----------------------------------------------------------------------\n",
      " |  Data and other attributes defined here:\n",
      " |  \n",
      " |  __hash__ = None\n",
      "\n"
     ]
    }
   ],
   "source": [
    "# 빈 리스트 객체를 정의\n",
    "a = []\n",
    "print(a)\n",
    "\n",
    "# 변수의 자료형을 확인하는 방법\n",
    "# 1. 변수명? or ?변수명\n",
    "# 2. type()함수를 사용\n",
    "?a\n",
    "print(type(a))\n",
    "help(a)"
   ]
  },
  {
   "cell_type": "code",
   "execution_count": 3,
   "metadata": {},
   "outputs": [
    {
     "name": "stdout",
     "output_type": "stream",
     "text": [
      "a\t keyword\t \n",
      "keyword\t \n",
      "a\t b\t keyword\t \n",
      "Interactive namespace is empty.\n"
     ]
    }
   ],
   "source": [
    "%who\n",
    "\n",
    "# 현재 세션에서 사용되는 변수 또는 모듈등을 삭제하기\n",
    "# del명령은 변수나 객체를 삭제하는 명령\n",
    "a = 'del'\n",
    "del a \n",
    "%who\n",
    "\n",
    "# 현재 세션에서 사용하고 있는 모든 변수나 모듈등을 한번에 삭제하는 방법\n",
    "# %rest [-f]\n",
    "a = 1\n",
    "b = 'a'\n",
    "%who\n",
    "\n",
    "%reset -f\n",
    "%who"
   ]
  },
  {
   "cell_type": "code",
   "execution_count": 4,
   "metadata": {},
   "outputs": [
    {
     "name": "stdout",
     "output_type": "stream",
     "text": [
      "<class 'builtin_function_or_method'>\n",
      "1\n"
     ]
    }
   ],
   "source": [
    "print(type(print))\n",
    "a = 1\n",
    "print(a)\n",
    "#print = a\n",
    "#type(print)"
   ]
  },
  {
   "cell_type": "code",
   "execution_count": 6,
   "metadata": {},
   "outputs": [
    {
     "name": "stdout",
     "output_type": "stream",
     "text": [
      "[1, 2, [3, 4], [1.0, 'String']]\n"
     ]
    }
   ],
   "source": [
    "a = [] # 빈 리스트객체 선언\n",
    "b = [1,2,3] # 3개의 요소를 갖는 리스트 선언\n",
    "c = ['Life', 'is', 'too', 'short'] # 4개의 문자열 요소를 갖는 리스트 선언\n",
    "d = [1, 'a', '1.2'] # 파이썬에는 자료형 구분이 없이 리스트를 선언할 수 있다.\n",
    "e = [1, 2, [3,4], [1.0, 'String']] # 리스트안에 어떠한 자료형도 사용할 수 있다.\n",
    "print(e)"
   ]
  },
  {
   "cell_type": "markdown",
   "metadata": {},
   "source": [
    "#### 1. 리스트의 인덱싱과 슬라이싱"
   ]
  },
  {
   "cell_type": "code",
   "execution_count": 26,
   "metadata": {},
   "outputs": [
    {
     "name": "stdout",
     "output_type": "stream",
     "text": [
      "1 2 3 a [4, 5]\n",
      "<class 'list'> <class 'int'> <class 'str'> <class 'list'>\n",
      "3\n",
      "[4, 5]\n",
      "test [4, 5]\n",
      "['a', 'b', 'c', ['x', 'y', 'z']]\n",
      "a\n",
      "x\n"
     ]
    }
   ],
   "source": [
    "# 1. 인덱싱\n",
    "# ... 파이썬에서 리스트 인덱싱은 음수(-)값도 허용한다.\n",
    "# ... 음수(-)값은 역순으로 인덱싱이 된다.\n",
    "\n",
    "a = [1,2,3,'a', [4,5]]\n",
    "#a?\n",
    "print(a[0],a[1],a[2],a[3], a[4])\n",
    "print(type(a), type(a[0]), type(a[3]), type(a[4]))\n",
    "\n",
    "print(a[0] + a[1])\n",
    "# print(a[0] + a[3]) # TypeError발생\n",
    "# print(a[0] + a[4]) # TypeError발생\n",
    "print(a[-1])\n",
    "print('test', end=' ')\n",
    "print(a[-1])\n",
    "\n",
    "a = [1,2,3,['a','b','c',['x','y','z']]]\n",
    "print(a[-1])\n",
    "print(a[-1][0]) # java에서 이차원배열과 유사\n",
    "print(a[-1][-1][0])"
   ]
  },
  {
   "cell_type": "code",
   "execution_count": 29,
   "metadata": {},
   "outputs": [
    {
     "name": "stdout",
     "output_type": "stream",
     "text": [
      "[1, 2]\n",
      "12\n",
      "[1, 2] [3, 4, 5]\n"
     ]
    }
   ],
   "source": [
    "# 2. 슬라이싱\n",
    "# ... 문자열과 마찬가지로 리스트에서도 슬라이싱기법을 적용할 수 있다.\n",
    "# ... 파이썬에서는 리스트를 자르는 문법이 슬라이싱문법을 제공한다.\n",
    "# ... 사용법은 리스트변수[시작인덱스 : 종료인덱스 : step]의 형태이다. 종료인덱스의 원소는\n",
    "#     포함되지 않고 바로 앞의 원소까지만 포함된다.\n",
    "\n",
    "a = [1,2,3,4,5]\n",
    "print(a[0:2])\n",
    "\n",
    "b = '12345'\n",
    "print(b[0:2])\n",
    "\n",
    "b = a[:2]\n",
    "c = a[2:]\n",
    "print(b, c)"
   ]
  },
  {
   "cell_type": "code",
   "execution_count": 33,
   "metadata": {},
   "outputs": [
    {
     "name": "stdout",
     "output_type": "stream",
     "text": [
      "[1, 2, 3, ['a', 'b', 'c'], 4, 5]\n",
      "[3, ['a', 'b', 'c'], 4]\n",
      "['a', 'b']\n"
     ]
    }
   ],
   "source": [
    "# 3. 중첩된 리스트에서 슬라이싱\n",
    "a = [1,2,3,['a', 'b', 'c'], 4,5]\n",
    "print(a)\n",
    "print(a[2:5])\n",
    "print(a[3][:2])"
   ]
  },
  {
   "cell_type": "markdown",
   "metadata": {},
   "source": [
    "#### 2. 리스트연산자"
   ]
  },
  {
   "cell_type": "code",
   "execution_count": 35,
   "metadata": {},
   "outputs": [
    {
     "name": "stdout",
     "output_type": "stream",
     "text": [
      "[1, 2, 3, 'x', 'y', 'z']\n"
     ]
    }
   ],
   "source": [
    "# 1. 리스트더하기(+) : 2개의 리스트를 합치기\n",
    "a = [1,2,3]\n",
    "b = ['x','y','z']\n",
    "print(a+b) # 문자열 연결하는 연산결과와 동일"
   ]
  },
  {
   "cell_type": "code",
   "execution_count": 38,
   "metadata": {},
   "outputs": [
    {
     "name": "stdout",
     "output_type": "stream",
     "text": [
      "[1, 2, 3, 1, 2, 3, 1, 2, 3]\n",
      "['x', 'y', 'z', 'x', 'y', 'z', 'x', 'y', 'z']\n",
      "[1, 2, 3, 'x', 'y', 'z', 1, 2, 3, 'x', 'y', 'z', 1, 2, 3, 'x', 'y', 'z']\n"
     ]
    }
   ],
   "source": [
    "# 2. 리스트반복하기(*)\n",
    "print(a*3)\n",
    "print(b*3)\n",
    "print((a+b)*3)"
   ]
  },
  {
   "cell_type": "markdown",
   "metadata": {},
   "source": [
    "#### 3. 리스트 수정/삭제"
   ]
  },
  {
   "cell_type": "code",
   "execution_count": 39,
   "metadata": {},
   "outputs": [
    {
     "name": "stdout",
     "output_type": "stream",
     "text": [
      "[1, 2, 'x']\n"
     ]
    }
   ],
   "source": [
    "# 1. 리스트에서 하나의 값 수정하기\n",
    "a = [1,2,3]\n",
    "a[2] = 'x'\n",
    "print(a)"
   ]
  },
  {
   "cell_type": "code",
   "execution_count": 43,
   "metadata": {},
   "outputs": [
    {
     "name": "stdout",
     "output_type": "stream",
     "text": [
      "[1, 'a', 'b', 'c', 'b', 'c', 'b', 'c', 'x']\n",
      "[1, 'x', 'y', 'z', 'b', 'c', 'b', 'c', 'x']\n"
     ]
    }
   ],
   "source": [
    "# 2. 리스트에서 연속된 범위의 값을 수정하기\n",
    "a[1:2]\n",
    "a[1:2] = ['a', 'b', 'c']\n",
    "print(a)\n",
    "\n",
    "a[1:4]\n",
    "a[1:4] = ['x', 'y', 'z']\n",
    "print(a)"
   ]
  },
  {
   "cell_type": "code",
   "execution_count": 45,
   "metadata": {},
   "outputs": [
    {
     "name": "stdout",
     "output_type": "stream",
     "text": [
      "[1, 'z', 'b', 'c', 'b', 'c', 'x']\n"
     ]
    }
   ],
   "source": [
    "# 3. 리스트요소를 삭제하기\n",
    "a[1:3]\n",
    "a[1:3] = []\n",
    "print(a)"
   ]
  },
  {
   "cell_type": "code",
   "execution_count": 47,
   "metadata": {},
   "outputs": [
    {
     "name": "stdout",
     "output_type": "stream",
     "text": [
      "[1, 'b', 'c', 'b', 'c', 'x']\n"
     ]
    }
   ],
   "source": [
    "# 4. del명령을 이용해서 리스트요소 삭제하기\n",
    "a[1]\n",
    "del a[1]\n",
    "print(a)"
   ]
  },
  {
   "cell_type": "markdown",
   "metadata": {},
   "source": [
    "#### 4. 리스트 관련함수\n",
    "\n",
    "* append() : 리스트에 요소를 추가\n",
    "* sort()   : 리스트를 알파벳순서로 정렬\n",
    "* reverse(): 리스트를 현재상태에서 그대로 뒤집기\n",
    "* index()  : 리스트 요소의 위치를 리턴\n",
    "* insert() : 리스트에 요소를 삽입\n",
    "* remove() : 리스트 요소를 삭제\n",
    "* pop()    : 리스트 요소를 꺼내고 삭제\n",
    "* count()  : 리스트 요소의 갯수를 리턴\n",
    "* extend() : 리스트를 확장\n",
    "* copy()   : 리스트 값을 복사\n",
    "* clear()  : 리스트 전체를 초기화(지우기)"
   ]
  },
  {
   "cell_type": "code",
   "execution_count": 51,
   "metadata": {},
   "outputs": [
    {
     "name": "stdout",
     "output_type": "stream",
     "text": [
      "[1, 2, 3, 4]\n",
      "[1, 2, 3, 4, [5, 6]]\n",
      "[1, 2, 3, 4, [5, 6], (7, 8)]\n",
      "[1, 2, 3, 4, [5, 6], (7, 8), {'name': '소향', 'age': 41}]\n"
     ]
    }
   ],
   "source": [
    "# 1. append()\n",
    "a = [1,2,3]\n",
    "a.append(4)\n",
    "print(a)\n",
    "\n",
    "a.append([5,6])\n",
    "print(a)\n",
    "\n",
    "a.append((7,8)) # Tuple자료형\n",
    "print(a)\n",
    "\n",
    "a.append({'name':'소향', 'age':41}) # Dictionay자료형\n",
    "print(a)"
   ]
  },
  {
   "cell_type": "code",
   "execution_count": 55,
   "metadata": {},
   "outputs": [
    {
     "name": "stdout",
     "output_type": "stream",
     "text": [
      "[1, 2, 3, 4]\n",
      "None\n"
     ]
    }
   ],
   "source": [
    "# 2. sort()\n",
    "a = [1,4,3,2]\n",
    "a.sort() # 알파벳순서로 정렬\n",
    "print(a)\n",
    "\n",
    "b = a.sort() # b는 결과가 None, 그 이유는 sort()함수는 리턴값이 없고 정렬된 결과만 저장\n",
    "print(b)"
   ]
  },
  {
   "cell_type": "code",
   "execution_count": 60,
   "metadata": {},
   "outputs": [
    {
     "name": "stdout",
     "output_type": "stream",
     "text": [
      "['b', 'c', 'a']\n",
      "None ['a', 'c', 'b']\n"
     ]
    }
   ],
   "source": [
    "# 3. reverse()\n",
    "# reverse()함수는 역순으로 뒤집어 주는데 이때 리스트요소를 순서대로\n",
    "# 정렬해서 뒤집는 것이 아니라 현재 리스트에서 거꾸로 뒤집는다.\n",
    "# a.reverse?\n",
    "a = ['a', 'c', 'b']\n",
    "a.reverse()\n",
    "print(a)\n",
    "\n",
    "b = a.reverse()\n",
    "print(b, a)"
   ]
  },
  {
   "cell_type": "code",
   "execution_count": 61,
   "metadata": {},
   "outputs": [
    {
     "name": "stdout",
     "output_type": "stream",
     "text": [
      "2\n"
     ]
    }
   ],
   "source": [
    "# 4. index() : 지정된 값에 대응하는 요소의 위치를 리턴\n",
    "a = [1,2,'a',3,4,'a']\n",
    "print(a.index('a'))"
   ]
  },
  {
   "cell_type": "code",
   "execution_count": 63,
   "metadata": {},
   "outputs": [
    {
     "name": "stdout",
     "output_type": "stream",
     "text": [
      "[1, 'A', 2, 'a', 3, 4, 'a']\n"
     ]
    }
   ],
   "source": [
    "# 5. insert()\n",
    "a = [1,2,'a',3,4,'a']\n",
    "#a.insert?\n",
    "a.insert(1, 'A')\n",
    "print(a)"
   ]
  },
  {
   "cell_type": "code",
   "execution_count": 66,
   "metadata": {},
   "outputs": [
    {
     "name": "stdout",
     "output_type": "stream",
     "text": [
      "[1, 2, 1, 2, 3]\n"
     ]
    },
    {
     "ename": "ValueError",
     "evalue": "list.remove(x): x not in list",
     "output_type": "error",
     "traceback": [
      "\u001b[1;31m---------------------------------------------------------------------------\u001b[0m",
      "\u001b[1;31mValueError\u001b[0m                                Traceback (most recent call last)",
      "\u001b[1;32m<ipython-input-66-6ece4c860590>\u001b[0m in \u001b[0;36m<module>\u001b[1;34m\u001b[0m\n\u001b[0;32m      8\u001b[0m \u001b[0mprint\u001b[0m\u001b[1;33m(\u001b[0m\u001b[0ma\u001b[0m\u001b[1;33m)\u001b[0m\u001b[1;33m\u001b[0m\u001b[1;33m\u001b[0m\u001b[0m\n\u001b[0;32m      9\u001b[0m \u001b[1;33m\u001b[0m\u001b[0m\n\u001b[1;32m---> 10\u001b[1;33m \u001b[0ma\u001b[0m\u001b[1;33m.\u001b[0m\u001b[0mremove\u001b[0m\u001b[1;33m(\u001b[0m\u001b[1;36m4\u001b[0m\u001b[1;33m)\u001b[0m\u001b[1;33m\u001b[0m\u001b[1;33m\u001b[0m\u001b[0m\n\u001b[0m\u001b[0;32m     11\u001b[0m \u001b[0mprint\u001b[0m\u001b[1;33m(\u001b[0m\u001b[0ma\u001b[0m\u001b[1;33m)\u001b[0m\u001b[1;33m\u001b[0m\u001b[1;33m\u001b[0m\u001b[0m\n",
      "\u001b[1;31mValueError\u001b[0m: list.remove(x): x not in list"
     ]
    }
   ],
   "source": [
    "# 6. remove() : 입력매개변수의 값에 해당하는 리스트요소를 삭제\n",
    "# 만약에 리스트안에 중복된 값이 있을 경우에 맨 앞의 요소만 삭제된다.\n",
    "# 삭제할 값이 없을 경우에는 ValueError가 발생한다.\n",
    "# 문법 : remove(삭제할 값)\n",
    "# a.remove?\n",
    "a = [1,2,3,1,2,3]\n",
    "a.remove(3)\n",
    "print(a)\n",
    "\n",
    "# a.remove(4) # 삭제할 값이 없을 경우 ValueError: list.remove(x): x not in list가 발생"
   ]
  },
  {
   "cell_type": "code",
   "execution_count": 72,
   "metadata": {},
   "outputs": [
    {
     "name": "stdout",
     "output_type": "stream",
     "text": [
      "[1, 3] 2\n",
      "3\n"
     ]
    }
   ],
   "source": [
    "# 7. pop() : 매개변수의 위치에 해당하는 리스트요소를 꺼낸 후 삭제\n",
    "# 위치를 지정하지 않을 경우 즉, 매개변수가 없을 경우는 맨 뒤의 요소를 꺼낸 후 삭제\n",
    "# 문법 : pop(꺼낼 요소의 위치)\n",
    "# a.pop?\n",
    "a = [1,2,3]\n",
    "b = a.pop(1)\n",
    "print(a, b)\n",
    "\n",
    "c = a.pop() # 위치를 지정하지 않으면 맨 뒤의 요소를 꺼낸 후 삭제\n",
    "print(c)\n",
    "\n",
    "# d = a.pop(3) # 인덱스범위초과 에러발생 : IndexError: pop index out of range\n"
   ]
  },
  {
   "cell_type": "code",
   "execution_count": 77,
   "metadata": {},
   "outputs": [
    {
     "name": "stdout",
     "output_type": "stream",
     "text": [
      "1의 갯수 = 2\n",
      "2의 갯수 = 2\n",
      "3의 갯수 = 1\n"
     ]
    }
   ],
   "source": [
    "# 8. count()\n",
    "# 문법 : count(갯수를 확인할 값)\n",
    "# a.count?\n",
    "a = [1,2,3,1,2]\n",
    "print('1의 갯수 =', a.count(1))\n",
    "print('2의 갯수 =', a.count(2))\n",
    "print('3의 갯수 =', a.count(3))"
   ]
  },
  {
   "cell_type": "code",
   "execution_count": 84,
   "metadata": {},
   "outputs": [
    {
     "name": "stdout",
     "output_type": "stream",
     "text": [
      "[1, 2, 3, 4, 5]\n",
      "[1, 2, 3, 4, 5, 6, 7]\n",
      "[1, 2, 3, 4, 5, 6, 7, 'x', 'y', 'z']\n"
     ]
    }
   ],
   "source": [
    "# 9. extend() : 리스트확장\n",
    "# 문법 : extend(반복자만)\n",
    "a = [1,2,3]\n",
    "a.extend([4,5])\n",
    "print(a)\n",
    "\n",
    "# a.extend(6) # 'int' object is not iterable에러 발생\n",
    "a.extend((6,7))\n",
    "print(a)\n",
    "\n",
    "b = ['x', 'y', 'z']\n",
    "a.extend(b)\n",
    "print(a)"
   ]
  },
  {
   "cell_type": "code",
   "execution_count": 86,
   "metadata": {},
   "outputs": [
    {
     "name": "stdout",
     "output_type": "stream",
     "text": [
      "[1, 2, 3, 4, 5, 6, 7, 'x', 'y', 'z']\n",
      "[]\n"
     ]
    }
   ],
   "source": [
    "# 10. clear()\n",
    "print(a)\n",
    "a.clear()\n",
    "print(a)"
   ]
  },
  {
   "cell_type": "markdown",
   "metadata": {},
   "source": [
    "###### 리스트의 요소를 삭제하는 방법\n",
    "1. remove()함수 : 입력매개변수는 요소의 값을 전달\n",
    "2. pop()함수 : 입력매개변수는 요소의 인덱스(위치)를 전달\n",
    "3. del사용 : 입력매개변수는 요소의 인덱스(위치)를 전달\n",
    "\n",
    "* 삭제되는 것은 동일하지만 삭제에 사용되는 입력값에 대해서는 큰 차이가 있다."
   ]
  }
 ],
 "metadata": {
  "kernelspec": {
   "display_name": "Python 3",
   "language": "python",
   "name": "python3"
  },
  "language_info": {
   "codemirror_mode": {
    "name": "ipython",
    "version": 3
   },
   "file_extension": ".py",
   "mimetype": "text/x-python",
   "name": "python",
   "nbconvert_exporter": "python",
   "pygments_lexer": "ipython3",
   "version": "3.7.6"
  }
 },
 "nbformat": 4,
 "nbformat_minor": 4
}
