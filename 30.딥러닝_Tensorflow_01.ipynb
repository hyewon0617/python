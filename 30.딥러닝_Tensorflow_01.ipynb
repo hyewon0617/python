{
 "cells": [
  {
   "cell_type": "markdown",
   "metadata": {},
   "source": [
    "### Tensorflow\n",
    "\n",
    "* 홈페이지 : http://www.tensorflow.org\n",
    "* 구글에서 만든 오픈소스 머신러닝 프레임웍\n",
    "* 다양한 언어를 제공하며 파이썬이 가장 많이 사용됨\n",
    "* 2020년 5월 현재 최신버전은 2.0\n",
    "\n",
    "#### 1. Tensorflow 설치\n",
    "* pip install tensorflow==1.13.1\n",
    "\n",
    "#### 2. Tensorflow의 특징\n",
    "\n",
    "* 기본적으로 텐서를 활용한 그래프 수치연산을 하는 도구\n",
    "* 수학적인 의미에서의 그래프 : 노드와 엣지로 구성된 기하모형\n",
    "* `노드(Node)` : 연산 및 데이터를 정의하는 것\n",
    "* `엣지(edge)` : 노드들을 연결하는 것(데이터의 흐름)\n",
    "* `텐서(tensor)` : 다차원 데이터 배열\n",
    "* `텐서플로` : 텐서라 노드에서 연산되고 엣지를 통해 돌아 다니는 것 \n",
    "\n",
    "<img src=\"./images/30.딥러닝_TensorFlow_01.JPG\" width=\"350\" height=\"300\">\n",
    "\n",
    "#### 3. 텐서플로우 용어\n",
    ">* Rank : 차원 수\n",
    "* Shape : 배열 구조\n",
    "* Rank와 Shape에 따른 n차원 배열\n",
    " - Scalar : single number (rank 0), shape = ()\n",
    " - Vector : 1-dim array (rank 1), shape = (d0)\n",
    " - Matrix : 2-dim array (rank 2), shape = (d0, d1)\n",
    " - Tensor : n-dim array (rank n), shape = (d0, d1, …, dn-1)\n",
    " \n",
    "#### 4. Tensorflow의 기본문법\n",
    "\n",
    "##### 1) Session\n",
    "\n",
    " * 그래프를 만드는 작업(실행하는 것은 아님) : \n",
    "  - `노드로 연산 및 데이터를 정의하고 코드 흐름으로 엣지를 구성함`\n",
    " * 그래프를 만든 후 Session을 생성하여 실행을 시켜야 그래프의 시작점부터 모든 연산을 하게되고 동작을 하게 됨\n",
    " * session을 실행시키면 엣지를 통해 데이터들이 출력됨\n",
    " * 그래프를 만들고(모델링) Session을 만들어 실행시켜야 노드가 엣지를 타고 이동하면서 원하는 형태로 코드가 실행된다.\n",
    " \n",
    " > sess = tf.Session()<br>\n",
    " > sess.run(실행할 코드)<br>\n",
    " > with tf.Session as sess:<br>  \n",
    " \n",
    "##### 2) Fetch : 코드에서 데이터 값을 미리 정하는 것\n",
    "\n",
    "* `Feed` : `placeholder`등을 통해 데이터값 없이 구조를 만들고 세션을 실행할 경우 `feed_dict`를통해 데이터를 전달\n",
    "* `placeholder` : 노드에 들어갈 데이터의 형식을 미리 정해 놓은 형태\n",
    ">input01 = tf.placeholder(tf.float32)\n",
    "\n",
    "##### 3) 변수와 상수\n",
    "\n",
    "* `variable` : 학습시키면서 최적화하는 변수의 용도로 사용됨 `학습과정에서 지속적으로 바뀔 수 있는 중요한 값`\n",
    "* `constant` : 상수\n",
    "* 변수의 선언\n",
    " >tf.Variable(초기값, 타입)\n",
    "* 변수의 초기화 \n",
    " >* tf.global_variables_initializer()를 통해 초기화 할 수 있음\n",
    " * 변수는 반드시 초기화를 해야 함\n",
    " * 초기화는 노드에 값을 입력한다는 의미\n",
    " \n",
    "##### 4) 텐서플로의 자료형\n",
    " - tf.float16 : 표준16비트 부동소수점\n",
    " - tf.float32 : 표준32비트 부동소수점\n",
    " - tf.float64 : 표준64비트 부동소수점\n",
    " - tf.bfloat16 : 텐서플로만의 16비트 truncated 부동소수점\n",
    " - tf.complex64 : 표준 64비트 복소수\n",
    " - tf.complex128 : 표준 128비트 복소수\n",
    " - tf.int8 : 표준 8비트 정수\n",
    " - tf.uint8 : 표준 8비트 무부호정수(양수정수)\n",
    " - tf.uint16 : 표준 16비트 무부호정수(양수정수)\n",
    " - tf.int16 : 표준 16비트 정수\n",
    " - tf.int32 : 표준 32비트 정수\n",
    " - tf.int64 : 표준 64비트 정수\n",
    " - tf.bool : Boolean\n",
    " - tf.string : 문자열 \n",
    " - tf.qint8 : 텐서플로만의 Quantized 8비트정수\n",
    " - tf.quint8 : 텐서플로만의 Quantized 8비트 무부로정수(양수)\n",
    " - tf.qint16 : 텐서플로만의 Quantized 16비트정수\n",
    " - tf.quint16 : 텐서플로만의 Quantized 16비트 무부로정수(양수)\n",
    " - tf.qint32 : 텐서플로만의 Quantized 32비트정수"
   ]
  },
  {
   "cell_type": "code",
   "execution_count": 4,
   "metadata": {},
   "outputs": [],
   "source": [
    "import warnings\n",
    "warnings.filterwarnings('ignore')\n",
    "\n",
    "%matplotlib inline\n",
    "import numpy as np\n",
    "import pandas as pd\n",
    "import matplotlib.pyplot as plt\n",
    "plt.rcParams['font.family'] = 'NanumGothicCoding'\n",
    "plt.rcParams['axes.unicode_minus'] = False"
   ]
  },
  {
   "cell_type": "code",
   "execution_count": 6,
   "metadata": {},
   "outputs": [
    {
     "name": "stdout",
     "output_type": "stream",
     "text": [
      "Python ver.: 3.7.6 (default, Jan  8 2020, 20:23:39) [MSC v.1916 64 bit (AMD64)]\n",
      "Tensorflow ver.: 1.13.1\n"
     ]
    }
   ],
   "source": [
    "import tensorflow as tf\n",
    "import sys\n",
    "print('Python ver.:', sys.version)\n",
    "print('Tensorflow ver.:', tf.__version__)"
   ]
  },
  {
   "cell_type": "markdown",
   "metadata": {},
   "source": [
    "##### 1. Tensorflow 기본문법"
   ]
  },
  {
   "cell_type": "code",
   "execution_count": 22,
   "metadata": {},
   "outputs": [
    {
     "name": "stdout",
     "output_type": "stream",
     "text": [
      "Tensor(\"Const_17:0\", shape=(), dtype=string)\n",
      "Tensor(\"Const_18:0\", shape=(), dtype=int32) Tensor(\"Const_19:0\", shape=(), dtype=int32) Tensor(\"Add_5:0\", shape=(), dtype=int32)\n",
      "b'Hello Tensorflow'\n",
      "Hello Tensorflow\n",
      "[10, 10, 20]\n"
     ]
    }
   ],
   "source": [
    "# 상수선언\n",
    "hello = tf.constant(\"Hello Tensorflow\")\n",
    "print(hello)\n",
    "# 이 때에는 출력이 되지 않음(텐서프로우 자료형의 정보만 출력된다. 즉, 그래프형태만 출력)\n",
    "# Session객체를 만들고 run()메서드를 호출해야 처리가 된다.\n",
    "# 텐서플로우는 모델구성(선언)단계와 실행단계가 구분이 된다.\n",
    "\n",
    "x = tf.constant(10)\n",
    "y = tf.constant(10)\n",
    "z = tf.add(x, y) # x + y -> z\n",
    "print(x,y,z)\n",
    "\n",
    "# 상기에서 정의한 그래프를 실행할 세션을 생성\n",
    "sess = tf.Session()\n",
    "\n",
    "# sess.run() : 텐서그래프(변수, 식)를 실행\n",
    "# 문자열 unicode가 기본이기 때문에 str()함수로 encoding을 해야 byte가 아닌 unicode로 변환\n",
    "print(sess.run(hello)) # 텐서플로우는 기본이 byte타입\n",
    "print(str(sess.run(hello), encoding=\"utf-8\"))\n",
    "print(sess.run([x,y,z]))\n",
    "\n",
    "# 세션을 종료\n",
    "sess.close()"
   ]
  },
  {
   "cell_type": "code",
   "execution_count": 24,
   "metadata": {},
   "outputs": [
    {
     "name": "stdout",
     "output_type": "stream",
     "text": [
      "20.0\n"
     ]
    }
   ],
   "source": [
    "# with문을 이용해서 sess을 자동종료\n",
    "a = tf.constant(10.0)\n",
    "b = tf.constant(10.0)\n",
    "c = tf.add(a, b)\n",
    "with tf.Session() as sess:\n",
    "    print(sess.run(c))"
   ]
  },
  {
   "cell_type": "markdown",
   "metadata": {},
   "source": [
    "##### 2. placeholder(그래프의 입력변수)"
   ]
  },
  {
   "cell_type": "code",
   "execution_count": 30,
   "metadata": {},
   "outputs": [
    {
     "name": "stdout",
     "output_type": "stream",
     "text": [
      "200.0\n",
      "300.0\n",
      "[400.]\n",
      "[ 500. 1200. 2100.]\n"
     ]
    }
   ],
   "source": [
    "# 1. placehoder\n",
    "a = tf.placeholder(dtype=tf.float32)\n",
    "b = tf.placeholder(tf.float32)\n",
    "c = tf.multiply(a, b)\n",
    "with tf.Session() as sess:\n",
    "    # print(sess.run(c)) # 변수가 초기화 되지 않고 타입만 선언했기 때문에 에러발생\n",
    "    # 변수값을 설정하기 위해서는 feed_dic={}옵션을 사용해서 데이터를 입력\n",
    "    print(sess.run(c, feed_dict={a:10, b:20}))\n",
    "    print(sess.run(c, feed_dict={a:10, b:30.0}))\n",
    "    print(sess.run(c, feed_dict={a:[10.0], b:[40.0]}))\n",
    "    print(sess.run(c, feed_dict={a:[10, 20, 30], b:[50,60,70]}))"
   ]
  },
  {
   "cell_type": "code",
   "execution_count": 34,
   "metadata": {},
   "outputs": [
    {
     "name": "stdout",
     "output_type": "stream",
     "text": [
      "[0.         0.3        0.6        0.90000004]\n",
      "<class 'numpy.ndarray'>\n"
     ]
    }
   ],
   "source": [
    "# 2. Variable : 변수선언\n",
    "W = tf.Variable([.3], dtype=tf.float32)\n",
    "b = tf.Variable([-.3], dtype=tf.float32)\n",
    "x = tf.placeholder(tf.float32)\n",
    "y = tf.add(tf.multiply(W,x), b)   # y = Wx + b\n",
    "\n",
    "# 변수를 초기화\n",
    "init = tf.global_variables_initializer()\n",
    "\n",
    "with tf.Session() as sess:\n",
    "    sess.run(init)\n",
    "    # linear_model : y = wx + b\n",
    "    result = sess.run(y, feed_dict={x:[1,2,3,4]})\n",
    "    \n",
    "print(result)\n",
    "print(type(result))"
   ]
  },
  {
   "cell_type": "code",
   "execution_count": 38,
   "metadata": {},
   "outputs": [
    {
     "name": "stdout",
     "output_type": "stream",
     "text": [
      "Tensor(\"Placeholder_14:0\", shape=(?, 3), dtype=float32)\n",
      "[[1, 2, 3], [4, 5, 6]]\n",
      "<tf.Variable 'Variable_8:0' shape=(3, 2) dtype=float32_ref>\n",
      "<tf.Variable 'Variable_9:0' shape=(2, 1) dtype=float32_ref>\n",
      "[[-1.2781782  -2.0553796 ]\n",
      " [-0.08856291  0.8327506 ]\n",
      " [ 0.5201344   0.8433833 ]]\n",
      "[[0.4358971]\n",
      " [0.6095383]]\n",
      "[[ 0.5409962  2.5761688]\n",
      " [-1.8251827  1.6120727]]\n"
     ]
    }
   ],
   "source": [
    "# 3. placeholder와 변수의 개념\n",
    "# tf.placeholder는 계산을 실행할 때 입력값을 전달 받는 변수\n",
    "# None : 크기가 정해져 있지 않았음을 의미한다.\n",
    "X = tf.placeholder(tf.float32, [None, 3])\n",
    "print(X)\n",
    "\n",
    "# placeholder X에 전달할 값 : 2차원자료 즉 2행3열의 값\n",
    "x_data = [[1,2,3],[4,5,6]]\n",
    "print(x_data)\n",
    "\n",
    "# tf.Variable() : 그래프를 계산하면서 전달(최적화)할 변수\n",
    "# tf.random_normal() : 각 변수의 초기값을 정규분포가 된 랜덤값으로 초기화\n",
    "W = tf.Variable(tf.random_normal([3,2]))\n",
    "b = tf.Variable(tf.random_normal([2,1]))\n",
    "print(W)\n",
    "print(b)\n",
    "\n",
    "# 입력된값과 변수들을 계산할 수식(그래프)을 작성\n",
    "# tf.matmul() : 행렬곱셈, mat로 시작하는 함수는 행렬연산과 관련된 함수\n",
    "y = tf.matmul(X, W) + b\n",
    "init = tf.global_variables_initializer()\n",
    "\n",
    "with tf.Session() as sess:\n",
    "    sess.run(init)\n",
    "    print(sess.run(W))\n",
    "    print(sess.run(b))\n",
    "    print(sess.run(y, feed_dict={X:x_data}))"
   ]
  },
  {
   "cell_type": "markdown",
   "metadata": {},
   "source": [
    "##### Tensorflow실습\n",
    "###### 실습 1. 회귀분석 : 전기생산량과 소비량"
   ]
  },
  {
   "cell_type": "code",
   "execution_count": 61,
   "metadata": {},
   "outputs": [],
   "source": [
    "# 월별 전기생산금액(단위 : 억원)\n",
    "x = [3.52,2.58,3.31,4.07,4.62,3.98,4.29,4.83,3.71,4.61,3.90,3.20]\n",
    "# 월별 전기사용량(단위 : 백만kwh)\n",
    "y = [2.48,2.27,2.47,2.77,2.98,3.05,3.18,3.46,3.03,3.25,2.67,2.53]"
   ]
  },
  {
   "cell_type": "code",
   "execution_count": 62,
   "metadata": {},
   "outputs": [],
   "source": [
    "# 가중치(weight)와 절편(bias)\n",
    "# tf.random_uniform(변수의 형태, 최소값, 최대값) 무작위수\n",
    "# -1.0 ~ 1.0 사이의 값을 생성\n",
    "# name : 값의 변화를 추적하거나 살펴보기 쉽게 하기 위해 이름을 부여, \n",
    "# name='weight'은 텐서플로에서 사용하는 변수이고 weight는 로직에서 사용하는 변수\n",
    "weight = tf.Variable(tf.random_uniform([1], -1.0, 1.0), name='weight')\n",
    "bias = tf.Variable(tf.random_uniform([1], -1.0, 1.0), name='bias') \n",
    "\n",
    "# placeholder : 데이터를 담는 저장소\n",
    "# 그래프에서 X(입력값)을 \n",
    "# 그래프를 구출할 떄는 메모리에 저장하지 않고 그래프를 실행할 때 피드하면서 메모리에 저장\n",
    "X = tf.placeholder(dtype=tf.float32, name=\"X\")\n",
    "Y = tf.placeholder(dtype=tf.float32, name=\"Y\")"
   ]
  },
  {
   "cell_type": "code",
   "execution_count": 63,
   "metadata": {},
   "outputs": [],
   "source": [
    "# 파리미터설정\n",
    "learning_rate = 0.01 # 학습률\n",
    "epochs = 1000 # 학습단계\n",
    "step_display = 50 # 진행상태를 출력할 단계"
   ]
  },
  {
   "cell_type": "markdown",
   "metadata": {},
   "source": [
    "### 손실(비용)함수\n",
    "\n",
    "#### 오차의 합\n",
    ">### $$오차의 합 = \\sum_{i=1}^{n}(p_i - y_i)^2$$\n",
    "#### 평균제곱오차(MSE, Mean Squared Error)\n",
    ">### $$MSE = \\frac{1}{n}\\sum_{i=1}^{n}(p_i - y_i)^2$$\n",
    "#### 평균제곱근오차(RMSE, Root Mean Squared Error)\n",
    ">### $$RMSE = \\sqrt{\\frac{1}{n}\\sum_{i=1}^{n}(p_i - y_i)^2}$$"
   ]
  },
  {
   "cell_type": "code",
   "execution_count": 67,
   "metadata": {},
   "outputs": [],
   "source": [
    "# X와 Y의 상관관계를 분석하기위해서 회귀모델을 작성\n",
    "# y = w * x + b\n",
    "# W와 X가 행렬이아니기 때문에 행렬곱(tf.matmul)이 아니라 기본곱셈연산을 수행\n",
    "h0 = weight * X + b\n",
    "\n",
    "# 예측 : \n",
    "y_pred = tf.add(tf.multiply(weight, X), bias)\n",
    "\n",
    "# 손실(비용)함수 : 예측값과 실제값의 거리를 계산하는 함수\n",
    "# 비용을 최소화 시키는 함수 : RMSE(평균제곱근오차)\n",
    "cost = tf.reduce_mean(tf.square(y_pred - Y))  \n",
    "\n",
    "# 학습 : AdamOptimizer : 현재 가장 성능이 뛰어난 알고리즘\n",
    "optimizer = tf.train.AdamOptimizer(learning_rate).minimize(cost)"
   ]
  },
  {
   "cell_type": "code",
   "execution_count": 68,
   "metadata": {},
   "outputs": [],
   "source": [
    "# 변수초기화\n",
    "init = tf.global_variables_initializer()\n",
    "sess = tf.Session()\n",
    "sess.run(init)"
   ]
  },
  {
   "cell_type": "code",
   "execution_count": 73,
   "metadata": {},
   "outputs": [
    {
     "name": "stdout",
     "output_type": "stream",
     "text": [
      "학습단계:50, 손실:0.027118535712361336, 가중치:[0.42626417], 절편:[1.1946774]\n",
      "학습단계:100, 손실:0.027067648246884346, 가중치:[0.42716616], 절편:[1.1910987]\n",
      "학습단계:150, 손실:0.02701621502637863, 가중치:[0.42809033], 절편:[1.1874323]\n",
      "학습단계:200, 손실:0.026964308694005013, 가중치:[0.42903578], 절편:[1.1836811]\n",
      "학습단계:250, 손실:0.026912031695246696, 가중치:[0.43000185], 절편:[1.1798484]\n",
      "학습단계:300, 손실:0.02685943804681301, 가중치:[0.4309877], 절편:[1.1759374]\n",
      "학습단계:350, 손실:0.02680668979883194, 가중치:[0.43199238], 절편:[1.1719513]\n",
      "학습단계:400, 손실:0.026753829792141914, 가중치:[0.43301532], 절편:[1.1678928]\n",
      "학습단계:450, 손실:0.026700923219323158, 가중치:[0.43405563], 절편:[1.1637657]\n",
      "학습단계:500, 손실:0.026648104190826416, 가중치:[0.43511236], 절편:[1.159573]\n",
      "학습단계:550, 손실:0.026595449075102806, 가중치:[0.43618482], 절편:[1.155318]\n",
      "학습단계:600, 손실:0.02654300630092621, 가중치:[0.437272], 절편:[1.1510048]\n",
      "학습단계:650, 손실:0.02649088203907013, 가중치:[0.4383731], 절편:[1.1466365]\n",
      "학습단계:700, 손실:0.026439158245921135, 가중치:[0.43948707], 절편:[1.1422168]\n",
      "학습단계:750, 손실:0.026387915015220642, 가중치:[0.44061315], 절편:[1.1377492]\n",
      "학습단계:800, 손실:0.026337219402194023, 가중치:[0.4417503], 절편:[1.1332376]\n",
      "학습단계:850, 손실:0.026287129148840904, 가중치:[0.44289765], 절편:[1.1286857]\n",
      "학습단계:900, 손실:0.026237741112709045, 가중치:[0.44405407], 절편:[1.1240978]\n",
      "학습단계:950, 손실:0.02618911676108837, 가중치:[0.44521865], 절편:[1.1194775]\n",
      "학습단계:1000, 손실:0.02614130824804306, 가중치:[0.44639027], 절편:[1.1148288]\n"
     ]
    }
   ],
   "source": [
    "# optimizer와 cost를 텐서그래프에 적용\n",
    "# 계산에 필요한 값은 feed_dict를 통해 전달\n",
    "# placeholder인 X, Y에 데이터를 연속적으로 전달할 자료를 작성\n",
    "# cost계산 : 정해진 데이터셋에서 한 샘플씩 불러와서 cost를 계산\n",
    "# optimizer계산 : cost로 부터 error를 계산한 후 모델에 대한 편미분을 자동으로\n",
    "#   계산해주는 과정을 이용하여 모델 W, b를 수정\n",
    "for epoch in range(epochs):\n",
    "    _, cost_val = sess.run([optimizer, cost], feed_dict={X:x, Y:y})\n",
    "    if(epoch+1) % step_display == 0:\n",
    "        print(\"학습단계:{0}, 손실:{1}, 가중치:{2}, 절편:{3}\".\n",
    "             format(epoch+1, cost_val, sess.run(weight), sess.run(bias)))"
   ]
  },
  {
   "cell_type": "code",
   "execution_count": 74,
   "metadata": {},
   "outputs": [
    {
     "name": "stdout",
     "output_type": "stream",
     "text": [
      "최종손실= 0.026141308\n",
      "예측정확도= 99.97385869175196\n",
      "최종기울기(가중치)= [0.44639027]\n",
      "최종절편= [1.1148288]\n"
     ]
    }
   ],
   "source": [
    "training_cost = sess.run(cost, feed_dict={X:x, Y:y})\n",
    "print('최종손실=', cost_val)\n",
    "print(\"예측정확도=\", 100-cost_val)\n",
    "print(\"최종기울기(가중치)=\", sess.run(weight))\n",
    "print(\"최종절편=\", sess.run(bias))"
   ]
  },
  {
   "cell_type": "code",
   "execution_count": 75,
   "metadata": {},
   "outputs": [
    {
     "name": "stdout",
     "output_type": "stream",
     "text": [
      "X(전기생산금액), Y(예측전기소비량) [[2.522487 ]\n",
      " [3.4985254]]\n",
      "X(전기생산금액), Y(예측전기소비량) [[1.4065113]\n",
      " [2.3825498]]\n"
     ]
    }
   ],
   "source": [
    "# 최적화가 완료된 모델에 테스트값을 넣어서 결과를 확인\n",
    "print(\"X(전기생산금액), Y(예측전기소비량)\" ,sess.run(h0, feed_dict={X:5}))\n",
    "print(\"X(전기생산금액), Y(예측전기소비량)\" ,sess.run(h0, feed_dict={X:2.5}))"
   ]
  },
  {
   "cell_type": "code",
   "execution_count": 77,
   "metadata": {},
   "outputs": [
    {
     "data": {
      "image/png": "[encoded data removed]",
      "text/plain": [
       "<Figure size 432x288 with 1 Axes>"
      ]
     },
     "metadata": {
      "needs_background": "light"
     },
     "output_type": "display_data"
    }
   ],
   "source": [
    "# 시각화\n",
    "plt.plot(x,y,'ro')\n",
    "plt.plot(x, sess.run(weight)* x + sess.run(bias))\n",
    "plt.xlabel(\"전기생산량\")\n",
    "plt.ylabel(\"전기소비량\")\n",
    "plt.show()"
   ]
  },
  {
   "cell_type": "code",
   "execution_count": 59,
   "metadata": {},
   "outputs": [],
   "source": [
    "# 세션을 종료\n",
    "sess.close()"
   ]
  },
  {
   "cell_type": "markdown",
   "metadata": {},
   "source": [
    "###### 실습 2. MNIST실습\n",
    "\n",
    "* 숫자를 손글씨로 쓴 이미지 데이터 셋\n",
    "* 다운로드 : * http://yann.lecun.com/exdb/mnist\n",
    "<img src=\"./images/30.딥러닝_Tensorflow_02_02.JPG\" width=\"500\" height=\"500\">\n",
    "\n",
    ">* 6만개의 학습용 데이터와 1만개의 검증용 데이터로 구성\n",
    "* train-images-idx3-ubyte.gz:  training set images (9912422 bytes)\n",
    "* train-labels-idx1-ubyte.gz:  training set labels (28881 bytes)\n",
    "* t10k-images-idx3-ubyte.gz:   test set images (1648877 bytes)\n",
    "* t10k-labels-idx1-ubyte.gz:   test set labels (4542 bytes)\n",
    ">><img src=\"./images/30.딥러닝_Tensorflow_02_03.JPG\" width=\"500\" height=\"500\">\n",
    "* mnist.train.images파일은 `[55000, 764]의 형태`를 가진 텐서(n차원배열 임(이미지갯수, 이미지의 픽셀)\n",
    "\n",
    "##### 경사하강법 (GD, Gradient Descent)\n",
    "<img src=\"./images/30.딥러닝_Tensorflow_02_04.JPG\" width=\"700\" height=\"500\">\n",
    "\n",
    "##### 배치경사하강법 (BGD, Batch Gradient Descent)\n",
    "<img src=\"./images/30.딥러닝_Tensorflow_02_05.JPG\" width=\"500\" height=\"400\">\n",
    "\n",
    "##### 확률적경사하강법 (SGD, Stochastic Gradient Descent)\n",
    "<img src=\"./images/30.딥러닝_Tensorflow_02_06.JPG\" width=\"700\" height=\"500\">"
   ]
  },
  {
   "cell_type": "code",
   "execution_count": 79,
   "metadata": {},
   "outputs": [
    {
     "name": "stdout",
     "output_type": "stream",
     "text": [
      "Extracting ../data/deeplearning/mnist/train-images-idx3-ubyte.gz\n",
      "Extracting ../data/deeplearning/mnist/train-labels-idx1-ubyte.gz\n",
      "Extracting ../data/deeplearning/mnist/t10k-images-idx3-ubyte.gz\n",
      "Extracting ../data/deeplearning/mnist/t10k-labels-idx1-ubyte.gz\n"
     ]
    }
   ],
   "source": [
    "# MNIST(손글씨 이미지 숫자 인식)를 신경망으로 실습\n",
    "from tensorflow.examples.tutorials.mnist import input_data\n",
    "# 텐서플로우에 기본 내장된 mnist모듈을 이용하여 데이터를 로드\n",
    "# 지정한 폴더에 MNIST데이터가 없을 경우 자동으로 데이터를 다운로드한다.\n",
    "# one_hot옵션은 label 데이터셋을 만들떄, label을 one-hot방식으로 처리할지 여부를 설절\n",
    "# one_hot의 기본값은 False이 때문에 실습에서는 반드시 True로 할 것\n",
    "# 데이터가 one_hot방식으로 출력이 되면 처리하는 시점에 별도로 변환하지 않아도 되기때문에 편리하다.\n",
    "mnist = input_data.read_data_sets(\"../data/deeplearning/mnist/\", one_hot=True)"
   ]
  },
  {
   "cell_type": "markdown",
   "metadata": {},
   "source": [
    "### Cross Entropy Error(CEE, 손실함수)\n",
    ">### $$E = -\\sum_{i=1}^{n}{p_i}{log(y_i)}$$"
   ]
  },
  {
   "cell_type": "code",
   "execution_count": 81,
   "metadata": {},
   "outputs": [],
   "source": [
    "# 변수선언\n",
    "x = tf.placeholder(tf.float32, [None, 784]) # 이미지 28 x 28 = 784\n",
    "\n",
    "# [이미지픽셀, 출력값]\n",
    "W = tf.Variable(tf.zeros([784,10]))\n",
    "b = tf.Variable(tf.zeros([10]))\n",
    "y = tf.nn.softmax(tf.matmul(x, W) + b)\n",
    "\n",
    "# 손실함수 : cross_entropy 모델설정(손실을 최소화 시키는 함수)\n",
    "y_ = tf.placeholder(tf.float32, [None, 10])\n",
    "cross_entropy = tf.reduce_mean(-tf.reduce_sum(y_* tf.log(y), reduction_indices=[1]))\n",
    "\n",
    "# 학습비율을 0.5로 설정\n",
    "train_step = tf.train.GradientDescentOptimizer(0.5).minimize(cross_entropy)\n",
    "\n",
    "# 경사하강법으로 모델을 학습\n",
    "# 텐서플로우가 각각의 변수를 비용을 최소화시키는 방향으로 조금씩 이동 시키는 방법\n",
    "init = tf.global_variables_initializer()\n",
    "sess = tf.Session()\n",
    "sess.run(init)"
   ]
  },
  {
   "cell_type": "code",
   "execution_count": 85,
   "metadata": {},
   "outputs": [],
   "source": [
    "# 학습(1000)\n",
    "for i in range(1000):\n",
    "    # 무작위로 100개씩 이미지를 추출해서 학습\n",
    "    batch_xs, batch_ys = mnist.train.next_batch(100)\n",
    "    sess.run(train_step, feed_dict={x:batch_xs, y_:batch_ys})"
   ]
  },
  {
   "cell_type": "code",
   "execution_count": 91,
   "metadata": {},
   "outputs": [
    {
     "name": "stdout",
     "output_type": "stream",
     "text": [
      "0.9179\n"
     ]
    }
   ],
   "source": [
    "# 모델평가하기\n",
    "# tf.argmax() : 가장 큰 값이 있는 위치를 리턴\n",
    "# tf.argmax(y, 1) : 예측라벨(예측한 값 즉, 가장 증거값이 큰 라벨)\n",
    "# tf.argmax(y_, 1): 실제라벨\n",
    "correct_prediction = tf.equal(tf.argmax(y, 1), tf.argmax(y_, 1))\n",
    "\n",
    "# boolean리스트를 float로 변환한 후 평균값을 계산 = 예측율\n",
    "accuracy = tf.reduce_mean(tf.cast(correct_prediction, tf.float32))\n",
    "print(sess.run(accuracy, feed_dict={x:mnist.test.images, y_:mnist.test.labels}))"
   ]
  },
  {
   "cell_type": "code",
   "execution_count": 119,
   "metadata": {},
   "outputs": [
    {
     "name": "stdout",
     "output_type": "stream",
     "text": [
      "훈련용 이미지갯수: 55000\n",
      "훈련용 이미지라벨: 55000\n",
      "(784,)\n"
     ]
    }
   ],
   "source": [
    "print('훈련용 이미지갯수:', len(mnist.train.images))\n",
    "print('훈련용 이미지라벨:', mnist.train.num_examples)\n",
    "print(mnist.train.images[0].shape)"
   ]
  },
  {
   "cell_type": "code",
   "execution_count": 129,
   "metadata": {},
   "outputs": [
    {
     "data": {
      "image/png": "[encoded data removed]",
      "text/plain": [
       "<Figure size 432x288 with 1 Axes>"
      ]
     },
     "metadata": {
      "needs_background": "light"
     },
     "output_type": "display_data"
    },
    {
     "data": {
      "image/png": "[encoded data removed]",
      "text/plain": [
       "<Figure size 432x288 with 1 Axes>"
      ]
     },
     "metadata": {
      "needs_background": "light"
     },
     "output_type": "display_data"
    },
    {
     "data": {
      "image/png": "[encoded data removed]",
      "text/plain": [
       "<Figure size 432x288 with 1 Axes>"
      ]
     },
     "metadata": {
      "needs_background": "light"
     },
     "output_type": "display_data"
    }
   ],
   "source": [
    "# 시각화\n",
    "n, m = 28, 28\n",
    "def convertlist(img):\n",
    "    a = np.array(mnist.train.images[img]) # 1차원배열\n",
    "    b = a.reshape(n,m)  # 2차원배열 28x28로 변환\n",
    "    plt.imshow(b)\n",
    "    # plt.imshow(b, cmap='Reds')\n",
    "    plt.show()\n",
    "    \n",
    "# convertlist(2)\n",
    "\n",
    "startImage = 10000\n",
    "for i in range(startImage, startImage+3):\n",
    "    convertlist(i)"
   ]
  },
  {
   "cell_type": "markdown",
   "metadata": {},
   "source": [
    "###### 인공신경망 실습"
   ]
  },
  {
   "cell_type": "code",
   "execution_count": 130,
   "metadata": {},
   "outputs": [
    {
     "name": "stdout",
     "output_type": "stream",
     "text": [
      "Extracting ../data/deeplearning/mnist/train-images-idx3-ubyte.gz\n",
      "Extracting ../data/deeplearning/mnist/train-labels-idx1-ubyte.gz\n",
      "Extracting ../data/deeplearning/mnist/t10k-images-idx3-ubyte.gz\n",
      "Extracting ../data/deeplearning/mnist/t10k-labels-idx1-ubyte.gz\n"
     ]
    }
   ],
   "source": [
    "from tensorflow.examples.tutorials.mnist import input_data\n",
    "# one_hot=False로 설정할 것\n",
    "mnist = input_data.read_data_sets(\"../data/deeplearning/mnist/\", one_hot=False)"
   ]
  },
  {
   "cell_type": "code",
   "execution_count": 137,
   "metadata": {},
   "outputs": [],
   "source": [
    "# 학습파라미터설정\n",
    "learning_rate = 0.1\n",
    "num_steps = 1000\n",
    "batch_size = 128\n",
    "display_step = 100\n",
    "\n",
    "# 인공신경망의 파라미터설정\n",
    "n_hidden_1 = 256 # 첫번째 은닉층의 뉴런 갯수\n",
    "n_hidden_2 = 256 # 두번째 은닉층의 뉴런 갯수\n",
    "num_input = 784 # MNIST input data (img shape 784 = 28x28)\n",
    "num_classes = 10 # MNIST total classes(0~9의 숫자)"
   ]
  },
  {
   "cell_type": "code",
   "execution_count": 141,
   "metadata": {},
   "outputs": [],
   "source": [
    "# 인공신경망 설정함수\n",
    "def neural_net(x_dict):\n",
    "    x = x_dict['images']    \n",
    "    layer_1 = tf.layers.dense(x, n_hidden_1) # 첫번째은닉층\n",
    "    layer_2 = tf.layers.dense(layer_1, n_hidden_2) # 두번째은닉층\n",
    "    out_layer = tf.layers.dense(layer_2, num_classes) # 출력층\n",
    "    return out_layer\n",
    "\n",
    "# 인공신경망모델 생성\n",
    "def model_fn(features, labels, mode):\n",
    "    logits = neural_net(features) # 인공신경망생성\n",
    "    \n",
    "    # 예측\n",
    "    pred_classes = tf.argmax(logits, axis=1) \n",
    "    pred_probas = tf.nn.softmax(logits)\n",
    "    \n",
    "    # 예측모드일 경우 리턴\n",
    "    if mode == tf.estimator.ModeKeys.PREDICT:\n",
    "        return tf.estimator.EstimatorSpec(mode, predictions=pred_classes)\n",
    "    \n",
    "    # 손실(비용)함수 정의 \n",
    "    loss_op = tf.reduce_mean(tf.nn.sparse_softmax_cross_entropy_with_logits(\n",
    "        logits=logits, labels=tf.cast(labels, dtype=tf.int32)))\n",
    "    optimizer = tf.train.GradientDescentOptimizer(learning_rate=learning_rate)\n",
    "    train_op = optimizer.minimize(loss_op, global_step=tf.train.get_global_step())\n",
    "    \n",
    "    # 모델의 적합도 평가\n",
    "    acc_op = tf.metrics.accuracy(labels=labels, predictions=pred_classes)\n",
    "    \n",
    "    estim_specs = tf.estimator.EstimatorSpec(\n",
    "        mode=mode,\n",
    "        predictions=pred_classes,\n",
    "        loss=loss_op,\n",
    "        train_op=train_op,\n",
    "        eval_metric_ops={'accuracy':acc_op})\n",
    "    \n",
    "    return estim_specs"
   ]
  },
  {
   "cell_type": "code",
   "execution_count": 148,
   "metadata": {},
   "outputs": [],
   "source": [
    "# 인공신경망 설정함수\n",
    "def neural_net(x_dict):\n",
    "    # TF Estimator input is a dict, in case of multiple inputs\n",
    "    x = x_dict['images']\n",
    "    # 첫번쨰 은닉층 정의\n",
    "    layer_1 = tf.layers.dense(x, n_hidden_1)    \n",
    "    #두번쨰 은닉층 정의\n",
    "    layer_2 = tf.layers.dense(layer_1, n_hidden_2)\n",
    "    # 출력층정의\n",
    "    out_layer = tf.layers.dense(layer_2, num_classes)\n",
    "    return out_layer\n",
    "\n",
    "# Define the model function (following TF Estimator Template)\n",
    "def model_fn(features, labels, mode):\n",
    "    # 인공신경망생성\n",
    "    logits = neural_net(features)\n",
    "    \n",
    "    # 예측\n",
    "    pred_classes = tf.argmax(logits, axis=1)\n",
    "    pred_probas = tf.nn.softmax(logits)\n",
    "    \n",
    "    # 예측모드일경우 리턴\n",
    "    if mode == tf.estimator.ModeKeys.PREDICT:     \n",
    "        return tf.estimator.EstimatorSpec(mode, predictions=pred_classes)\n",
    "    \n",
    "    # 손실함수(비용함수)정의\n",
    "    loss_op = tf.reduce_mean(tf.nn.sparse_softmax_cross_entropy_with_logits(    \n",
    "        logits=logits, labels=tf.cast(labels, dtype=tf.int32))) \n",
    "    optimizer = tf.train.GradientDescentOptimizer(learning_rate=learning_rate)        \n",
    "    train_op = optimizer.minimize(loss_op, global_step=tf.train.get_global_step())\n",
    "\n",
    "\n",
    "    # 모델의 적합도 평가\n",
    "    acc_op = tf.metrics.accuracy(labels=labels, predictions=pred_classes)\n",
    "\n",
    "    # TF Estimators requires to return a EstimatorSpec, that specify\n",
    "    # the different ops for training, evaluating, ...\n",
    "    estim_specs = tf.estimator.EstimatorSpec(\n",
    "        mode=mode,\n",
    "        predictions=pred_classes,\n",
    "        loss=loss_op,\n",
    "        train_op=train_op,\n",
    "        eval_metric_ops={'accuracy': acc_op})\n",
    "\n",
    "    return estim_specs"
   ]
  },
  {
   "cell_type": "code",
   "execution_count": 149,
   "metadata": {},
   "outputs": [
    {
     "name": "stdout",
     "output_type": "stream",
     "text": [
      "INFO:tensorflow:Using default config.\n",
      "WARNING:tensorflow:Using temporary folder as model directory: C:\\Users\\TJOEUN~1\\AppData\\Local\\Temp\\tmpe6f_n3kv\n",
      "INFO:tensorflow:Using config: {'_model_dir': 'C:\\\\Users\\\\TJOEUN~1\\\\AppData\\\\Local\\\\Temp\\\\tmpe6f_n3kv', '_tf_random_seed': None, '_save_summary_steps': 100, '_save_checkpoints_steps': None, '_save_checkpoints_secs': 600, '_session_config': allow_soft_placement: true\n",
      "graph_options {\n",
      "  rewrite_options {\n",
      "    meta_optimizer_iterations: ONE\n",
      "  }\n",
      "}\n",
      ", '_keep_checkpoint_max': 5, '_keep_checkpoint_every_n_hours': 10000, '_log_step_count_steps': 100, '_train_distribute': None, '_device_fn': None, '_protocol': None, '_eval_distribute': None, '_experimental_distribute': None, '_service': None, '_cluster_spec': <tensorflow.python.training.server_lib.ClusterSpec object at 0x000001BE1E6699C8>, '_task_type': 'worker', '_task_id': 0, '_global_id_in_cluster': 0, '_master': '', '_evaluation_master': '', '_is_chief': True, '_num_ps_replicas': 0, '_num_worker_replicas': 1}\n"
     ]
    }
   ],
   "source": [
    "# 참고 : https://www.tensorflow.org/guide/estimator\n",
    "#      : http://www.kwangsiklee.com/2018/03/텐서플로우-estimator에-대해-자세히-알아보기/\n",
    "#      : https://www.tensorflow.org/tutorials/estimator/linear?hl=ko\n",
    "# Estimator?\n",
    "# 모델설정하고 모델의 그래프를 그린 다음 모델에 대한 loss함수를 정의하고\n",
    "# Optimizer를 정의하여 loss값의 최소값을 찾고 prediction값을 계산하는 함수이다.\n",
    "model = tf.estimator.Estimator(model_fn)"
   ]
  },
  {
   "cell_type": "code",
   "execution_count": 153,
   "metadata": {},
   "outputs": [
    {
     "name": "stdout",
     "output_type": "stream",
     "text": [
      "INFO:tensorflow:Calling model_fn.\n",
      "INFO:tensorflow:Done calling model_fn.\n",
      "INFO:tensorflow:Create CheckpointSaverHook.\n",
      "INFO:tensorflow:Graph was finalized.\n",
      "WARNING:tensorflow:From C:\\Anaconda3\\lib\\site-packages\\tensorflow\\python\\training\\saver.py:1266: checkpoint_exists (from tensorflow.python.training.checkpoint_management) is deprecated and will be removed in a future version.\n",
      "Instructions for updating:\n",
      "Use standard file APIs to check for files with this prefix.\n",
      "INFO:tensorflow:Restoring parameters from C:\\Users\\TJOEUN~1\\AppData\\Local\\Temp\\tmpe6f_n3kv\\model.ckpt-1000\n",
      "WARNING:tensorflow:From C:\\Anaconda3\\lib\\site-packages\\tensorflow\\python\\training\\saver.py:1070: get_checkpoint_mtimes (from tensorflow.python.training.checkpoint_management) is deprecated and will be removed in a future version.\n",
      "Instructions for updating:\n",
      "Use standard file utilities to get mtimes.\n",
      "INFO:tensorflow:Running local_init_op.\n",
      "INFO:tensorflow:Done running local_init_op.\n",
      "INFO:tensorflow:Saving checkpoints for 1000 into C:\\Users\\TJOEUN~1\\AppData\\Local\\Temp\\tmpe6f_n3kv\\model.ckpt.\n",
      "INFO:tensorflow:loss = 0.23993942, step = 1001\n",
      "INFO:tensorflow:global_step/sec: 266.669\n",
      "INFO:tensorflow:loss = 0.22740088, step = 1101 (0.375 sec)\n",
      "INFO:tensorflow:global_step/sec: 254.485\n",
      "INFO:tensorflow:loss = 0.23668274, step = 1201 (0.394 sec)\n",
      "INFO:tensorflow:global_step/sec: 261.795\n",
      "INFO:tensorflow:loss = 0.36590517, step = 1301 (0.383 sec)\n",
      "INFO:tensorflow:global_step/sec: 274.706\n",
      "INFO:tensorflow:loss = 0.23329607, step = 1401 (0.363 sec)\n",
      "INFO:tensorflow:global_step/sec: 276.219\n",
      "INFO:tensorflow:loss = 0.1708664, step = 1501 (0.361 sec)\n",
      "INFO:tensorflow:global_step/sec: 273.955\n",
      "INFO:tensorflow:loss = 0.20896235, step = 1601 (0.366 sec)\n",
      "INFO:tensorflow:global_step/sec: 257.096\n",
      "INFO:tensorflow:loss = 0.35654715, step = 1701 (0.388 sec)\n",
      "INFO:tensorflow:global_step/sec: 280.861\n",
      "INFO:tensorflow:loss = 0.25835857, step = 1801 (0.356 sec)\n",
      "INFO:tensorflow:global_step/sec: 272.466\n",
      "INFO:tensorflow:loss = 0.33250767, step = 1901 (0.368 sec)\n",
      "INFO:tensorflow:Saving checkpoints for 2000 into C:\\Users\\TJOEUN~1\\AppData\\Local\\Temp\\tmpe6f_n3kv\\model.ckpt.\n",
      "INFO:tensorflow:Loss for final step: 0.30074713.\n"
     ]
    },
    {
     "data": {
      "text/plain": [
       "<tensorflow_estimator.python.estimator.estimator.Estimator at 0x1be22a80308>"
      ]
     },
     "execution_count": 153,
     "metadata": {},
     "output_type": "execute_result"
    }
   ],
   "source": [
    "# 데이터학습을 위한 입력함수\n",
    "input_fn = tf.estimator.inputs.numpy_input_fn(\n",
    "    x={'images':mnist.train.images}, y=mnist.train.labels,\n",
    "    batch_size=batch_size, num_epochs=None, shuffle=True\n",
    ")\n",
    "\n",
    "# 모델학습\n",
    "model.train(input_fn, steps=num_steps)"
   ]
  },
  {
   "cell_type": "code",
   "execution_count": 154,
   "metadata": {},
   "outputs": [
    {
     "name": "stdout",
     "output_type": "stream",
     "text": [
      "INFO:tensorflow:Calling model_fn.\n",
      "INFO:tensorflow:Done calling model_fn.\n",
      "INFO:tensorflow:Starting evaluation at 2020-05-12T06:41:13Z\n",
      "INFO:tensorflow:Graph was finalized.\n",
      "INFO:tensorflow:Restoring parameters from C:\\Users\\TJOEUN~1\\AppData\\Local\\Temp\\tmpe6f_n3kv\\model.ckpt-2000\n",
      "INFO:tensorflow:Running local_init_op.\n",
      "INFO:tensorflow:Done running local_init_op.\n",
      "INFO:tensorflow:Finished evaluation at 2020-05-12-06:41:14\n",
      "INFO:tensorflow:Saving dict for global step 2000: accuracy = 0.9191, global_step = 2000, loss = 0.28254554\n",
      "INFO:tensorflow:Saving 'checkpoint_path' summary for global step 2000: C:\\Users\\TJOEUN~1\\AppData\\Local\\Temp\\tmpe6f_n3kv\\model.ckpt-2000\n",
      "검증정확도: 0.9191\n"
     ]
    }
   ],
   "source": [
    "# 모델평가를 위한 입력함수\n",
    "input_fn = tf.estimator.inputs.numpy_input_fn(\n",
    "    x={'images':mnist.test.images}, y=mnist.test.labels,\n",
    "    batch_size=batch_size, shuffle=False)\n",
    "\n",
    "# 평가함수호출, 그 결과를 리턴\n",
    "e = model.evaluate(input_fn)\n",
    "print(\"검증정확도:\", e['accuracy'])"
   ]
  },
  {
   "cell_type": "code",
   "execution_count": 160,
   "metadata": {},
   "outputs": [
    {
     "name": "stdout",
     "output_type": "stream",
     "text": [
      "INFO:tensorflow:Calling model_fn.\n",
      "INFO:tensorflow:Done calling model_fn.\n",
      "INFO:tensorflow:Graph was finalized.\n",
      "INFO:tensorflow:Restoring parameters from C:\\Users\\TJOEUN~1\\AppData\\Local\\Temp\\tmpe6f_n3kv\\model.ckpt-2000\n",
      "INFO:tensorflow:Running local_init_op.\n",
      "INFO:tensorflow:Done running local_init_op.\n"
     ]
    },
    {
     "data": {
      "image/png": "[encoded data removed]",
      "text/plain": [
       "<Figure size 432x288 with 1 Axes>"
      ]
     },
     "metadata": {
      "needs_background": "light"
     },
     "output_type": "display_data"
    },
    {
     "name": "stdout",
     "output_type": "stream",
     "text": [
      "모델이 예측한 숫자: 7\n"
     ]
    },
    {
     "data": {
      "image/png": "[encoded data removed]",
      "text/plain": [
       "<Figure size 432x288 with 1 Axes>"
      ]
     },
     "metadata": {
      "needs_background": "light"
     },
     "output_type": "display_data"
    },
    {
     "name": "stdout",
     "output_type": "stream",
     "text": [
      "모델이 예측한 숫자: 2\n"
     ]
    },
    {
     "data": {
      "image/png": "[encoded data removed]",
      "text/plain": [
       "<Figure size 432x288 with 1 Axes>"
      ]
     },
     "metadata": {
      "needs_background": "light"
     },
     "output_type": "display_data"
    },
    {
     "name": "stdout",
     "output_type": "stream",
     "text": [
      "모델이 예측한 숫자: 1\n"
     ]
    },
    {
     "data": {
      "image/png": "[encoded data removed]",
      "text/plain": [
       "<Figure size 432x288 with 1 Axes>"
      ]
     },
     "metadata": {
      "needs_background": "light"
     },
     "output_type": "display_data"
    },
    {
     "name": "stdout",
     "output_type": "stream",
     "text": [
      "모델이 예측한 숫자: 0\n"
     ]
    },
    {
     "data": {
      "image/png": "[encoded data removed]",
      "text/plain": [
       "<Figure size 432x288 with 1 Axes>"
      ]
     },
     "metadata": {
      "needs_background": "light"
     },
     "output_type": "display_data"
    },
    {
     "name": "stdout",
     "output_type": "stream",
     "text": [
      "모델이 예측한 숫자: 4\n"
     ]
    },
    {
     "data": {
      "image/png": "[encoded data removed]",
      "text/plain": [
       "<Figure size 432x288 with 1 Axes>"
      ]
     },
     "metadata": {
      "needs_background": "light"
     },
     "output_type": "display_data"
    },
    {
     "name": "stdout",
     "output_type": "stream",
     "text": [
      "모델이 예측한 숫자: 1\n"
     ]
    },
    {
     "data": {
      "image/png": "[encoded data removed]",
      "text/plain": [
       "<Figure size 432x288 with 1 Axes>"
      ]
     },
     "metadata": {
      "needs_background": "light"
     },
     "output_type": "display_data"
    },
    {
     "name": "stdout",
     "output_type": "stream",
     "text": [
      "모델이 예측한 숫자: 4\n"
     ]
    },
    {
     "data": {
      "image/png": "[encoded data removed]",
      "text/plain": [
       "<Figure size 432x288 with 1 Axes>"
      ]
     },
     "metadata": {
      "needs_background": "light"
     },
     "output_type": "display_data"
    },
    {
     "name": "stdout",
     "output_type": "stream",
     "text": [
      "모델이 예측한 숫자: 9\n"
     ]
    },
    {
     "data": {
      "image/png": "[encoded data removed]",
      "text/plain": [
       "<Figure size 432x288 with 1 Axes>"
      ]
     },
     "metadata": {
      "needs_background": "light"
     },
     "output_type": "display_data"
    },
    {
     "name": "stdout",
     "output_type": "stream",
     "text": [
      "모델이 예측한 숫자: 6\n"
     ]
    },
    {
     "data": {
      "image/png": "[encoded data removed]",
      "text/plain": [
       "<Figure size 432x288 with 1 Axes>"
      ]
     },
     "metadata": {
      "needs_background": "light"
     },
     "output_type": "display_data"
    },
    {
     "name": "stdout",
     "output_type": "stream",
     "text": [
      "모델이 예측한 숫자: 9\n"
     ]
    }
   ],
   "source": [
    "# 이미지예측\n",
    "n_images = 10\n",
    "\n",
    "# 검증용 데이터셋에서 이미지를 선택\n",
    "test_images = mnist.test.images[:n_images]\n",
    "input_fn = tf.estimator.inputs.numpy_input_fn(\n",
    "    x={'images':test_images}, shuffle=False\n",
    ")\n",
    "preds = list(model.predict(input_fn))\n",
    "preds\n",
    "\n",
    "# 입력데이터\n",
    "for i in range(n_images):\n",
    "    plt.imshow(np.reshape(test_images[i], [28,28]), cmap='gray')\n",
    "    plt.show()\n",
    "    print('모델이 예측한 숫자:', preds[i])"
   ]
  }
 ],
 "metadata": {
  "kernelspec": {
   "display_name": "Python 3",
   "language": "python",
   "name": "python3"
  },
  "language_info": {
   "codemirror_mode": {
    "name": "ipython",
    "version": 3
   },
   "file_extension": ".py",
   "mimetype": "text/x-python",
   "name": "python",
   "nbconvert_exporter": "python",
   "pygments_lexer": "ipython3",
   "version": "3.7.6"
  }
 },
 "nbformat": 4,
 "nbformat_minor": 4
}
