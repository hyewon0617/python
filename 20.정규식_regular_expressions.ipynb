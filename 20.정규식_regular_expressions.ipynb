{
 "cells": [
  {
   "cell_type": "markdown",
   "metadata": {},
   "source": [
    "### 정규표현식(Regular Expression)?\n",
    "\n",
    "정규식은 정규표현식의 약칭이다. 정규식은 문자열을 처리할 때 사용하는 데 파이썬 만의 고유문법이 아니라 문자열을 처리하는 모든 곳에서 사용한다.\n",
    "\n",
    "정규식이 필요한 이유는 특별히 프로그램작성없이 특정 패턴을 정의해서 그 패턴과 일치하는 문자열을 추출하는 데 있다. 예를 들어 주민번호의 뒤 7자리를 블라이딩처리하기 위해서 별표로 변경할 경우에는 뒤 일곱자리를 추출해서 별표분자로 변환하는 경우, 또한 비밀번호검증, 이메이에 대한 검증등을 프로그램 작성없이 바로 정규식으로 처리할 수가 있다.\n",
    "\n",
    "파이썬에서는 이런 정규실을 처리하기 위해서 내장모듈을 불러와서 사용해야 하는데 파이썬에서 지원하는 정규실 모듈은 `re`이다."
   ]
  },
  {
   "cell_type": "code",
   "execution_count": 1,
   "metadata": {},
   "outputs": [
    {
     "name": "stdout",
     "output_type": "stream",
     "text": [
      "['A', 'ASCII', 'DEBUG', 'DOTALL', 'I', 'IGNORECASE', 'L', 'LOCALE', 'M', 'MULTILINE', 'Match', 'Pattern', 'RegexFlag', 'S', 'Scanner', 'T', 'TEMPLATE', 'U', 'UNICODE', 'VERBOSE', 'X', '_MAXCACHE', '__all__', '__builtins__', '__cached__', '__doc__', '__file__', '__loader__', '__name__', '__package__', '__spec__', '__version__', '_cache', '_compile', '_compile_repl', '_expand', '_locale', '_pickle', '_special_chars_map', '_subx', 'compile', 'copyreg', 'enum', 'error', 'escape', 'findall', 'finditer', 'fullmatch', 'functools', 'match', 'purge', 'search', 'split', 'sre_compile', 'sre_parse', 'sub', 'subn', 'template']\n"
     ]
    }
   ],
   "source": [
    "import re\n",
    "print(dir(re))"
   ]
  },
  {
   "cell_type": "code",
   "execution_count": 9,
   "metadata": {},
   "outputs": [
    {
     "name": "stdout",
     "output_type": "stream",
     "text": [
      "<class 'list'>\n",
      "[]\n",
      "['o', 'o', 'o']\n",
      "['short']\n"
     ]
    }
   ],
   "source": [
    "# findall(패턴, string)\n",
    "str = 'Life is too short!'\n",
    "# re.findall?\n",
    "a = re.findall('a', str)\n",
    "print(type(a))\n",
    "print(a)\n",
    "\n",
    "b = re.findall('o', str)\n",
    "print(b)\n",
    "\n",
    "c = re.findall('short', str)\n",
    "print(c)"
   ]
  },
  {
   "cell_type": "code",
   "execution_count": 32,
   "metadata": {},
   "outputs": [
    {
     "name": "stdout",
     "output_type": "stream",
     "text": [
      "['y', 'i', 'd', 'u', 'm', 'b', 'e', 'r', 'i', 's']\n",
      "[]\n",
      "['y', 'i', 'd', 'u', 'm', 'b', 'e', 'r', 'i', 's']\n",
      "['y', 'i', 'd', 'u', 'm', 'b', 'e', 'r', 'i', 's']\n",
      "['y', 'id', 'umber', 'is']\n",
      "['M', 'N', 'K', 'I', 'M']\n",
      "['M', 'N', 'KIM']\n",
      "['0', '9', '0', '2']\n",
      "['0902']\n"
     ]
    }
   ],
   "source": [
    "# 특정문자열에서 소문자를 모두 찾기\n",
    "str = \"My id Number is KIM0902_$\"\n",
    "\n",
    "result = []\n",
    "for s in str:\n",
    "    if (s >= 'a' and s <= 'z'): \n",
    "        result.append(s)  \n",
    "print(result) \n",
    "\n",
    "a = re.findall('abcdefghijklmnopqrstuvwxyz', str)\n",
    "print(a)\n",
    "\n",
    "# [] : 소문자를 한개의 문자단위를 기준으로 검색\n",
    "a = re.findall('[abcdefghijklmnopqrstuvwxyz]', str)\n",
    "print(a)\n",
    "a = re.findall('[a-z]', str)\n",
    "print(a)\n",
    "\n",
    "# []+ : 소문자를 한개의 단어단위를 기준으로 검색\n",
    "a = re.findall('[a-z]+', str)\n",
    "print(a)\n",
    "\n",
    "# [] : 대문자를 한개의 문자단위를 기준으로 검색\n",
    "a = re.findall('[A-Z]', str)\n",
    "print(a)\n",
    "\n",
    "# []+ : 대문자를 한개의 단어단위를 기준으로 검색\n",
    "a = re.findall('[A-Z]+', str)\n",
    "print(a)\n",
    "\n",
    "# [] : 숫자를 한개의 문자단위를 기준으로 검색\n",
    "a = re.findall('[0-9]', str)\n",
    "print(a)\n",
    "# []+ : 숫자를 한개의 단어단위를 기준으로 검색\n",
    "a = re.findall('[0-9]+', str)\n",
    "print(a)"
   ]
  },
  {
   "cell_type": "code",
   "execution_count": 42,
   "metadata": {},
   "outputs": [
    {
     "name": "stdout",
     "output_type": "stream",
     "text": [
      "['M', 'y', 'i', 'd', 'N', 'u', 'm', 'b', 'e', 'r', 'i', 's', 'K', 'I', 'M', '0', '9', '0', '2']\n",
      "['My', 'id', 'Number', 'is', 'KIM0902']\n",
      "['_', '$']\n",
      "[' ', ' ', ' ', ' ', '_', '$']\n",
      "[' ', ' ', ' ', ' ', '_$']\n",
      "['M', 'y', 'i', 'd', 'N', 'u', 'm', 'b', 'e', 'r', 'i', 's', 'K', 'I', 'M', '0', '9', '0', '2', '_']\n",
      "['My', 'id', 'Number', 'is', 'KIM0902_']\n",
      "[' ', ' ', ' ', ' ', '$']\n",
      "[' ', ' ', ' ', ' ', '$']\n",
      "[' ', ' ', ' ', ' ', '$']\n"
     ]
    }
   ],
   "source": [
    "str = \"My id Number is KIM0902_$\"\n",
    "\n",
    "# 숫자, 소문자, 대문자를 한개의 문자단위를 기준으로 검색\n",
    "a = re.findall('[0-9a-zA-Z]', str)\n",
    "print(a)\n",
    "\n",
    "# 숫자, 소문자, 대문자를 한개의 단어단위를 기준으로 검색\n",
    "a = re.findall('[0-9a-zA-Z]+', str)\n",
    "print(a)\n",
    "\n",
    "# 특수문자만 추출 : not(^)의미의 패턴문자\n",
    "a = re.findall('[_$]', str)\n",
    "print(a)\n",
    "a = re.findall('[^0-9a-zA-Z]', str)\n",
    "print(a)\n",
    "a = re.findall('[^0-9a-zA-Z]+', str)\n",
    "print(a)\n",
    "\n",
    "# 영문자, 숫자, _만을 추출 : \\w 의미는 whitespace문자의미의 패턴문자\n",
    "a = re.findall('[\\w]', str)\n",
    "print(a)\n",
    "a = re.findall('[\\w]+', str)\n",
    "print(a)\n",
    "\n",
    "# 영문자, 숫자, _를 제외한 모든 문자 추출 : \\W or ^\\w\n",
    "a = re.findall('[\\W]', str)\n",
    "print(a)\n",
    "a = re.findall('[^\\w]', str)\n",
    "print(a)\n",
    "a = re.findall('[\\W]+', str)\n",
    "print(a)"
   ]
  },
  {
   "cell_type": "code",
   "execution_count": 48,
   "metadata": {},
   "outputs": [
    {
     "name": "stdout",
     "output_type": "stream",
     "text": [
      "\n",
      "    hong 910915-*******\n",
      "    park 951118-*******\n",
      "\n"
     ]
    }
   ],
   "source": [
    "# 실습(1)\n",
    "# 주민번호 뒷자리 7자리를 *로 블라인딩처리. 단, 정규식을 사용하지 말 것\n",
    "data = '''\n",
    "    hong 910915-1234567\n",
    "    park 951118-1234567\n",
    "'''\n",
    "result = []\n",
    "#print(data.split('\\n'))\n",
    "for line in data.split('\\n'):\n",
    "    #print(line.split(' '))\n",
    "    word_result = []\n",
    "    for word in line.split(' '):\n",
    "        #print(word)\n",
    "        if len(word) == 14 and word[:6].isdigit() and word[7:].isdigit():\n",
    "            word = word[:6] + '-' + '*******'\n",
    "        word_result.append(word)\n",
    "    result.append(' '.join(word_result))\n",
    "print('\\n'.join(result))    \n",
    "    \n",
    "# 결과\n",
    "# hong 910915-*******\n",
    "# park 951118-*******"
   ]
  },
  {
   "cell_type": "code",
   "execution_count": 56,
   "metadata": {},
   "outputs": [
    {
     "name": "stdout",
     "output_type": "stream",
     "text": [
      "<class 're.Pattern'>\n",
      "re.compile('(\\\\d{6})[-](\\\\d{7})')\n",
      "\n",
      "    hong 910915\n",
      "    park 951118\n",
      "\n",
      "\n",
      "    hong 1234567\n",
      "    park 1234567\n",
      "\n",
      "\n",
      "    hong 910915-*******\n",
      "    park 951118-*******\n",
      "\n"
     ]
    }
   ],
   "source": [
    "# 실습(2)\n",
    "# 주민번호 뒷자리 7자리를 *로 블라인딩처리. 단, 정규식을 사용할 것\n",
    "import re\n",
    "data = '''\n",
    "    hong 910915-1234567\n",
    "    park 951118-1234567\n",
    "'''\n",
    "\n",
    "a = re.compile('(\\d{6})[-](\\d{7})') # 정규식패턴 객체\n",
    "print(type(a))\n",
    "print(a)\n",
    "print(a.sub('\\g<1>', data))\n",
    "print(a.sub('\\g<2>', data))\n",
    "print(a.sub('\\g<1>-*******', data))"
   ]
  },
  {
   "cell_type": "markdown",
   "metadata": {},
   "source": [
    "### 정규표현식\n",
    "\n",
    "#### 1. 메타문자(정규식의 기초)\n",
    "   >`공란 dot(.) ^ $ * + ? { } \\ | ( )`\n",
    "\n",
    "#### 2. 메타문자의 의미\n",
    "\n",
    "1. `[]` : [a-z]와 같이 문자 클래스로 만들어진 정규식, [와 ]사이의 문자들과 일치한다는 의미\n",
    "   \n",
    "   * `\\d` : 숫자와 매치여부, [0-9]와 동일한 의미\n",
    "   * `\\D` : 숫자가 아닌 것과 매치여부 [^0-9]와 동일한 의미\n",
    "   * `\\s` : whitespace문자와 매치여부 [공란\\t\\n\\r\\f\\v]와 동일\n",
    "   * `\\S` : whitespace문자와 아닌 것과 매치여부 [^공란\\t\\n\\r\\f\\v]와 동일\n",
    "   * `\\w` : 문자, 숫자와 매치 여부 [0-9a-zA-Z]와 의미가 동일\n",
    "   * `\\W` : 문자, 숫자가 아닌 것과 매치 여부 [^0-9a-zA-Z]와 의미가 동일\n",
    "\n",
    "2. `dot(.)` : 줄바꿈문자(\\n)를 제외한 모든 한개의 문자와 매치 여부\n",
    "   \n",
    "    예) `a.b` : a와 b사이의 모든 문자가 들어오는 문자열과 매치 여부\n",
    "         -> axb (o), a\\nb (x), a*b (o), a1b(o)\n",
    "\n",
    "3. `반복(*)` : 별표(*) 바로 앞에 있는 문자가 무한대로 반복되는 문자열과 매치 여부\n",
    "   \n",
    "    예) `ca*t` : cat(o), caaaaaat(o), ct(o), cbt(x)\n",
    "   \n",
    "4. `반복(+)` : 반복(*)와 동일한 반복매치인데 다른점은 반복(*)는 반복회수가 한번도 안나와도\n",
    "               되지만 반복(+)는 최소한 한번은 나와야 매치\n",
    "\n",
    "    예) `ca+t` : cat(o), caaaaaat(o), ct(x), cbt(x)\n",
    "\n",
    "5. `반복({m,n}, ?)` :  반복횟수를 제한하고 싶을 경우에 사용 `{}`메타문자를 이용한 반복횟수를\n",
    "고정할 수 있다. `{m,n}`메타문자인 경우는 반복회수가 m부터 n까지의 문자열과 매치여부 m,n은 생략할 수 있다.\n",
    "\n",
    "    예) `{3,}` : 반복회수가 3번이상인 문자열과 매치여부 `{,3}`반복회수가 3이하를 의미 m이 생략되면 0과 동일, n이 생략되면 무제한을 의미한다. `{1,}`는 반복(+)와 동일, `{0,}`은 반복(*)와 동일한 의미를 갖는다.\n",
    "    \n",
    "    * `{m}` : ca{2}t : a가 2번 반복하는 문자열과 매치 : cat(x), caat(o)\n",
    "    * `{m,n}` : ca{2,5}t : a가 2~5번 반복하는 문자열롸 매치 : cat(x), caat(o), caaaaat(o), caaaaaat(x)\n",
    "    * `?` : 반복은 아니지만 없어도 매치, 있어도 매치 : ab?c : abc(o), ac(o)\n",
    "\n",
    "6. `그룹(소괄호)` : 문자열을 한개의 그룹을 묶는 메타문자\n",
    "\n",
    "\n",
    "#### 3. 정규식 관련함수\n",
    "\n",
    "1. findall() : 정규식과 매치되는 모든 문자열을 리스트로 리턴\n",
    "2. match()   : 문자열의 처음부터 정규식패턴과 매치여부를 확인 후 객체를 리턴\n",
    "3. search()  : 문자열 전체를 검색한 후에 정규식패턴과 매치여부를 확인 후 객체를 리턴\n",
    "4. finditer(): 정규식패턴과 매치되는 모든 문자열을 iterable객체로 리턴"
   ]
  },
  {
   "cell_type": "code",
   "execution_count": 57,
   "metadata": {},
   "outputs": [],
   "source": [
    "import re"
   ]
  },
  {
   "cell_type": "code",
   "execution_count": 64,
   "metadata": {},
   "outputs": [
    {
     "name": "stdout",
     "output_type": "stream",
     "text": [
      "re.compile('[a-z]+')\n",
      "<class 're.Pattern'>\n",
      "['__class__', '__copy__', '__deepcopy__', '__delattr__', '__dir__', '__doc__', '__eq__', '__format__', '__ge__', '__getattribute__', '__gt__', '__hash__', '__init__', '__init_subclass__', '__le__', '__lt__', '__ne__', '__new__', '__reduce__', '__reduce_ex__', '__repr__', '__setattr__', '__sizeof__', '__str__', '__subclasshook__', 'findall', 'finditer', 'flags', 'fullmatch', 'groupindex', 'groups', 'match', 'pattern', 'scanner', 'search', 'split', 'sub', 'subn']\n",
      "<class 'NoneType'>\n",
      "None\n",
      "None\n",
      "<re.Match object; span=(0, 6), match='python'>\n"
     ]
    }
   ],
   "source": [
    "# 1. match()\n",
    "p = re.compile('[a-z]+')\n",
    "print(p)\n",
    "print(type(p))\n",
    "print(dir(p))\n",
    "\n",
    "m = p.match('Python') # NoneType\n",
    "print(type(m))\n",
    "print(m)\n",
    "\n",
    "m = p.match('3 Python') # NoneType\n",
    "print(m)\n",
    "\n",
    "m = p.match('python') # re.Match\n",
    "print(m)"
   ]
  },
  {
   "cell_type": "code",
   "execution_count": 68,
   "metadata": {},
   "outputs": [
    {
     "name": "stdout",
     "output_type": "stream",
     "text": [
      "<class 're.Match'>\n",
      "<re.Match object; span=(1, 6), match='ython'>\n",
      "<re.Match object; span=(3, 8), match='ython'>\n",
      "<re.Match object; span=(0, 6), match='python'>\n"
     ]
    }
   ],
   "source": [
    "# 2. search()\n",
    "m = p.search('Python')\n",
    "print(type(m))\n",
    "print(m)\n",
    "\n",
    "m = p.search('3 Python')\n",
    "print(m)\n",
    "\n",
    "m = p.search('python')\n",
    "print(m)"
   ]
  },
  {
   "cell_type": "code",
   "execution_count": 78,
   "metadata": {},
   "outputs": [
    {
     "name": "stdout",
     "output_type": "stream",
     "text": [
      "['ife', 'is', 'too', 'short']\n",
      "['i', 'f', 'e', 'i', 's', 't', 'o', 'o', 's', 'h', 'o', 'r', 't']\n",
      "['L', 'S', 'H']\n",
      "[('910915', '1234567'), ('951118', '1234567')]\n",
      "['910915', '123456', '795111', '123456']\n"
     ]
    }
   ],
   "source": [
    "# 3. findall()\n",
    "p = re.compile('[a-z]+')\n",
    "result = p.findall('Life is too short')\n",
    "print(result)\n",
    "\n",
    "p = re.compile('[a-z]')\n",
    "result = p.findall('Life is too short')\n",
    "print(result)\n",
    "\n",
    "p = re.compile('[A-Z]')\n",
    "result = p.findall('Life is too SHort')\n",
    "print(result)\n",
    "\n",
    "p = re.compile('(\\d{6})[-](\\d{7})')\n",
    "result = p.findall('910915-1234567951118-1234567') # 리스트자료형이고 요소는 튜플\n",
    "print(result)\n",
    "\n",
    "p = re.compile('\\d{6}')\n",
    "result = p.findall('910915-1234567951118-1234567') # 리스트자료형이고 요소는 튜플\n",
    "print(result)"
   ]
  },
  {
   "cell_type": "code",
   "execution_count": 81,
   "metadata": {},
   "outputs": [
    {
     "name": "stdout",
     "output_type": "stream",
     "text": [
      "<callable_iterator object at 0x00000150CDF7F048>\n",
      "<class 'callable_iterator'>\n",
      "<re.Match object; span=(1, 4), match='ife'>\n",
      "<class 're.Match'>\n",
      "<re.Match object; span=(5, 7), match='is'>\n",
      "<class 're.Match'>\n",
      "<re.Match object; span=(8, 11), match='too'>\n",
      "<class 're.Match'>\n",
      "<re.Match object; span=(12, 17), match='short'>\n",
      "<class 're.Match'>\n"
     ]
    }
   ],
   "source": [
    "# 4. finditer\n",
    "p = re.compile('[a-z]+')\n",
    "result = p.finditer('Life is too short')\n",
    "print(result)\n",
    "print(type(result))\n",
    "\n",
    "for i in result:\n",
    "    print(i)\n",
    "    # print(type(i)) # Type은 re.Match객체"
   ]
  },
  {
   "cell_type": "markdown",
   "metadata": {},
   "source": [
    "### 정규식 컴파일 옵션\n",
    "\n",
    "1. DOTALL(or S) : dot(.)이 줄바꿈 문자를 포함한 모든 문자와 매치할 수 있도록 한다.\n",
    "2. IGNORECASE(or I) : 대소문자와 관계없이 매치할 수 있도록 한다.\n",
    "3. MULTILINE(or M) : 여러줄롸 매치할 수 있도록 한다.(시작(^), 끝($) 메타문자와 관련있는 옵션)\n",
    "4. VERBOSE(or X) : versbose모드 사용여부 (정규식을 보기 편하게 또는 주석처리를 사용할 수 있도록 하는 옵션)"
   ]
  },
  {
   "cell_type": "code",
   "execution_count": 88,
   "metadata": {},
   "outputs": [
    {
     "name": "stdout",
     "output_type": "stream",
     "text": [
      "<re.Match object; span=(0, 3), match='aab'>\n",
      "None\n",
      "<re.Match object; span=(0, 3), match='a\\nb'>\n"
     ]
    }
   ],
   "source": [
    "# 1. DOTALL = S : re.DOTALL or re.S\n",
    "import re\n",
    "p = re.compile('a.b', re.DOTALL) # re.S\n",
    "m = p.match('aab')\n",
    "print(m)\n",
    "m = p.match('a\\nb', re.S)\n",
    "print(m)\n",
    "m = p.match('a\\nb')\n",
    "print(m)"
   ]
  },
  {
   "cell_type": "code",
   "execution_count": 91,
   "metadata": {},
   "outputs": [
    {
     "name": "stdout",
     "output_type": "stream",
     "text": [
      "<re.Match object; span=(0, 1), match='p'>\n",
      "<re.Match object; span=(0, 1), match='P'>\n",
      "<re.Match object; span=(0, 1), match='P'>\n"
     ]
    }
   ],
   "source": [
    "# 2. IGNORECASE = I\n",
    "p = re.compile('[a-z]', re.I)\n",
    "m = p.match('python')\n",
    "print(m)\n",
    "m = p.match('Python')\n",
    "print(m)\n",
    "m = p.match('PYTHON')\n",
    "print(m)"
   ]
  },
  {
   "cell_type": "code",
   "execution_count": 93,
   "metadata": {},
   "outputs": [
    {
     "name": "stdout",
     "output_type": "stream",
     "text": [
      "['python one']\n",
      "['python one', 'python two', 'python three']\n"
     ]
    }
   ],
   "source": [
    "# 3. MULTILINE = M\n",
    "# '^python\\s\\w+' :\n",
    "#  1) ^python : python으로 시작해야 하고\n",
    "#  2) \\s : 뒤에 whitespace문자가 와야 하고\n",
    "#  3) \\w : 뒤에 문자와 숫자가 와야 하고\n",
    "#  4) + : 단어단위 이어야 한다.\n",
    "\n",
    "p = re.compile('^python\\s\\w+')\n",
    "data = '''python one\n",
    "Life is too short\n",
    "python two\n",
    "you need python\n",
    "python three\n",
    "'''\n",
    "\n",
    "result = p.findall(data)\n",
    "print(result)\n",
    "\n",
    "p = re.compile('^python\\s\\w+', re.M)\n",
    "result = p.findall(data)\n",
    "print(result)"
   ]
  },
  {
   "cell_type": "code",
   "execution_count": 19,
   "metadata": {},
   "outputs": [
    {
     "name": "stdout",
     "output_type": "stream",
     "text": [
      "['06', '10', 'xa']\n"
     ]
    }
   ],
   "source": [
    "# 4. VERBOSE = X\n",
    "# 지금껏 실습한 정규식은 매우 간단한 정규식이다. 하지만 정규식 전문가들이 만든 정규식을 보면\n",
    "# 거의 암호수준이다. 그래서 이 정규식을 이해하려면 하나하나씩 분석을 해야 하는데 복잡한 정규\n",
    "# 식을 주석 또는 라인단위로 구분해야 되는 데 이를 구분할 수 있도록 지원해주는 옵션이 바로 \n",
    "# VERBOSE옵션이다.\n",
    "import re\n",
    "r = re.compile('(0[0-7]+|[0-9]+|x[0-9a-fA-F]+);')\n",
    "\n",
    "result = r.findall('06;10;xa;')\n",
    "print(result)"
   ]
  },
  {
   "cell_type": "code",
   "execution_count": 21,
   "metadata": {},
   "outputs": [
    {
     "name": "stdout",
     "output_type": "stream",
     "text": [
      "['06', '10', 'xa']\n"
     ]
    }
   ],
   "source": [
    "ref = re.compile(r'''\n",
    "#&[#]                 # 숫자로 시작해야된다.\n",
    "(\n",
    "     0[0-7]+         #  8진수\n",
    "   |  [0-9]+         # 10진수\n",
    "   | x[0-9a-zA-Z]+   # 16진수\n",
    ")\n",
    ";                    # 마지막이 세미콜론(;)으로 끝나야 한다. \n",
    "''', re.VERBOSE)\n",
    "\n",
    "result = ref.findall('06;10;xa;')\n",
    "print(result)\n"
   ]
  },
  {
   "cell_type": "code",
   "execution_count": 4,
   "metadata": {},
   "outputs": [
    {
     "name": "stdout",
     "output_type": "stream",
     "text": [
      "['06']\n",
      "['1234']\n",
      "['xa']\n",
      "['06', '1234', 'xf']\n",
      "['06', '07']\n"
     ]
    }
   ],
   "source": [
    "# https://docs.python.org/ko/3/howto/regex.html?highlight=regular\n",
    "r = re.compile(r\"(0[0-7]+|[0-9]+|x[0-9a-fA-F]+);\")\n",
    "result = r.findall('06;')\n",
    "print(result)\n",
    "\n",
    "result = r.findall('1234;')\n",
    "print(result)\n",
    "\n",
    "result = r.findall('0xa;')\n",
    "print(result)\n",
    "\n",
    "result = r.findall('06;1234;0xf;')\n",
    "print(result)\n",
    "\n",
    "\n",
    "r = re.compile(r\"(0[0-7]+);\")\n",
    "result = r.findall('06;07;08;')\n",
    "print(result)"
   ]
  },
  {
   "cell_type": "code",
   "execution_count": 8,
   "metadata": {},
   "outputs": [
    {
     "name": "stdout",
     "output_type": "stream",
     "text": [
      "[]\n"
     ]
    }
   ],
   "source": [
    "charref = re.compile(r\"\"\"\n",
    "&[#]                 # 숫자 엔티티 참조의 시작\n",
    "(\n",
    "     0[0-7]+         # 8진수 형식\n",
    "   | [0-9]+          # 십진수 형식\n",
    "   | x[0-9a-fA-F]+   # 16진수 형식\n",
    ")\n",
    " ;                   # 후행 세미콜론\n",
    "\"\"\", re.VERBOSE)\n",
    "\n",
    "result = charref.findall('06;1234;xf;')\n",
    "print(result)"
   ]
  },
  {
   "cell_type": "markdown",
   "metadata": {},
   "source": [
    "### 정규식을 사용할 때 백슬래쉬(\\\\)문제\n",
    "\n",
    "정규식을 표현할 떄 백슬래쉬를 사용하게 되면 혼란을 주게 된다.`\\section`이 정규식은 \\s문자가 whitespace로 인식하게 된다. 즉, `[공란\\t\\n\\r\\f\\v]ection`와 동일한 의미가 된다. 이런 경우에는 `\\\\section`처럼 2개의 `\\\\`로 정의해서 문자열로 인식하게 해야 한다."
   ]
  },
  {
   "cell_type": "markdown",
   "metadata": {},
   "source": [
    "### 심화정규식 실습"
   ]
  },
  {
   "cell_type": "code",
   "execution_count": 102,
   "metadata": {},
   "outputs": [
    {
     "name": "stdout",
     "output_type": "stream",
     "text": [
      "<re.Match object; span=(0, 4), match='Crow'>\n",
      "<re.Match object; span=(0, 5), match='Servo'>\n"
     ]
    }
   ],
   "source": [
    "# 1. or(|)는 A|B 즉, 'A이거나 B'를 의미\n",
    "p = re.compile(\"Crow|Servo\")\n",
    "m = p.match(\"CrowHello\")\n",
    "print(m)\n",
    "\n",
    "m = p.match(\"Servoooooooo\")\n",
    "print(m)"
   ]
  },
  {
   "cell_type": "code",
   "execution_count": 106,
   "metadata": {},
   "outputs": [
    {
     "name": "stdout",
     "output_type": "stream",
     "text": [
      "<re.Match object; span=(0, 4), match='Life'>\n",
      "None\n",
      "None\n",
      "<re.Match object; span=(0, 7), match='My Life'>\n"
     ]
    }
   ],
   "source": [
    "# 2. ^ : 문자열의 맨처음부터 시작해서 일치여부\n",
    "print(re.search('^Life', 'Life is too short'))\n",
    "print(re.search('^Life', 'MyLife is too short'))\n",
    "print(re.search('^Life', 'My Life is too short'))\n",
    "print(re.search('^My Life', 'My Life is too short'))"
   ]
  },
  {
   "cell_type": "code",
   "execution_count": 107,
   "metadata": {},
   "outputs": [
    {
     "name": "stdout",
     "output_type": "stream",
     "text": [
      "<re.Match object; span=(12, 17), match='short'>\n",
      "None\n",
      "None\n"
     ]
    }
   ],
   "source": [
    "# 3. $ : 맨 뒤의 문자가 일치여부\n",
    "print(re.search('short$', 'Life is too short'))\n",
    "print(re.search('short$', 'MyLife is too short....'))\n",
    "print(re.search('short$', 'My Life is too short    .....'))"
   ]
  },
  {
   "cell_type": "markdown",
   "metadata": {},
   "source": [
    "### 연습문제"
   ]
  },
  {
   "cell_type": "code",
   "execution_count": 34,
   "metadata": {},
   "outputs": [
    {
     "name": "stdout",
     "output_type": "stream",
     "text": [
      "12abc(5)의는 6~12자리 이어야 합니다.\n",
      "123abc  : 비밀번호는 대소문자로 구성되어야 합니다\n",
      "123abc% : 비밀번호는 숫자와 영문자로 구성되어야 합니다!\n",
      "123ABc  : 정상적인 비밀번호 입니다!\n"
     ]
    },
    {
     "data": {
      "text/plain": [
       "True"
      ]
     },
     "execution_count": 34,
     "metadata": {},
     "output_type": "execute_result"
    }
   ],
   "source": [
    "# 1. 비밀번호정합성\n",
    "# 1) 비밀번호의 길이 : 6~12\n",
    "# 2) 숫자와 영문자로 구성\n",
    "# 3) 소문자와 대문자로 구성\n",
    "# 4) 특수문자 사용불가\n",
    "import re\n",
    "\n",
    "def pwd_check(pwd):\n",
    "    \n",
    "    # 비밀번호길이\n",
    "    if len(pwd) < 6 or len(pwd)> 12:\n",
    "        print('%s(%d)의는 6~12자리 이어야 합니다.' %(pwd, len(pwd)))\n",
    "        return False\n",
    "    \n",
    "    # 숫자, 문자 유무확인\n",
    "    # 숫자와 소문자, 대문자로 구성, 특수문자는 불가\n",
    "    # findall()함수 : 리스트로 리턴 첫번쨰요소 인덱스 0\n",
    "    if re.findall('[a-zA-Z0-9]+', pwd)[0] != pwd:\n",
    "        print(pwd, ': 비밀번호는 숫자와 영문자로 구성되어야 합니다!')\n",
    "        return False\n",
    "    \n",
    "    # 대소문자구분\n",
    "    # 소문자길이가 0이거나 대문자길이 0이면 에러\n",
    "    if len(re.findall('[a-z]', pwd)) == 0 or len(re.findall('[A-Z]', pwd)) == 0:\n",
    "        print(pwd, ' : 비밀번호는 대소문자로 구성되어야 합니다')\n",
    "        return False\n",
    "    \n",
    "    print(pwd, ' : 정상적인 비밀번호 입니다!')\n",
    "    return True\n",
    "\n",
    "pwd_check('12abc')   # NG\n",
    "pwd_check('123abc')  # NG\n",
    "pwd_check('123abc%') # NG\n",
    "pwd_check('123ABc')  # OK"
   ]
  },
  {
   "cell_type": "code",
   "execution_count": 35,
   "metadata": {},
   "outputs": [
    {
     "name": "stdout",
     "output_type": "stream",
     "text": [
      "kim@gmail --> 이메일주소가 잘못 되었습니다.\n",
      "kim_gmail.com --> 이메일주소가 잘못 되었습니다.\n",
      "kim --> 이메일주소가 잘못 되었습니다.\n",
      "kim@gmail.com --> 정상적인 이메일 주소 입니다!\n"
     ]
    },
    {
     "data": {
      "text/plain": [
       "True"
      ]
     },
     "execution_count": 35,
     "metadata": {},
     "output_type": "execute_result"
    }
   ],
   "source": [
    "# 2. 이메일정합성\n",
    "def email_check(email):\n",
    "    exp = re.findall('^[a-z0-9]{2,}@[a-z0-9]{2,}\\.[a-z]{2,}$', email)\n",
    "    \n",
    "    if len(exp) == 0:\n",
    "        print(email, '--> 이메일주소가 잘못 되었습니다.')\n",
    "        return False\n",
    "    \n",
    "    print(email, '--> 정상적인 이메일 주소 입니다!')\n",
    "    return True\n",
    "    \n",
    "email_check('kim@gmail')     #NG\n",
    "email_check('kim_gmail.com') #NG\n",
    "email_check('kim')           #NG\n",
    "email_check('kim@gmail.com') #OK"
   ]
  }
 ],
 "metadata": {
  "kernelspec": {
   "display_name": "Python 3",
   "language": "python",
   "name": "python3"
  },
  "language_info": {
   "codemirror_mode": {
    "name": "ipython",
    "version": 3
   },
   "file_extension": ".py",
   "mimetype": "text/x-python",
   "name": "python",
   "nbconvert_exporter": "python",
   "pygments_lexer": "ipython3",
   "version": "3.7.6"
  }
 },
 "nbformat": 4,
 "nbformat_minor": 4
}
