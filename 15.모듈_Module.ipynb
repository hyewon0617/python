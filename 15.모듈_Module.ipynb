{
 "cells": [
  {
   "cell_type": "markdown",
   "metadata": {},
   "source": [
    "### 모듈(Module)\n",
    "\n",
    "#### 1. 모듈의 정의\n",
    "\n",
    "* 함수 : 파일내에서 일정한 작업을 수행하는 코드 블럭을 말한다.\n",
    "* 모듈 : 함수나 변수 or 클래스들을 모아 놓은 파일(확장자 `.py`)이다. \n",
    " - 유사하거나 연관된 일을 하는 함수나 변수들을 모아서 하나의 파일에 저장한 후\n",
    " - 추후에 재사용하기 위해서 정의한다.\n",
    " - 모듈의 이름을 확장자(.py)를 제외한 것이 파일의 이름이다.\n",
    "* 패키지 : 여러개의 모듈을 모아 놓은 디렉토리이다.\n",
    "* 레벨\n",
    " - 패키지(디렉토리 or 폴더) > 모듈(파일) > 클래스(변수, 메서드) > 함수\n",
    "\n",
    "#### 2. 모듈을 사용하는 목적\n",
    "\n",
    "* 코드의 재사용 : 모듈이 없다면 자주 사용되는 함수를 매번 작성해야 하기 때무에 개발 및 유지보수가 어렵게 된다.\n",
    "* 프로그램 개발시에 전체 코드를 여러 모듈단위로 분리하여 설계함으로써 작업의 효율을 향상시킬 수가 있다.\n",
    "* 별도의 이름공간(namespace)을 제공함으로써 동일 이름의 변수나 함수들이 각각의 모듈마다 독립적으로 정의해서 사용할 수 있다.\n",
    "\n",
    "#### 3. 모듈의 종류\n",
    "\n",
    "* 표준모듈 : 파이썬언어 패키지안에 기본적으로 포함되어서 제공되는 모듈을 말한다. 대표적인 모듈은 `math`, `string`, `sys`등이 있다.\n",
    "* 사용자정의모듈 : 개발자가 직접 작성하여 만든 모듈을 말한다.\n",
    "* 써드파티모듈 : 다른 업체나 개인이 만들어서 제공하는 모듈을 말한다. `numpy`, `pandas`, `matplotlib`등이 있다.\n",
    "\n",
    "#### 4. 모듈의 선언\n",
    "\n",
    "1. 모듈전체를 참조\n",
    "\n",
    " - `import 모듈명`\n",
    " - `import 모듈명 as 별칭` : 해당모듈의 이름을 짧은 이름으로 사용하거나 다른 모듈과 이름이 중복될 때, 모듈명이 너무 길 때 사용한다.\n",
    " - `from 모듈명 import \\[변수 or 함수 \\]` : 모듈내에서 필요한 부분 즉, 특정 변수나 특정함수만 참조할 경우에 사용한다. 이렇게 정의한다면 코드안에서 모듈이름을 붙이지 않고 바로 해당 모듈의 변수나 함수를 사용할 수 있다.\n",
    " -  `from 모듈명 import *` : 해당 모듈에 존재하는 언더바 2개(언더스코어, \\__)로 시작되는 이름들을 제외한 모든 이름들이 현재 세션으로 불러온다.\n",
    " - `from 모듈명 import  \\[변수 or 함수 \\] as 별칭` : 해당 모듈내에 정의된 이름을 별칭으로 사용할 수 있다.\n",
    " \n",
    " \n",
    "2. 모듈내에서 함수를 호출하는 방법\n",
    "\n",
    "   >`모듈명.함수(매개값...)`\n",
    "\n",
    "3. 모듈을 참조할 수 있는 디렉토리 확인\n",
    "\n",
    " * 기본적으로 현재 디렉토리에 있는 파일이나 파이썬 라이브러리가 정자된 디렉토리에 있는 모듈만 불러올 수 있다. sys모듈을 import후에 `sys.path()`함수로 확인할 수 있다.\n",
    " * 디렉토리를 현재 세션에 추가하거나 삭제할 경우에는 `sys.path.append()` or `sys.path.remove()`함수를 사용한다."
   ]
  },
  {
   "cell_type": "code",
   "execution_count": null,
   "metadata": {},
   "outputs": [],
   "source": [
    "%pwd\n",
    "# 디렉토리새성하는 window명령 : mkdir\n",
    "!mkdir d:\\gilbaek\\python\\source\n",
    "%ls"
   ]
  },
  {
   "cell_type": "markdown",
   "metadata": {},
   "source": [
    "#### 모듈/패키지 실습환경 설정\n",
    "1. cmd창을 open\n",
    "2. d:\\gilbaek\\python\\source>python.exe\n",
    "3. python IDLE창\n",
    "4. d:\\gilbaek\\python\\source\\greeting_en.py\n",
    "   d:\\gilbaek\\python\\source\\greeting_ko.py"
   ]
  },
  {
   "cell_type": "code",
   "execution_count": null,
   "metadata": {},
   "outputs": [],
   "source": [
    "# d:\\gilbaek\\python\\source\\greeting_en.py\n",
    "def welcome():\n",
    "    print(\"Hello Python?\")"
   ]
  },
  {
   "cell_type": "code",
   "execution_count": null,
   "metadata": {},
   "outputs": [],
   "source": [
    "# d:\\gilbaek\\python\\source\\greeting_ko.py\n",
    "def welcome():\n",
    "    print(\"안녕 파이썬?\")"
   ]
  },
  {
   "cell_type": "code",
   "execution_count": null,
   "metadata": {},
   "outputs": [],
   "source": [
    "# 모듈/패키지 실습\n",
    "# 1. cmd창 open\n",
    "# 2. d:\\gilbaek\\python\\source>python.exe\n",
    "# 3. 파이썬IDLE창\n",
    "# >>>import greeting_en\n",
    "# >>>import greeting_ko\n",
    "# >>>greeting_en.welcome() -> 'Hello?'\n",
    "# >>>greeting_ko.welcome() -> '안녕하세요?'\n",
    "# >>>import greeting_en as en\n",
    "# >>>import greeting_ko as ko\n",
    "# >>>en.welcome() -> 'Hello?'\n",
    "# >>>ko.welcome() -> '안녕하세요?'"
   ]
  },
  {
   "cell_type": "markdown",
   "metadata": {},
   "source": [
    "#### 모듈생성 및 불러오기"
   ]
  },
  {
   "cell_type": "code",
   "execution_count": null,
   "metadata": {},
   "outputs": [],
   "source": [
    "# 1. 파이썬 내장 모듈 불러오기\n",
    "import math # 수학관련함수들이 정의되어 있는 모듈\n",
    "# help(math)\n",
    "# math?\n",
    "print(dir(math))\n",
    "print()\n",
    "print(dir(math.pi))\n",
    "# ?math.pi\n",
    "# math.pow?\n",
    "print()\n",
    "print(math.pow(3,3))\n",
    "print(math.floor(12.3))\n",
    "print(math.ceil(12.3))\n",
    "\n",
    "# 모듈이 없을 경우에는 ModuleNotFouneError익셉션이 발생\n",
    "# import xxx\n",
    "\n",
    "%who\n",
    "del math\n",
    "%who\n",
    "%reset -f\n",
    "%who"
   ]
  },
  {
   "cell_type": "code",
   "execution_count": null,
   "metadata": {},
   "outputs": [],
   "source": [
    "# 2. 모듈에서 필요한 변수 또는 함수만 불러오기\n",
    "from math import pi as x, pow as y\n",
    "%who\n",
    "print(x)\n",
    "print(y)\n",
    "print(y(3,3))"
   ]
  },
  {
   "cell_type": "code",
   "execution_count": null,
   "metadata": {},
   "outputs": [],
   "source": [
    "# d:\\gilbaek\\python\\source\\mod1.py 생성\n",
    "def add(a, b):\n",
    "    return a + b\n",
    "\n",
    "def safe_add(a, b):\n",
    "    if type(a) != type(b):\n",
    "        print(\"자료형이 다르기 때문에 연산을 할 수가 없습니다\")\n",
    "        return\n",
    "    else:\n",
    "        result = add(a, b)\n",
    "        return result"
   ]
  },
  {
   "cell_type": "code",
   "execution_count": null,
   "metadata": {},
   "outputs": [],
   "source": [
    "import mod1 # 현재경로에 mod1모듈이 없기 때문에 ModuleNotFoundError가 발생"
   ]
  },
  {
   "cell_type": "code",
   "execution_count": null,
   "metadata": {},
   "outputs": [],
   "source": [
    "%pwd\n",
    "\n",
    "# 현재경로 확인하기\n",
    "import sys\n",
    "print(sys.path)\n",
    "print()\n",
    "\n",
    "# 현재path에 사용자 디렉토리를 path추가하기\n",
    "sys.path.append(\"d:/gilbaek/python/source\")\n",
    "sys.path\n",
    "\n",
    "# path.append()는 동일 path가 있더라도 중복해서 추가된다."
   ]
  },
  {
   "cell_type": "code",
   "execution_count": null,
   "metadata": {},
   "outputs": [],
   "source": [
    "import mod1"
   ]
  },
  {
   "cell_type": "code",
   "execution_count": null,
   "metadata": {},
   "outputs": [],
   "source": [
    "# path에 등록된 사용자 디렉토리 삭제하기\n",
    "# 삭제할 path가 없다면 익셉션에러가 발생\n",
    "sys.path.remove('d:/gilbaek/python/source')\n",
    "sys.path"
   ]
  },
  {
   "cell_type": "code",
   "execution_count": null,
   "metadata": {},
   "outputs": [],
   "source": [
    "sys.path.append(\"d:/gilbaek/python/source\")\n",
    "import mod1"
   ]
  },
  {
   "cell_type": "code",
   "execution_count": null,
   "metadata": {},
   "outputs": [],
   "source": [
    "print(mod1.add(10,20))\n",
    "# print(mod1.add(10,\"20\"))\n",
    "print(mod1.safe_add(10, \"20\"))\n",
    "print(mod1.safe_add(10, 20))"
   ]
  },
  {
   "cell_type": "code",
   "execution_count": null,
   "metadata": {},
   "outputs": [],
   "source": [
    "%who\n",
    "del mod1"
   ]
  },
  {
   "cell_type": "code",
   "execution_count": null,
   "metadata": {},
   "outputs": [],
   "source": [
    "from mod1 import add\n",
    "print(add(10,20))\n",
    "# int(safe_add(10, 20)) # NameError: name 'safe_add' is not defined"
   ]
  },
  {
   "cell_type": "code",
   "execution_count": 1,
   "metadata": {},
   "outputs": [
    {
     "name": "stdout",
     "output_type": "stream",
     "text": [
      "Interactive namespace is empty.\n"
     ]
    },
    {
     "ename": "ValueError",
     "evalue": "list.remove(x): x not in list",
     "output_type": "error",
     "traceback": [
      "\u001b[1;31m---------------------------------------------------------------------------\u001b[0m",
      "\u001b[1;31mValueError\u001b[0m                                Traceback (most recent call last)",
      "\u001b[1;32m<ipython-input-1-79ba7cf07938>\u001b[0m in \u001b[0;36m<module>\u001b[1;34m\u001b[0m\n\u001b[0;32m      2\u001b[0m \u001b[0mget_ipython\u001b[0m\u001b[1;33m(\u001b[0m\u001b[1;33m)\u001b[0m\u001b[1;33m.\u001b[0m\u001b[0mrun_line_magic\u001b[0m\u001b[1;33m(\u001b[0m\u001b[1;34m'who'\u001b[0m\u001b[1;33m,\u001b[0m \u001b[1;34m''\u001b[0m\u001b[1;33m)\u001b[0m\u001b[1;33m\u001b[0m\u001b[1;33m\u001b[0m\u001b[0m\n\u001b[0;32m      3\u001b[0m \u001b[1;32mimport\u001b[0m \u001b[0msys\u001b[0m\u001b[1;33m\u001b[0m\u001b[1;33m\u001b[0m\u001b[0m\n\u001b[1;32m----> 4\u001b[1;33m \u001b[0msys\u001b[0m\u001b[1;33m.\u001b[0m\u001b[0mpath\u001b[0m\u001b[1;33m.\u001b[0m\u001b[0mremove\u001b[0m\u001b[1;33m(\u001b[0m\u001b[1;34m'd:/gilbaek/python/source'\u001b[0m\u001b[1;33m)\u001b[0m\u001b[1;33m\u001b[0m\u001b[1;33m\u001b[0m\u001b[0m\n\u001b[0m\u001b[0;32m      5\u001b[0m \u001b[0msys\u001b[0m\u001b[1;33m.\u001b[0m\u001b[0mpath\u001b[0m\u001b[1;33m\u001b[0m\u001b[1;33m\u001b[0m\u001b[0m\n",
      "\u001b[1;31mValueError\u001b[0m: list.remove(x): x not in list"
     ]
    }
   ],
   "source": [
    "%reset -f\n",
    "%who\n",
    "import sys\n",
    "sys.path.remove('d:/gilbaek/python/source')\n",
    "sys.path"
   ]
  },
  {
   "cell_type": "code",
   "execution_count": 4,
   "metadata": {},
   "outputs": [
    {
     "name": "stdout",
     "output_type": "stream",
     "text": [
      "자료형이 다르기 때문에 연산을 할 수가 없습니다\n",
      "None\n"
     ]
    }
   ],
   "source": [
    "# 패키지를 사용하기\n",
    "# import mod1\n",
    "import source.mod1 as m\n",
    "print(m.safe_add(10, \"20\"))"
   ]
  },
  {
   "cell_type": "markdown",
   "metadata": {},
   "source": [
    "#### \\__name__ 와 \\__main__\n",
    "\n",
    "<img src=\"./images/15.모듈_Module_01.png\" width=\"400\" height=\"350\">\n",
    "<img src=\"./images/15.모듈_Module_02.png\" width=\"400\" height=\"350\">"
   ]
  },
  {
   "cell_type": "code",
   "execution_count": 6,
   "metadata": {},
   "outputs": [
    {
     "name": "stdout",
     "output_type": "stream",
     "text": [
      "__main__\n",
      "30\n",
      "10\n",
      "자료형이 다르기 때문에 연산을 할 수가 없습니다\n",
      "None\n"
     ]
    }
   ],
   "source": [
    "# d:\\gilbaek\\python\\source\\mod2.py 생성\n",
    "def add(a, b):\n",
    "    return a + b\n",
    "\n",
    "def safe_add(a, b):\n",
    "    if type(a) != type(b):\n",
    "        print(\"자료형이 다르기 때문에 연산을 할 수가 없습니다\")\n",
    "        return\n",
    "    else:\n",
    "        result = add(a, b)\n",
    "        return result\n",
    "\n",
    "def sub(a, b):\n",
    "    return a - b\n",
    "\n",
    "# 파이썬의 __name__변수는 파이싼이 내부적을 사용하는 특별한 변수이다.\n",
    "# 만약에 \"python mod2.py\"처럼 직접 실행할 경우에는 mod2.py의 __name__변수에는 \"__main__\"\n",
    "# 이라는 값이 자동으로 저장된다.\n",
    "# 하지만, 파이썬쉘이나 다른 다른 파이쎤모듈에서 import할 경우에는  __name__변수에는 자기\n",
    "# 자신의 이름이 자동으로 저장된다. 즉, mod2라는 모듈이름이 __name__변수에 저장된다.\n",
    "# \n",
    "if __name__ == \"__main__\": \n",
    "    print(__name__)\n",
    "    print(add(20, 10))\n",
    "    print(sub(20, 10))\n",
    "    print(safe_add(\"20\", 10))"
   ]
  },
  {
   "cell_type": "code",
   "execution_count": 7,
   "metadata": {},
   "outputs": [],
   "source": [
    "import source.mod2 as m"
   ]
  },
  {
   "cell_type": "code",
   "execution_count": 11,
   "metadata": {},
   "outputs": [
    {
     "name": "stdout",
     "output_type": "stream",
     "text": [
      "source.mod2\n",
      "{'__name__': 'source.mod2', '__doc__': None, '__package__': 'source', '__loader__': <_frozen_importlib_external.SourceFileLoader object at 0x000001E3FE9FCD08>, '__spec__': ModuleSpec(name='source.mod2', loader=<_frozen_importlib_external.SourceFileLoader object at 0x000001E3FE9FCD08>, origin='d:\\\\gilbaek\\\\python\\\\source\\\\mod2.py'), '__file__': 'd:\\\\gilbaek\\\\python\\\\source\\\\mod2.py', '__cached__': 'd:\\\\gilbaek\\\\python\\\\source\\\\__pycache__\\\\mod2.cpython-37.pyc', '__builtins__': {'__name__': 'builtins', '__doc__': \"Built-in functions, exceptions, and other objects.\\n\\nNoteworthy: None is the `nil' object; Ellipsis represents `...' in slices.\", '__package__': '', '__loader__': <class '_frozen_importlib.BuiltinImporter'>, '__spec__': ModuleSpec(name='builtins', loader=<class '_frozen_importlib.BuiltinImporter'>), '__build_class__': <built-in function __build_class__>, '__import__': <built-in function __import__>, 'abs': <built-in function abs>, 'all': <built-in function all>, 'any': <built-in function any>, 'ascii': <built-in function ascii>, 'bin': <built-in function bin>, 'breakpoint': <built-in function breakpoint>, 'callable': <built-in function callable>, 'chr': <built-in function chr>, 'compile': <built-in function compile>, 'delattr': <built-in function delattr>, 'dir': <built-in function dir>, 'divmod': <built-in function divmod>, 'eval': <built-in function eval>, 'exec': <built-in function exec>, 'format': <built-in function format>, 'getattr': <built-in function getattr>, 'globals': <built-in function globals>, 'hasattr': <built-in function hasattr>, 'hash': <built-in function hash>, 'hex': <built-in function hex>, 'id': <built-in function id>, 'input': <bound method Kernel.raw_input of <ipykernel.ipkernel.IPythonKernel object at 0x000001E3FDB6E288>>, 'isinstance': <built-in function isinstance>, 'issubclass': <built-in function issubclass>, 'iter': <built-in function iter>, 'len': <built-in function len>, 'locals': <built-in function locals>, 'max': <built-in function max>, 'min': <built-in function min>, 'next': <built-in function next>, 'oct': <built-in function oct>, 'ord': <built-in function ord>, 'pow': <built-in function pow>, 'print': <built-in function print>, 'repr': <built-in function repr>, 'round': <built-in function round>, 'setattr': <built-in function setattr>, 'sorted': <built-in function sorted>, 'sum': <built-in function sum>, 'vars': <built-in function vars>, 'None': None, 'Ellipsis': Ellipsis, 'NotImplemented': NotImplemented, 'False': False, 'True': True, 'bool': <class 'bool'>, 'memoryview': <class 'memoryview'>, 'bytearray': <class 'bytearray'>, 'bytes': <class 'bytes'>, 'classmethod': <class 'classmethod'>, 'complex': <class 'complex'>, 'dict': <class 'dict'>, 'enumerate': <class 'enumerate'>, 'filter': <class 'filter'>, 'float': <class 'float'>, 'frozenset': <class 'frozenset'>, 'property': <class 'property'>, 'int': <class 'int'>, 'list': <class 'list'>, 'map': <class 'map'>, 'object': <class 'object'>, 'range': <class 'range'>, 'reversed': <class 'reversed'>, 'set': <class 'set'>, 'slice': <class 'slice'>, 'staticmethod': <class 'staticmethod'>, 'str': <class 'str'>, 'super': <class 'super'>, 'tuple': <class 'tuple'>, 'type': <class 'type'>, 'zip': <class 'zip'>, '__debug__': True, 'BaseException': <class 'BaseException'>, 'Exception': <class 'Exception'>, 'TypeError': <class 'TypeError'>, 'StopAsyncIteration': <class 'StopAsyncIteration'>, 'StopIteration': <class 'StopIteration'>, 'GeneratorExit': <class 'GeneratorExit'>, 'SystemExit': <class 'SystemExit'>, 'KeyboardInterrupt': <class 'KeyboardInterrupt'>, 'ImportError': <class 'ImportError'>, 'ModuleNotFoundError': <class 'ModuleNotFoundError'>, 'OSError': <class 'OSError'>, 'EnvironmentError': <class 'OSError'>, 'IOError': <class 'OSError'>, 'WindowsError': <class 'OSError'>, 'EOFError': <class 'EOFError'>, 'RuntimeError': <class 'RuntimeError'>, 'RecursionError': <class 'RecursionError'>, 'NotImplementedError': <class 'NotImplementedError'>, 'NameError': <class 'NameError'>, 'UnboundLocalError': <class 'UnboundLocalError'>, 'AttributeError': <class 'AttributeError'>, 'SyntaxError': <class 'SyntaxError'>, 'IndentationError': <class 'IndentationError'>, 'TabError': <class 'TabError'>, 'LookupError': <class 'LookupError'>, 'IndexError': <class 'IndexError'>, 'KeyError': <class 'KeyError'>, 'ValueError': <class 'ValueError'>, 'UnicodeError': <class 'UnicodeError'>, 'UnicodeEncodeError': <class 'UnicodeEncodeError'>, 'UnicodeDecodeError': <class 'UnicodeDecodeError'>, 'UnicodeTranslateError': <class 'UnicodeTranslateError'>, 'AssertionError': <class 'AssertionError'>, 'ArithmeticError': <class 'ArithmeticError'>, 'FloatingPointError': <class 'FloatingPointError'>, 'OverflowError': <class 'OverflowError'>, 'ZeroDivisionError': <class 'ZeroDivisionError'>, 'SystemError': <class 'SystemError'>, 'ReferenceError': <class 'ReferenceError'>, 'MemoryError': <class 'MemoryError'>, 'BufferError': <class 'BufferError'>, 'Warning': <class 'Warning'>, 'UserWarning': <class 'UserWarning'>, 'DeprecationWarning': <class 'DeprecationWarning'>, 'PendingDeprecationWarning': <class 'PendingDeprecationWarning'>, 'SyntaxWarning': <class 'SyntaxWarning'>, 'RuntimeWarning': <class 'RuntimeWarning'>, 'FutureWarning': <class 'FutureWarning'>, 'ImportWarning': <class 'ImportWarning'>, 'UnicodeWarning': <class 'UnicodeWarning'>, 'BytesWarning': <class 'BytesWarning'>, 'ResourceWarning': <class 'ResourceWarning'>, 'ConnectionError': <class 'ConnectionError'>, 'BlockingIOError': <class 'BlockingIOError'>, 'BrokenPipeError': <class 'BrokenPipeError'>, 'ChildProcessError': <class 'ChildProcessError'>, 'ConnectionAbortedError': <class 'ConnectionAbortedError'>, 'ConnectionRefusedError': <class 'ConnectionRefusedError'>, 'ConnectionResetError': <class 'ConnectionResetError'>, 'FileExistsError': <class 'FileExistsError'>, 'FileNotFoundError': <class 'FileNotFoundError'>, 'IsADirectoryError': <class 'IsADirectoryError'>, 'NotADirectoryError': <class 'NotADirectoryError'>, 'InterruptedError': <class 'InterruptedError'>, 'PermissionError': <class 'PermissionError'>, 'ProcessLookupError': <class 'ProcessLookupError'>, 'TimeoutError': <class 'TimeoutError'>, 'open': <built-in function open>, 'copyright': Copyright (c) 2001-2019 Python Software Foundation.\n",
      "All Rights Reserved.\n",
      "\n",
      "Copyright (c) 2000 BeOpen.com.\n",
      "All Rights Reserved.\n",
      "\n",
      "Copyright (c) 1995-2001 Corporation for National Research Initiatives.\n",
      "All Rights Reserved.\n",
      "\n",
      "Copyright (c) 1991-1995 Stichting Mathematisch Centrum, Amsterdam.\n",
      "All Rights Reserved., 'credits':     Thanks to CWI, CNRI, BeOpen.com, Zope Corporation and a cast of thousands\n",
      "    for supporting Python development.  See www.python.org for more information., 'license': See https://www.python.org/psf/license/, 'help': Type help() for interactive help, or help(object) for help about object., '__IPYTHON__': True, 'display': <function display at 0x000001E3FBD66AF8>, 'get_ipython': <bound method InteractiveShell.get_ipython of <ipykernel.zmqshell.ZMQInteractiveShell object at 0x000001E3FDB6E4C8>>}, 'add': <function add at 0x000001E3FEC9CEE8>, 'safe_add': <function safe_add at 0x000001E3FEC9CAF8>, 'sub': <function sub at 0x000001E3FEC9CDC8>}\n",
      "\n",
      "<built-in function __dir__>\n"
     ]
    }
   ],
   "source": [
    "print(m.__name__)\n",
    "print(m.__dict__)\n",
    "print()\n",
    "\n",
    "print(m.__dir__)\n",
    "\n",
    "# command창에서 직접 실행 d:>python mod2.py 결과 확인 : 출력결과 확인\n",
    "# 파이썬쉘이나 파이썬모듈에서 실행 결과 확인 : 출력결과가 없음"
   ]
  },
  {
   "cell_type": "markdown",
   "metadata": {},
   "source": [
    "###### 파이썬은 왜 프로그램의 시작점이 정해져 있지 않을까?\n",
    "\n",
    "파이썬이 처음에 개발 될 당시에는 리눅스/유닉스에서 사용하는 스크립트언어 기반이었기 때문에 프로그램의 시작점이 따로 정해져 있지 않았다. 보통 리눅스/유닉스의 스크립트파일은 파일 한개로 이루어진 경우가 많은데, 이 스크립트파일 자체가 하나의 프로그램이다 보니 시작점이 필요하지 않았다. 하지만, `c` or `Java` 같은 언어는 처음 만들어질 때 부터 소스파일을 여러개 사용했기 때문에 여러소스 파일의 메서드들 중에서도 시작함수 `main()`를 따로 정해 놓았다."
   ]
  }
 ],
 "metadata": {
  "kernelspec": {
   "display_name": "Python 3",
   "language": "python",
   "name": "python3"
  },
  "language_info": {
   "codemirror_mode": {
    "name": "ipython",
    "version": 3
   },
   "file_extension": ".py",
   "mimetype": "text/x-python",
   "name": "python",
   "nbconvert_exporter": "python",
   "pygments_lexer": "ipython3",
   "version": "3.7.6"
  }
 },
 "nbformat": 4,
 "nbformat_minor": 4
}
