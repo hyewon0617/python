{
 "cells": [
  {
   "cell_type": "markdown",
   "metadata": {},
   "source": [
    "### 반복문 for\n",
    "\n",
    "1. 기본구조\n",
    "\n",
    ">for 변수 in [list/tuple/string]:<br>\n",
    "    수행할 문장1...<br>\n",
    "    수행할 문장2...\n",
    "    \n",
    "<img src=\"./images/09.반복문_for_01.png\" width=\"500\" height=\"300\">  \n",
    "<img src=\"./images/09.반복문_for_02.png\" width=\"500\" height=\"300\">    "
   ]
  },
  {
   "cell_type": "markdown",
   "metadata": {},
   "source": [
    "#### for문과 range()함수\n",
    "\n",
    "<code>range()함수</code>는 숫자리스트를 자동으로 만들어 주는 함수이다.\n",
    "\n",
    "* range(stop) : 0~stop-1까지의 숫자를 자동으로 생성(1씩증가)\n",
    "* range(start, stop) : start~stop-1까지의 숫자를 자동으로 생성(1씩증가)\n",
    "* range(start, stop, step) : start~stop-1까지의 숫자를 자동으로 생성(setp씩 증가)"
   ]
  },
  {
   "cell_type": "code",
   "execution_count": 11,
   "metadata": {},
   "outputs": [
    {
     "name": "stdout",
     "output_type": "stream",
     "text": [
      "range(0, 10)\n",
      "<class 'range'>\n",
      "range(5, 10)\n",
      "range(1, 100, 5)\n",
      "\n",
      "0, 1, 2, 3, 4, 5, 6, 7, 8, 9, \n",
      "5, 6, 7, 8, 9, \n",
      "1, 6, 11, 16, 21, 26, 31, 36, 41, 46, 51, 56, 61, 66, 71, 76, 81, 86, 91, 96, \n",
      "1부터 1000까 3배수의 합은 167167입니다\n"
     ]
    }
   ],
   "source": [
    "# range()함수\n",
    "a = range(10)\n",
    "print(a)\n",
    "print(type(a))\n",
    "\n",
    "b = range(5, 10)\n",
    "print(b)\n",
    "\n",
    "c = range(1, 100, 5)\n",
    "print(c)\n",
    "print()\n",
    "\n",
    "for i in a:\n",
    "    print(i, end=', ')\n",
    "print() \n",
    "\n",
    "for i in b:\n",
    "    print(i, end=', ')  \n",
    "print()\n",
    "\n",
    "for i in c:\n",
    "    print(i, end=', ')  \n",
    "print()\n",
    "\n",
    "# 3의 배수의 합\n",
    "sum = 0\n",
    "for i in range(1, 1001, 3): \n",
    "    sum += i\n",
    "print(\"1부터 1000까 3배수의 합은 %d입니다\" % sum)    "
   ]
  },
  {
   "cell_type": "code",
   "execution_count": null,
   "metadata": {},
   "outputs": [],
   "source": []
  },
  {
   "cell_type": "code",
   "execution_count": null,
   "metadata": {},
   "outputs": [],
   "source": []
  },
  {
   "cell_type": "code",
   "execution_count": null,
   "metadata": {},
   "outputs": [],
   "source": []
  },
  {
   "cell_type": "code",
   "execution_count": null,
   "metadata": {},
   "outputs": [],
   "source": []
  },
  {
   "cell_type": "code",
   "execution_count": null,
   "metadata": {},
   "outputs": [],
   "source": []
  }
 ],
 "metadata": {
  "kernelspec": {
   "display_name": "Python 3",
   "language": "python",
   "name": "python3"
  },
  "language_info": {
   "codemirror_mode": {
    "name": "ipython",
    "version": 3
   },
   "file_extension": ".py",
   "mimetype": "text/x-python",
   "name": "python",
   "nbconvert_exporter": "python",
   "pygments_lexer": "ipython3",
   "version": "3.7.6"
  }
 },
 "nbformat": 4,
 "nbformat_minor": 4
}
