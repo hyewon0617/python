{
 "cells": [
  {
   "cell_type": "markdown",
   "metadata": {},
   "source": [
    "### 반복문 for\n",
    "\n",
    "1. 기본구조\n",
    "\n",
    ">for 변수 in [list/tuple/string]:<br>\n",
    "    수행할 문장1...<br>\n",
    "    수행할 문장2...\n",
    "    \n",
    "<img src=\"./images/10.반복문_for_01.png\" width=\"500\" height=\"300\">  \n",
    "<img src=\"./images/10.반복문_for_02.png\" width=\"500\" height=\"300\">    "
   ]
  },
  {
   "cell_type": "markdown",
   "metadata": {},
   "source": [
    "#### for문과 range()함수\n",
    "\n",
    "<code>range()함수</code>는 숫자리스트를 자동으로 만들어 주는 함수이다.\n",
    "\n",
    "* range(stop) : 0~stop-1까지의 숫자를 자동으로 생성(1씩증가)\n",
    "* range(start, stop) : start~stop-1까지의 숫자를 자동으로 생성(1씩증가)\n",
    "* range(start, stop, step) : start~stop-1까지의 숫자를 자동으로 생성(setp씩 증가)"
   ]
  },
  {
   "cell_type": "code",
   "execution_count": 11,
   "metadata": {},
   "outputs": [
    {
     "name": "stdout",
     "output_type": "stream",
     "text": [
      "range(0, 10)\n",
      "<class 'range'>\n",
      "range(5, 10)\n",
      "range(1, 100, 5)\n",
      "\n",
      "0, 1, 2, 3, 4, 5, 6, 7, 8, 9, \n",
      "5, 6, 7, 8, 9, \n",
      "1, 6, 11, 16, 21, 26, 31, 36, 41, 46, 51, 56, 61, 66, 71, 76, 81, 86, 91, 96, \n",
      "1부터 1000까 3배수의 합은 167167입니다\n"
     ]
    }
   ],
   "source": [
    "# range()함수\n",
    "a = range(10)\n",
    "print(a)\n",
    "print(type(a))\n",
    "\n",
    "b = range(5, 10)\n",
    "print(b)\n",
    "\n",
    "c = range(1, 100, 5)\n",
    "print(c)\n",
    "print()\n",
    "\n",
    "for i in a:\n",
    "    print(i, end=', ')\n",
    "print() \n",
    "\n",
    "for i in b:\n",
    "    print(i, end=', ')  \n",
    "print()\n",
    "\n",
    "for i in c:\n",
    "    print(i, end=', ')  \n",
    "print()"
   ]
  },
  {
   "cell_type": "code",
   "execution_count": 1,
   "metadata": {},
   "outputs": [
    {
     "name": "stdout",
     "output_type": "stream",
     "text": [
      "55\n"
     ]
    }
   ],
   "source": [
    "# 1. for(1)\n",
    "# 1~10까지 합\n",
    "sum = 1+2+3+4+5+6+7+8+9+10\n",
    "print(sum)\n",
    "\n",
    "\n",
    "# 1~1000까지 3의 배수의 합\n",
    "sum = 0\n",
    "for i in range(1, 1001, 3): \n",
    "    sum += i\n",
    "print(\"1부터 1000까 3배수의 합은 %d입니다\" % sum)    "
   ]
  },
  {
   "cell_type": "code",
   "execution_count": 4,
   "metadata": {},
   "outputs": [
    {
     "name": "stdout",
     "output_type": "stream",
     "text": [
      "숫자를 입력하세요 : 10\n",
      "<class 'str'>\n",
      "<class 'int'>\n",
      "11\n"
     ]
    }
   ],
   "source": [
    "# input()함수 : 외부(키보드)에서 값을 입력한 후 입력값을 리턴하는 함수\n",
    "# input()함수는  오직 문자열만 리턴해준다. 숫자로 입력해도 문자열로 간주한다.\n",
    "# 리턴된 값을 숫자로 사용하려면 숫자로 변환해 주는 함수 int()를 사용한다.\n",
    "value = input(\"숫자를 입력하세요 : \")\n",
    "print(type(value))\n",
    "\n",
    "value = int(value)\n",
    "print(type(value))\n",
    "\n",
    "value += 1\n",
    "print(value)"
   ]
  },
  {
   "cell_type": "code",
   "execution_count": 21,
   "metadata": {},
   "outputs": [
    {
     "name": "stdout",
     "output_type": "stream",
     "text": [
      "java의 길이는 4자 입니다\n",
      "javascript의 길이는 10자 입니다\n",
      "R의 길이는 1자 입니다\n",
      "python의 길이는 6자 입니다\n",
      "windows의 길이는 7자 입니다\n",
      "\n",
      "javascript의 길이는 10자 입니다\n",
      "python의 길이는 6자 입니다\n",
      "\n",
      "['windows', 'python', 'javascript', 'javascript', 'python', 'windows']\n"
     ]
    }
   ],
   "source": [
    "# for문과 인덱싱, 슬라이싱\n",
    "words = ['java', 'javascript', 'R', 'python', 'windows']\n",
    "for word in words:\n",
    "    print(word + '의 길이는 %d자 입니다' % len(word))\n",
    "print()\n",
    "\n",
    "# 단어의 길이가 6자 이상인 단어만 출력하세요!(슬라이싱으로)\n",
    "for word in words[:4]:\n",
    "    if len(word) >= 6:\n",
    "        print(word + '의 길이는 %d자 입니다' % len(word))\n",
    "print()\n",
    "\n",
    "# 6자리이상의 단어만 리스트로 생성하기\n",
    "sixmorewords =[]\n",
    "for word in words[:]:\n",
    "    if len(word) >= 6:\n",
    "        sixmorewords.append(word)\n",
    "        sixmorewords.insert(0, word)\n",
    "print(sixmorewords)"
   ]
  },
  {
   "cell_type": "code",
   "execution_count": 28,
   "metadata": {},
   "outputs": [
    {
     "name": "stdout",
     "output_type": "stream",
     "text": [
      "0 java\n",
      "1 javascript\n",
      "2 R\n",
      "3 python\n",
      "4 windows\n",
      "\n",
      "0 안 1 녕 2 하 3 세 4 요 8   9 파 10 이 11 썬 \n",
      "[5, 6, 7, 8, 9]\n",
      "[0, 3, 6, 9]\n",
      "[-10, -40, -70]\n"
     ]
    }
   ],
   "source": [
    "# len()와 range()동시에 사용하기\n",
    "words = ['java', 'javascript', 'R', 'python', 'windows']\n",
    "for i in range(len(words)):\n",
    "    print(i, words[i])\n",
    "print()\n",
    "\n",
    "x = \"안녕하세요!!! 파이썬!!!!\"\n",
    "for i in range(len(x)):\n",
    "    if x[i] != '!':\n",
    "        print(i, x[i], end = ' ')\n",
    "print()        \n",
    "# range()함수는 임시 list자료를 생성할 때 종종 사용된다.\n",
    "print(list(range(5,10)))\n",
    "print(list(range(0, 10,3)))\n",
    "print(list(range(-10, -100, -30)))"
   ]
  },
  {
   "cell_type": "code",
   "execution_count": 30,
   "metadata": {},
   "outputs": [
    {
     "name": "stdout",
     "output_type": "stream",
     "text": [
      "단을 입력하세요 : 9\n",
      "9 x 1 =  9\n",
      "9 x 2 = 18\n",
      "9 x 3 = 27\n",
      "9 x 4 = 36\n",
      "9 x 5 = 45\n",
      "9 x 6 = 54\n",
      "9 x 7 = 63\n",
      "9 x 8 = 72\n",
      "9 x 9 = 81\n"
     ]
    }
   ],
   "source": [
    "# 실습문제\n",
    "# for문을 이용한 구구단 만들기\n",
    "# 사용자가 구구단중 특정의 단을 입력 받아서 해당되는 단을 출력하기\n",
    "gugudan = int(input('단을 입력하세요 : '))\n",
    "for i in range(1, 10):\n",
    "    print ('%d x %d = %2d' % (gugudan, i, gugudan * i))"
   ]
  },
  {
   "cell_type": "code",
   "execution_count": 31,
   "metadata": {},
   "outputs": [
    {
     "name": "stdout",
     "output_type": "stream",
     "text": [
      "중첩 for문 (0, 0)번째 실행 \n",
      "중첩 for문 (0, 1)번째 실행 \n",
      "중첩 for문 (0, 2)번째 실행 \n",
      "중첩 for문 (0, 3)번째 실행 \n",
      "중첩 for문 (0, 4)번째 실행 \n",
      "중첩 for문 (0, 5)번째 실행 \n",
      "중첩 for문 (0, 6)번째 실행 \n",
      "중첩 for문 (0, 7)번째 실행 \n",
      "중첩 for문 (0, 8)번째 실행 \n",
      "중첩 for문 (0, 9)번째 실행 \n",
      "중첩 for문 (1, 0)번째 실행 \n",
      "중첩 for문 (1, 1)번째 실행 \n",
      "중첩 for문 (1, 2)번째 실행 \n",
      "중첩 for문 (1, 3)번째 실행 \n",
      "중첩 for문 (1, 4)번째 실행 \n",
      "중첩 for문 (1, 5)번째 실행 \n",
      "중첩 for문 (1, 6)번째 실행 \n",
      "중첩 for문 (1, 7)번째 실행 \n",
      "중첩 for문 (1, 8)번째 실행 \n",
      "중첩 for문 (1, 9)번째 실행 \n"
     ]
    }
   ],
   "source": [
    "# 중첩for 문 : for문안에 for문이 있는 문장\n",
    "for i in range(2):\n",
    "    for j in range(10):\n",
    "        print('중첩 for문 (%d, %d)번째 실행 ' % (i, j))"
   ]
  },
  {
   "cell_type": "code",
   "execution_count": 34,
   "metadata": {},
   "outputs": [
    {
     "name": "stdout",
     "output_type": "stream",
     "text": [
      "------ 2 단 -----\n",
      "2 x 1 =  2\n",
      "2 x 2 =  4\n",
      "2 x 3 =  6\n",
      "2 x 4 =  8\n",
      "2 x 5 = 10\n",
      "2 x 6 = 12\n",
      "2 x 7 = 14\n",
      "2 x 8 = 16\n",
      "2 x 9 = 18\n",
      "------ 3 단 -----\n",
      "3 x 1 =  3\n",
      "3 x 2 =  6\n",
      "3 x 3 =  9\n",
      "3 x 4 = 12\n",
      "3 x 5 = 15\n",
      "3 x 6 = 18\n",
      "3 x 7 = 21\n",
      "3 x 8 = 24\n",
      "3 x 9 = 27\n",
      "------ 4 단 -----\n",
      "4 x 1 =  4\n",
      "4 x 2 =  8\n",
      "4 x 3 = 12\n",
      "4 x 4 = 16\n",
      "4 x 5 = 20\n",
      "4 x 6 = 24\n",
      "4 x 7 = 28\n",
      "4 x 8 = 32\n",
      "4 x 9 = 36\n",
      "------ 5 단 -----\n",
      "5 x 1 =  5\n",
      "5 x 2 = 10\n",
      "5 x 3 = 15\n",
      "5 x 4 = 20\n",
      "5 x 5 = 25\n",
      "5 x 6 = 30\n",
      "5 x 7 = 35\n",
      "5 x 8 = 40\n",
      "5 x 9 = 45\n",
      "------ 6 단 -----\n",
      "6 x 1 =  6\n",
      "6 x 2 = 12\n",
      "6 x 3 = 18\n",
      "6 x 4 = 24\n",
      "6 x 5 = 30\n",
      "6 x 6 = 36\n",
      "6 x 7 = 42\n",
      "6 x 8 = 48\n",
      "6 x 9 = 54\n",
      "------ 7 단 -----\n",
      "7 x 1 =  7\n",
      "7 x 2 = 14\n",
      "7 x 3 = 21\n",
      "7 x 4 = 28\n",
      "7 x 5 = 35\n",
      "7 x 6 = 42\n",
      "7 x 7 = 49\n",
      "7 x 8 = 56\n",
      "7 x 9 = 63\n",
      "------ 8 단 -----\n",
      "8 x 1 =  8\n",
      "8 x 2 = 16\n",
      "8 x 3 = 24\n",
      "8 x 4 = 32\n",
      "8 x 5 = 40\n",
      "8 x 6 = 48\n",
      "8 x 7 = 56\n",
      "8 x 8 = 64\n",
      "8 x 9 = 72\n",
      "------ 9 단 -----\n",
      "9 x 1 =  9\n",
      "9 x 2 = 18\n",
      "9 x 3 = 27\n",
      "9 x 4 = 36\n",
      "9 x 5 = 45\n",
      "9 x 6 = 54\n",
      "9 x 7 = 63\n",
      "9 x 8 = 72\n",
      "9 x 9 = 81\n"
     ]
    }
   ],
   "source": [
    "# 구구단 출력하기(중첩for문)\n",
    "for dan in range(2, 10):\n",
    "    print(\"------ %d 단 -----\" % dan)\n",
    "    for i in range(1, 10):\n",
    "        print ('%d x %d = %2d' % (dan, i, dan * i))       "
   ]
  },
  {
   "cell_type": "markdown",
   "metadata": {},
   "source": [
    "##### 연습문제\n",
    "<img src=\"./images/09.반복문_for_ex01_구구단.PNG\">  "
   ]
  },
  {
   "cell_type": "code",
   "execution_count": 42,
   "metadata": {},
   "outputs": [
    {
     "name": "stdout",
     "output_type": "stream",
     "text": [
      " #  2단  #  #  3단  #  #  4단  #  #  5단  #  #  6단  #  #  7단  #  #  8단  #  #  9단  # \n",
      "2 x 1 =  2 3 x 1 =  3 4 x 1 =  4 5 x 1 =  5 6 x 1 =  6 7 x 1 =  7 8 x 1 =  8 9 x 1 =  9 \n",
      "2 x 2 =  4 3 x 2 =  6 4 x 2 =  8 5 x 2 = 10 6 x 2 = 12 7 x 2 = 14 8 x 2 = 16 9 x 2 = 18 \n",
      "2 x 3 =  6 3 x 3 =  9 4 x 3 = 12 5 x 3 = 15 6 x 3 = 18 7 x 3 = 21 8 x 3 = 24 9 x 3 = 27 \n",
      "2 x 4 =  8 3 x 4 = 12 4 x 4 = 16 5 x 4 = 20 6 x 4 = 24 7 x 4 = 28 8 x 4 = 32 9 x 4 = 36 \n",
      "2 x 5 = 10 3 x 5 = 15 4 x 5 = 20 5 x 5 = 25 6 x 5 = 30 7 x 5 = 35 8 x 5 = 40 9 x 5 = 45 \n",
      "2 x 6 = 12 3 x 6 = 18 4 x 6 = 24 5 x 6 = 30 6 x 6 = 36 7 x 6 = 42 8 x 6 = 48 9 x 6 = 54 \n",
      "2 x 7 = 14 3 x 7 = 21 4 x 7 = 28 5 x 7 = 35 6 x 7 = 42 7 x 7 = 49 8 x 7 = 56 9 x 7 = 63 \n",
      "2 x 8 = 16 3 x 8 = 24 4 x 8 = 32 5 x 8 = 40 6 x 8 = 48 7 x 8 = 56 8 x 8 = 64 9 x 8 = 72 \n",
      "2 x 9 = 18 3 x 9 = 27 4 x 9 = 36 5 x 9 = 45 6 x 9 = 54 7 x 9 = 63 8 x 9 = 72 9 x 9 = 81 \n"
     ]
    }
   ],
   "source": [
    "title = ''\n",
    "for i in range(2, 10):\n",
    "    title = title + (\" #  %d단  # \" % i)\n",
    "print(title)    \n",
    "\n",
    "for i in range(1, 10):\n",
    "    gugudan = \"\"\n",
    "    for dan in range(2, 10):\n",
    "        gugudan = gugudan + (\"%d x %d = %2d \" % (dan, i, dan * i))\n",
    "    print(gugudan) "
   ]
  },
  {
   "cell_type": "markdown",
   "metadata": {},
   "source": [
    "### List안에 for문\n",
    "\n",
    "1. list안에 1개의 for문\n",
    ">[표현식 for 변수 in 리스트/튜플/문자열 if 조건]\n",
    "\n",
    "2. list안에 여러개의 for문\n",
    ">[표현식 for 변수 in 리스트/튜플/문자열 if 조건1<br>for 변수 in 리스트/튜플/문자열 if 조건2<br> ...<br>for 변수 in 리스트/튜플/문자열 if 조건n\n",
    "]"
   ]
  },
  {
   "cell_type": "code",
   "execution_count": 48,
   "metadata": {},
   "outputs": [
    {
     "name": "stdout",
     "output_type": "stream",
     "text": [
      "[1, 2, 3, 4, 5, 1, 2, 3, 4, 5, 1, 2, 3, 4, 5]\n",
      "[3, 6, 9, 12, 15]\n",
      "[3, 6, 9, 12, 15]\n",
      "[6, 12]\n",
      "[6, 12]\n"
     ]
    }
   ],
   "source": [
    "# 1. list안에 1개의 for문\n",
    "nums = [1,2,3,4,5] # -> [3,6,9,12,15] 즉, 3의 배수로 만들기\n",
    "print(nums * 3)\n",
    "result = []\n",
    "for num in nums:\n",
    "    result.append(num*3)\n",
    "print(result)\n",
    "\n",
    "# 1) list안에 조건문이 없는 for문 \n",
    "result = [num * 3 for num in nums] \n",
    "print(result)\n",
    "\n",
    "# 2) list안에 조건문이 있는 for문 : 짝수만 생성\n",
    "result = []\n",
    "for num in nums:\n",
    "    if(num%2==0):\n",
    "        result.append(num*3)\n",
    "print(result)\n",
    "\n",
    "result = [num * 3 for num in nums if num%2==0] \n",
    "print(result)"
   ]
  },
  {
   "cell_type": "code",
   "execution_count": 53,
   "metadata": {},
   "outputs": [
    {
     "name": "stdout",
     "output_type": "stream",
     "text": [
      "[2, 4, 6, 8, 10, 12, 14, 16, 18, 3, 6, 9, 12, 15, 18, 21, 24, 27, 4, 8, 12, 16, 20, 24, 28, 32, 36, 5, 10, 15, 20, 25, 30, 35, 40, 45, 6, 12, 18, 24, 30, 36, 42, 48, 54, 7, 14, 21, 28, 35, 42, 49, 56, 63, 8, 16, 24, 32, 40, 48, 56, 64, 72, 9, 18, 27, 36, 45, 54, 63, 72, 81]\n",
      "\n",
      "[4, 8, 12, 16, 8, 16, 24, 32, 12, 24, 36, 48, 16, 32, 48, 64]\n"
     ]
    }
   ],
   "source": [
    "# 2. list안에 여러개의 for문(중첩for문)\n",
    "# 구구단의 결과를 한개의 list에 저장하기\n",
    "\n",
    "# 1) list안에 조건문이 없는 for문 \n",
    "result = [\n",
    "    i * j for i in range(2, 10)\n",
    "          for j in range(1, 10)\n",
    "]\n",
    "print(result)\n",
    "print() \n",
    "\n",
    "# 2) list안에 조건문이 있는 for문 : 짝수만 생성\n",
    "result = [\n",
    "    i * j for i in range(2, 10) if i % 2 == 0\n",
    "          for j in range(1, 10) if j % 2 == 0   \n",
    "]\n",
    "print(result)"
   ]
  },
  {
   "cell_type": "markdown",
   "metadata": {},
   "source": [
    "### 연습문제"
   ]
  },
  {
   "cell_type": "code",
   "execution_count": 59,
   "metadata": {},
   "outputs": [
    {
     "name": "stdout",
     "output_type": "stream",
     "text": [
      "1 2 3 4 5 6 7 8 9 10 11 12 13 14 15 16 17 18 19 20 21 22 23 24 25 26 27 28 29 30 31 32 33 34 35 36 37 38 39 40 41 42 43 44 45 46 47 48 49 50 51 52 53 54 55 56 57 58 59 60 61 62 63 64 65 66 67 68 69 70 71 72 73 74 75 76 77 78 79 80 81 82 83 84 85 86 87 88 89 90 91 92 93 94 95 96 97 98 99 100 \n",
      "[1, 2, 3, 4, 5, 6, 7, 8, 9, 10, 11, 12, 13, 14, 15, 16, 17, 18, 19, 20, 21, 22, 23, 24, 25, 26, 27, 28, 29, 30, 31, 32, 33, 34, 35, 36, 37, 38, 39, 40, 41, 42, 43, 44, 45, 46, 47, 48, 49, 50, 51, 52, 53, 54, 55, 56, 57, 58, 59, 60, 61, 62, 63, 64, 65, 66, 67, 68, 69, 70, 71, 72, 73, 74, 75, 76, 77, 78, 79, 80, 81, 82, 83, 84, 85, 86, 87, 88, 89, 90, 91, 92, 93, 94, 95, 96, 97, 98, 99, 100]\n"
     ]
    }
   ],
   "source": [
    "# 문제1. 1~100까지의 숫자를 for문을 이용해서 출력\n",
    "# print(i, end=\" \")\n",
    "for i in range(1,101): print(i, end=\" \")\n",
    "print()\n",
    "\n",
    "# list안에 for문을 이용\n",
    "result = [\n",
    "    i for i in range(1, 101)\n",
    "]\n",
    "print(result)"
   ]
  },
  {
   "cell_type": "code",
   "execution_count": 57,
   "metadata": {},
   "outputs": [
    {
     "name": "stdout",
     "output_type": "stream",
     "text": [
      "숫자를 입력하세요!1000\n",
      "1부터 1000까지의 5의 배수의 합은 100500 입니다\n",
      "1부터 1000까지의 5의 배수의 합은 100500 입니다\n"
     ]
    }
   ],
   "source": [
    "# 문제2. 1~1000까지의 5의 배수의 총합\n",
    "# 1000을 입력 받아서 1~1000까지의 5의 배수의 합계를 구하기\n",
    "# 결과 100500\n",
    "sum = 0\n",
    "value = int(input(\"숫자를 입력하세요!\"))\n",
    "for i in range(1, value+1):\n",
    "    if i%5 ==0: sum +=i\n",
    "print(\"1부터 %d까지의 5의 배수의 합은 %d 입니다\" % (value, sum))\n",
    "\n",
    "sum = 0\n",
    "for i in range(5, value+1, 5):\n",
    "    sum +=i\n",
    "print(\"1부터 %d까지의 5의 배수의 합은 %d 입니다\" % (value, sum))"
   ]
  },
  {
   "cell_type": "code",
   "execution_count": 61,
   "metadata": {},
   "outputs": [
    {
     "name": "stdout",
     "output_type": "stream",
     "text": [
      "학급의 평균 = 79.0\n"
     ]
    }
   ],
   "source": [
    "# 문제3 학급의 평균점수 수하기\n",
    "# 결과 79.0\n",
    "scores = [70, 60, 55, 75, 95, 90, 80, 80, 85, 100] \n",
    "sum = 0\n",
    "for score in scores:\n",
    "    sum += score\n",
    "avg = sum / len(scores)\n",
    "print(\"학급의 평균 =\", avg)"
   ]
  },
  {
   "cell_type": "code",
   "execution_count": 62,
   "metadata": {},
   "outputs": [
    {
     "name": "stdout",
     "output_type": "stream",
     "text": [
      "{'A': 3, 'B': 3, 'O': 3, 'AB': 3}\n"
     ]
    }
   ],
   "source": [
    "# 문제4. 혈액형별 학생수의 합계\n",
    "# ['A', 'B', 'A', 'O', 'AB', 'AB', 'O', 'A', 'B', 'O', 'B', 'AB']\n",
    "# 결과\n",
    "# {'A':3, 'B':3,'O':3, 'AB':3 }\n",
    "bloods = ['A', 'B', 'A', 'O', 'AB', 'AB', 'O', 'A', 'B', 'O', 'B', 'AB']\n",
    "result = {}\n",
    "for blood in bloods:\n",
    "    if blood in result: \n",
    "        result[blood] += 1\n",
    "    else:\n",
    "        result[blood] = 1\n",
    "print(result)        "
   ]
  },
  {
   "cell_type": "code",
   "execution_count": 64,
   "metadata": {},
   "outputs": [
    {
     "name": "stdout",
     "output_type": "stream",
     "text": [
      "[2, 6, 10]\n",
      "[2, 6, 10]\n"
     ]
    }
   ],
   "source": [
    "# 문제5. 주어진 코드를 리스트내포for문으로 변환하기\n",
    "numbers = [1, 2, 3, 4, 5]\n",
    "result = []\n",
    "for n in numbers:\n",
    "    if n % 2 == 1:\n",
    "        result.append(n*2)\n",
    "print(result)\n",
    "\n",
    "result = [n*2 for n in numbers if n % 2 == 1]\n",
    "print(result)"
   ]
  },
  {
   "cell_type": "code",
   "execution_count": 66,
   "metadata": {},
   "outputs": [
    {
     "data": {
      "text/plain": [
       "'Lf s t shrt, y nd pythn'"
      ]
     },
     "execution_count": 66,
     "metadata": {},
     "output_type": "execute_result"
    }
   ],
   "source": [
    "# 문제6. 아래문장에서 모음('aeiou')을 제거 \n",
    "# Life is too short, you need python\n",
    "# 결과\n",
    "# Lf s t shrt, y nd pythn\n",
    "vowels = 'aeiou'\n",
    "sentense = 'Life is too short, you need python'\n",
    "\n",
    "''.join([a for a in sentense if a not in vowels])"
   ]
  }
 ],
 "metadata": {
  "kernelspec": {
   "display_name": "Python 3",
   "language": "python",
   "name": "python3"
  },
  "language_info": {
   "codemirror_mode": {
    "name": "ipython",
    "version": 3
   },
   "file_extension": ".py",
   "mimetype": "text/x-python",
   "name": "python",
   "nbconvert_exporter": "python",
   "pygments_lexer": "ipython3",
   "version": "3.7.6"
  }
 },
 "nbformat": 4,
 "nbformat_minor": 4
}
