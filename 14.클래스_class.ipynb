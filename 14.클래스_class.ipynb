{
 "cells": [
  {
   "cell_type": "markdown",
   "metadata": {},
   "source": [
    "### 클래스(Class)\n",
    "\n",
    "#### 1. module vs class vs instance\n",
    "\n",
    "1. module  : 확장자가 <code>py</code>로 끝나는 파일(클래스, 속성, 메서드등이 포함된 파일)\n",
    "2. class   : 새로운 객체(자료형)을 만드는 방법(설계도, 틀...)\n",
    "3. instance: 클래스로 부터 생성된 객체를 인스턴스라고 한다.\n",
    "<img src=\"./images/14.클래스_class_01.png\" width=\"500\" height=\"400\" />\n",
    "\n",
    "\n",
    "#### 2. 클래스 내부의 메서드(함수)를 선언\n",
    "\n",
    "메서드는 일반함수(def 함수명())와 동일하게 정의하지만 다른 점은 반드시 첫번째 인수로 <code>self</code>로 정의해야 한다. 즉, <code>def 함수명(self)</code>의 형태로 정의해야 한다. 이 self 예약어는 java에서 this처럼 자신을 가리키는 것으로 인스턴스 자기자신을 가리킨다. 정확하게는 <code>자신의 참조주소를 가리킨다.</code> 개개의 인스턴스는 self를 이용하여 자신에게 접근할 수 있다.\n",
    "\n",
    "#### 3. 클래스메서드(@classmethod)\n",
    "\n",
    "클래스메서드는 특정 객체에 대한 작업처리를 하는 것이 아니라 클래스 전체에 공유되는 메서드로서 첫번째 인수에 <code>cls</code>로 전달되는 메서드를 이야기 한다. 즉 <code>def 메서드명(cls)</code>형태로 정의된 메서드이다.\n",
    "\n",
    "클래스메서드는 인스턴스(객체)와 무관하게 클래스이름공간(Class Namespace)에 존재하는 메서드이다. 클래스메서드에 접근하기 위해서는 <code>클래스명.메서드()</code>형태로 접근한다. 첫번째 인수인 <code>cls</code>은 클래스인스턴스를 자동으로 전달받는 인자값으로 전달받아서 인스턴스를 자동으로 받은 받는 메서드가 클래스메서드이다.\n",
    "\n",
    "#### 4. 생성자(\\__init__)\n",
    "\n",
    "파이썬에서는 객체(인스턴스)가 생성될 때 자동으로 실행되는 특수한 메서드를 생성자 메서드라고 한다. 생성자 메서드는 객체가 생성될 때 맨 처음에 자동으로 실행되는 메서드이다. 파이썬에서는 Java와는 다르게 생성자메서드는 오직 한개의 생성자메서드만 정의할 수 있다.\n",
    "\n",
    "#### 5. 소멸자(\\__del__)\n",
    "\n",
    "파이썬에는 메모리나 기타 자원들을 자동으로 관리해 주는데 객체(인스턴스)가 소멸될 때 자동으로 실행되는 메서드가 소멸자메서드이다. 만약 객체가 소멸될 때 수행할 로직이 있을 경우에는 소멸자메서드에 해당 로직을 코딩해주면 된다. 없을 경우에\n",
    "특별히 정의하지 않아도 된다.\n",
    "\n",
    "#### 6. 상속(Inheritance)\n",
    "\n",
    ">1. 파이썬에서는 <code>다중상속</code>이 가능하다.\n",
    "2. 상속의 이점은 코드의 재사용이다.\n",
    "3. 자식클래스는 상속을 해준 부모클래스의 모든 기능을 사용할 수 있다. 자식클래스에서는 필요한 기능을 정의(추가)하거나 부모의 기능을 재정의해서 사용할 수 있다.\n",
    "\n",
    "#### 7. 오버라이드(Override)\n",
    "\n",
    "자식(sub)클래스에서 부모(super)클래스에 정의된 메서드들을 자식클래스의 기능에 맞게 재정의하는 것을 오버라이드라고 한다.\n",
    "\n",
    "#### 8. 다형성(Polymorphism)\n",
    "\n",
    ">1. 상속관계내의 다른 클래스들의 인스턴스들이 동일 멤버함수를 호출하는 것에 대한 다르게 실행되도록 하는 기능\n",
    "2. 적은 코딩으로 다양한 인스턴스들에게 유사한 작업을 할 수 있도록 한다.\n",
    "3. 코드의 가독성을 높인다."
   ]
  },
  {
   "cell_type": "markdown",
   "metadata": {},
   "source": [
    "#### 1. 클래스와 메서드를 정의하는 방법\n",
    "<img src=\"./images/14.클래스_class_02.png\" width=\"500\" height=\"400\" />"
   ]
  },
  {
   "cell_type": "code",
   "execution_count": 4,
   "metadata": {},
   "outputs": [
    {
     "name": "stdout",
     "output_type": "stream",
     "text": [
      "['__class__', '__delattr__', '__dict__', '__dir__', '__doc__', '__eq__', '__format__', '__ge__', '__getattribute__', '__gt__', '__hash__', '__init__', '__init_subclass__', '__le__', '__lt__', '__module__', '__ne__', '__new__', '__reduce__', '__reduce_ex__', '__repr__', '__setattr__', '__sizeof__', '__str__', '__subclasshook__', '__weakref__', 'name', 'nation']\n",
      "\n",
      "['__class__', '__delattr__', '__dir__', '__doc__', '__eq__', '__format__', '__ge__', '__getattribute__', '__gt__', '__hash__', '__init__', '__init_subclass__', '__le__', '__lt__', '__ne__', '__new__', '__reduce__', '__reduce_ex__', '__repr__', '__setattr__', '__sizeof__', '__str__', '__subclasshook__']\n"
     ]
    }
   ],
   "source": [
    "# 1. 클래스를 정의하는 방법\n",
    "class Person:\n",
    "    # 속성(properties)정의 : 변수, 멤버변수, 인스턴스변수\n",
    "    name = '홍길동'\n",
    "    nation = '대한민국'\n",
    "    \n",
    "print(dir(Person))   \n",
    "print()\n",
    "\n",
    "print(dir(object))"
   ]
  },
  {
   "cell_type": "code",
   "execution_count": 9,
   "metadata": {},
   "outputs": [
    {
     "name": "stdout",
     "output_type": "stream",
     "text": [
      "['__class__', '__delattr__', '__dict__', '__dir__', '__doc__', '__eq__', '__format__', '__ge__', '__getattribute__', '__gt__', '__hash__', '__init__', '__init_subclass__', '__le__', '__lt__', '__module__', '__ne__', '__new__', '__reduce__', '__reduce_ex__', '__repr__', '__setattr__', '__sizeof__', '__str__', '__subclasshook__', '__weakref__', 'name', 'nation']\n",
      "<class '__main__.Person'>\n",
      "2191156128264\n",
      "2191156126280\n",
      "<class '__main__.Person'>\n"
     ]
    }
   ],
   "source": [
    "# 2. 객체를 만드는 방법\n",
    "# 클래스를 가지고 객체(인스턴스)를 생성\n",
    "# 문법 : 변수명 = 클래스명() -> 변수는 객체변수 or 참조변수라고도 한다.\n",
    "\n",
    "# Person() 생성자라고 하는데 실제로는 생성자메서드 __init__()를 호출\n",
    "person = Person()\n",
    "print(dir(person))\n",
    "print(type(person))\n",
    "\n",
    "# 참조변수이기 때문에 주소를 가지로 있다.\n",
    "print(id(person))\n",
    "\n",
    "person1 = Person()\n",
    "print(id(person1))\n",
    "print(type(person1))"
   ]
  },
  {
   "cell_type": "code",
   "execution_count": 12,
   "metadata": {},
   "outputs": [
    {
     "name": "stdout",
     "output_type": "stream",
     "text": [
      "홍길동\n",
      "대한민국\n"
     ]
    }
   ],
   "source": [
    "# 3. 객체의 속성(변수, 멤버변수, 인스턴스변수라고도 한다.)에 접근하는 방법\n",
    "# 문법 : 객체명.속성\n",
    "print(person.name)\n",
    "print(person.nation)"
   ]
  },
  {
   "cell_type": "code",
   "execution_count": 13,
   "metadata": {},
   "outputs": [
    {
     "name": "stdout",
     "output_type": "stream",
     "text": [
      "홍길동\n",
      "대한민국\n"
     ]
    }
   ],
   "source": [
    "class Person2():\n",
    "    name = '홍길동'\n",
    "    nation = '대한민국'\n",
    "    \n",
    "p2 = Person2()\n",
    "print(p2.name)\n",
    "print(p2.nation)"
   ]
  },
  {
   "cell_type": "code",
   "execution_count": 15,
   "metadata": {},
   "outputs": [
    {
     "name": "stdout",
     "output_type": "stream",
     "text": [
      "대한민국\n",
      "\n",
      "대한민국\n",
      "박지성\n"
     ]
    }
   ],
   "source": [
    "class Person3():\n",
    "    nation ='대한민국'\n",
    "    name = ''\n",
    "    \n",
    "p3 = Person3()\n",
    "print(p3.nation)\n",
    "print(p3.name)\n",
    "\n",
    "p3.name = '박지성'\n",
    "print(p3.nation)\n",
    "print(p3.name)"
   ]
  },
  {
   "cell_type": "code",
   "execution_count": 24,
   "metadata": {},
   "outputs": [
    {
     "name": "stdout",
     "output_type": "stream",
     "text": [
      "<class 'str'>\n",
      "<class 'int'>\n",
      "<class 'float'>\n",
      "대한민국 대한민국\n",
      " \n",
      "홍길동 박혁거세\n",
      "2191171873032\n",
      "2191171871432\n"
     ]
    }
   ],
   "source": [
    "# 4. 객체의 속성을 외부에서 정의하는 방법\n",
    "class Korean():\n",
    "    nation = '대한민국'\n",
    "    name = str()\n",
    "    age = int()\n",
    "    height = float()\n",
    "    weight = float()\n",
    "    \n",
    "print(type(Korean.name))\n",
    "print(type(Korean.age))\n",
    "print(type(Korean.height))\n",
    "\n",
    "hong = Korean()\n",
    "park = Korean()\n",
    "\n",
    "print(hong.nation, park.nation)\n",
    "print(hong.name, park.name)\n",
    "\n",
    "hong.name = '홍길동'\n",
    "park.name = '박혁거세'\n",
    "print(hong.name, park.name)\n",
    "\n",
    "print(id(hong))\n",
    "print(id(park))"
   ]
  },
  {
   "cell_type": "markdown",
   "metadata": {},
   "source": [
    "#### 2. 생성자로 정의한 클래스"
   ]
  },
  {
   "cell_type": "code",
   "execution_count": 28,
   "metadata": {},
   "outputs": [
    {
     "name": "stdout",
     "output_type": "stream",
     "text": [
      "생성자 메서드 호출...\n",
      "일반 메서드 호출...\n"
     ]
    }
   ],
   "source": [
    "class Korean():\n",
    "    \n",
    "    def __init__(self):\n",
    "        print(\"생성자 메서드 호출...\")\n",
    "        \n",
    "    def greeting(self):\n",
    "        print(\"일반 메서드 호출...\")\n",
    "    \n",
    "kor1 = Korean()\n",
    "kor1.greeting()"
   ]
  },
  {
   "cell_type": "code",
   "execution_count": 31,
   "metadata": {},
   "outputs": [
    {
     "name": "stdout",
     "output_type": "stream",
     "text": [
      "안녕하세요\n",
      "안녕하세요\n"
     ]
    }
   ],
   "source": [
    "class Korean():\n",
    "    \n",
    "    def __init__(self):\n",
    "        self.hello = \"안녕하세요\"       \n",
    "        \n",
    "    def greeting(self):\n",
    "        print(self.hello)\n",
    "        \n",
    "kor2 = Korean()\n",
    "kor2.greeting()  \n",
    "print(kor2.hello)"
   ]
  },
  {
   "cell_type": "code",
   "execution_count": 41,
   "metadata": {},
   "outputs": [],
   "source": [
    "# 메서드정의\n",
    "class Person():\n",
    "    nation = '대한민국'\n",
    "    name = str()\n",
    "    age = int()\n",
    "    height = float()\n",
    "    weight = float()\n",
    "    \n",
    "    def display(self):\n",
    "        print(\"국적=\", self.nation, end=', ')\n",
    "        print(\"이름=\", self.name, end=', ')\n",
    "        print(\"나이=\", self.age, end=', ')\n",
    "        print(\"신장=\", self.height, end=', ')\n",
    "        print(\"체중=\", self.weight)  \n",
    "        \n",
    "    def __str__(self):\n",
    "        print('toString 메서드 호출')"
   ]
  },
  {
   "cell_type": "code",
   "execution_count": 51,
   "metadata": {},
   "outputs": [
    {
     "name": "stdout",
     "output_type": "stream",
     "text": [
      "toString 메서드 호출\n",
      "국적= 대한민국, 이름= , 나이= 0, 신장= 0.0, 체중= 0.0\n",
      "국적= 대한민국, 이름= 홍길동, 나이= 41, 신장= 178.0, 체중= 65\n",
      "<class 'int'>\n",
      "국적= 대한민국, 이름= Adam, 나이= 10000, 신장= 160, 체중= 72.5 kg\n",
      "2191184328200\n",
      "2191184329736\n",
      "['__class__', '__delattr__', '__dict__', '__dir__', '__doc__', '__eq__', '__format__', '__ge__', '__getattribute__', '__gt__', '__hash__', '__init__', '__init_subclass__', '__le__', '__lt__', '__module__', '__ne__', '__new__', '__reduce__', '__reduce_ex__', '__repr__', '__setattr__', '__sizeof__', '__str__', '__subclasshook__', '__weakref__', 'age', 'display', 'height', 'name', 'nation', 'weight']\n",
      "\n",
      "['__class__', '__delattr__', '__dict__', '__dir__', '__doc__', '__eq__', '__format__', '__ge__', '__getattribute__', '__gt__', '__hash__', '__init__', '__init_subclass__', '__le__', '__lt__', '__module__', '__ne__', '__new__', '__reduce__', '__reduce_ex__', '__repr__', '__setattr__', '__sizeof__', '__str__', '__subclasshook__', '__weakref__', 'age', 'display', 'height', 'name', 'nation', 'weight']\n"
     ]
    }
   ],
   "source": [
    "person = Person()\n",
    "person.__str__()\n",
    "\n",
    "person.display()\n",
    "person.name = '홍길동'\n",
    "person.age = 41\n",
    "person.height = 178.0\n",
    "person.weight = 65\n",
    "person.display()\n",
    "print(type(person.weight))\n",
    "\n",
    "adam = Person()\n",
    "adam.name = 'Adam'\n",
    "adam.age = 10000\n",
    "adam.height = 160\n",
    "adam.weight = \"72.5 kg\"\n",
    "adam.display()\n",
    "\n",
    "print(id(person))\n",
    "print(id(adam))\n",
    "\n",
    "print(dir(person))\n",
    "print()\n",
    "print(dir(adam))"
   ]
  },
  {
   "cell_type": "markdown",
   "metadata": {},
   "source": [
    "#### 3. 생성자와 소멸자\n",
    "\n",
    "<img src=\"./images/14.클래스_class_03.png\" width=\"500\" height=\"300\">\n",
    "<img src=\"./images/14.클래스_class_04.png\" width=\"500\" height=\"300\">\n",
    "\n",
    "##### 1) 생성자(Constructor)\n",
    "\n",
    "파이썬에서 생성자 <code>\\__init__</code>는 개발자가 직접적으로 정의하지 않았아하더래도 기본적으로 컴파일과정에서 자동으로 생성된다. 이 메서드를 생성자메서드라고 한다.\n",
    "\n",
    "파이썬에서 생성자메서드는 모든 객체가 생성될 때 자동적으로 호출된다. 파이썬에서는 생성자의 중복을 허용하지 않는다. 즉, 생성자는 클래스내에 하나만 존재해야 한다. 중복정의 했더라도 에러는 발생하지는 않지만 통상적으로 맨 마지막에 정의된 생성자가 기본생성자로 간주된다.\n",
    "\n",
    "##### 2) 소멸자(Destructor)\n",
    "\n",
    "객체가 생성될 때 호출되는 생성자가 있다면, 반대로 객체가 소멸될 때 호출되는 소멸자가 있다. 생성자와 마찬가지로 파이썬에서는 소멸자메서드가 <code>\\__del__</code>라는 이름으로 사전에 정의가 되어 있다. 이 소멸자는 리소스의 해제등의 종료 작업을 하기 위해서 사용된다.\n"
   ]
  },
  {
   "cell_type": "code",
   "execution_count": 64,
   "metadata": {},
   "outputs": [
    {
     "name": "stdout",
     "output_type": "stream",
     "text": [
      "이름= 아담, 성별= 남자, 나이= 10000, 신장= 165.0, 체중= 58.0\n",
      "아담\n",
      "남자\n",
      "이름= 이브, 성별= 여자, 나이= 9999, 신장= 160, 체중= 45.5\n"
     ]
    }
   ],
   "source": [
    "# 1. 생성자 \n",
    "# 1) 기본생성자 및 중복생성자 테스트\n",
    "class Human():\n",
    "\n",
    "#     name = str()\n",
    "#     gender = str()\n",
    "#     age = int()\n",
    "#     height = float()\n",
    "#     weight = float()\n",
    "\n",
    "    # 생성자를 순서를 바꿔가면서 테스트하기\n",
    "    # 정의된 순성에 따라 에러가 발생하던지 안하던지를 확인\n",
    "    def __init__(self):\n",
    "        print(\"기본 생성자 호출\")    \n",
    "        \n",
    "    def __init__(self, name, gender, age, height, weight):\n",
    "        self.name = name\n",
    "        self.gender = gender\n",
    "        self.age = age\n",
    "        self.height = height\n",
    "        self.weight = weight    \n",
    "        \n",
    "    def __str__(self):\n",
    "        print(\"이름=\", self.name, end=\", \")\n",
    "        print(\"성별=\", self.gender, end=\", \")\n",
    "        print(\"나이=\", self.age, end=\", \")\n",
    "        print(\"신장=\", self.height, end=\", \")\n",
    "        print(\"체중=\", self.weight)\n",
    "        \n",
    "adam = Human('아담', '남자', 10000, 165.0, 58.0)\n",
    "adam.__str__()\n",
    "print(adam.name)\n",
    "print(adam.gender)\n",
    "\n",
    "eve = Human('이브', '여자', 9999, 160, 45.5)\n",
    "eve.__str__()"
   ]
  },
  {
   "cell_type": "code",
   "execution_count": 71,
   "metadata": {},
   "outputs": [
    {
     "name": "stdout",
     "output_type": "stream",
     "text": [
      "한국\n",
      "미국\n",
      "None\n",
      "40\n"
     ]
    }
   ],
   "source": [
    "# 2) 초기값을 가진 생성자\n",
    "class Korean():\n",
    "    \n",
    "    def __init__(self, nation=\"대한민국\", name=None, age=None, height=None, weight=None): \n",
    "        self.nation = nation\n",
    "        self.name = name\n",
    "        self.age = age\n",
    "        self.height = height\n",
    "        self.weight = weight\n",
    "         \n",
    "    def display(selr):\n",
    "        print(\"국적=\", self.nation, end=\", \")\n",
    "        print(\"이름=\", self.name, end=\", \")\n",
    "        print(\"나이=\", self.age, end=\", \")\n",
    "        print(\"신장=\", self.height, end=\", \")\n",
    "        print(\"체중=\", self.weight)        \n",
    "\n",
    "sonny = Korean('한국', '손흥민')\n",
    "print(sonny.nation)\n",
    "\n",
    "# 매개변수의 순서는 동일하게 전달할 것\n",
    "steve = Korean('미국', '스티브', None ,40)\n",
    "print(steve.nation)\n",
    "print(steve.age)\n",
    "print(steve.height)"
   ]
  },
  {
   "cell_type": "code",
   "execution_count": 77,
   "metadata": {},
   "outputs": [],
   "source": [
    "# 2. 소멸자\n",
    "class Calculator():\n",
    "\n",
    "#     def __init__(self): pass\n",
    "\n",
    "    def setData(self, a, b):\n",
    "        self.a = a\n",
    "        self.b = b\n",
    "        \n",
    "    def add(self): return self.a + self.b\n",
    "    def sub(self): return self.a - self.b\n",
    "    def mul(self): return self.a * self.b\n",
    "    def div(self): return self.a / self.b\n",
    "    \n",
    "    def __del__(self):\n",
    "        print(\"소멸자 메서드가 호출되었습니다!\")"
   ]
  },
  {
   "cell_type": "code",
   "execution_count": 83,
   "metadata": {},
   "outputs": [
    {
     "name": "stdout",
     "output_type": "stream",
     "text": [
      "30\n",
      "-10\n",
      "200\n",
      "0.5\n",
      "소멸자 메서드가 호출되었습니다!\n",
      "소멸자 메서드가 호출되었습니다!\n"
     ]
    }
   ],
   "source": [
    "cal = Calculator()\n",
    "cal.setData(10, 20)\n",
    "print(cal.add())\n",
    "print(cal.sub())\n",
    "print(cal.mul())\n",
    "print(cal.div())\n",
    "\n",
    "cal.__del__()\n",
    "del cal"
   ]
  },
  {
   "cell_type": "markdown",
   "metadata": {},
   "source": [
    "#### 4. static\n",
    "\n",
    "일반적으로 객체의 멤버(변수, 메서드)에 접근하려면 객체(인스턴스)가 생성된 후에 비로소 접근할 수가 있다. 하지만 인스턴스(객체)를 생성하지 않고도 클래스에서 직접 호출할 수 있도록 할 수가 있는 <code>static method</code>와 <code>class method</code>가 있다. \n",
    "\n",
    "파이썬에서는 기본적으로 모든 변수와 메서드에 접근할 수 있다. 하지만 캡슐화(은닉화)를 통해서 특정변수와 메서드에 접근할 수 있도록 제한할 수가 있지만 Java에서 처럼 완벽한 캡슐화하기는 어렵다.\n",
    "\n",
    "##### 1) static method\n",
    "\n",
    "정적메서드는 메서드 바로위에 @staticmethod라는 메타정보를 붙인다. 이때 주의할 점은 매개변수에 self를 정의하지 않는다.\n",
    ">class 클래스이름:<br>\n",
    "    @staticmethod<br>\n",
    "    def 메서드명(매개변수1....매개변수n):<br>\n",
    "        pass\n",
    "\n",
    "정적메서드는 self를 받지 않기 때문에 인스턴스에 접근할 수 없다. 그래 보통 정적메서드는 인스턴스속성과 인스턴스메서드가\n",
    "필요없을 때 사용한다.\n",
    "\n",
    "##### 2) class method\n",
    "\n",
    "정적메서드와 비슷하지만 약간의 차이점이 있다. 클래스메서드는 메서드 바로 위에 @classmethod라는 메터정보를 붙인다. 이 때 클래스메서드의 첫 번째 인자는 <code>cls</code>를 지정해야 한다.\n",
    "\n",
    ">class 클래스이름:<br>\n",
    "    @classmethod<br>\n",
    "    def 메서드명(cls):<br>\n",
    "        pass\n",
    "        \n",
    "##### 3) 데코레이터(@)\n",
    "\n",
    "파이썬은 데코레이터(decorator)라는 기능을 제공한다. 데코레이터는 장식하다, 꾸민다라는 뜻으로 @staticmethod와 같이 @로 시작하는 것들이 데코레이터이다. 즉, 함수(메서드)를 장식한다고 해서 이런 이름이 붙었다."
   ]
  },
  {
   "cell_type": "code",
   "execution_count": 96,
   "metadata": {},
   "outputs": [
    {
     "name": "stdout",
     "output_type": "stream",
     "text": [
      "더하기 메서드의 결과 =  30\n",
      "곱하기 메서드의 결과(2) =  200\n",
      "\n",
      "더하기 메서드의 결과 =  300\n"
     ]
    },
    {
     "ename": "TypeError",
     "evalue": "mul() missing 1 required positional argument: 'b'",
     "output_type": "error",
     "traceback": [
      "\u001b[1;31m---------------------------------------------------------------------------\u001b[0m",
      "\u001b[1;31mTypeError\u001b[0m                                 Traceback (most recent call last)",
      "\u001b[1;32m<ipython-input-96-56bbfc8311bf>\u001b[0m in \u001b[0;36m<module>\u001b[1;34m\u001b[0m\n\u001b[0;32m     20\u001b[0m \u001b[1;33m\u001b[0m\u001b[0m\n\u001b[0;32m     21\u001b[0m \u001b[0mCalc\u001b[0m\u001b[1;33m.\u001b[0m\u001b[0madd\u001b[0m\u001b[1;33m(\u001b[0m\u001b[1;36m100\u001b[0m\u001b[1;33m,\u001b[0m\u001b[1;36m200\u001b[0m\u001b[1;33m)\u001b[0m\u001b[1;33m\u001b[0m\u001b[1;33m\u001b[0m\u001b[0m\n\u001b[1;32m---> 22\u001b[1;33m \u001b[0mCalc\u001b[0m\u001b[1;33m.\u001b[0m\u001b[0mmul\u001b[0m\u001b[1;33m(\u001b[0m\u001b[1;36m100\u001b[0m\u001b[1;33m,\u001b[0m\u001b[1;36m200\u001b[0m\u001b[1;33m)\u001b[0m\u001b[1;33m\u001b[0m\u001b[1;33m\u001b[0m\u001b[0m\n\u001b[0m",
      "\u001b[1;31mTypeError\u001b[0m: mul() missing 1 required positional argument: 'b'"
     ]
    }
   ],
   "source": [
    "# 1. static \n",
    "# 1) static method\n",
    "# static메서드는 self가 없을 경우에 static method라고 하는데 명시적으로 선언할 경우에는\n",
    "# @staticmethod라는 데코레이터를 선언한다.\n",
    "# static메서드를 호출할 경우에는 \"클래스명.메서드()\" 형태로 호출한다.\n",
    "class Calc:\n",
    "    \n",
    "    @staticmethod\n",
    "    def add(a, b):\n",
    "        print(\"더하기 메서드의 결과 = \", a+b)\n",
    "\n",
    "    @staticmethod\n",
    "    def mul(a, b):\n",
    "        print(\"곱하기 메서드의 결과(1) = \", a*b)      \n",
    "        \n",
    "    def mul(self, a, b):\n",
    "        print(\"곱하기 메서드의 결과(2) = \", a*b)      \n",
    "\n",
    "        \n",
    "calc = Calc()\n",
    "calc.add(10,20)\n",
    "calc.mul(10,20) \n",
    "print()\n",
    "\n",
    "Calc.add(100,200)\n",
    "Calc.mul(100,200)"
   ]
  },
  {
   "cell_type": "code",
   "execution_count": 106,
   "metadata": {},
   "outputs": [
    {
     "name": "stdout",
     "output_type": "stream",
     "text": [
      "생성자메서드 호출\n",
      "일반메서드 호출\n",
      "대한민국\n",
      "소향\n",
      "static method 호출\n",
      "대한민국\n"
     ]
    },
    {
     "ename": "AttributeError",
     "evalue": "type object 'Person' has no attribute 'name'",
     "output_type": "error",
     "traceback": [
      "\u001b[1;31m---------------------------------------------------------------------------\u001b[0m",
      "\u001b[1;31mAttributeError\u001b[0m                            Traceback (most recent call last)",
      "\u001b[1;32m<ipython-input-106-0145ff89e8db>\u001b[0m in \u001b[0;36m<module>\u001b[1;34m\u001b[0m\n\u001b[0;32m     29\u001b[0m \u001b[0mPerson\u001b[0m\u001b[1;33m.\u001b[0m\u001b[0mtoString\u001b[0m\u001b[1;33m(\u001b[0m\u001b[1;33m)\u001b[0m\u001b[1;33m\u001b[0m\u001b[1;33m\u001b[0m\u001b[0m\n\u001b[0;32m     30\u001b[0m \u001b[0mprint\u001b[0m\u001b[1;33m(\u001b[0m\u001b[0mPerson\u001b[0m\u001b[1;33m.\u001b[0m\u001b[0mnation\u001b[0m\u001b[1;33m)\u001b[0m\u001b[1;33m\u001b[0m\u001b[1;33m\u001b[0m\u001b[0m\n\u001b[1;32m---> 31\u001b[1;33m \u001b[0mprint\u001b[0m\u001b[1;33m(\u001b[0m\u001b[0mPerson\u001b[0m\u001b[1;33m.\u001b[0m\u001b[0mname\u001b[0m\u001b[1;33m)\u001b[0m\u001b[1;33m\u001b[0m\u001b[1;33m\u001b[0m\u001b[0m\n\u001b[0m",
      "\u001b[1;31mAttributeError\u001b[0m: type object 'Person' has no attribute 'name'"
     ]
    }
   ],
   "source": [
    "# 2). static 변수 (클래스멤버)\n",
    "class Person:\n",
    "    \n",
    "    # static변수 즉, 클래스멤버이다.\n",
    "    nation = \"대한민국\"\n",
    "    \n",
    "    def __init__(self, name=None, age=None, addr=None):\n",
    "        \n",
    "        # 일반변수\n",
    "        self.name = name\n",
    "        self.age = age\n",
    "        self.addr = addr\n",
    "        print(\"생성자메서드 호출\")\n",
    "    \n",
    "    def display(self):\n",
    "        print(\"일반메서드 호출\")\n",
    "    \n",
    "    def toString():\n",
    "        print(\"static method 호출\")\n",
    "        # print(self.name) toString 정적메서드이기 때문에 self라는 키워드를 사용할 수 없다. 에러발생\n",
    "        # print(nation) # 에러가 발생\n",
    "        \n",
    "        \n",
    "per = Person(\"소향\")\n",
    "per.display()\n",
    "print(per.nation)\n",
    "print(per.name)\n",
    "\n",
    "# toString()은 static메서드이기 때문에 객체로는 접근할 수가 없다.\n",
    "# per.toString() # \n",
    "Person.toString()\n",
    "print(Person.nation)\n",
    "# print(Person.name) # 스태틱변수가 아니라 일반변수이기 때문에 클래스로 접근불가"
   ]
  },
  {
   "cell_type": "code",
   "execution_count": 116,
   "metadata": {},
   "outputs": [
    {
     "name": "stdout",
     "output_type": "stream",
     "text": [
      "2개의 Person1객체가 생성되었습니다\n"
     ]
    }
   ],
   "source": [
    "# 2. class method\n",
    "# 클래스 Person을 만들고 인스턴스가 몇개 만들어 졌늕디를 출력하는 메서드\n",
    "class Person1:\n",
    "    \n",
    "    count = 0 # 클래스멤버 즉, 속성\n",
    "    \n",
    "    def __init__(self):\n",
    "        Person1.count += 1 # 인스턴스가 만들어질 때, 스태틱변수인 count에 1씩 증가\n",
    "        \n",
    "    @classmethod\n",
    "    def print_count(cls): # cls에는 현재의 클래스가 전달이 된다.\n",
    "        print(\"{0}개의 Person1객체가 생성되었습니다\".format(cls.count)) # cls로 클래스속성에 접근\n",
    "\n",
    "adam = Person1()\n",
    "eve = Person1()\n",
    "\n",
    "Person1.print_count() # 2개의 인스턴스가 생성\n",
    "\n",
    "# 클래스메서드는 정적메서드처럼 인스턴스 생성없이 호출할 수 있다는 점에서는 같지만 클래스 메서드는 메서드안에서\n",
    "# 클래스의 속성(변수), 클래스메서드에 접근할 때 사용한다.\n",
    "# 특히 cls를 사용하면 메서드안에서 현재 클래스의 인스턴스를 만들 수도 있다. 즉, cls는 현재클래스이므로 Person1과\n",
    "# 같아\n",
    "\n",
    "class Person2:\n",
    "    \n",
    "    @classmethod\n",
    "    def create(cls):\n",
    "        p = cls() # cls()함수로 인스턴스를 생성, cls()는 __init__()과 동일하다.\n",
    "        return p\n",
    "    \n",
    "per = Person2.create()"
   ]
  },
  {
   "cell_type": "markdown",
   "metadata": {},
   "source": [
    "#### 5. 클래스상속(Inheritence)\n",
    "\n",
    "파이썬에서 상속이란 특정 클래스를 만들 때 해당 클래스의 속성(변수)과 기능(메서드)을 물려 받을 수 있도록 하는 기능이다. 부모클래스를 상속할 경우에는 부모의 생성자도 상속이 된다. 파이썬에서는 Java와는 다르게 다중상속이 가능하다.\n",
    "\n",
    "\n",
    "<img src=\"./images/14.클래스_class_05.png\" width=\"300\" height=\"200\">\n",
    "<center><b>클래스 상속</b></center>\n",
    "<img src=\"./images/14.클래스_class_06.png\" width=\"300\" height=\"200\">\n",
    "<center><b>클래스 상속과 메서드추가</b></center>\n",
    "\n",
    "##### 클래스의 상속방법\n",
    "><code>class 클래스명(부모클래스1, ... 부모클래스n):</code>\n",
    "\n",
    "##### Object\n",
    "\n",
    "파이썬에서 최상의 부모클래스는 Object클래스이다. 파이썬에서 생성되는 객체는 예외없이 모두 object클래스를 부모클래스로 상속을 받기 때문에 별다른 정의가 없어도 기본적으로 상속에 대한 별다른 정의가 없어도 된다."
   ]
  },
  {
   "cell_type": "code",
   "execution_count": 7,
   "metadata": {},
   "outputs": [],
   "source": [
    "class Calculator:\n",
    "    \n",
    "    def __init__(self, first=None, second=None):\n",
    "        self.first = 0 if first is None else first\n",
    "        self.second = 0 if second is None else second\n",
    "        \n",
    "    def add(self):\n",
    "        result = self.first + self.second\n",
    "        return result \n",
    "    \n",
    "    def sub(self):\n",
    "        result = self.first - self.second\n",
    "        return result \n",
    "    \n",
    "    def mul(self):\n",
    "        result = self.first * self.second\n",
    "        return result \n",
    "    \n",
    "    def div(self):\n",
    "        result = self.first / self.second\n",
    "        return result         "
   ]
  },
  {
   "cell_type": "markdown",
   "metadata": {},
   "source": [
    "###### 1) 상속"
   ]
  },
  {
   "cell_type": "code",
   "execution_count": 8,
   "metadata": {},
   "outputs": [
    {
     "name": "stdout",
     "output_type": "stream",
     "text": [
      "7\n",
      "-1\n",
      "12\n",
      "0.75\n"
     ]
    }
   ],
   "source": [
    "cal = Calculator(3,4)\n",
    "print(cal.add())\n",
    "print(cal.sub())\n",
    "print(cal.mul())\n",
    "print(cal.div())"
   ]
  },
  {
   "cell_type": "code",
   "execution_count": 9,
   "metadata": {},
   "outputs": [],
   "source": [
    "# 제곱근을 계산하는 계산기\n",
    "# 1. 상속 : 메서드만 추가\n",
    "class Calculator1(Calculator):\n",
    "    \n",
    "    def pow(self):\n",
    "        result = self.first ** self.second\n",
    "        return result               "
   ]
  },
  {
   "cell_type": "code",
   "execution_count": 12,
   "metadata": {},
   "outputs": [
    {
     "name": "stdout",
     "output_type": "stream",
     "text": [
      "7\n",
      "-1\n",
      "12\n",
      "0.75\n",
      "81\n"
     ]
    }
   ],
   "source": [
    "cal1 = Calculator1(3,4)\n",
    "\n",
    "# 부모메서드가 호출\n",
    "print(cal1.add())\n",
    "print(cal1.sub())\n",
    "print(cal1.mul())\n",
    "print(cal1.div())\n",
    "\n",
    "# 자식메서드가 호출\n",
    "print(cal1.pow())"
   ]
  },
  {
   "cell_type": "markdown",
   "metadata": {},
   "source": [
    "###### 2) 메서드오버라이드"
   ]
  },
  {
   "cell_type": "code",
   "execution_count": 25,
   "metadata": {},
   "outputs": [
    {
     "name": "stdout",
     "output_type": "stream",
     "text": [
      "분모에 0이 올 수 없습니다!\n",
      "0\n"
     ]
    },
    {
     "ename": "AttributeError",
     "evalue": "'Calculator2' object has no attribute 'pow'",
     "output_type": "error",
     "traceback": [
      "\u001b[1;31m---------------------------------------------------------------------------\u001b[0m",
      "\u001b[1;31mAttributeError\u001b[0m                            Traceback (most recent call last)",
      "\u001b[1;32m<ipython-input-25-82120f85f6ff>\u001b[0m in \u001b[0;36m<module>\u001b[1;34m\u001b[0m\n\u001b[0;32m     20\u001b[0m \u001b[0mcal2\u001b[0m \u001b[1;33m=\u001b[0m \u001b[0mCalculator2\u001b[0m\u001b[1;33m(\u001b[0m\u001b[1;36m4\u001b[0m\u001b[1;33m)\u001b[0m\u001b[1;33m\u001b[0m\u001b[1;33m\u001b[0m\u001b[0m\n\u001b[0;32m     21\u001b[0m \u001b[0mprint\u001b[0m\u001b[1;33m(\u001b[0m\u001b[0mcal2\u001b[0m\u001b[1;33m.\u001b[0m\u001b[0mdiv\u001b[0m\u001b[1;33m(\u001b[0m\u001b[1;33m)\u001b[0m\u001b[1;33m)\u001b[0m \u001b[1;31m# 자식메서드가 호출\u001b[0m\u001b[1;33m\u001b[0m\u001b[1;33m\u001b[0m\u001b[0m\n\u001b[1;32m---> 22\u001b[1;33m \u001b[0mprint\u001b[0m\u001b[1;33m(\u001b[0m\u001b[0mcal2\u001b[0m\u001b[1;33m.\u001b[0m\u001b[0mpow\u001b[0m\u001b[1;33m(\u001b[0m\u001b[1;33m)\u001b[0m\u001b[1;33m)\u001b[0m\u001b[1;33m\u001b[0m\u001b[1;33m\u001b[0m\u001b[0m\n\u001b[0m",
      "\u001b[1;31mAttributeError\u001b[0m: 'Calculator2' object has no attribute 'pow'"
     ]
    }
   ],
   "source": [
    "# 2. 상속 : 부모메서드를 재정의(메서드오버라이드)\n",
    "# 오버라이드란? 부모의 메서드를 재정의하는 것을 말한다. 하지만 파이썬에서 오버로딩은 지원하지 않는다.\n",
    "class Calculator2(Calculator):\n",
    "    \n",
    "    # 분모가 0일 경우를 방지하는 기능을 추가한 메서드\n",
    "    def div(self):\n",
    "        if self.second == 0:\n",
    "            print(\"분모에 0이 올 수 없습니다!\")\n",
    "            return 0\n",
    "        else:\n",
    "            return self.first / self.second\n",
    "        \n",
    "#     def add(self, name=None, age=None, addr=None):\n",
    "#         pass     \n",
    "        \n",
    "#     def pow(self):\n",
    "#         result = self.first ** self.second\n",
    "#         return result           \n",
    "\n",
    "cal2 = Calculator2(4)\n",
    "print(cal2.div()) # 자식메서드가 호출\n",
    "print(cal2.pow())"
   ]
  },
  {
   "cell_type": "markdown",
   "metadata": {},
   "source": [
    "###### 3) 다중상속"
   ]
  },
  {
   "cell_type": "code",
   "execution_count": 23,
   "metadata": {},
   "outputs": [
    {
     "name": "stdout",
     "output_type": "stream",
     "text": [
      "분모에 0이 올 수 없습니다!\n",
      "0\n",
      "1\n"
     ]
    }
   ],
   "source": [
    "# 3. 상속 : 다중상속\n",
    "class Calculator3(Calculator1, Calculator2):\n",
    "    pass\n",
    "\n",
    "cal3 = Calculator3(4)\n",
    "print(cal3.div())\n",
    "print(cal3.pow())"
   ]
  },
  {
   "cell_type": "markdown",
   "metadata": {},
   "source": [
    "###### 4) 상속관계와 포함관계"
   ]
  },
  {
   "cell_type": "code",
   "execution_count": 28,
   "metadata": {},
   "outputs": [],
   "source": [
    "# 1. 상속관계\n",
    "class Person:\n",
    "    def greeting(self):\n",
    "        print(\"안녕하세요!\")\n",
    "        \n",
    "class Student(Person):\n",
    "    def study(self):\n",
    "        print(\"공부를 합니다!\")\n",
    "        \n",
    "# 학생 Student는 사람 Person이기 때문에 같은 종류이다. \n",
    "# 이와 같이 상속든 명확하게 같은 종류이며 동등한 관계일 때 사용한다.\n",
    "# 즉, \"학생은 사람이다\"라고 했을 경우에 동등한 관계이다.\n",
    "# 그래서 상속관계를 영어로 \"is-a관계\"라고 한다(Student is a Person.)"
   ]
  },
  {
   "cell_type": "code",
   "execution_count": 27,
   "metadata": {},
   "outputs": [],
   "source": [
    "# 2. 포함관계\n",
    "# 하지만, 학생클래스가 아니라 사람목록을 관리하는 클래스를 만들경우에는\n",
    "# 별도의 변수(예를 들어서 list자료형)에 Person인스턴스를 관리하면 된다.\n",
    "class Person:\n",
    "    def greeting(self):\n",
    "        print(\"안녕하세요!\")\n",
    "        \n",
    "class PersonList:\n",
    "    def __init(self):\n",
    "        self.person_list = [] # 이 리스트속성에 Person인스턴스를 저장해서 관리\n",
    "    \n",
    "    def append_person(self, person): # 리스트속성에 Person인스턴스를 저장하는 함수\n",
    "        self.person_list.append(person)\n",
    "        \n",
    "# 포함관계는 상속을 사용하지 않고 속성에 인스턴스를 넣어서 관리하기 때문에\n",
    "# PersonList가 Person을 포함하고 있기 때문에 PersonList와 Person은 동등관계가\n",
    "# 아니라 포함관계이다. 즉, \"PersonList는 Person을 가지고 있다.\"라고 말할 수 \n",
    "# 있기 때문에 이런 포함관계를 영어로 \"has-a\"관계라고 한다.(PersonList has a Person)\n",
    "\n",
    "# 결론은 같은 종류에 동등한 관계일 때는 상속을 사용하고, 그 이외에는 인스턴스를\n",
    "# 넣는 포함방식을 사용하면 된다."
   ]
  },
  {
   "cell_type": "markdown",
   "metadata": {},
   "source": [
    "###### 5) 부모클래스의 속성사용"
   ]
  },
  {
   "cell_type": "code",
   "execution_count": 34,
   "metadata": {},
   "outputs": [
    {
     "name": "stdout",
     "output_type": "stream",
     "text": [
      "Student 생성자 호출\n",
      "홍길동\n",
      "Hello\n"
     ]
    }
   ],
   "source": [
    "# 1. 부모클래스의 인스턴스속성 사용\n",
    "class Person:\n",
    "    \n",
    "    # hello = \"Hello\" # 주석을 toggle해서 테스트할 것\n",
    "    \n",
    "    def __init__(self):\n",
    "        print('Person 생성자 호출')\n",
    "        self.hello = \"안녕하세요!\"\n",
    "\n",
    "\n",
    "class Student(Person):\n",
    "    \n",
    "    def __init__(self):\n",
    "        print('Student 생성자 호출')\n",
    "        self.name = \"홍길동\"\n",
    "        \n",
    "\n",
    "student = Student()\n",
    "print(student.name)\n",
    "print(student.hello)  # Student' object has no attribute 'hello 에러 발생\n",
    "# 에러가 발생되는 이유는 hello는 객체변수이기 때문에 즉, Person만에서만 사용되는 변수이기 때문이다.\n",
    "# 부모클래스인 Person의 __init__가 호출이 되지 않고 Student.__init__()만 호출이 되었기 때문이다."
   ]
  },
  {
   "cell_type": "code",
   "execution_count": 35,
   "metadata": {},
   "outputs": [
    {
     "name": "stdout",
     "output_type": "stream",
     "text": [
      "Student 생성자 호출\n",
      "Person 생성자 호출\n",
      "홍길동\n",
      "안녕하세요!\n"
     ]
    }
   ],
   "source": [
    "# 2. super()메서드로 부모클래스 초기화하기\n",
    "class Person:\n",
    "    \n",
    "    def __init__(self):\n",
    "        print('Person 생성자 호출')\n",
    "        self.hello = \"안녕하세요!\"\n",
    "\n",
    "\n",
    "class Student(Person):\n",
    "    \n",
    "    def __init__(self):\n",
    "        print('Student 생성자 호출')\n",
    "        super().__init__() # super()메서드로 부모생성자를 호출\n",
    "        self.name = \"홍길동\"\n",
    "        \n",
    "student = Student()\n",
    "print(student.name)\n",
    "print(student.hello)        "
   ]
  },
  {
   "cell_type": "markdown",
   "metadata": {},
   "source": [
    "<center><b>부모클래의 속성을 찾는 과정</b></center>\n",
    "<img src=\"./images/14.클래스_class_07.png\" width=\"400\", height=\"350\" />"
   ]
  },
  {
   "cell_type": "code",
   "execution_count": 37,
   "metadata": {},
   "outputs": [
    {
     "name": "stdout",
     "output_type": "stream",
     "text": [
      "Person 생성자 호출\n",
      "안녕하세요!\n"
     ]
    }
   ],
   "source": [
    "# 3. 부모클래스를 초기화하지 않아도 되는 경우\n",
    "# 만약에 자식클래스에 __init__()메서드가 생략되었다면 자동으로 부모클래스의 생성자가 \n",
    "# 호출되기 때문에 super()메서드는 사용하지 않아도 된다.\n",
    "class Person:\n",
    "    \n",
    "    def __init__(self):\n",
    "        print('Person 생성자 호출')\n",
    "        self.hello = \"안녕하세요!\"\n",
    "        \n",
    "class Student(Person):    \n",
    "    pass\n",
    "\n",
    "student = Student()\n",
    "print(student.hello)   "
   ]
  },
  {
   "cell_type": "code",
   "execution_count": 39,
   "metadata": {},
   "outputs": [
    {
     "name": "stdout",
     "output_type": "stream",
     "text": [
      "Student생성자 호출\n",
      "Person 생성자 호출\n",
      "안녕하세요!\n",
      "소향\n"
     ]
    }
   ],
   "source": [
    "# 4. 명확하게 super()사용하기\n",
    "# super(자식클래스, self)와 같이 super는 자식클래스와 self를 전달해서 현재클래스가\n",
    "# 어떤 클래스인지를 명확하게 표시하는 방법도 있다.\n",
    "\n",
    "class Student(Person):\n",
    "    def __init__(self):\n",
    "        print(\"Student생성자 호출\")\n",
    "        super(Student, self).__init__() # 부모클래스의 생성자호출\n",
    "        self.name = \"소향\"\n",
    "\n",
    "student = Student()\n",
    "print(student.hello)    \n",
    "print(student.name)"
   ]
  },
  {
   "cell_type": "markdown",
   "metadata": {},
   "source": [
    "###### 6) 다중상속\n",
    "\n",
    ">class 자식클래스(부모클래스1, 부모클래스2):\n",
    "\n",
    "<center><b>다중상속</b></center>\n",
    "<img src=\"./images/14.클래스_class_08.png\" width=\"400\", height=\"350\" />\n",
    "\n",
    "<center><b>다이아몬드상속</b></center>\n",
    "<img src=\"./images/14.클래스_class_09.png\" width=\"400\", height=\"350\" />"
   ]
  },
  {
   "cell_type": "code",
   "execution_count": 40,
   "metadata": {},
   "outputs": [
    {
     "name": "stdout",
     "output_type": "stream",
     "text": [
      "통화기능\n",
      "촬영기능\n",
      "영상통화기능\n"
     ]
    }
   ],
   "source": [
    "# 1. 다중상속 : 핸드폰\n",
    "# 통화 > 카메라 > 영상통화\n",
    "\n",
    "class Phone:\n",
    "    def call(self):\n",
    "        print(\"통화기능\")\n",
    "\n",
    "class Camera:\n",
    "    def photo(self):\n",
    "        print(\"촬영기능\")\n",
    "        \n",
    "class CameraPhone(Phone, Camera):\n",
    "    def photo_call(self):\n",
    "        print(\"영상통화기능\")\n",
    "    \n",
    "phone = CameraPhone()\n",
    "phone.call()\n",
    "phone.photo()\n",
    "phone.photo_call()"
   ]
  },
  {
   "cell_type": "code",
   "execution_count": 45,
   "metadata": {},
   "outputs": [
    {
     "name": "stdout",
     "output_type": "stream",
     "text": [
      "안녕하세요? B입니다!\n"
     ]
    }
   ],
   "source": [
    "# 2. 다이아몬드 상속\n",
    "class A:\n",
    "    def greeting(self):\n",
    "        print(\"안녕하세요? A입니다!\")\n",
    "        \n",
    "class B(A):\n",
    "    def greeting(self):\n",
    "        print(\"안녕하세요? B입니다!\")\n",
    "\n",
    "class C(A):\n",
    "    def greeting(self):\n",
    "        print(\"안녕하세요? C입니다!\")\n",
    "        \n",
    "class D(B, C):\n",
    "    pass\n",
    "        \n",
    "x = D()\n",
    "x.greeting()\n",
    "        \n",
    "# 상기와 같이 클래스간에 다이아몬드처럼 생겨서 객체지향프로그래밍에서는 이런 상속관계를 다이아드상속이라고 한다. \n",
    "# D에서는 B, C에서 상속받은 A를 상속받을 때 B의 A인지 C의 A를 상속받을지가 명확하지가 않다. \n",
    "# 프로그램에서 어떤 때는 C의 A를, B의 A를 상속받을지 모호하다면 사람의 생명등을 다루는 프로그램에서는 심각한\n",
    "# 문제가 발생할 수 있다. 이런문제를 해결하기 위해서는 파이썬에서는 \"메서드탐색순서\"를 정의하고 있다."
   ]
  },
  {
   "cell_type": "code",
   "execution_count": 47,
   "metadata": {},
   "outputs": [
    {
     "name": "stdout",
     "output_type": "stream",
     "text": [
      "[<class '__main__.D'>, <class '__main__.B'>, <class '__main__.C'>, <class '__main__.A'>, <class 'object'>]\n",
      "[<class 'int'>, <class 'object'>]\n"
     ]
    }
   ],
   "source": [
    "# 3. 다이아몬드 상속의 문제해결\n",
    "# 파이썬에서는 다이어몬드 상속에 대한 해결책을 제시하고 있는데 파이썬에서는\n",
    "# \"메서드탐색순서(Method Resolution Order, MRO)\"를 준수한다.\n",
    "# MRO를 확인하기 위해서는 \"클래스.mro()\"함수를 이용하면 탐색순서를 확인 할 수 있다.\n",
    "\n",
    "print(D.mro())\n",
    "print(int.mro())"
   ]
  },
  {
   "cell_type": "markdown",
   "metadata": {},
   "source": [
    "###### 7) 추상클래스\n",
    "\n",
    "파이썬에서는 추상클래스(abstract class)라는 기능을 제공한다. 추상클래스는 메서드의 목록만 가진 즉, 실행문이 없는 메서드의 이름만 가진 클래스이며 상속받는 클래스에서 메서드의 구현을 강제화하기 위해 사용한다.\n",
    "\n",
    "먼저 추상클래스를 만들려면 <code>import abc</code>처럼 <code>abc(Abstract Base Class)</code>모듈을 가져와야 한다. 그리고 클래스의 소괄호()안에 <code>metaclass=ABCMeta</code>를 지정하고 메서드 위에 <code>@abstractmethod</code>를 붙여서 추상메서드로 지정한다.\n",
    "\n",
    ">from abc import *<br>\n",
    "class 추상클래스명(metaclass=ABCMeta)<br>\n",
    "    @abstractmethod<br>\n",
    "    def 메서드이름(self):<br>\n",
    "        실행코드"
   ]
  },
  {
   "cell_type": "code",
   "execution_count": 56,
   "metadata": {},
   "outputs": [],
   "source": [
    "# 추상클래스 만들기\n",
    "from abc import *\n",
    "\n",
    "class StudengAbstract(metaclass=ABCMeta):\n",
    "    @abstractmethod # 추상메서드로 정의하면 구현하는 클래스에서는 일반메서드로 간주된다.\n",
    "    def study(self): pass\n",
    "    @abstractmethod\n",
    "    def goto_school(self): pass   \n",
    "    \n",
    "    \n",
    "class Student(StudengAbstract):\n",
    "#     pass # 주석토글 테스트\n",
    "    def study(self):\n",
    "        print('공부하기')\n",
    "        \n",
    "    def goto_school(self):\n",
    "        print('학교가기')\n",
    "        \n",
    "student = Student()\n",
    "student.study()\n",
    "student.goto_school()\n",
    "\n",
    "# 추상메서드를 빈메서드로 만드는 이유\n",
    "# 추상클래스는 객체(인스턴스)를 만들수가 없다.\n",
    "# 따라서 추상클래스는 인스턴스로 만들 때 사용하지 않고 오직 상속에서만 사용된다.\n",
    "# 구현클래스 즉, 자식클래스에서는 추상메서드로 정의된 메서드는 반드시 수현을 해야 한다."
   ]
  },
  {
   "cell_type": "markdown",
   "metadata": {},
   "source": [
    "#### 6. 클래스변수\n",
    "\n",
    "파이썬에서 클래스변수는 클래스에 의해 생성된 모든 인스턴스(객체)에서 공유된다는 특징이 있다."
   ]
  },
  {
   "cell_type": "code",
   "execution_count": 59,
   "metadata": {},
   "outputs": [
    {
     "name": "stdout",
     "output_type": "stream",
     "text": [
      "홍\n",
      "홍\n"
     ]
    }
   ],
   "source": [
    "class Family:\n",
    "    last_name = \"홍\"\n",
    "    first_name = \"\"\n",
    "    \n",
    "f1 = Family()\n",
    "f2 = Family()\n",
    "print(f1.last_name)\n",
    "print(f2.last_name)"
   ]
  },
  {
   "cell_type": "code",
   "execution_count": null,
   "metadata": {},
   "outputs": [],
   "source": [
    "Family.last_name = \"HONG\"\n",
    "print(f1.last_name)\n",
    "print(f2.last_name)"
   ]
  },
  {
   "cell_type": "code",
   "execution_count": 61,
   "metadata": {},
   "outputs": [
    {
     "name": "stdout",
     "output_type": "stream",
     "text": [
      "2592825617712\n",
      "2592825617712\n",
      "2592825617712\n"
     ]
    }
   ],
   "source": [
    "# id()함수 : 파이썬의 내장함수로서 객체의 주소를 리턴해 주는 함수\n",
    "print(id(Family.last_name))\n",
    "print(id(f1.last_name))\n",
    "print(id(f2.last_name))"
   ]
  },
  {
   "cell_type": "code",
   "execution_count": 63,
   "metadata": {},
   "outputs": [
    {
     "name": "stdout",
     "output_type": "stream",
     "text": [
      "HONG\n",
      "트럼프\n",
      "2592825617712\n",
      "2592825617712\n",
      "2592822351600\n"
     ]
    }
   ],
   "source": [
    "f2.last_name = \"트럼프\"\n",
    "print(f1.last_name)\n",
    "print(f2.last_name)\n",
    "print(id(Family.last_name))\n",
    "print(id(f1.last_name))\n",
    "print(id(f2.last_name))"
   ]
  },
  {
   "cell_type": "markdown",
   "metadata": {},
   "source": [
    "###### 클래스속성(변수)\n",
    "\n",
    "클래스의 속성에는 클래스속성과 인스턴스(객체)속성 두가지 종류가 있다. 생성자에 정의된 속성은 인스턴스속성이고 class에서 정의된 속성은 클래스속성이라 한다.\n",
    "\n",
    "<img src=\"./images/14.클래스_class_10.png\" width=\"400\" height=\"400\" />"
   ]
  },
  {
   "cell_type": "code",
   "execution_count": 65,
   "metadata": {},
   "outputs": [
    {
     "name": "stdout",
     "output_type": "stream",
     "text": [
      "['책', '핸드폰']\n",
      "['책', '핸드폰']\n"
     ]
    }
   ],
   "source": [
    "# 1. 클래스속성 사용하기\n",
    "class Person:\n",
    "    \n",
    "    bag = []  # 클래스변수(속성)\n",
    "    \n",
    "    def put_bag(self, stuff):\n",
    "        self.bag.append(stuff)\n",
    "        \n",
    "\n",
    "adam = Person()\n",
    "adam.put_bag(\"책\")\n",
    "\n",
    "eve = Person()\n",
    "eve.put_bag(\"핸드폰\")\n",
    "\n",
    "print(adam.bag)\n",
    "print(eve.bag)\n",
    "\n",
    "# 결과\n",
    "# 클래스변수는 모든 인스턴스(객체)에서 공유가 되기 때문이다."
   ]
  },
  {
   "cell_type": "code",
   "execution_count": 73,
   "metadata": {},
   "outputs": [
    {
     "name": "stdout",
     "output_type": "stream",
     "text": [
      "adam'bag = ['책', '핸드폰']\n",
      "eve'bag = ['책', '핸드폰']\n"
     ]
    }
   ],
   "source": [
    "# 1. 클래스속성 사용하기\n",
    "class Person:\n",
    "    \n",
    "    bag = []  # 클래스변수(속성)\n",
    "    \n",
    "    def put_bag(self, stuff, name):\n",
    "        Person.bag.append(stuff)\n",
    "        self.name = name\n",
    "        \n",
    "adam = Person()\n",
    "adam.put_bag(\"책\", '아담')\n",
    "\n",
    "eve = Person()\n",
    "eve.put_bag(\"핸드폰\", '이브')\n",
    "\n",
    "print(\"adam'bag =\", adam.bag)\n",
    "print(\"eve'bag =\", eve.bag)  \n",
    "\n",
    "# 속성과 메서드 이름을 찾는 순서\n",
    "# 파이썬에서는 속성, 메서드를 찾을 때 인스턴스, 클래스순으로 찾는다. 그래서 인스턴스속성이 없으면 클래스속성을\n",
    "# 찾기 때문에 adma.bag, eve.bag을 해도 문제없이 동작된다. \n",
    "# 일견보기에는 인스턴스속성을 찾는 거 같지만 실제로는 클래스 속성을 찾는다."
   ]
  },
  {
   "cell_type": "code",
   "execution_count": 77,
   "metadata": {},
   "outputs": [
    {
     "name": "stdout",
     "output_type": "stream",
     "text": [
      "{'name': '아담'}\n",
      "\n",
      "{'__module__': '__main__', 'bag': ['책', '핸드폰'], 'put_bag': <function Person.put_bag at 0x0000025BB0841798>, '__dict__': <attribute '__dict__' of 'Person' objects>, '__weakref__': <attribute '__weakref__' of 'Person' objects>, '__doc__': None}\n"
     ]
    }
   ],
   "source": [
    "# __dict__: 인스턴스속성 또는 클래스속성인지를 dictionary형태로 출력해주는 함수\n",
    "# 클래스.__dict__ 또는 인스턴스.__dict__ 확인할 수 있다.\n",
    "print(adam.__dict__)\n",
    "print()\n",
    "print(Person.__dict__)"
   ]
  },
  {
   "cell_type": "markdown",
   "metadata": {},
   "source": [
    "###### 클래스속성을 찾는 순서\n",
    "<img src=\"./images/14.클래스_class_11.png\" width=\"400\" height=\"400\" />"
   ]
  },
  {
   "cell_type": "code",
   "execution_count": 79,
   "metadata": {},
   "outputs": [
    {
     "name": "stdout",
     "output_type": "stream",
     "text": [
      "james'bag = ['책']\n",
      "maria'bag = ['핸드폰']\n"
     ]
    }
   ],
   "source": [
    "# 2. 인스턴스속성 사용하기\n",
    "# bag속성을 여러사람이 공유하지 않으려면 클래스속성이 아니라 인스턴스속성으로 정의해야 한다.\n",
    "class Person:\n",
    "\n",
    "    def __init__(self):\n",
    "        self.bag = []\n",
    "        \n",
    "    def put_bag(self, stuff):\n",
    "        self.bag.append(stuff)\n",
    "        \n",
    "james = Person()\n",
    "james.put_bag(\"책\")\n",
    "\n",
    "maria = Person()\n",
    "maria.put_bag(\"핸드폰\")\n",
    "\n",
    "print(\"james'bag =\", james.bag)\n",
    "print(\"maria'bag =\", maria.bag)  "
   ]
  },
  {
   "cell_type": "code",
   "execution_count": 102,
   "metadata": {},
   "outputs": [
    {
     "name": "stdout",
     "output_type": "stream",
     "text": [
      "대한민국\n",
      "Korea\n",
      "Repbulic of Korea\n",
      "Repbulic of Korea\n",
      "\n",
      "['_Korean__country', '__class__', '__country__', '__delattr__', '__dict__', '__dir__', '__doc__', '__eq__', '__format__', '__ge__', '__getattribute__', '__gt__', '__hash__', '__init__', '__init_subclass__', '__le__', '__lt__', '__module__', '__ne__', '__new__', '__reduce__', '__reduce_ex__', '__repr__', '__setattr__', '__sizeof__', '__str__', '__subclasshook__', '__weakref__', 'country', 'getCountry']\n",
      "['_Korean__country', '__class__', '__country', '__country__', '__delattr__', '__dict__', '__dir__', '__doc__', '__eq__', '__format__', '__ge__', '__getattribute__', '__gt__', '__hash__', '__init__', '__init_subclass__', '__le__', '__lt__', '__module__', '__ne__', '__new__', '__reduce__', '__reduce_ex__', '__repr__', '__setattr__', '__sizeof__', '__str__', '__subclasshook__', '__weakref__', 'country', 'getCountry']\n"
     ]
    }
   ],
   "source": [
    "# 3. 비공개 클래스속성 사용하기(캡슐화 or 은닉화)\n",
    "# 클래스속성도 인스턴스속성처럼 비공개속성으로 만들 수가 있다. 클래스속성을 만들 때 \"__속성\"과 같이\n",
    "# 속성명을 언더바 두개로 시작하면 비공개속성이 된다. 따라서 비공개속성은 클래스안에서만 접근할 수 \n",
    "# 있고 클래스 바깥에서는 접근할 수가 없다.\n",
    "\n",
    "# 파이썬에선 Java와 같이 완벽한 비공개 즉, 캡슐화(은닉화)는 어렵다. 캡슐화는 \"__속성__\"처럼 언더바2개로\n",
    "# 시작하고 언더바 2개로 끝나는 변수는 캡슐화와 상관이 없다. 즉 \"__속성\"는 비공개속성이고 \"__속성__\"은\n",
    "# 공개 속성이다.\n",
    "\n",
    "class Korean:\n",
    "    country = \"대한민국\"\n",
    "    __country = \"Repbulic of Korea\"\n",
    "    __country__ = \"Korea\"\n",
    "    \n",
    "    def getCountry(self):\n",
    "        return Korean.__country\n",
    "    \n",
    "kor = Korean()\n",
    "print(kor.country)\n",
    "print(kor.__country__)\n",
    "# print(kor.__country) # 에러 : 'Korean' object has no attribute '__country' 비공개속성\n",
    "# print(Korean.__country) # 에러(속성이 없다) type object 'Korean' has no attribute '__country'\n",
    "\n",
    "print(kor.getCountry())\n",
    "Korean.__country = \"미국\" # Korean._Korean__country와 비교할 것\n",
    "print(kor.getCountry())   # ???\n",
    "print()\n",
    "\n",
    "print(dir(Korean))\n",
    "print(dir(kor))\n",
    "\n",
    "# 언더바 2개를 붙여서 선언한 변수의 이름은 내부적으로 \"_클래스명__변수명\"으로 이름이 변경된다.\n",
    "# 확인하는 방법은 dir()함수로 확인할 수 있다."
   ]
  },
  {
   "cell_type": "code",
   "execution_count": 103,
   "metadata": {},
   "outputs": [
    {
     "name": "stdout",
     "output_type": "stream",
     "text": [
      "Repbulic of Korea\n",
      "미국\n"
     ]
    }
   ],
   "source": [
    "# 캡슐화(은닉화, 비공개)된 변수는 직접 접근할 수 없고 getter, setter를 통해서 접근, 수정할 수 있다.\n",
    "class Korean:\n",
    "    country = \"대한민국\"\n",
    "    __country = \"Repbulic of Korea\"\n",
    "    __country__ = \"Korea\"\n",
    "    \n",
    "    def getCountry(self):\n",
    "        return self.__country\n",
    "    \n",
    "    def setCountry(self, nation):\n",
    "        self.__country = nation\n",
    "        \n",
    "kor1 = Korean()\n",
    "print(kor1.getCountry())\n",
    "kor1.setCountry(\"미국\")\n",
    "print(kor1.getCountry())"
   ]
  },
  {
   "cell_type": "code",
   "execution_count": 108,
   "metadata": {},
   "outputs": [
    {
     "name": "stdout",
     "output_type": "stream",
     "text": [
      "중국\n",
      "중국\n",
      "중국\n"
     ]
    }
   ],
   "source": [
    "# 완벽한 캡슐화 되지 않는다는 의미는 비공개속성변수는 \"클래스명._클래스명__변수명\"으로\n",
    "# 접근 또는 수정할 수 있기 때문이다.\n",
    "print(Korean._Korean__country)\n",
    "Korean._Korean__country = \"중국\"\n",
    "print(Korean._Korean__country)\n",
    "\n",
    "kor2 = Korean()\n",
    "print(kor2.getCountry())"
   ]
  },
  {
   "cell_type": "markdown",
   "metadata": {},
   "source": [
    "##### 7. 다형성\n",
    "\n",
    "부모클래스로부터 상속받은 메서드들을 자식 클래스에서 재정(오버라이딩)하는 것을 말한다."
   ]
  },
  {
   "cell_type": "code",
   "execution_count": 110,
   "metadata": {},
   "outputs": [
    {
     "name": "stdout",
     "output_type": "stream",
     "text": [
      "통화기능\n",
      "폴더:통화기능\n",
      "통화+촬영기능\n",
      "통화+촬영+인터넷 기능\n"
     ]
    }
   ],
   "source": [
    "class Phone:\n",
    "    def call(self):\n",
    "        print(\"통화기능\")\n",
    "        \n",
    "class FolderPhone(Phone):\n",
    "    def call(self):\n",
    "        print(\"폴더:통화기능\")   \n",
    "        \n",
    "class CameraPhone(Phone):\n",
    "    def call(self):\n",
    "        print(\"통화+촬영기능\")    \n",
    "\n",
    "class SmartPhone(Phone):\n",
    "    def call(self):\n",
    "        print(\"통화+촬영+인터넷 기능\")  \n",
    "        \n",
    "phone = Phone()\n",
    "phone.call()\n",
    "phone = FolderPhone()\n",
    "phone.call()\n",
    "phone = CameraPhone()\n",
    "phone.call()\n",
    "phone = SmartPhone()\n",
    "phone.call()"
   ]
  }
 ],
 "metadata": {
  "kernelspec": {
   "display_name": "Python 3",
   "language": "python",
   "name": "python3"
  },
  "language_info": {
   "codemirror_mode": {
    "name": "ipython",
    "version": 3
   },
   "file_extension": ".py",
   "mimetype": "text/x-python",
   "name": "python",
   "nbconvert_exporter": "python",
   "pygments_lexer": "ipython3",
   "version": "3.7.6"
  }
 },
 "nbformat": 4,
 "nbformat_minor": 4
}
