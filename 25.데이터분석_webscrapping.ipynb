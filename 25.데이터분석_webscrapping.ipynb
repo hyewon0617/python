{
 "cells": [
  {
   "cell_type": "markdown",
   "metadata": {},
   "source": [
    "### 웹스크래핑(Web Scrapping)\n",
    "\n",
    "#### 1. 개념\n",
    "* 웹스크래핑(Web Scrapping) : 웹사이트상에서 특정부분에 위치한 정보를 컴퓨터로 하여금 자동으로 추출하여 수집하는 기술)\n",
    "* 웹크롤링(Web Crawling) : 자동화봇인 Web Crawler가 정해진 규칙에 따라 복수개의 웹페이지를 브라우징하는 작업\n",
    "\n",
    "#### 2. 웹스크래핑을 위한 라이브러리\n",
    "\n",
    "* BeauifulSoup\n",
    "* scapty\n",
    "\n",
    "#### 3. 파이썬으로 클롤링하기\n",
    "\n",
    "크롤링의 정의는 `크롤링 crawling 또는 스크랩핑 scraping`은 웹페이지를 그대로 가져와서 해당 페이지에서 데이터를 추출해 내는 행위 이다.\n",
    "\n",
    "##### 크롤링 또는 스크래핑방법\n",
    "1. 원하는 페이지에 request를 보낸 결과를 html로 받는다.\n",
    "2. 받은 html츨 파싱한다.\n",
    "3. 필요한 정보만 추출한다.\n",
    "\n",
    "파이썬을 이용해서 웹크롤러를 만들기 위해서는 `http request/response`를 다루는 모듈과 html을 파싱하는 모듈이 필요하다.\n",
    "\n",
    ">참고사이트\n",
    "* https://www.crummy.com/software/BeautifulSoup\n",
    "* https://docs.python.org/3.0/library/urllib.request.html\n"
   ]
  },
  {
   "cell_type": "markdown",
   "metadata": {},
   "source": [
    "###### 1. 웹스크래핑 - html소스읽기"
   ]
  },
  {
   "cell_type": "code",
   "execution_count": null,
   "metadata": {},
   "outputs": [],
   "source": [
    "# 1. html소스읽기\n",
    "from urllib.request import urlopen\n",
    "html = urlopen('http://google.com')\n",
    "#display(html) # 객체의 정보만 출력\n",
    "#display(dir(html))\n",
    "display(html.read())"
   ]
  },
  {
   "cell_type": "code",
   "execution_count": null,
   "metadata": {},
   "outputs": [],
   "source": [
    "# 2. 예외처리방법\n",
    "from urllib.error import HTTPError\n",
    "from urllib.error import URLError\n",
    "\n",
    "try:\n",
    "    # urlopen()에서 리턴되는 객체는 HttpResponse객체이다.\n",
    "    #html = urlopen('https://jaba.com') # url이 없는 사이트 주소. 즉, 에러발생\n",
    "    html = urlopen('https://java.com')\n",
    "except HTTPError as e:\n",
    "    print('HTTP 에러!!!')\n",
    "except URLError as e:\n",
    "    print('존재하지 않는 사이트주소 입니다!!')\n",
    "else:\n",
    "    print(html.read())"
   ]
  },
  {
   "cell_type": "code",
   "execution_count": null,
   "metadata": {},
   "outputs": [],
   "source": [
    "# 3. 이미지 다운로드 방법(1) - 간편한 방법\n",
    "import urllib.request\n",
    "\n",
    "# daym사이트의 로고에서 마우스 우클릭 > 이미지주소복사\n",
    "url = 'https://t1.daumcdn.net/daumtop_chanel/op/20170315064553027.png'\n",
    "savefilename = './images/daum.png'\n",
    "\n",
    "urllib.request.urlretrieve(url, savefilename)\n",
    "print('파일 저장이 완료 되었습니다!')"
   ]
  },
  {
   "cell_type": "code",
   "execution_count": null,
   "metadata": {},
   "outputs": [],
   "source": [
    "# 4. 이미지 다운로드 방법(2) - 바인너리파일로 처리\n",
    "\n",
    "# 구글사이트이 로고파일을 다운로드\n",
    "url = 'https://www.google.com/images/branding/googlelogo/2x/googlelogo_color_272x92dp.png'\n",
    "savefilename = './images/goole.png'\n",
    "\n",
    "# 다운로드된 이미지 파일을 메모리에 저장\n",
    "image = urllib.request.urlopen(url).read()\n",
    "print(type(image))\n",
    "\n",
    "# 바이너리파일로 저장\n",
    "with open(savefilename, mode='wb') as f:\n",
    "    # 메모리에 저장된 이미지를 파일로 저장\n",
    "    f.write(image)\n",
    "    print('저장이 완료되었습니다!')"
   ]
  },
  {
   "cell_type": "code",
   "execution_count": null,
   "metadata": {},
   "outputs": [],
   "source": [
    "# 5. 매개변수를 추가하여 인터넷 리소스를 요청하는 방법\n",
    "# 기상청의 일기예보 사이트 : http://www.kma.go.kr\n",
    "\n",
    "# 기상청 육상중기예보 \n",
    "API = 'http://www.kma.go.kr/weather/forecast/mid-term-rss3.jsp'\n",
    "\n",
    "# url에 특수문자, 한글이 포함된 경우에는 URL인코딩이 필요\n",
    "# 지역번호 : 전국 108, 서울/경기 109, 강원 105, 충북 131, 충남 133, 전북 146,\n",
    "#            전남 156, 경북 143, 경남 159, 제주 184\n",
    "\n",
    "values = {'stnId':'108'} # 전국옵션\n",
    "# values = {'stnId':'109'} # 서울/경기\n",
    "\n",
    "# url에 한글, 특수문자가 포함될 경우 encoding\n",
    "params = urllib.parse.urlencode(values)\n",
    "\n",
    "# 요청전용 URL생성\n",
    "url = API + '?' + params\n",
    "print('url =', url)\n",
    "\n",
    "# 다운로드\n",
    "data = urllib.request.urlopen(url).read()\n",
    "#print(data)\n",
    "\n",
    "# decoding\n",
    "text = data.decode('utf-8')\n",
    "print(text)"
   ]
  },
  {
   "cell_type": "markdown",
   "metadata": {},
   "source": [
    "##### 2 웹스크래핑(scrapping) - BeautifulSoup"
   ]
  },
  {
   "cell_type": "code",
   "execution_count": null,
   "metadata": {},
   "outputs": [],
   "source": [
    "# 1. BeatifulSope : HTML 파싱 라이브러리\n",
    "# https://www.crummy.com/software/BeautifulSoup\n",
    "# pip install beautifulsoup4 or conda install beautifulsoup4\n",
    "# 4를 생략하면 버전 3.x이 설치가 된다.\n",
    "from urllib.request import urlopen\n",
    "from bs4 import BeautifulSoup\n",
    "\n",
    "# https://stackoverflow.com의 메인페이지의 타이틀 텍스트 가져오기\n",
    "# url에 접속하여 연결된 후에 HttpResponse객체를 생성\n",
    "html = urlopen('https://stackoverflow.com')\n",
    "\n",
    "# html.read() -> html소스\n",
    "# BeautifulSoup의 기본 분석기를 이용하여 html을 분석하기 위한 객체를 생성\n",
    "# xml분석기 : ixml\n",
    "bs = BeautifulSoup(html.read(), 'html.parser')\n",
    "#print(bs)\n",
    "print(type(bs))\n",
    "\n",
    "# 문서내의 맨 처음의 h1 태그를 선택\n",
    "print(bs.h1)"
   ]
  },
  {
   "cell_type": "code",
   "execution_count": null,
   "metadata": {},
   "outputs": [],
   "source": [
    "# 2. next_sibling\n",
    "from bs4 import BeautifulSoup as bs\n",
    "\n",
    "# 분석하고자 하는 html\n",
    "html = '''\n",
    "<html><body>\n",
    "    <h1>Hello Web Scraping</h1>\n",
    "    <p>웹 페이지 분석</p>\n",
    "    <p>웹 스크래핑</p>\n",
    "</body></html>\n",
    "'''\n",
    "\n",
    "# HTML분석 - html.parser(기본파서)분석기 사용\n",
    "# Ixml등의 외부 파서도 사용할 수 있다.\n",
    "soup = bs(html, 'html.parser')\n",
    "soup\n",
    "\n",
    "# 원하는 정보를 추출하기\n",
    "h1 = soup.html.body.h1\n",
    "h1\n",
    "p1 = soup.html.body.p\n",
    "p1\n",
    "\n",
    "# sibling 형제노드(동일 레벨의 노드)\n",
    "# previous_sibling : 동일 레벨의 이전 노드\n",
    "# next_sibling : 동일 레벨의 다음 노드\n",
    "# 선택되는 과정 : 첫번째 p태그의 </p>뒤의 공백문자, 그 뒤의<p>태그내용이 선택된다.\n",
    "type(p1)\n",
    "#p1?\n",
    "p2 = p1.next_sibling # 줄바꿈 문자\n",
    "p2 = p1.next_sibling.next_sibling # 다음 p태그\n",
    "p2\n",
    "\n",
    "# 요소의 글자를 출력하기\n",
    "print('h1 =', h1.string)\n",
    "print('p1 =', p1.string)\n",
    "print('p2 =', p2.string)"
   ]
  },
  {
   "cell_type": "code",
   "execution_count": null,
   "metadata": {},
   "outputs": [],
   "source": [
    "# 3. find()\n",
    "# 분석하고자 하는 html\n",
    "html = '''\n",
    "<html><body>\n",
    "    <h1 id=\"title\">Hello Web Scraping</h1>\n",
    "    <p id=\"body\">웹 페이지 분석</p>\n",
    "    <p>웹 스크래핑</p>\n",
    "</body></html>\n",
    "'''\n",
    "\n",
    "# html분석 : html.parser분석기 사용\n",
    "soup = bs(html, 'html.parser')\n",
    "\n",
    "# find()메서드로 원하는 부분을 추출\n",
    "title = soup.find(id='title') # id가 title인 태그 \n",
    "body = soup.find(id='body') # id가 body 태그 \n",
    "title\n",
    "body\n",
    "\n",
    "print('title =', title)\n",
    "print('body =', body)\n",
    "print()\n",
    "\n",
    "print('title =', title.string)\n",
    "print('body =', body.string)"
   ]
  },
  {
   "cell_type": "code",
   "execution_count": null,
   "metadata": {},
   "outputs": [],
   "source": [
    "# 4. find_all() : id속성\n",
    "# 분석하고자 하는 html\n",
    "html = '''\n",
    "<html><body>\n",
    "    <ul>\n",
    "        <li><a href=\"http://daum.net\">daum</a></li>\n",
    "        <li><a href=\"http://google.com\">goole</a></li>\n",
    "        <li><a href=\"http://yahoo.com\">yahoo</a></li>\n",
    "        <li><a href=\"http://nate.com\">nate</a></li>\n",
    "        <li><a href=\"http://naver.com\">naver</a></li>\n",
    "    </ul>\n",
    "</body></html>\n",
    "'''\n",
    "\n",
    "# html분석\n",
    "soup = bs(html, 'html.parser')\n",
    "\n",
    "# find_all() 메서드로 모든 a태그를 추출\n",
    "#soup.find_all?\n",
    "links = soup.find_all('a')\n",
    "print(type(links)) # bs4.element.ResultSet형은 파이썬의 list자료형\n",
    "print(links)\n",
    "\n",
    "# links목록 출력\n",
    "for link in links:\n",
    "    text = link.string\n",
    "    # 태그내부의 속성가져오기 : attrs[속성명] \n",
    "    href = link.attrs['href']\n",
    "    print(text, '=', href)"
   ]
  },
  {
   "cell_type": "code",
   "execution_count": null,
   "metadata": {},
   "outputs": [],
   "source": [
    "soup.select?"
   ]
  },
  {
   "cell_type": "code",
   "execution_count": null,
   "metadata": {},
   "outputs": [],
   "source": [
    "# 5. CSS처리 : select_one() / select()\n",
    "from bs4 import BeautifulSoup as bs\n",
    "\n",
    "html = '''\n",
    "<html><body>\n",
    "    <div id=\"main\">\n",
    "        <h1>도서 목록</h1>\n",
    "        <ul>\n",
    "            <li>자바프로그램 입문</li>\n",
    "            <li>파이썬 머신러닝</li>\n",
    "            <li>HTML5/CSS3</li>\n",
    "        </ul>\n",
    "    </div>\n",
    "</body></html>\n",
    "'''\n",
    "\n",
    "soup = bs(html, 'html.parser')\n",
    "\n",
    "# 필요한 부분을 CSS로 추출\n",
    "# h1의 '도서목록' 추출,  select_one()메서드 사용\n",
    "print(soup.h1.string)\n",
    "h1 = soup.select_one('div#main > h1').string # 1개의 tag\n",
    "print(type(h1))\n",
    "print(h1)\n",
    "\n",
    "# li목록 : select()메서드 사용\n",
    "li_list = soup.select('div#main > ul > li') # 여러개의 tag 가져오기\n",
    "# li_list = soup.select('div#main > ul.items > li') # 여러개의 tag 가져오기\n",
    "\n",
    "for li in li_list:\n",
    "    print('li =', li.string)"
   ]
  },
  {
   "cell_type": "markdown",
   "metadata": {},
   "source": [
    "##### 실습1. 기상청의 일기예보"
   ]
  },
  {
   "cell_type": "code",
   "execution_count": null,
   "metadata": {},
   "outputs": [],
   "source": [
    "# 태그의 텍스트 find().string\n",
    "from bs4 import BeautifulSoup as bs\n",
    "import urllib.request as req\n",
    "\n",
    "url = 'http://www.kma.go.kr/weather/forecast/mid-term-rss3.jsp'\n",
    "res = req.urlopen(url)\n",
    "soup = bs(res, 'html.parser')\n",
    "\n",
    "title = soup.find('title').string\n",
    "print(title)\n",
    "wf = soup.find('wf').string\n",
    "#print(wf)\n",
    "wf = wf.replace('<br />', '\\n')\n",
    "print(wf)\n",
    "\n",
    "# 결과\n",
    "# '''\n",
    "# 기상청 육상 중기예보\n",
    "# ○ (강수) 9일(목)은 강원영동에, 12일(일)은 충청도와 전라도, 경북에 비가 오겠습니다.\n",
    "# ○ (건조) 이번 예보기간(9~16일) 전국이 대체로 맑고 대기가 매우 건조하겠으니, 산불 등 화재예방에 각별히 유의하기 바랍니다.\n",
    "# ○ (기온) 이번 예보기간(9~16일) 낮 기온은 어제(5일, 9~18도)와 비슷하거나 조금 높은 13~22도로 포근하겠습니다.\n",
    "# ○ (주말전망) 11일(토)은 대체로 맑겠고, 12일(일)은 충청도와 전라도, 경북에 비가 오겠습니다.\n",
    "# 주말 낮 기온은 13~19도로 포근하겠으나, 낮과 밤의 기온차가 10도 이상으로 크겠습니다.\n",
    "# ○ (강수) 9일(목)은 강원영동에, 12일(일)은 충청도와 전라도, 경북에 비가 오겠습니다.\n",
    "# ○ (건조) 이번 예보기간(9~16일) 전국이 대체로 맑고 대기가 매우 건조하겠으니, 산불 등 화재예방에 각별히 유의하기 바랍니다.\n",
    "# ○ (기온) 이번 예보기간(9~16일) 낮 기온은 어제(5일, 9~18도)와 비슷하거나 조금 높은 13~22도로 포근하겠습니다.\n",
    "# ○ (주말전망) 11일(토)은 대체로 맑겠고, 12일(일)은 충청도와 전라도, 경북에 비가 오겠습니다.\n",
    "# 주말 낮 기온은 13~19도로 포근하겠으나, 낮과 밤의 기온차가 10도 이상으로 크겠습니다.\n",
    "# '''"
   ]
  },
  {
   "cell_type": "markdown",
   "metadata": {},
   "source": [
    "##### 실습2. 네이버금융에서 환율정보 가져오기"
   ]
  },
  {
   "cell_type": "code",
   "execution_count": null,
   "metadata": {},
   "outputs": [],
   "source": [
    "from bs4 import BeautifulSoup as bs\n",
    "import urllib.request as req\n",
    "\n",
    "url = 'http://finance.naver.com/marketindex'\n",
    "res = req.urlopen(url)\n",
    "soup = bs(res, 'html.parser')\n",
    "\n",
    "# class가 head_info인 div로부터 class가 value인 span태그를 선택후 string가져오기\n",
    "\n",
    "ex_rate = soup.select_one('div.head_info > span.value').string\n",
    "print('usd/krw =', ex_rate)\n",
    "\n",
    "#exchangeList > li.on > a.head.usd > div\n",
    "# <div class=\"head_info point_dn\">\n",
    "# \t\t\t\t\t\t\t<span class=\"value\">1,229.90</span>\n",
    "# \t\t\t\t\t\t\t<span class=\"txt_krw\"><span class=\"blind\">원</span></span>\n",
    "# \t\t\t\t\t\t\t<span class=\"change\"> 6.10</span>\n",
    "# \t\t\t\t\t\t\t<span class=\"blind\">하락</span>\n",
    "# \t\t\t\t\t\t</div>\n",
    "# 결과\n",
    "# usd/krw =  1,181.20"
   ]
  },
  {
   "cell_type": "code",
   "execution_count": null,
   "metadata": {},
   "outputs": [],
   "source": [
    "ex_rates = soup.select('div.head_info > span.value')\n",
    "print(ex_rates)\n",
    "for exrate in ex_rates:\n",
    "    print(exrate.string) # 통화별 환율구분은 별도로 추출해야 한다."
   ]
  },
  {
   "cell_type": "markdown",
   "metadata": {},
   "source": [
    "##### 실습3. 윤동주 시인의 작품목록"
   ]
  },
  {
   "cell_type": "code",
   "execution_count": null,
   "metadata": {},
   "outputs": [],
   "source": [
    "# 웹브라우저의 F12개발자도구, elements에서 원하는 부분을 선택후 우클릭\n",
    "# Copy > Copy Selector\n",
    "\n",
    "from bs4 import BeautifulSoup as bs\n",
    "import urllib.request as req\n",
    "\n",
    "# 뒤의 인코딩부분은 '저자:윤동주'라는 의미\n",
    "# 따로 입력하지 않고 위키문헌 홈페이이지에서 주소를 복사해서 사용\n",
    "# 저자:윤동주가 인코딩되어서 아래와 같이 복사가 된다.\n",
    "url = 'https://ko.wikisource.org/wiki/%EC%A0%80%EC%9E%90:%EC%9C%A4%EB%8F%99%EC%A3%BC'\n",
    "res = req.urlopen(url)\n",
    "soup = bs(res, \"html.parser\")\n",
    "\n",
    "# mw-content-text바로 아래에 있는 > ul > li > a 태그 전체 선택\n",
    "a_list = soup.select('.mw-parser-output > ul > li > a')\n",
    "for a in a_list:\n",
    "    name = a.string\n",
    "    print('...', name)\n",
    "    \n",
    "    \n",
    "#content > div.mw-indicators.mw-body-content\n",
    "# 결과\n",
    "# ... 증보판\n",
    "# ... 흰 그림자\n",
    "# ... 사랑스런 추억\n",
    "# ... 흐르는 거리\n",
    "# ... 봄"
   ]
  },
  {
   "cell_type": "markdown",
   "metadata": {},
   "source": [
    "##### BeautifulSoup 메서드"
   ]
  },
  {
   "cell_type": "code",
   "execution_count": null,
   "metadata": {},
   "outputs": [],
   "source": [
    "html = '''<!DOCTYPE html>\n",
    "<html>\n",
    "<head><title>The Dormouse's story</title></head>\n",
    "<body>\n",
    "<p class=\"title\"><b>The Dormouse's story</b></p>\n",
    "<p class=\"story\">\n",
    "    Once upon a time there were three little sisters; and their names were\n",
    "    <a href=\"http://example.com/elsie\" class=\"sister\" id=\"link1\">Elsie</a>,\n",
    "    <a href=\"http://example.com/lacie\" class=\"sister\" id=\"link2\">Lacie</a> and\n",
    "    <a href=\"http://example.com/tillie\" class=\"sister brother\" id=\"link3\">Tillie</a>;\n",
    "    and they lived at the bottom of a well.\n",
    "</p>\n",
    "</body>\n",
    "</html>\n",
    "'''\n",
    "\n",
    "soup = bs(html, 'html.parser')\n",
    "\n",
    "# 1. element\n",
    "print(soup.title)\n",
    "print(soup.find('title'))\n",
    "\n",
    "# 2. tag\n",
    "print(soup.title.name)\n",
    "\n",
    "# 3. text\n",
    "print(soup.title.string)\n",
    "print(soup.title.get_text())\n",
    "\n",
    "# 4. single element\n",
    "print(soup.a.get_text())\n",
    "print(soup.find('a').get_text())\n",
    "print()\n",
    "\n",
    "# 5. multi-element\n",
    "print(soup.find_all('a'))\n",
    "print(soup.find_all('a')[0].get_text())\n",
    "print(soup.find_all('a')[1].get_text())\n",
    "print(soup.find_all('a')[2].get_text())\n",
    "print()\n",
    "\n",
    "# 6. attribute\n",
    "print(soup.a['class'])\n",
    "print(soup.a.get('class'))\n",
    "print(soup.a['href'])\n",
    "print(soup.a.attrs['href'])\n",
    "print()\n",
    "\n",
    "# 7. find by id\n",
    "print(soup.find(id='link1'))\n",
    "print(soup.find('', {'id':'link1'}))\n",
    "\n",
    "# 8. find by class : class는 'class_'로 정의해야 한다.\n",
    "print(soup.find_all(class_='sister')) # \n",
    "print(soup.find_all('', {'class':'syster'}))"
   ]
  },
  {
   "cell_type": "markdown",
   "metadata": {},
   "source": [
    "#### 3. 고급 Html 분석\n",
    "\n",
    "* https://github.com/REMitchell/python-scraping"
   ]
  },
  {
   "cell_type": "code",
   "execution_count": null,
   "metadata": {},
   "outputs": [],
   "source": [
    "# 1. 전쟁과 평화\n",
    "from bs4 import BeautifulSoup as bs\n",
    "import urllib.request as req\n",
    "\n",
    "# 전쟁과 평화\n",
    "html = req.urlopen('http://www.pythonscraping.com/pages/warandpeace.html')\n",
    "soup = bs(html, 'html.parser')\n",
    "\n",
    "# span태그중에서 class가 green인 태그들\n",
    "# findAll(), find_all()\n",
    "names = soup.findAll('span', {'class':'green'})\n",
    "names\n",
    "\n",
    "for name in names:\n",
    "    print(name.get_text())"
   ]
  },
  {
   "cell_type": "code",
   "execution_count": null,
   "metadata": {},
   "outputs": [],
   "source": [
    "# 2. 웹페이지에서 모든 h태그를 추출\n",
    "# 리스트안에 for문 사용해서 출력\n",
    "titles = soup.find_all(['h1','h2','h3','h4','h5','h6'])\n",
    "print([title for title in titles])\n",
    "print([title.string for title in titles])\n",
    "print([title.get_text() for title in titles])"
   ]
  },
  {
   "cell_type": "code",
   "execution_count": null,
   "metadata": {},
   "outputs": [],
   "source": [
    "# 3. span태그중에서 class가 green, red인 태그\n",
    "# 리스트안에 for문을 이용 출력\n",
    "all_text = soup.find_all('span', {'class':{'green', 'red'}})\n",
    "print([text.string for text in all_text])"
   ]
  },
  {
   "cell_type": "code",
   "execution_count": null,
   "metadata": {},
   "outputs": [],
   "source": [
    "# 4. wordcount \n",
    "# 'the prince'단어의 갯수를 출력?\n",
    "wordcount = soup.find_all(text='the prince')\n",
    "print(len(wordcount))"
   ]
  },
  {
   "cell_type": "code",
   "execution_count": null,
   "metadata": {},
   "outputs": [],
   "source": [
    "# 5.자식노드 수집하기\n",
    "html = req.urlopen('http://www.pythonscraping.com/pages/page3.html')\n",
    "soup = bs(html, 'html.parser')\n",
    "\n",
    "# table태그중에서 id가 giftList인 태그의 자식노드를 추출\n",
    "# 자식노드 bs.find().children메서드\n",
    "for child in soup.find('table', {'id':'giftList'}).children:\n",
    "    print(child)"
   ]
  },
  {
   "cell_type": "code",
   "execution_count": null,
   "metadata": {},
   "outputs": [],
   "source": [
    "# 6. next_siblings\n",
    "html = req.urlopen('http://www.pythonscraping.com/pages/page3.html')\n",
    "soup = bs(html, 'html.parser')\n",
    "\n",
    "# table태그중에서 id가 giftList인 태그의 자식노드를 추출\n",
    "# 자식노드 bs.find().tr.next_sibilings\n",
    "# sibling : next_sibilings, previouw_siblings\n",
    "# 제목행은 제외하고 검색\n",
    "for sibling in soup.find('table', {'id':'giftList'}).tr.next_siblings:\n",
    "    print(sibling)"
   ]
  },
  {
   "cell_type": "code",
   "execution_count": null,
   "metadata": {},
   "outputs": [],
   "source": [
    "# 6. previous_sibling\n",
    "html = req.urlopen('http://www.pythonscraping.com/pages/page3.html')\n",
    "soup = bs(html, 'html.parser')\n",
    "\n",
    "# img1.jpg의 부모노드의 이전 형제 노드의 텍스트값\n",
    "# img1.jpg의 prarent, previous_sibling사용\n"
   ]
  },
  {
   "cell_type": "markdown",
   "metadata": {},
   "source": [
    "##### jason 분석"
   ]
  },
  {
   "cell_type": "code",
   "execution_count": null,
   "metadata": {},
   "outputs": [],
   "source": [
    "# json 탐색 : {key:value}\n",
    "import json\n",
    "\n",
    "json_str = \\\n",
    "'{\"amount\":[{\"num\":0},{\"num\":1},{\"num\":2}], \\\n",
    "  \"fruits\":[{\"fruit\":\"apple\"},{\"fruit\":\"banana\"},{\"fruit\":\"pear\"}] \\\n",
    "}'\n",
    "print(json_str)\n",
    "\n",
    "dict_data = json.loads(json_str) # dict형으로 리턴\n",
    "print(type(dict_data))\n",
    "print()\n",
    "\n",
    "print(dict_data.get('fruits'))\n",
    "print(dict_data.get('fruits')[0])\n",
    "print(dict_data.get('amount')[1].get('num'))\n",
    "print(dict_data.get('fruits')[2].get('fruit'))"
   ]
  },
  {
   "cell_type": "markdown",
   "metadata": {},
   "source": [
    "##### pdf분석\n",
    "\n",
    "* pip install pdfminer3k"
   ]
  },
  {
   "cell_type": "code",
   "execution_count": null,
   "metadata": {},
   "outputs": [],
   "source": [
    "!pip install pdfminer3k"
   ]
  },
  {
   "cell_type": "code",
   "execution_count": null,
   "metadata": {},
   "outputs": [],
   "source": [
    "# pdf문서 읽기\n",
    "from pdfminer.pdfinterp import PDFResourceManager, process_pdf\n",
    "from pdfminer.converter import TextConverter\n",
    "from pdfminer.layout import LAParams\n",
    "from io import StringIO\n",
    "from io import open"
   ]
  },
  {
   "cell_type": "code",
   "execution_count": null,
   "metadata": {},
   "outputs": [],
   "source": [
    "def readPDF(pdfFile):\n",
    "    rsrcmgr = PDFResourceManager()\n",
    "    retstr = StringIO()\n",
    "    laparams = LAParams()\n",
    "    device = TextConverter(rsrcmgr, retstr, laparams=laparams)\n",
    "    \n",
    "    process_pdf(rsrcmgr, device, pdfFile)\n",
    "    device.close()\n",
    "    \n",
    "    content = retstr.getvalue()\n",
    "    retstr.close()\n",
    "    \n",
    "    return content\n",
    "\n",
    "# 전쟁과 평화 pdf\n",
    "pdfFile = req.urlopen('http://pythonscraping.com/pages/warandpeace/chapter1.pdf')\n",
    "outputString = readPDF(pdfFile)\n",
    "print(outputString)\n",
    "pdfFile.close()"
   ]
  },
  {
   "cell_type": "markdown",
   "metadata": {},
   "source": [
    "##### 데이터 저장"
   ]
  },
  {
   "cell_type": "code",
   "execution_count": null,
   "metadata": {},
   "outputs": [],
   "source": [
    "# 웹페이지의 내용을 분석하여 csv파일로 저장\n",
    "# table태그의 내부 텍스트를 저장\n",
    "import csv\n",
    "\n",
    "html = req.urlopen('http://en.wikipedia.org/wiki/Comparison_of_text_editors')\n",
    "soup = bs(html, 'html.parser')\n",
    "\n",
    "# class가 wikitable인 태그중에서 첫번째 태그를 선택\n",
    "table = soup.findAll('table', {'class':'wikitable'})[0]\n",
    "rows = table.findAll('tr')\n",
    "\n",
    "csv_file = open('../data/web/editors.csv', 'wt', newline='', encoding='utf-8')\n",
    "\n",
    "writer = csv.writer(csv_file)\n",
    "try:\n",
    "    for row in rows:\n",
    "        csv_row = []\n",
    "        # td, th태그의 내용을 리스트에 추가\n",
    "        for cell in row.findAll(['td', 'th']):\n",
    "            csv_row.append(cell.get_text())\n",
    "        writer.writerow(csv_row)\n",
    "finally:\n",
    "    print('파일이 저장되었습니다!')\n",
    "    csv_file.close()"
   ]
  },
  {
   "cell_type": "markdown",
   "metadata": {},
   "source": [
    "연습문제 1.\n",
    "다음 사이트에서 링크가 되어 있는 모든 제목을 가져와서 출력하기\n",
    "* http://media.daum.net/digital/\n",
    "\n",
    "연습문제 2.\n",
    "네이버사이트 이미지 검색후 '../data/web'에 한번에 다운로드 및 저장하기(10건정도)\n",
    "* 검색어를 전달받아서 결과를 저장\n",
    "* https://search.naver.com/search.naver?sm=tab_hty.top&where=image&query=코로나"
   ]
  },
  {
   "cell_type": "markdown",
   "metadata": {},
   "source": [
    "#### 4. 웹사이트 정보를 mysql로 저장\n",
    "\n",
    "##### 1. mysql database & table 생성\n",
    ">* create database pyweb default character set utf8;\n",
    "\n",
    ">* create table pages(\n",
    "    id int not null auto_increment primary key,\n",
    "    title varchar(200),\n",
    "    content text,\n",
    "    created timestamp default current_timestamp\n",
    ");  \n",
    "\n",
    "##### 2. mysql 연결하기\n",
    "\n",
    ">* !pip install pymysql or !conda install pymysql\n",
    "* pysql.connect(host='localhost', port=3306, user='root', passwd='12345', db='pyweb', charset='utf8')"
   ]
  },
  {
   "cell_type": "code",
   "execution_count": null,
   "metadata": {},
   "outputs": [],
   "source": [
    "from bs4 import BeautifulSoup as bs\n",
    "import urllib.request as req\n",
    "import re\n",
    "import datetime\n",
    "import random\n",
    "import pymysql"
   ]
  },
  {
   "cell_type": "code",
   "execution_count": null,
   "metadata": {},
   "outputs": [],
   "source": [
    "# mysql 연결\n",
    "conn = pymysql.connect(host='localhost', port=3306, user='root', \\\n",
    "                       passwd='12345', db='pyweb', charset='utf8')\n",
    "print(type(conn))\n",
    "print(dir(conn))\n",
    "# conn?"
   ]
  },
  {
   "cell_type": "code",
   "execution_count": null,
   "metadata": {},
   "outputs": [],
   "source": [
    "cursor = conn.cursor()\n",
    "cursor.execute('use pyweb')\n",
    "cursor.execute('delete from pages')\n",
    "# conn.commit()"
   ]
  },
  {
   "cell_type": "code",
   "execution_count": null,
   "metadata": {},
   "outputs": [],
   "source": [
    "# 고정된 랜덤값을 얻기 위해서 seed를 설정\n",
    "random.seed(datetime.datetime.now())\n",
    "\n",
    "def store(title, content): # 테이블에 저장\n",
    "    # 따옴표처리\n",
    "    title = title.replace(\"'\", \"''\") # 작은 따옴표 1개를 2개로 치환\n",
    "    title = title.replace('\"', '\\'') # 큰 따옴표는 '\\''로 치환\n",
    "    content = content.replace(\"'\", \"''\")\n",
    "    content = content.replace('\"', '\\'')\n",
    "    content = content.replace('\\n', '') # '\\n' 은 공란('')으로 치환\n",
    "    \n",
    "    sql = 'insert into pages(title, content) values(\"%s\", \"%s\")' % (title, content)\n",
    "    cursor.execute(sql)\n",
    "    conn.commit()\n",
    "    \n",
    "def getLinks(url): # 웹사이트 링크\n",
    "    html = req.urlopen('http://en.wikipedia.org' + url)\n",
    "    soup = bs(html, 'html.parser')\n",
    "    title = soup.find('h1').get_text()\n",
    "    content = soup.find('div', {'id':'mw-content-text'}).find('p').get_text()\n",
    "    store(title, content)  \n",
    "    \n",
    "    # ^:시작, $:끝, *:반복\n",
    "    # ^(/wiki/) : /wiki/로 시작되는 a 태그를 검색\n",
    "    # ((?!:).) : 마침표(.)로 끝나는 문자에서 ?, !, :을 검색\n",
    "    # /wili/ + 문자열 + .의 패턴에서 문자열중 ?,!,:을 검색\n",
    "    return soup.find('div', {'id':'bodyContent'}) \\\n",
    "               .findAll('a', href=re.compile(\"^(/wiki/)((?!:).)*$\"))"
   ]
  },
  {
   "cell_type": "code",
   "execution_count": null,
   "metadata": {},
   "outputs": [],
   "source": [
    "links = getLinks('/wiki/Kevin_Bacon')\n",
    "# print(links)\n",
    "# print(type(links))\n",
    "print(len(links))\n",
    "\n",
    "try:\n",
    "    count = 0\n",
    "    while len(links) > 0:\n",
    "        idx = random.randint(0, len(links)-1)\n",
    "        newArticle = links[idx].attrs['href']\n",
    "        print(newArticle, idx)\n",
    "        links = getLinks(newArticle)\n",
    "        count += 1\n",
    "        if count >= 5: \n",
    "            break\n",
    "except Exception as e:\n",
    "    print('저장에 실패 했습니다!')\n",
    "else:\n",
    "    print('저장에 성공했습니다.')\n",
    "finally:\n",
    "    cursor.close()\n",
    "    conn.close()"
   ]
  },
  {
   "cell_type": "markdown",
   "metadata": {},
   "source": [
    "##### 2. oracle database\n",
    "\n",
    ">* pip install cx_oracle or conda pip install cx_oracle\n",
    "\n",
    ">create table product(\n",
    "    product_id number,\n",
    "    procuct_name varchar2(50),\n",
    "    price number default 0,\n",
    "    decription clob,\n",
    "    picture_url varchar2(500),\n",
    "    primary key(product_id)\n",
    ");\n",
    "\n",
    ">* insert into product select 1, '레몬', 1500, '레몬에 포함된 구연산은 피로회복에... ', 'lemon.jpg' from dual;\n",
    "* insert into product select 2, '오렌지', 2000, '오렌지에 포함된 구연산은 피로회복에. ', 'orange.jpg' from dual;\n",
    "* insert into product select 3, '키위', 2500, '키위에 포함된 구연산은 피로회복에... ', 'kiwi.jpg' from dual;\n",
    "* insert into product select 4, '포도', 3000, '포도에 포함된 구연산은 피로회복에... ', 'grape.jpg' from dual;\n",
    "\n",
    ">commit;"
   ]
  },
  {
   "cell_type": "code",
   "execution_count": null,
   "metadata": {},
   "outputs": [],
   "source": [
    "import cx_Oracle as oracle"
   ]
  },
  {
   "cell_type": "code",
   "execution_count": null,
   "metadata": {},
   "outputs": [],
   "source": [
    "# oracle 연결 & 자료삭제\n",
    "dsn = oracle.makedsn('localhost', 1521, 'XE')\n",
    "conn = oracle.connect('scott', 'tiger', dsn)\n",
    "cursor = conn.cursor()\n",
    "sql = 'delete from product1'\n",
    "cursor.execute(sql)\n",
    "conn.commit()\n",
    "conn.close()"
   ]
  },
  {
   "cell_type": "code",
   "execution_count": null,
   "metadata": {},
   "outputs": [],
   "source": [
    "# 1. 자료추가(1) - 여러건을 추가\n",
    "dsn = oracle.makedsn('localhost', 1521, 'XE')\n",
    "conn = oracle.connect('scott', 'tiger', dsn)\n",
    "cursor = conn.cursor()\n",
    "\n",
    "items = [\n",
    "    (1, '레몬', 1500, '레몬에 포함된 구연산은 피로회복에... ', 'lemon.jpg'), \n",
    "    (2, '오렌지', 2000, '오렌지에 포함된 구연산은 피로회복에. ', 'orange.jpg'),\n",
    "    (3, '키위', 2500, '키위에 포함된 구연산은 피로회복에... ', 'kiwi.jpg'),\n",
    "    (4, '포도', 3000, '포도에 포함된 구연산은 피로회복에... ', 'grape.jpg')\n",
    "]\n",
    "\n",
    "sql = 'insert into product1 values(:1, :2, :3, :4, :5)'\n",
    "\n",
    "for item in items:\n",
    "    cursor.execute(sql, item)\n",
    "    \n",
    "conn.commit()\n",
    "conn.close()"
   ]
  },
  {
   "cell_type": "code",
   "execution_count": null,
   "metadata": {},
   "outputs": [],
   "source": [
    "# 2. 자료추가(2) - 일괄추가\n",
    "dsn = oracle.makedsn('localhost', 1521, 'XE')\n",
    "conn = oracle.connect('scott', 'tiger', dsn)\n",
    "cursor = conn.cursor()\n",
    "\n",
    "items = [\n",
    "    (1, '레몬', 1500, '레몬에 포함된 구연산은 피로회복에... ', 'lemon.jpg'), \n",
    "    (2, '오렌지', 2000, '오렌지에 포함된 구연산은 피로회복에. ', 'orange.jpg'),\n",
    "    (3, '키위', 2500, '키위에 포함된 구연산은 피로회복에... ', 'kiwi.jpg'),\n",
    "    (4, '포도', 3000, '포도에 포함된 구연산은 피로회복에... ', 'grape.jpg')\n",
    "]\n",
    "\n",
    "sql = 'insert into product1 values(:1, :2, :3, :4, :5)'\n",
    "\n",
    "cursor.bindarraysize = len(items)\n",
    "cursor.executemany(sql, items) # for문 대신 일괄처리 - 속도가 빠르다.\n",
    "\n",
    "conn.commit()\n",
    "conn.close()"
   ]
  },
  {
   "cell_type": "code",
   "execution_count": null,
   "metadata": {},
   "outputs": [],
   "source": [
    "# 3. 자료조회(1) - 기본조회방법\n",
    "dsn = oracle.makedsn('localhost', 1521, 'XE')\n",
    "conn = oracle.connect('scott', 'tiger', dsn)\n",
    "cursor = conn.cursor()\n",
    "\n",
    "sql = 'select * from product1'\n",
    "cursor.execute(sql)\n",
    "\n",
    "for row in cursor:\n",
    "    print(type(row), row)\n",
    "    desc = row[3].read() # clob필드를 읽는 방법\n",
    "    print(desc)\n",
    "    \n",
    "cursor.close()  \n",
    "conn.close()    "
   ]
  },
  {
   "cell_type": "code",
   "execution_count": null,
   "metadata": {},
   "outputs": [],
   "source": [
    "# 4. 자료조회(2) - 전체조회후 리스트로 저장\n",
    "dsn = oracle.makedsn('localhost', 1521, 'XE')\n",
    "conn = oracle.connect('scott', 'tiger', dsn)\n",
    "cursor = conn.cursor()\n",
    "\n",
    "sql = 'select * from product1'\n",
    "cursor.execute(sql)\n",
    "rs = cursor.fetchall()\n",
    "print(type(rs))\n",
    "\n",
    "for row in rs:\n",
    "    print(row[0], row[1], row[2], row[3].read())\n",
    "\n",
    "cursor.close()  \n",
    "conn.close()"
   ]
  },
  {
   "cell_type": "code",
   "execution_count": null,
   "metadata": {},
   "outputs": [],
   "source": [
    "# fetchone() : 자료한건 처리\n",
    "dsn = oracle.makedsn('localhost', 1521, 'XE')\n",
    "conn = oracle.connect('scott', 'tiger', dsn)\n",
    "cursor = conn.cursor()\n",
    "\n",
    "sql = 'select count(*) from product1'\n",
    "cursor.execute(sql)\n",
    "count = cursor.fetchone() # tuple로 리턴\n",
    "print(count)\n",
    "print(type(count))\n",
    "print('product count =', count[0])\n",
    "\n",
    "cursor.close()  \n",
    "conn.close()"
   ]
  },
  {
   "cell_type": "markdown",
   "metadata": {},
   "source": [
    "#### 5. 웹사이트 캡춰\n",
    "\n",
    ">1. phantomjs 다운로드\n",
    ">>* 화면이 없고 커맨드라인상에서 웹브라우저를 제어할 수 있는 브라우저\n",
    ">>* 웹개발 테스트 및 성능측정, 스크린샷제작등에 활용\n",
    ">>* 다수의 웹사이트는 BeautifulSoup을 사용하여 parsing할 수가 있는데 요즘 사이트들은 javascript에서 html을 만들어서 실행되는 동적페이지가 있다. BeautifulSoup은 javascript를 실행해주지 않기 때문에 parsing을 제대로 동작하지 않는다. 이를 해결하기 위해 javascript가 동적으로 페이지가 완성된 후에 parsing할 수 있는 방법을 phantomjs등이 제공해 준다.\n",
    ">>* http://phantomjs.org/download.html\n",
    ">>* https://bitbucket.org/ariay/phantomjs/downloads/phantomjs-2.1.1-windows.zip\n",
    ">>* 다운로드 파일을 d:/yourname/python/phantomjs폴더에 압축해제\n",
    ">2. pip install selenium or conda install selenium\n",
    ">>* 주로 웹앱을 테스트하는데 이요하는 패키지이다. `webdriver`라는 API를 통해 운영체제에 설치된 chrome등의 웹브라우저를 제어하게 된다.\n",
    ">>* `Selenium`은 dirver객체를 통해 여러가지 메서드를 제공한다.\n",
    ">>> * url에 접근하는 api\n",
    ">>>  - get('http://google.com')\n",
    ">>> * 페이지의 단일 element에 접근하는 api\n",
    ">>>  - find_element_by_name('HTML_name')\n",
    ">>>  - find_element_by_id('HTML_id')\n",
    ">>>  - find_element_by_xpath('html/body/some/xpath')\n",
    ">>> * 페이지의 복수의 element에 접근하는 api \n",
    ">>>  - find_element_by_css_selector('#css > div.selector')\n",
    ">>>  - find_element_by_css_name('class_name')\n",
    ">>>  - find_element_by_tag_name('h1')\n",
    ">> * selenium을 이용해 크롬을 사용하려면 로컬에 chrom설치 및 chromedriver를 다운 받아야 한다."
   ]
  },
  {
   "cell_type": "code",
   "execution_count": null,
   "metadata": {},
   "outputs": [],
   "source": [
    "# 웹사이트화면을 이미지로 캡춰하기\n",
    "from selenium import webdriver\n",
    "from selenium.webdriver.remote.webelement import WebElement\n",
    "from selenium.webdriver import ActionChains\n",
    "\n",
    "# phantomjs실행경로\n",
    "driver = webdriver.PhantomJS(executable_path='./phantomjs/bin/phantomjs')\n",
    "\n",
    "# 시간지연 5초대기 : 화면을 캡춰하기 위한 대기시간 설정\n",
    "driver.implicitly_wait(5)\n",
    "#river.get('http://google.com')\n",
    "#driver.get('http://daum.net')\n",
    "driver.get('http://www.naver.com')\n",
    "\n",
    "# 웹사이트화면을 이미지로 저장\n",
    "driver.get_screenshot_as_file('../data/web/screen_naver.png')\n",
    "driver.close()\n",
    "print('파일저장완료')"
   ]
  },
  {
   "cell_type": "markdown",
   "metadata": {},
   "source": [
    "#### 6. 로그인이 필요한 사이트에서 데이타수집\n",
    "\n",
    "로그인이 필요한 사이트에서는 쿠키, 세션등의 인증수단이 필요하며 웹스크래핑코딩상에 추가로 처리해야할 작업이 생긴다. 웹브라우저의 개발자도구(f12)의 Network탭을 보면 어떤 url에서 로그인관련 인증이 처리되는지 볼 수가 있다.(ex: login_check.do등)\n",
    "\n",
    "단, 로그인을 https로 막아 놓은 사이트는 해당이 되지 않는다. 해당사이트를 암호화해서 막아 놓았기 때문이다. 하지만 아직까지는 막아 놓지 않은 곳이 많이 있다.\n",
    "\n",
    "Network에서 Headers탭에 좌측 url목록에서 인증이 처리되는 url을 확인(클릭)한 후에 우측하단의 맨 밑에 Form Data부분에 로그인 변수와 값을 조회할 수가 있다.(단, 사이트마다 좀 다르다)"
   ]
  },
  {
   "cell_type": "code",
   "execution_count": null,
   "metadata": {},
   "outputs": [],
   "source": [
    "# 1. 한빛미디어\n",
    "# 로그인 사이트에서 다운하기\n",
    "# 로그인을 위한 모듈 추출하기\n",
    "import requests\n",
    "from bs4 import BeautifulSoup as bs\n",
    "from urllib.parse import urljoin\n",
    "\n",
    "# 한빛 아이디와 비밀번호를 지정\n",
    "USER = 'gilbaek'\n",
    "PASS = 'aa&1234-'\n",
    "\n",
    "# 세션시작하기\n",
    "session = requests.session()\n",
    "\n",
    "# 로그인하기\n",
    "login_info = {\n",
    "    'm_id':USER,\n",
    "    'm_passwd': PASS\n",
    "}\n",
    "\n",
    "# 한빛미디어로그인페이지\n",
    "url_login = 'http://www.hanbit.co.kr/member/login_proc.php'\n",
    "res = session.post(url_login, data=login_info)\n",
    "res.raise_for_status() # 오류가 발생하면 예외가 발생한다.\n",
    "\n",
    "# 마이페이지 접근하기\n",
    "url_mypage = 'http://www.hanbit.co.kr/myhanbit/myhanbit.html'\n",
    "res = session.get(url_mypage)\n",
    "res.raise_for_status() \n",
    "\n",
    "soup = bs(res.text, \"html.parser\")\n",
    "# print(soup)\n",
    "\n",
    "\n",
    "# 회원이름과 등급\n",
    "name = soup.select_one('.my_rating > p').get_text()\n",
    "grade = soup.select_one('.my_rating > p > span').get_text()\n",
    "name = name.split(')')\n",
    "name = name[0].replace('(', '')\n",
    "print('이름     =', name)\n",
    "print('등급     =', grade)\n",
    "\n",
    "# 마일리지와 이코인 가져오기\n",
    "mileage = soup.select_one('.mileage_section1 > dd > span').get_text()\n",
    "ecoin = soup.select_one('.mileage_section2 > dd > span').get_text()\n",
    "print('마일리지 =', mileage)\n",
    "print('이코인   =', ecoin)"
   ]
  },
  {
   "cell_type": "markdown",
   "metadata": {},
   "source": [
    "#### 7.  크롬으로 네이버에 로그인하기\n",
    "\n",
    "selenium은 webdriver라는 것을 통해 디바이스에 설치된 웹브라우저를 제어할 수 있다. Chrome을 사용할 경우에는 `Chrome WebDriver`를 설치해야 한다.\n",
    "\n",
    "1. 다운로드 : https://sites.google.com/a/chromium.org/chromedriver/download\n",
    "2. 압축해제 : d:/yourname/python"
   ]
  },
  {
   "cell_type": "code",
   "execution_count": 20,
   "metadata": {},
   "outputs": [
    {
     "name": "stdout",
     "output_type": "stream",
     "text": [
      "웹페이지에 접근중...\n"
     ]
    },
    {
     "ename": "WebDriverException",
     "evalue": "Message: TypeError - undefined is not a constructor (evaluating '_getTagName(currWindow).toLowerCase()')\n",
     "output_type": "error",
     "traceback": [
      "\u001b[1;31m---------------------------------------------------------------------------\u001b[0m",
      "\u001b[1;31mWebDriverException\u001b[0m                        Traceback (most recent call last)",
      "\u001b[1;32m<ipython-input-20-68bf45d2a634>\u001b[0m in \u001b[0;36m<module>\u001b[1;34m\u001b[0m\n\u001b[0;32m     17\u001b[0m \u001b[0me\u001b[0m \u001b[1;33m=\u001b[0m \u001b[0mbrowser\u001b[0m\u001b[1;33m.\u001b[0m\u001b[0mfind_element_by_id\u001b[0m\u001b[1;33m(\u001b[0m\u001b[1;34m'id'\u001b[0m\u001b[1;33m)\u001b[0m\u001b[1;33m\u001b[0m\u001b[1;33m\u001b[0m\u001b[0m\n\u001b[0;32m     18\u001b[0m \u001b[0me\u001b[0m\u001b[1;33m.\u001b[0m\u001b[0mclear\u001b[0m\u001b[1;33m(\u001b[0m\u001b[1;33m)\u001b[0m\u001b[1;33m\u001b[0m\u001b[1;33m\u001b[0m\u001b[0m\n\u001b[1;32m---> 19\u001b[1;33m \u001b[0me\u001b[0m\u001b[1;33m.\u001b[0m\u001b[0msend_keys\u001b[0m\u001b[1;33m(\u001b[0m\u001b[0mUSER\u001b[0m\u001b[1;33m)\u001b[0m\u001b[1;33m\u001b[0m\u001b[1;33m\u001b[0m\u001b[0m\n\u001b[0m\u001b[0;32m     20\u001b[0m \u001b[0me\u001b[0m \u001b[1;33m=\u001b[0m \u001b[0mbrowser\u001b[0m\u001b[1;33m.\u001b[0m\u001b[0mfind_element_by_id\u001b[0m\u001b[1;33m(\u001b[0m\u001b[1;34m'pw'\u001b[0m\u001b[1;33m)\u001b[0m\u001b[1;33m\u001b[0m\u001b[1;33m\u001b[0m\u001b[0m\n\u001b[0;32m     21\u001b[0m \u001b[0me\u001b[0m\u001b[1;33m.\u001b[0m\u001b[0mclear\u001b[0m\u001b[1;33m(\u001b[0m\u001b[1;33m)\u001b[0m\u001b[1;33m\u001b[0m\u001b[1;33m\u001b[0m\u001b[0m\n",
      "\u001b[1;32mC:\\Anaconda3\\lib\\site-packages\\selenium\\webdriver\\remote\\webelement.py\u001b[0m in \u001b[0;36msend_keys\u001b[1;34m(self, *value)\u001b[0m\n\u001b[0;32m    477\u001b[0m         self._execute(Command.SEND_KEYS_TO_ELEMENT,\n\u001b[0;32m    478\u001b[0m                       {'text': \"\".join(keys_to_typing(value)),\n\u001b[1;32m--> 479\u001b[1;33m                        'value': keys_to_typing(value)})\n\u001b[0m\u001b[0;32m    480\u001b[0m \u001b[1;33m\u001b[0m\u001b[0m\n\u001b[0;32m    481\u001b[0m     \u001b[1;31m# RenderedWebElement Items\u001b[0m\u001b[1;33m\u001b[0m\u001b[1;33m\u001b[0m\u001b[1;33m\u001b[0m\u001b[0m\n",
      "\u001b[1;32mC:\\Anaconda3\\lib\\site-packages\\selenium\\webdriver\\remote\\webelement.py\u001b[0m in \u001b[0;36m_execute\u001b[1;34m(self, command, params)\u001b[0m\n\u001b[0;32m    631\u001b[0m             \u001b[0mparams\u001b[0m \u001b[1;33m=\u001b[0m \u001b[1;33m{\u001b[0m\u001b[1;33m}\u001b[0m\u001b[1;33m\u001b[0m\u001b[1;33m\u001b[0m\u001b[0m\n\u001b[0;32m    632\u001b[0m         \u001b[0mparams\u001b[0m\u001b[1;33m[\u001b[0m\u001b[1;34m'id'\u001b[0m\u001b[1;33m]\u001b[0m \u001b[1;33m=\u001b[0m \u001b[0mself\u001b[0m\u001b[1;33m.\u001b[0m\u001b[0m_id\u001b[0m\u001b[1;33m\u001b[0m\u001b[1;33m\u001b[0m\u001b[0m\n\u001b[1;32m--> 633\u001b[1;33m         \u001b[1;32mreturn\u001b[0m \u001b[0mself\u001b[0m\u001b[1;33m.\u001b[0m\u001b[0m_parent\u001b[0m\u001b[1;33m.\u001b[0m\u001b[0mexecute\u001b[0m\u001b[1;33m(\u001b[0m\u001b[0mcommand\u001b[0m\u001b[1;33m,\u001b[0m \u001b[0mparams\u001b[0m\u001b[1;33m)\u001b[0m\u001b[1;33m\u001b[0m\u001b[1;33m\u001b[0m\u001b[0m\n\u001b[0m\u001b[0;32m    634\u001b[0m \u001b[1;33m\u001b[0m\u001b[0m\n\u001b[0;32m    635\u001b[0m     \u001b[1;32mdef\u001b[0m \u001b[0mfind_element\u001b[0m\u001b[1;33m(\u001b[0m\u001b[0mself\u001b[0m\u001b[1;33m,\u001b[0m \u001b[0mby\u001b[0m\u001b[1;33m=\u001b[0m\u001b[0mBy\u001b[0m\u001b[1;33m.\u001b[0m\u001b[0mID\u001b[0m\u001b[1;33m,\u001b[0m \u001b[0mvalue\u001b[0m\u001b[1;33m=\u001b[0m\u001b[1;32mNone\u001b[0m\u001b[1;33m)\u001b[0m\u001b[1;33m:\u001b[0m\u001b[1;33m\u001b[0m\u001b[1;33m\u001b[0m\u001b[0m\n",
      "\u001b[1;32mC:\\Anaconda3\\lib\\site-packages\\selenium\\webdriver\\remote\\webdriver.py\u001b[0m in \u001b[0;36mexecute\u001b[1;34m(self, driver_command, params)\u001b[0m\n\u001b[0;32m    319\u001b[0m         \u001b[0mresponse\u001b[0m \u001b[1;33m=\u001b[0m \u001b[0mself\u001b[0m\u001b[1;33m.\u001b[0m\u001b[0mcommand_executor\u001b[0m\u001b[1;33m.\u001b[0m\u001b[0mexecute\u001b[0m\u001b[1;33m(\u001b[0m\u001b[0mdriver_command\u001b[0m\u001b[1;33m,\u001b[0m \u001b[0mparams\u001b[0m\u001b[1;33m)\u001b[0m\u001b[1;33m\u001b[0m\u001b[1;33m\u001b[0m\u001b[0m\n\u001b[0;32m    320\u001b[0m         \u001b[1;32mif\u001b[0m \u001b[0mresponse\u001b[0m\u001b[1;33m:\u001b[0m\u001b[1;33m\u001b[0m\u001b[1;33m\u001b[0m\u001b[0m\n\u001b[1;32m--> 321\u001b[1;33m             \u001b[0mself\u001b[0m\u001b[1;33m.\u001b[0m\u001b[0merror_handler\u001b[0m\u001b[1;33m.\u001b[0m\u001b[0mcheck_response\u001b[0m\u001b[1;33m(\u001b[0m\u001b[0mresponse\u001b[0m\u001b[1;33m)\u001b[0m\u001b[1;33m\u001b[0m\u001b[1;33m\u001b[0m\u001b[0m\n\u001b[0m\u001b[0;32m    322\u001b[0m             response['value'] = self._unwrap_value(\n\u001b[0;32m    323\u001b[0m                 response.get('value', None))\n",
      "\u001b[1;32mC:\\Anaconda3\\lib\\site-packages\\selenium\\webdriver\\remote\\errorhandler.py\u001b[0m in \u001b[0;36mcheck_response\u001b[1;34m(self, response)\u001b[0m\n\u001b[0;32m    206\u001b[0m             \u001b[1;32mif\u001b[0m \u001b[0mexception_class\u001b[0m \u001b[1;33m==\u001b[0m \u001b[0mErrorInResponseException\u001b[0m\u001b[1;33m:\u001b[0m\u001b[1;33m\u001b[0m\u001b[1;33m\u001b[0m\u001b[0m\n\u001b[0;32m    207\u001b[0m                 \u001b[1;32mraise\u001b[0m \u001b[0mexception_class\u001b[0m\u001b[1;33m(\u001b[0m\u001b[0mresponse\u001b[0m\u001b[1;33m,\u001b[0m \u001b[0mvalue\u001b[0m\u001b[1;33m)\u001b[0m\u001b[1;33m\u001b[0m\u001b[1;33m\u001b[0m\u001b[0m\n\u001b[1;32m--> 208\u001b[1;33m             \u001b[1;32mraise\u001b[0m \u001b[0mexception_class\u001b[0m\u001b[1;33m(\u001b[0m\u001b[0mvalue\u001b[0m\u001b[1;33m)\u001b[0m\u001b[1;33m\u001b[0m\u001b[1;33m\u001b[0m\u001b[0m\n\u001b[0m\u001b[0;32m    209\u001b[0m         \u001b[1;32mif\u001b[0m \u001b[0mmessage\u001b[0m \u001b[1;33m==\u001b[0m \u001b[1;34m\"\"\u001b[0m \u001b[1;32mand\u001b[0m \u001b[1;34m'message'\u001b[0m \u001b[1;32min\u001b[0m \u001b[0mvalue\u001b[0m\u001b[1;33m:\u001b[0m\u001b[1;33m\u001b[0m\u001b[1;33m\u001b[0m\u001b[0m\n\u001b[0;32m    210\u001b[0m             \u001b[0mmessage\u001b[0m \u001b[1;33m=\u001b[0m \u001b[0mvalue\u001b[0m\u001b[1;33m[\u001b[0m\u001b[1;34m'message'\u001b[0m\u001b[1;33m]\u001b[0m\u001b[1;33m\u001b[0m\u001b[1;33m\u001b[0m\u001b[0m\n",
      "\u001b[1;31mWebDriverException\u001b[0m: Message: TypeError - undefined is not a constructor (evaluating '_getTagName(currWindow).toLowerCase()')\n"
     ]
    }
   ],
   "source": [
    "# 1. 웹사이트제어 : 크롬으로 네이버로그인 하기(1) - 캡차로직 미적용\n",
    "from selenium import webdriver\n",
    "USER = 'gilbaek'\n",
    "PASS = '**********'\n",
    "\n",
    "# browser = webdriver.PhantomJS(executable_path='./phantomjs/bin/phantomjs')\n",
    "browser = webdriver.Chrome(executable_path='d:/gilbaek/data/web/chromedriver.exe')\n",
    "browser.implicitly_wait(2)\n",
    "\n",
    "\n",
    "# 로그인페이지에 접근\n",
    "url_login = 'https://nid.naver.com/nidlogin.login'\n",
    "browser.get(url_login)\n",
    "print('웹페이지에 접근중...')\n",
    "\n",
    "# 텍스트박스에 아이디와 비밀번호 입력하기\n",
    "e = browser.find_element_by_id('id')\n",
    "e.clear()\n",
    "e.send_keys(USER)\n",
    "e = browser.find_element_by_id('pw')\n",
    "e.clear()\n",
    "e.send_keys(PASS)\n",
    "\n",
    "# 입력양식을 전송해서 로그인하기\n",
    "form = browser.find_element_by_css_selector(\"input.btn_global[type=submit]\")\n",
    "form.submit()\n",
    "print('로그인버튼클릭 : 로그인중...')\n",
    "\n",
    "# 쇼핑페이지의 데이터 가져오기\n",
    "browser.get(\"https://order.pay.naver.com/home?tabMenu=SHOPPING\")\n",
    "\n",
    "# 쇼핑목록 출력하기\n",
    "#products = browser.find_element_by_css_selector('div.p_inr > div.p_info > a > span')\n",
    "# print(products)\n",
    "# for product in products:\n",
    "#     print(\"-\", product.text)"
   ]
  },
  {
   "cell_type": "code",
   "execution_count": 56,
   "metadata": {},
   "outputs": [
    {
     "name": "stdout",
     "output_type": "stream",
     "text": [
      "[포멜카멜레] 가방 FCPPF2HD001 P5\n"
     ]
    }
   ],
   "source": [
    "# 2. 웹사이트제어 : 크롬으로 네이버로그인 하기(2) - 캡차로직 적용\n",
    "from selenium import webdriver\n",
    "import time\n",
    "\n",
    "id = 'gilbaek'\n",
    "pw = '**********'\n",
    "\n",
    "driver = webdriver.Chrome(executable_path='d:/gilbaek/data/web/chromedriver')\n",
    "driver.implicitly_wait(2)\n",
    "driver.get('https://nid.naver.com/nidlogin.login')\n",
    "driver.execute_script(\"document.getElementsByName('id')[0].value=\\'\" + id + \"\\'\")\n",
    "driver.execute_script(\"document.getElementsByName('pw')[0].value=\\'\" + pw + \"\\'\")\n",
    "driver.find_element_by_xpath('//*[@id=\"frmNIDLogin\"]/fieldset/input').click()\n",
    "time.sleep(2)\n",
    "\n",
    "# 쇼핑페이지의 데이터 가져오기\n",
    "driver.get(\"https://order.pay.naver.com/home?tabMenu=SHOPPING\")\n",
    "\n",
    "# 쇼핑목록 출력하기\n",
    "products = driver.find_element_by_css_selector \\\n",
    "('div#_listContentArea > div.goods_pay_section > div > ul > li > div.goods_item > div.goods_info > a > p')\n",
    "print(products.text)"
   ]
  },
  {
   "cell_type": "code",
   "execution_count": 57,
   "metadata": {},
   "outputs": [
    {
     "name": "stdout",
     "output_type": "stream",
     "text": [
      "Pname:[포멜카멜레] 가방 FCPPF2HD001 P5\tPdate:2019.07.15\tPrice:26,490원\n",
      "Pname:지위픽 ZIWI PEAK 사료 샘플신청\tPdate:2019.07.15\tPrice:3,000원\n",
      "Pname:논다 강아지 발세척기 애견 머드버스터\tPdate:2019.04.25\tPrice:4,820원\n",
      "Pname:쁘리엘르 관절보호를 위한 강아지계단/애견스텝/강아지집\tPdate:2018.12.27\tPrice:25,900원\n",
      "Pname:HARNESS JACKET / BLACK\tPdate:2018.12.20\tPrice:55,000원\n",
      "Pname:[헤지스 ACC] 핑크 가죽 토트백 HIBA7F036 P2\tPdate:2018.10.07\tPrice:105,840원\n",
      "Pname:필립스 HUE 3.0 세트/스타터 킷/스마트 조명 (공식쇼핑몰)\tPdate:2018.07.09\tPrice:110,000원\n",
      "Pname:필립스 휴 3.0 램프 1600만 컬러표현 벌브 스마트조명\tPdate:2018.07.09\tPrice:96,000원\n",
      "Pname:필립스 HUE 디머 스위치 / Dimmer switch\tPdate:2018.07.09\tPrice:21,000원\n",
      "Pname:컴스몰 [ER250] Coms 태양광 정원등/가든램프 (LED/전구색)\tPdate:2018.07.03\tPrice:11,200원\n"
     ]
    }
   ],
   "source": [
    "# 쇼핑목록 출력하기\n",
    "products = driver.find_elements_by_css_selector(\"div.goods_item>div>a\")\n",
    "for product in products:\n",
    "    pname = product.find_element_by_css_selector(\"p\").text\n",
    "    price = product.find_elements_by_css_selector(\"li\")[0].text\n",
    "    pdate = product.find_elements_by_css_selector(\"li\")[1].text\n",
    "    print(f\"Pname:{pname}\\tPdate:{pdate}\\tPrice:{price}\")"
   ]
  },
  {
   "cell_type": "markdown",
   "metadata": {},
   "source": [
    "##### 실습 1. 도서목록수집(교보문고)"
   ]
  },
  {
   "cell_type": "code",
   "execution_count": 117,
   "metadata": {},
   "outputs": [
    {
     "name": "stdout",
     "output_type": "stream",
     "text": [
      "22 권이 검색되었습니다!\n",
      "================================================================================\n",
      "혼자 공부하는 파이썬\n",
      "Do it! 점프 투 파이썬\n",
      "두근두근 파이썬\n",
      "어서와 파이썬은 처음이지!\n",
      "머신 러닝 교과서 with 파이썬  사이킷런  텐서플로\n",
      "파이썬 라이브러리를 활용한 머신러닝\n",
      "파이썬 라이브러리를 활용한 데이터 분석\n",
      "케라스 창시자에게 배우는 딥러닝(Deep Learning with Python)\n",
      "Effective Python 파이썬 코딩의 기술\n",
      "파이썬 머신러닝 완벽 가이드\n",
      "실무자를 위한 파이썬 100제\n",
      "파이썬 데이터 분석 입문\n",
      "파이썬 데이터 사이언스 핸드북\n",
      "컴퓨팅 사고력을 키우는 SW 교육: 파이썬\n",
      "파이썬 자료구조와 알고리즘\n",
      "Python 실습으로 기초부터\n",
      "파이썬 머신러닝 판다스 데이터 분석\n",
      "Python 프로그래밍의 이해\n",
      "파이썬 클린 코드\n",
      "파이썬 웹프로그래밍(실전편)\n",
      "파이썬(Python)(다양한 예제로 배우는 완전 쉬운)\n",
      "Python Essential Reference, 2/e\n"
     ]
    }
   ],
   "source": [
    "from urllib.request import urlopen\n",
    "from bs4 import BeautifulSoup as bs\n",
    "\n",
    "# 교보문고 사이트에서 python책 검색\n",
    "html = urlopen('http://www.kyobobook.co.kr/search/SearchCommonMain.jsp?vPstrCategory=TOT&vPstrKeyWord=python&vPplace=top')\n",
    "soup = bs(html, 'html.parser')\n",
    "\n",
    "# bs.select() 사용\n",
    "titles = soup.select('td.detail div.title > a > strong')\n",
    "\n",
    "print(len(titles), '권이 검색되었습니다!')\n",
    "print(\"=\"*80)\n",
    "for title in titles:\n",
    "    print(title.string.strip())\n",
    "\n",
    "# 결과\n",
    "# 22 권이 검색되었습니다!\n",
    "# ============================================================\n",
    "# 케라스 창시자에게 배우는 딥러닝(Deep Learning with Python)\n",
    "# Do it! 점프 투 파이썬\n",
    "# 파이썬 웹 프로그래밍\n",
    "# 파이썬 라이브러리를 활용한 머신러닝"
   ]
  },
  {
   "cell_type": "markdown",
   "metadata": {},
   "source": [
    "##### 실습 2. 다음에서 영화리뷰수집"
   ]
  },
  {
   "cell_type": "code",
   "execution_count": 118,
   "metadata": {},
   "outputs": [
    {
     "name": "stdout",
     "output_type": "stream",
     "text": [
      "\n",
      "먹방 장면은 볼만함\n",
      "최근 백두산 봤는데 그것보다 10000배 잘만듬\n",
      "\n",
      "간만에 다시 봤는데도 매순간 쫄깃하게 재밌어요. 곽도원이랑 정우성 합도 너무 좋고. 교회 앞에서 헤어질때 울컥 했네요. 남과북 빨리 교류라도 자유롭게 할 수 있었으면 좋겠다는 생각이 들어요.\n",
      "두번밨음...잼있어\n",
      "굿~~~ 이었지\n",
      "\n",
      "처음 봤을땐 괜찮은 오락물이라고 생각했는데 두번째 보고 더 괜찮다고 생각된 영화. 설정은 말이 안되는 부분이 많지만 재미로 이정도는 커버되는듯\n",
      "\n",
      "\n",
      "10대, 20대 남자들 이외에 평점 제대로 안나올 후진 영화,,,  스토리 설정 개판\n",
      "휴전선이 누구네집 대문도 아니고 다급하다는 북측 중국관료 말 한마디로 그렇게 허술하게 뚫리나? 남북 통일이 아무리 절실해도 북한군인이 바로 자유로로 내달리는 상상력은 웹툰에서나 용서될 일. 초장부터 이렇고 나머지 지적질은 이하 생략.\n",
      "어떻게 이런 영화를 만들었는지..한번 더 보고싶네여\n",
      "감독이 공부 많이 하고 써내려간 작품이라는게 느껴짐.\n",
      "\n",
      "영화관 가서 두 번 보고 옥수수에서 세 번 구매하고오늘 간만에 무료 영화 사이트에서 또 한 번 봤지만질리지 않고 흥미진진한한국형 블록보스터의 절정체우리만 할 수 있는 이야기그리고 우리만 느낄 수 있는 긴장감과 감동\n",
      "우리만 가능한 이야기. 20분쯤 덜어내도 좋았을듯.\n",
      "극을 이끌어나가는 연출력이 조금만 세련됐더라면.. 하는 아쉬움이 남지만 같은 아픔안에 사는 대한민국 국민으로서 작은 구멍 몇개는 내 감성으로 스스로 메꿔 가슴 먹먹하기에 충분하더라..ㅠㅠ) \n",
      "\n",
      "\n",
      "\n",
      "원래 하나였기에 반드시 하나가 되어야 하는 게 숙명이다. 묵직한 울림이 있었다.\n",
      "\n",
      "\n",
      "\n",
      "\n",
      "약간의 코미디, 흥미진진한 가상의 시나리오. 그리고 남과 북의 우정\n",
      "좋은생각!반을 주시오ㅡ\n",
      ".\n",
      "맞네요.이해가 안가면 이익으로라도 봐라\n",
      "\n",
      "이경영이 악역으로 많이 나와서 선한 역할로 나오면 이상하다.\n",
      "전체적으로 상상력을 겸비한 시나리오와 남북한의 이해관계를 잘 설명해줬지만, 배우들의 연기를 자연스럽게 이끌어내지 못한 매끄럽지못한 연출력과 특히 부자연스러운 카메라는 점수주기가 어렵다\n",
      "무기, 전술, 남북의 상황과 미국과 중국 그리고 일본의 태도와 입장....너무 현실적이라서 마음이 많이 아프고 공감됐습니다. 이 영화의 디테일들이 제가 알고 있는 휴전 한반도를 잘 표현했다 생각되네요.\n",
      "\n",
      "\n",
      "중간중간내용이 굳이 기네요\n",
      ".\n",
      "\n",
      "\n",
      "결론 이해 안됨\n",
      "\n",
      "편집은 힌국영화중 최고!\n",
      "\n",
      "\n",
      "\n",
      "참 잘만들어졌고 좋은 영화다!\n",
      "재밌습니다  영화가 나온시기늘 고려해보면 뭔가와닿기도하고\n",
      "왜 이 영화를 이제야 봤지....\n",
      "마치 게임 속 주인공처럼 몰입한 영화 주인공 절대 죽지 않는다는 공식\n",
      "\n",
      "재밌네요\n",
      "곽도원도 역할이랑 안어울림점 높은 이유가 머지\n",
      "종간나 새끼 영화를 말아먹고 있어스러워 보인다 \n",
      "남북간의 느닷없는 협상긴 했음 \n",
      "\n",
      "감동도 있다!\n",
      "주연 두 분 연기 엄청 잘하시고 케미도 폭팔함 덕분에 작게 웃음 주는 요소들이 많았음\n",
      "진짜같아서 재미있던 영화\n",
      "\n",
      "또 보고 싶어요\n",
      "이런 류의 영화가 많다보니.. 기억이 나지 않지만 연기력은 좋았던듯!\n",
      "\n",
      "이만큼의 상상력으로, 이렇게 통쾌하고 이렇게 깔끔하게. 종전선언 전 한반도에서 가장 드림한 시나리오! 스토리 연출 연기 모두 너무 좋았음!!\n",
      "스토리도 상당히 신경썼고, 영화 막판까지 재미있음.끝내주네.\n",
      "볼만함\n",
      "두 번 봤다\n",
      "배우들을 제대로 활용하지 못한 좋은 예...\n",
      "에피소드 흐름이 조금만 섬세했으면\n",
      "최고의 영화\n",
      "이영화는  말로 표현을 못하겠네요 ㅠㅠ\n",
      "\n",
      "재밌네 더 흥미진진했으면 더 좋았을듯\n",
      "서정적이면서 역동적인 gd노래하고도 잘어울립니다 ㅋㅋ\n",
      "생각보다 잼 있네..마지막 북 핵  얻는 씬은 너무좋네..\n",
      "은근히 몰입된다.\n",
      "잘봤습니다.\n",
      "매우  잘 만든영화. 다들 한번씩 보슈\n",
      "\n",
      "스토리가 재밌고 작품성 있음~ 곽도원 보수캐릭터 연기가 잼남.. 정우성 나온 영화중 젤 잼남ㅎㅎ\n",
      "무조건 한반도에서 더 이상 전쟁은 안 된다.\n",
      "나도 철우다 ㅎ시작한다\n",
      "\n",
      "\n",
      "평화를 위한 문재인대통령의 외교가 얼마나 대단한 건지 새삼 느끼게 하는 영화\n",
      "전반적로 상당히 있슴직한 얘기를 두남자를 통해 감동적으로 표현 했다. 현실감이 떨어지는 부분도 여러군데 있었지만.\n",
      "짠하다\n",
      "헐\n",
      "\n",
      "모든 점에서 놀랍고 흥미롭고 액션 터지고 감동 터지는 영화다. 작가나 감독은 공부 엄청했겠다는 생각... 최고의 작품!!! 고마워요ㅎㅎ\n",
      "\n",
      "재미 감동 연기 나름 스케일까지 굿!\n",
      "현실적으로 한반도의 평화를 남한이나 북한이나 모두 원하고 있다는  것을 느꼈고...분단을 정치적으로 악용하는 자들이 있다는 것에 마음이 아프다. 함께 살아야하는 우리 민족...ㅠㅠ\n",
      "비현실적인 면이 있다지만, 1년전만 생각해도 우리가 이렇게 될 수도 있지 않았나?\n",
      "특히 총격씬 연출은 아주 훌륭하다!!!흠이긴 하나, 전체적인 연출은 훌륭하고 볼만하다!!!\n",
      "잘만든 영화\n",
      "\n",
      "그리고 정우성 강철비를 찍었우면서 삼성을 위한 난민 찬양 하는건가\n",
      "\n",
      "파일저장완료\n"
     ]
    }
   ],
   "source": [
    "# 결과를 저장할 파일 오픈\n",
    "file = open('d:/gilbaek/data/web/강철비.txt', 'w', encoding='utf-8')\n",
    "\n",
    "review_list = []\n",
    "\n",
    "for i in range(1, 11): # 1~10페이지까지만 검색\n",
    "    url = 'https://movie.daum.net/moviedb/grade?movieId=108880&' \\\n",
    "            'type=netizen&page={0}'.format(i)\n",
    "    webpage = urlopen(url)\n",
    "    source = bs(webpage, 'html.parser', from_encoding='utf-8')\n",
    "    reviews = source.select('#mArticle > div.detail_movie.detail_rating > div.movie_detail > div.main_detail > ul > li > div > p')\n",
    "    \n",
    "    for review in reviews:\n",
    "        str = review.get_text().strip()\n",
    "        print(str)\n",
    "        review_list.append(str)\n",
    "        \n",
    "# 파일저장\n",
    "for review in review_list:\n",
    "    file.write(review + '\\n')\n",
    "\n",
    "file.close()\n",
    "print('파일저장완료')\n",
    "    \n",
    "# 결과\n",
    "# 먹방 장면은 볼만함\n",
    "# 최근 백두산 봤는데 그것보다 10000배 잘만듬\n",
    "\n",
    "# 간만에 다시 봤는데도 매순간 쫄깃하게 재밌어요. 곽도원이랑 정우성 합도 너무 좋고. 교회 앞에서 헤어질때 울컥 했네요. 남과북 빨리 교류라도 자유롭게 할 수 있었으면 좋겠다는 생각이 들어요.\n",
    "# 두번밨음...잼있어\n",
    "# 굿~~~ 이었지"
   ]
  },
  {
   "cell_type": "code",
   "execution_count": 53,
   "metadata": {},
   "outputs": [
    {
     "name": "stdout",
     "output_type": "stream",
     "text": [
      "책이름?파이썬\n",
      " 3,373 건이 검색되었습니다.\n",
      "-----------------------\n",
      "혼자 공부하는 파이썬\n",
      "두근두근 파이썬\n",
      "Do it! 점프 투 파이썬\n",
      "밑바닥부터 시작하는 딥러닝\n",
      "케라스 창시자에게 배우는 딥러닝(Deep Learning with Python)\n",
      "머신 러닝 교과서 with 파이썬, 사이킷런, 텐서플로\n",
      "파이썬 머신러닝 완벽 가이드\n",
      "초보자를 위한 파이썬(Python) 200제\n",
      "어서와 파이썬은 처음이지!\n",
      "The Python - 파이썬 프로그래밍(합본)\n",
      "파이썬 라이브러리를 활용한 머신러닝\n",
      "파이썬 라이브러리를 활용한 데이터 분석\n",
      "모두의 데이터 분석 with 파이썬\n",
      "실무자를 위한 파이썬 100제\n",
      "작심 3일 파이썬 Python\n",
      "파이썬(Python): 1학년\n",
      "컴퓨팅 사고력을 키우는 SW 교육: 파이썬\n",
      "씽크 파이썬(Think Python)\n",
      "파이썬과 리액트를 활용한 주식 자동 거래 시스템 구축\n",
      "Let’s Start Coding with Raptor & Python (랩터 & 파이썬)\n",
      "작심 3일 파이썬 Python\n",
      "Let’s Start Coding with Raptor & Python (랩터 & 파이썬)\n"
     ]
    }
   ],
   "source": [
    "# 연습문제 : 교보문고에서 책검색 함수 만들기\n",
    "import urllib\n",
    "from urllib.request import urlopen\n",
    "from bs4 import BeautifulSoup\n",
    "\n",
    "def book_search(book_name):\n",
    "    # 교보문고 사이트에서 python책 검색\n",
    "    html = urlopen(f'https://search.kyobobook.co.kr/web/search?vPstrKeyWord={urllib.parse.quote(book_name)}')\n",
    "    soup = BeautifulSoup(html, 'html.parser')\n",
    "\n",
    "    result_count = soup.find('a', id=\"searchCategory_0\").find('small').text\n",
    "    books = soup.select(\"td.detail\")\n",
    "\n",
    "    print(result_count, \"건이 검색되었습니다.\")\n",
    "    print(\"-----------------------\")\n",
    "    for book in books:\n",
    "        bname = book.find('div', class_=\"title\").find('strong').text.strip()\n",
    "        print(bname)\n",
    "\n",
    "## main\n",
    "\n",
    "book_name = input(\"책이름?\")\n",
    "book_search(book_name)"
   ]
  },
  {
   "cell_type": "code",
   "execution_count": 54,
   "metadata": {},
   "outputs": [],
   "source": [
    "# 연습문제 : 다음영화리뷰에서 강철비의 평균평점\n",
    "# 1. mysql : movie_avg(id, score) 생성\n",
    "# 2. movie_avg의 score의 평균출력\n",
    "\n",
    "file = open('../data/web/강철비.txt', 'w', encoding='utf-8')\n",
    "\n",
    "from urllib.request import urlopen\n",
    "from bs4 import BeautifulSoup\n",
    "import math\n",
    "\n",
    "grade_list = []\n",
    "for i in range(1,10):\n",
    "    url = f'https://movie.daum.net/moviedb/grade?movieId=108880&type=netizen&page={i}'\n",
    "    html = urlopen(url)\n",
    "    soup = BeautifulSoup(html, 'html.parser')\n",
    "    reviews = soup.select('div.review_info')\n",
    "\n",
    "    file.write(\"-\"*50)\n",
    "    file.write(str(i)+\"번 페이지\")\n",
    "    file.write(\"-\"*50+'\\n')\n",
    "    for review in reviews:        \n",
    "        rev = review.find('p',class_='desc_review').text.strip()\n",
    "        grade = review.find('em',class_='emph_grade').text.strip()\n",
    "        grade_list.append(int(grade))    \n",
    "        file.write('#'+rev+'\\t'+grade+'\\n')\n",
    "file.write(str(i)+'페이지까지의 평균 평점 : ' + str(sum(grade_list)/len(grade_list)))\n",
    "file.close()"
   ]
  },
  {
   "cell_type": "markdown",
   "metadata": {},
   "source": [
    "##### 실습 3. 파이썬 크롤링(html, Ajax, JavaScript)"
   ]
  },
  {
   "cell_type": "code",
   "execution_count": 121,
   "metadata": {},
   "outputs": [
    {
     "name": "stdout",
     "output_type": "stream",
     "text": [
      "장고 2.0 주요 변경내역 살펴보기 https://www.askcompany.kr/r/sections/f04de5e/\n",
      "(기초편) 장고 차근차근 시작하기 2/E https://www.askcompany.kr/r/sections/dfc55e7/\n",
      "(중급편) 장고 기본인증 뽀개기 https://www.askcompany.kr/r/sections/5bb1344/\n",
      "(중급편) 장고 Form/ModelForm 제대로 알고 쓰기 https://www.askcompany.kr/r/sections/72d2474/\n",
      "(중급편) 클래스 기반 뷰 잘 알고 쓰기 https://www.askcompany.kr/r/sections/387169d/\n",
      "(배포) 빠르게 살펴보는 Azure PaaS를 활용한 인프라 스트레스없는 웹서비스 배포 https://www.askcompany.kr/r/sections/7d64b4a/\n",
      "(초급) Pandas 워밍업 https://www.askcompany.kr/r/sections/f5bf323/\n",
      "(초급) 10 Minutes to Pandas 따라하기 https://www.askcompany.kr/r/sections/d8ccb08/\n",
      "Google Dialogflow와 파이썬/장고를 활용하여, 카카오톡 챗봇 만들기 (초급편) https://www.askcompany.kr/r/sections/d47e585/\n",
      "개발환경 구축하기 https://www.askcompany.kr/vod/setup/\n",
      "파이썬 차근차근 시작하기 https://www.askcompany.kr/vod/python/\n",
      "크롤링 차근차근 시작하기 https://www.askcompany.kr/vod/crawling/\n",
      "파이썬으로 업무 자동화 https://www.askcompany.kr/vod/automation/\n",
      "장고 - 기본편 https://www.askcompany.kr/vod/django/\n",
      "장고걸스 튜토리얼 https://www.askcompany.kr/vod/djangogirls/\n",
      "장고 - Form/ModelForm 잘 알고 쓰기 https://www.askcompany.kr/vod/form/\n",
      "장고 - 클래스 기반 뷰. 잘 알고 쓰기 https://www.askcompany.kr/vod/cbv/\n",
      "장고 - 결제 시스템 연동 https://www.askcompany.kr/vod/payment/\n",
      "장고 - 웹 프론트엔드 시작편 https://www.askcompany.kr/vod/frontend/\n",
      "장고 - 다양한 위젯 만들기 https://www.askcompany.kr/vod/widgets/\n",
      "장고 - API 서버 만들기 및 초간단 안드로이드 앱 만들기 https://www.askcompany.kr/vod/apiserver/\n",
      "장고 - 하이브리드 앱 만들기 https://www.askcompany.kr/vod/hybrid/\n",
      "장고 - 서비스 배포하기 https://www.askcompany.kr/vod/deploy/\n",
      "장고 - 실전편 (Feat. 배달의 민족 St. 만들기) https://www.askcompany.kr/vod/django-baemin/\n",
      "장고 - 실전편 (Feat. 인스타그램 St. 만들기) https://www.askcompany.kr/vod/django-instagram/\n"
     ]
    }
   ],
   "source": [
    "# 1. Ajax\n",
    "# 크롬을 기준으로\n",
    "# 1) 개발자도구\n",
    "# 2) Network선택후 F5를 누르면 네트워크상으로 받아지는 데이터가 보여진다.\n",
    "# 3) data.json을 선택\n",
    "# 4) 오른쪽 버튼 클릭후 \"Open in new tab\"\n",
    "# 5) 주소창에서 주소복사\n",
    "\n",
    "import requests\n",
    "import json\n",
    "\n",
    "data_json_url = 'https://askdjango.github.io/lv2/data.json'\n",
    "json_string = requests.get(data_json_url).text\n",
    "json_string\n",
    "\n",
    "# json.loads()함수를 이용해서 dict형으로 변환\n",
    "course_list = json.loads(json_string)\n",
    "course_list\n",
    "\n",
    "for k, courses in course_list.items():\n",
    "    for course in courses:\n",
    "        print('{name} {url}'.format(**course))"
   ]
  },
  {
   "cell_type": "code",
   "execution_count": 1,
   "metadata": {},
   "outputs": [
    {
     "name": "stdout",
     "output_type": "stream",
     "text": [
      "<!doctype html>\n",
      "<html lang=\"ko\">\n",
      "<head>\n",
      "<meta charset=\"utf-8\" />\n",
      "<title>[레벨3] 자바스크립트 렌더링 크롤링</title>\n",
      "<style>\n",
      "#logo {\n",
      "    max-width: 100%;\n",
      "}\n",
      "</style>\n",
      "<script src=\"https://code.jquery.com/jquery-2.2.4.min.js\"></script>\n",
      "<script>\n",
      "$(function() {\n",
      "    var s2_courses = [\n",
      "        { \"name\": \"장고 2.0 주요 변경내역 살펴보기\", \"url\": \"https://www.askcompany.kr/r/sections/f04de5e/\" },\n",
      "        { \"name\": \"(기초편) 장고 차근차근 시작하기 2/E\", \"url\": \"https://www.askcompany.kr/r/sections/dfc55e7/\" },\n",
      "        { \"name\": \"(중급편) 장고 기본인증 뽀개기\", \"url\": \"https://www.askcompany.kr/r/sections/5bb1344/\" },\n",
      "        { \"name\": \"(중급편) 장고 Form/ModelForm 제대로 알고 쓰기\", \"url\": \"https://www.askcompany.kr/r/sections/72d2474/\" },\n",
      "        { \"name\": \"(중급편) 클래스 기반 뷰 잘 알고 쓰기\", \"url\": \"https://www.askcompany.kr/r/sections/387169d/\" },\n",
      "        { \"name\": \"(배포) 빠르게 살펴보는 Azure PaaS를 활용한 인프라 스트레스없는 웹서비스 배포\", \"url\": \"https://www.askcompany.kr/r/sections/7d64b4a/\" },\n",
      "        { \"name\": \"(초급) Pandas 워밍업\", \"url\": \"https://www.askcompany.kr/r/sections/f5bf323/\" },\n",
      "        { \"name\": \"(초급) 10 Minutes to Pandas 따라하기\", \"url\": \"https://www.askcompany.kr/r/sections/d8ccb08/\" },\n",
      "        { \"name\": \"Google Dialogflow와 파이썬/장고를 활용하여, 카카오톡 챗봇 만들기 (초급편)\", \"url\": \"https://www.askcompany.kr/r/sections/d47e585/\" }\n",
      "    ];\n",
      "    $.each(s2_courses, function(idx, course) {\n",
      "        var html = '<li class=\"course\"><a href=\"' + course.url + '\">' + course.name + '</a></li>';\n",
      "        $('#s2_course_list').append($(html));\n",
      "    });\n",
      "\n",
      "    var s1_courses = [\n",
      "        {\"name\": \"개발환경 구축하기\", \"url\": \"https://www.askcompany.kr/vod/setup/\"},\n",
      "        {\"name\": \"파이썬 차근차근 시작하기\", \"url\": \"https://www.askcompany.kr/vod/python/\"},\n",
      "        {\"name\": \"크롤링 차근차근 시작하기\", \"url\": \"https://www.askcompany.kr/vod/crawling/\"},\n",
      "        {\"name\": \"파이썬으로 업무 자동화\", \"url\": \"https://www.askcompany.kr/vod/automation/\"},\n",
      "        {\"name\": \"장고 - 기본편\", \"url\": \"https://www.askcompany.kr/vod/django/\"},\n",
      "        {\"name\": \"장고걸스 튜토리얼\", \"url\": \"https://www.askcompany.kr/vod/djangogirls/\"},\n",
      "        {\"name\": \"장고 - Form/ModelForm 잘 알고 쓰기\", \"url\": \"https://www.askcompany.kr/vod/form/\"},\n",
      "        {\"name\": \"장고 - 클래스 기반 뷰. 잘 알고 쓰기\", \"url\": \"https://www.askcompany.kr/vod/cbv/\"},\n",
      "        {\"name\": \"장고 - 결제 시스템 연동\", \"url\": \"https://www.askcompany.kr/vod/payment/\"},\n",
      "        {\"name\": \"장고 - 웹 프론트엔드 시작편\", \"url\": \"https://www.askcompany.kr/vod/frontend/\"},\n",
      "        {\"name\": \"장고 - 다양한 위젯 만들기\", \"url\": \"https://www.askcompany.kr/vod/widgets/\"},\n",
      "        {\"name\": \"장고 - API 서버 만들기 및 초간단 안드로이드 앱 만들기\", \"url\": \"https://www.askcompany.kr/vod/apiserver/\"},\n",
      "        {\"name\": \"장고 - 하이브리드 앱 만들기\", \"url\": \"https://www.askcompany.kr/vod/hybrid/\"},\n",
      "        {\"name\": \"장고 - 서비스 배포하기\", \"url\": \"https://www.askcompany.kr/vod/deploy/\"},\n",
      "        {\"name\": \"장고 - 실전편 (Feat. 배달의 민족 St. 만들기)\", \"url\": \"https://www.askcompany.kr/vod/django-baemin/\"},\n",
      "        {\"name\": \"장고 - 실전편 (Feat. 인스타그램 St. 만들기)\", \"url\": \"https://www.askcompany.kr/vod/django-instagram/\"}\n",
      "    ];\n",
      "    $.each(s1_courses, function(idx, course) {\n",
      "        var html = '<li class=\"course\"><a href=\"' + course.url + '\">' + course.name + '</a></li>';\n",
      "        $('#s1_course_list').append($(html));\n",
      "    });\n",
      "});\n",
      "</script>\n",
      "</head>\n",
      "<body>\n",
      "<h1>Ask Company VOD</h1>\n",
      "\n",
      "<h2>[레벨3] 자바스크립트 렌더링 크롤링</h2>\n",
      "\n",
      "<p>본 페이지는 자바스크립트 객체를 통해 컨텐츠가 추가됩니다.</p>\n",
      "\n",
      "<h3>시즌2</h3>\n",
      "\n",
      "<ul id=\"s2_course_list\"></ul>\n",
      "\n",
      "<h3>시즌1</h3>\n",
      "\n",
      "<ul id=\"s1_course_list\"></ul>\n",
      "\n",
      "<img src=\"https://askcompanyjpe.blob.core.windows.net/static/askcompany-og.jpg\" id=\"logo\" />\n",
      "\n",
      "<hr/>\n",
      "\n",
      "<h3>미션</h3>\n",
      "\n",
      "<ul>\n",
      "    <li>위 VOD 코스의 코스명과 URL을 크롤링</li>\n",
      "    <li>제약사항 : requests 라이브러리만을 사용하세요.</li>\n",
      "</ul>\n",
      "\n",
      "실행 예시\n",
      "\n",
      "<pre>\n",
      "    장고 2.0 주요 변경내역 살펴보기 https://www.askcompany.kr/r/sections/f04de5e/\n",
      "    (기초편) 장고 차근차근 시작하기 2/E https://www.askcompany.kr/r/sections/dfc55e7/\n",
      "    (중급편) 장고 기본인증 뽀개기 https://www.askcompany.kr/r/sections/5bb1344/\n",
      "    (중급편) 장고 Form/ModelForm 제대로 알고 쓰기 https://www.askcompany.kr/r/sections/72d2474/\n",
      "    (중급편) 클래스 기반 뷰 잘 알고 쓰기 https://www.askcompany.kr/r/sections/387169d/\n",
      "    (배포) 빠르게 살펴보는 Azure PaaS를 활용한 인프라 스트레스없는 웹서비스 배포 https://www.askcompany.kr/r/sections/7d64b4a/\n",
      "    (초급) Pandas 워밍업 https://www.askcompany.kr/r/sections/f5bf323/\n",
      "    (초급) 10 Minutes to Pandas 따라하기 https://www.askcompany.kr/r/sections/d8ccb08/\n",
      "    Google Dialogflow와 파이썬/장고를 활용하여, 카카오톡 챗봇 만들기 (초급편) https://www.askcompany.kr/r/sections/d47e585/\n",
      "    개발환경 구축하기 https://www.askcompany.kr/vod/setup/\n",
      "    파이썬 차근차근 시작하기 https://www.askcompany.kr/vod/python/\n",
      "    크롤링 차근차근 시작하기 https://www.askcompany.kr/vod/crawling/\n",
      "    파이썬으로 업무 자동화 https://www.askcompany.kr/vod/automation/\n",
      "    장고 - 기본편 https://www.askcompany.kr/vod/django/\n",
      "    장고걸스 튜토리얼 https://www.askcompany.kr/vod/djangogirls/\n",
      "    장고 - Form/ModelForm 잘 알고 쓰기 https://www.askcompany.kr/vod/form/\n",
      "    장고 - 클래스 기반 뷰. 잘 알고 쓰기 https://www.askcompany.kr/vod/cbv/\n",
      "    장고 - 결제 시스템 연동 https://www.askcompany.kr/vod/payment/\n",
      "    장고 - 웹 프론트엔드 시작편 https://www.askcompany.kr/vod/frontend/\n",
      "    장고 - 다양한 위젯 만들기 https://www.askcompany.kr/vod/widgets/\n",
      "    장고 - API 서버 만들기 및 초간단 안드로이드 앱 만들기 https://www.askcompany.kr/vod/apiserver/\n",
      "    장고 - 하이브리드 앱 만들기 https://www.askcompany.kr/vod/hybrid/\n",
      "    장고 - 서비스 배포하기 https://www.askcompany.kr/vod/deploy/\n",
      "    장고 - 실전편 (Feat. 배달의 민족 St. 만들기) https://www.askcompany.kr/vod/django-baemin/\n",
      "    장고 - 실전편 (Feat. 인스타그램 St. 만들기) https://www.askcompany.kr/vod/django-instagram/\n",
      "</pre>\n",
      "\n",
      "<p>Ask Company 크롤링 VOD를 통해 크롤링의 기본을 배우고, 꾸준히 크롤링을 연습해보세요.</p>\n",
      "\n",
      "<hr/>\n",
      "    <p><a href=\"/\">home</a></p>\n",
      "    <p>\n",
      "    여러분의 파이썬/장고 페이스메이커가 되겠습니다. &dash; <a href=\"https://www.askcompany.kr/vod/\">Ask Company VOD</a>\n",
      "    </p>\n",
      "    <p>\n",
      "    &copy;\n",
      "    <script>document.write((new Date()).getYear() + 1900);</script>\n",
      "    Ask Company\n",
      "</p>\n",
      "</body>\n",
      "</html>\n",
      "\n"
     ]
    }
   ],
   "source": [
    "# 2. JavaScript tag 클롤링\n",
    "import requests\n",
    "import re\n",
    "url = 'https://askdjango.github.io/lv3/'\n",
    "html = requests.get(url).text\n",
    "print(html)"
   ]
  },
  {
   "cell_type": "code",
   "execution_count": 3,
   "metadata": {},
   "outputs": [
    {
     "name": "stdout",
     "output_type": "stream",
     "text": [
      "None\n"
     ]
    }
   ],
   "source": [
    "# 자바스크립 마지막엔 항상 세미콜론(;)이 있기 떄문에 정규식을 사용해서 \n",
    "# 세미콜론별로 잘라내기\n",
    "# 정규표현식에서 일부만 매칭되길 원하면 search()\n",
    "# 정규표현식에서 전부만 매칭되길 원하면 match()\n",
    "# r'var s2_courses = (.*);' -> 끝에 있는 ()부분을 모두 추출하겠다는 의미\n",
    "# 점(.)은 모든, 별표(*)는 모든 문자열 즉, .*모든 문자열을 추출\n",
    "\n",
    "# 하지만 None을 리턴했기 때문에 아무런 실행이 없다. \n",
    "re.search(r'var s2_courses = (.*);', html)\n",
    "print(re.search(r'var s2_courses = (.*);', html))"
   ]
  },
  {
   "cell_type": "code",
   "execution_count": 12,
   "metadata": {},
   "outputs": [
    {
     "name": "stdout",
     "output_type": "stream",
     "text": [
      "<class 'str'>\n",
      "(245, 5558)\n",
      "1\n",
      "[\n",
      "        { \"name\": \"장고 2.0 주요 변경내역 살펴보기\", \"url\": \"https://www.askcompany.kr/r/sections/f04de5e/\" },\n",
      "        { \"name\": \"(기초편) 장고 차근차근 시작하기 2/E\", \"url\": \"https://www.askcompany.kr/r/sections/dfc55e7/\" },\n",
      "        { \"name\": \"(중급편) 장고 기본인증 뽀개기\", \"url\": \"https://www.askcompany.kr/r/sections/5bb1344/\" },\n",
      "        { \"name\": \"(중급편) 장고 Form/ModelForm 제대로 알고 쓰기\", \"url\": \"https://www.askcompany.kr/r/sections/72d2474/\" },\n",
      "        { \"name\": \"(중급편) 클래스 기반 뷰 잘 알고 쓰기\", \"url\": \"https://www.askcompany.kr/r/sections/387169d/\" },\n",
      "        { \"name\": \"(배포) 빠르게 살펴보는 Azure PaaS를 활용한 인프라 스트레스없는 웹서비스 배포\", \"url\": \"https://www.askcompany.kr/r/sections/7d64b4a/\" },\n",
      "        { \"name\": \"(초급) Pandas 워밍업\", \"url\": \"https://www.askcompany.kr/r/sections/f5bf323/\" },\n",
      "        { \"name\": \"(초급) 10 Minutes to Pandas 따라하기\", \"url\": \"https://www.askcompany.kr/r/sections/d8ccb08/\" },\n",
      "        { \"name\": \"Google Dialogflow와 파이썬/장고를 활용하여, 카카오톡 챗봇 만들기 (초급편)\", \"url\": \"https://www.askcompany.kr/r/sections/d47e585/\" }\n",
      "    ];\n",
      "    $.each(s2_courses, function(idx, course) {\n",
      "        var html = '<li class=\"course\"><a href=\"' + course.url + '\">' + course.name + '</a></li>';\n",
      "        $('#s2_course_list').append($(html));\n",
      "    });\n",
      "\n",
      "    var s1_courses = [\n",
      "        {\"name\": \"개발환경 구축하기\", \"url\": \"https://www.askcompany.kr/vod/setup/\"},\n",
      "        {\"name\": \"파이썬 차근차근 시작하기\", \"url\": \"https://www.askcompany.kr/vod/python/\"},\n",
      "        {\"name\": \"크롤링 차근차근 시작하기\", \"url\": \"https://www.askcompany.kr/vod/crawling/\"},\n",
      "        {\"name\": \"파이썬으로 업무 자동화\", \"url\": \"https://www.askcompany.kr/vod/automation/\"},\n",
      "        {\"name\": \"장고 - 기본편\", \"url\": \"https://www.askcompany.kr/vod/django/\"},\n",
      "        {\"name\": \"장고걸스 튜토리얼\", \"url\": \"https://www.askcompany.kr/vod/djangogirls/\"},\n",
      "        {\"name\": \"장고 - Form/ModelForm 잘 알고 쓰기\", \"url\": \"https://www.askcompany.kr/vod/form/\"},\n",
      "        {\"name\": \"장고 - 클래스 기반 뷰. 잘 알고 쓰기\", \"url\": \"https://www.askcompany.kr/vod/cbv/\"},\n",
      "        {\"name\": \"장고 - 결제 시스템 연동\", \"url\": \"https://www.askcompany.kr/vod/payment/\"},\n",
      "        {\"name\": \"장고 - 웹 프론트엔드 시작편\", \"url\": \"https://www.askcompany.kr/vod/frontend/\"},\n",
      "        {\"name\": \"장고 - 다양한 위젯 만들기\", \"url\": \"https://www.askcompany.kr/vod/widgets/\"},\n",
      "        {\"name\": \"장고 - API 서버 만들기 및 초간단 안드로이드 앱 만들기\", \"url\": \"https://www.askcompany.kr/vod/apiserver/\"},\n",
      "        {\"name\": \"장고 - 하이브리드 앱 만들기\", \"url\": \"https://www.askcompany.kr/vod/hybrid/\"},\n",
      "        {\"name\": \"장고 - 서비스 배포하기\", \"url\": \"https://www.askcompany.kr/vod/deploy/\"},\n",
      "        {\"name\": \"장고 - 실전편 (Feat. 배달의 민족 St. 만들기)\", \"url\": \"https://www.askcompany.kr/vod/django-baemin/\"},\n",
      "        {\"name\": \"장고 - 실전편 (Feat. 인스타그램 St. 만들기)\", \"url\": \"https://www.askcompany.kr/vod/django-instagram/\"}\n",
      "    ];\n",
      "    $.each(s1_courses, function(idx, course) {\n",
      "        var html = '<li class=\"course\"><a href=\"' + course.url + '\">' + course.name + '</a></li>';\n",
      "        $('#s1_course_list').append($(html));\n",
      "    });\n",
      "});\n",
      "</script>\n",
      "</head>\n",
      "<body>\n",
      "<h1>Ask Company VOD</h1>\n",
      "\n",
      "<h2>[레벨3] 자바스크립트 렌더링 크롤링</h2>\n",
      "\n",
      "<p>본 페이지는 자바스크립트 객체를 통해 컨텐츠가 추가됩니다.</p>\n",
      "\n",
      "<h3>시즌2</h3>\n",
      "\n",
      "<ul id=\"s2_course_list\"></ul>\n",
      "\n",
      "<h3>시즌1</h3>\n",
      "\n",
      "<ul id=\"s1_course_list\"></ul>\n",
      "\n",
      "<img src=\"https://askcompanyjpe.blob.core.windows.net/static/askcompany-og.jpg\" id=\"logo\" />\n",
      "\n",
      "<hr/>\n",
      "\n",
      "<h3>미션</h3>\n",
      "\n",
      "<ul>\n",
      "    <li>위 VOD 코스의 코스명과 URL을 크롤링</li>\n",
      "    <li>제약사항 : requests 라이브러리만을 사용하세요.</li>\n",
      "</ul>\n",
      "\n",
      "실행 예시\n",
      "\n",
      "<pre>\n",
      "    장고 2.0 주요 변경내역 살펴보기 https://www.askcompany.kr/r/sections/f04de5e/\n",
      "    (기초편) 장고 차근차근 시작하기 2/E https://www.askcompany.kr/r/sections/dfc55e7/\n",
      "    (중급편) 장고 기본인증 뽀개기 https://www.askcompany.kr/r/sections/5bb1344/\n",
      "    (중급편) 장고 Form/ModelForm 제대로 알고 쓰기 https://www.askcompany.kr/r/sections/72d2474/\n",
      "    (중급편) 클래스 기반 뷰 잘 알고 쓰기 https://www.askcompany.kr/r/sections/387169d/\n",
      "    (배포) 빠르게 살펴보는 Azure PaaS를 활용한 인프라 스트레스없는 웹서비스 배포 https://www.askcompany.kr/r/sections/7d64b4a/\n",
      "    (초급) Pandas 워밍업 https://www.askcompany.kr/r/sections/f5bf323/\n",
      "    (초급) 10 Minutes to Pandas 따라하기 https://www.askcompany.kr/r/sections/d8ccb08/\n",
      "    Google Dialogflow와 파이썬/장고를 활용하여, 카카오톡 챗봇 만들기 (초급편) https://www.askcompany.kr/r/sections/d47e585/\n",
      "    개발환경 구축하기 https://www.askcompany.kr/vod/setup/\n",
      "    파이썬 차근차근 시작하기 https://www.askcompany.kr/vod/python/\n",
      "    크롤링 차근차근 시작하기 https://www.askcompany.kr/vod/crawling/\n",
      "    파이썬으로 업무 자동화 https://www.askcompany.kr/vod/automation/\n",
      "    장고 - 기본편 https://www.askcompany.kr/vod/django/\n",
      "    장고걸스 튜토리얼 https://www.askcompany.kr/vod/djangogirls/\n",
      "    장고 - Form/ModelForm 잘 알고 쓰기 https://www.askcompany.kr/vod/form/\n",
      "    장고 - 클래스 기반 뷰. 잘 알고 쓰기 https://www.askcompany.kr/vod/cbv/\n",
      "    장고 - 결제 시스템 연동 https://www.askcompany.kr/vod/payment/\n",
      "    장고 - 웹 프론트엔드 시작편 https://www.askcompany.kr/vod/frontend/\n",
      "    장고 - 다양한 위젯 만들기 https://www.askcompany.kr/vod/widgets/\n",
      "    장고 - API 서버 만들기 및 초간단 안드로이드 앱 만들기 https://www.askcompany.kr/vod/apiserver/\n",
      "    장고 - 하이브리드 앱 만들기 https://www.askcompany.kr/vod/hybrid/\n",
      "    장고 - 서비스 배포하기 https://www.askcompany.kr/vod/deploy/\n",
      "    장고 - 실전편 (Feat. 배달의 민족 St. 만들기) https://www.askcompany.kr/vod/django-baemin/\n",
      "    장고 - 실전편 (Feat. 인스타그램 St. 만들기) https://www.askcompany.kr/vod/django-instagram/\n",
      "</pre>\n",
      "\n",
      "<p>Ask Company 크롤링 VOD를 통해 크롤링의 기본을 배우고, 꾸준히 크롤링을 연습해보세요.</p>\n",
      "\n",
      "<hr/>\n",
      "    <p><a href=\"/\">home</a></p>\n",
      "    <p>\n",
      "    여러분의 파이썬/장고 페이스메이커가 되겠습니다. &dash; <a href=\"https://www.askcompany.kr/vod/\">Ask Company VOD</a>\n",
      "    </p>\n",
      "    <p>\n",
      "    &copy;\n",
      "    <script>document.write((new Date()).getYear() + 1900)\n",
      "5295\n"
     ]
    }
   ],
   "source": [
    "# 스크립트에는 한줄 끝날 때마다 개행(newline)이 시작되기 떄문에(', ' 때문에)이 필요한 것이다.\n",
    "# 즉, re.S옵션을 포함시켜줘야지만 값을 반환할 수 있다.\n",
    "matched = re.search(r'var s2_courses = (.*);', html, re.S)\n",
    "matched.group()\n",
    "print(type(matched.group()))\n",
    "print(matched.span())\n",
    "print(matched.lastindex)\n",
    "print(matched.group(1))\n",
    "print(len(matched.group(1)))"
   ]
  },
  {
   "cell_type": "code",
   "execution_count": 14,
   "metadata": {},
   "outputs": [
    {
     "name": "stdout",
     "output_type": "stream",
     "text": [
      "[\n",
      "        {\"name\": \"개발환경 구축하기\", \"url\": \"https://www.askcompany.kr/vod/setup/\"},\n",
      "        {\"name\": \"파이썬 차근차근 시작하기\", \"url\": \"https://www.askcompany.kr/vod/python/\"},\n",
      "        {\"name\": \"크롤링 차근차근 시작하기\", \"url\": \"https://www.askcompany.kr/vod/crawling/\"},\n",
      "        {\"name\": \"파이썬으로 업무 자동화\", \"url\": \"https://www.askcompany.kr/vod/automation/\"},\n",
      "        {\"name\": \"장고 - 기본편\", \"url\": \"https://www.askcompany.kr/vod/django/\"},\n",
      "        {\"name\": \"장고걸스 튜토리얼\", \"url\": \"https://www.askcompany.kr/vod/djangogirls/\"},\n",
      "        {\"name\": \"장고 - Form/ModelForm 잘 알고 쓰기\", \"url\": \"https://www.askcompany.kr/vod/form/\"},\n",
      "        {\"name\": \"장고 - 클래스 기반 뷰. 잘 알고 쓰기\", \"url\": \"https://www.askcompany.kr/vod/cbv/\"},\n",
      "        {\"name\": \"장고 - 결제 시스템 연동\", \"url\": \"https://www.askcompany.kr/vod/payment/\"},\n",
      "        {\"name\": \"장고 - 웹 프론트엔드 시작편\", \"url\": \"https://www.askcompany.kr/vod/frontend/\"},\n",
      "        {\"name\": \"장고 - 다양한 위젯 만들기\", \"url\": \"https://www.askcompany.kr/vod/widgets/\"},\n",
      "        {\"name\": \"장고 - API 서버 만들기 및 초간단 안드로이드 앱 만들기\", \"url\": \"https://www.askcompany.kr/vod/apiserver/\"},\n",
      "        {\"name\": \"장고 - 하이브리드 앱 만들기\", \"url\": \"https://www.askcompany.kr/vod/hybrid/\"},\n",
      "        {\"name\": \"장고 - 서비스 배포하기\", \"url\": \"https://www.askcompany.kr/vod/deploy/\"},\n",
      "        {\"name\": \"장고 - 실전편 (Feat. 배달의 민족 St. 만들기)\", \"url\": \"https://www.askcompany.kr/vod/django-baemin/\"},\n",
      "        {\"name\": \"장고 - 실전편 (Feat. 인스타그램 St. 만들기)\", \"url\": \"https://www.askcompany.kr/vod/django-instagram/\"}\n",
      "    ]\n"
     ]
    }
   ],
   "source": [
    "# '?'를 사용하여 최소매칭조건을 지정\n",
    "# ? = 앞 패턴이 없거나 하나이어야만 한다.\n",
    "matched = re.search(r'var s1_courses = (.*?);', html, re.S)\n",
    "print(matched.group(1))"
   ]
  },
  {
   "cell_type": "code",
   "execution_count": 16,
   "metadata": {},
   "outputs": [
    {
     "name": "stdout",
     "output_type": "stream",
     "text": [
      "개발환경 구축하기 : https://www.askcompany.kr/vod/setup/\n",
      "파이썬 차근차근 시작하기 : https://www.askcompany.kr/vod/python/\n",
      "크롤링 차근차근 시작하기 : https://www.askcompany.kr/vod/crawling/\n",
      "파이썬으로 업무 자동화 : https://www.askcompany.kr/vod/automation/\n",
      "장고 - 기본편 : https://www.askcompany.kr/vod/django/\n",
      "장고걸스 튜토리얼 : https://www.askcompany.kr/vod/djangogirls/\n",
      "장고 - Form/ModelForm 잘 알고 쓰기 : https://www.askcompany.kr/vod/form/\n",
      "장고 - 클래스 기반 뷰. 잘 알고 쓰기 : https://www.askcompany.kr/vod/cbv/\n",
      "장고 - 결제 시스템 연동 : https://www.askcompany.kr/vod/payment/\n",
      "장고 - 웹 프론트엔드 시작편 : https://www.askcompany.kr/vod/frontend/\n",
      "장고 - 다양한 위젯 만들기 : https://www.askcompany.kr/vod/widgets/\n",
      "장고 - API 서버 만들기 및 초간단 안드로이드 앱 만들기 : https://www.askcompany.kr/vod/apiserver/\n",
      "장고 - 하이브리드 앱 만들기 : https://www.askcompany.kr/vod/hybrid/\n",
      "장고 - 서비스 배포하기 : https://www.askcompany.kr/vod/deploy/\n",
      "장고 - 실전편 (Feat. 배달의 민족 St. 만들기) : https://www.askcompany.kr/vod/django-baemin/\n",
      "장고 - 실전편 (Feat. 인스타그램 St. 만들기) : https://www.askcompany.kr/vod/django-instagram/\n"
     ]
    }
   ],
   "source": [
    "# json문자열로 저장\n",
    "import json\n",
    "json_string = matched.group(1)\n",
    "output_list = json.loads(json_string)\n",
    "\n",
    "for output in output_list:\n",
    "    print('{name} : {url}'.format(**output))"
   ]
  },
  {
   "cell_type": "markdown",
   "metadata": {},
   "source": [
    "##### 실습 4. 웹API로 데이터 추출\n",
    "\n",
    "* http://api.openweathermap.org\n",
    "* api키 : 474d59dd890c4108f62f192e0c6fce01"
   ]
  },
  {
   "cell_type": "code",
   "execution_count": 23,
   "metadata": {
    "scrolled": true
   },
   "outputs": [
    {
     "name": "stdout",
     "output_type": "stream",
     "text": [
      "+ 도시 = Seoul\n",
      "| 날씨 = clear sky\n",
      "| 최저기온 = 9.0\n",
      "| 최고기온 = 11.0\n",
      "| 습도 = 29\n",
      "| 기압 = 1018\n",
      "| 풍향 = 330\n",
      "| 풍속 = 2.1\n",
      "\n",
      "+ 도시 = Tokyo\n",
      "| 날씨 = scattered clouds\n",
      "| 최저기온 = 13.890000000000043\n",
      "| 최고기온 = 17.220000000000027\n",
      "| 습도 = 62\n",
      "| 기압 = 1014\n",
      "| 풍향 = 40\n",
      "| 풍속 = 3.1\n",
      "\n",
      "+ 도시 = New York\n",
      "| 날씨 = clear sky\n",
      "| 최저기온 = 10.0\n",
      "| 최고기온 = 15.560000000000002\n",
      "| 습도 = 54\n",
      "| 기압 = 1008\n",
      "| 풍향 = 10\n",
      "| 풍속 = 1.5\n",
      "\n"
     ]
    }
   ],
   "source": [
    "import requests\n",
    "import json\n",
    "\n",
    "# API키를 지정, 자신의 key로 변경해서 사용\n",
    "apikey = '474d59dd890c4108f62f192e0c6fce01'\n",
    "\n",
    "# 날씨정보를 확인할 도시 지정하기\n",
    "cities = [\"Seoul,KR\", 'Tokyo,JP', \"New York,US\"]\n",
    "\n",
    "# API지정\n",
    "api = \"http://api.openweathermap.org/data/2.5/weather?q={city}&APPID={key}\"\n",
    "\n",
    "# 켈빈온도를 섭씨온도로 변환하는 함수\n",
    "k2c = lambda k: k - 273.15\n",
    "\n",
    "for city in cities:\n",
    "    # API의 URL 구성하기\n",
    "    url = api.format(city=city, key=apikey)\n",
    "    \n",
    "    # API에 요청을 보내서 데이터 추출하기\n",
    "    r = requests.get(url)\n",
    "    \n",
    "    # 결과를 json형태로 변환하기\n",
    "    data = json.loads(r.text)\n",
    "    \n",
    "    # print(data)\n",
    "    \n",
    "    # 결과출력하기\n",
    "    print(\"+ 도시 =\", data[\"name\"])\n",
    "    print(\"| 날씨 =\", data[\"weather\"][0][\"description\"])\n",
    "    print(\"| 최저기온 =\", k2c(data[\"main\"][\"temp_min\"]))\n",
    "    print(\"| 최고기온 =\", k2c(data[\"main\"][\"temp_max\"]))\n",
    "    print(\"| 습도 =\", data[\"main\"][\"humidity\"])\n",
    "    print(\"| 기압 =\", data[\"main\"][\"pressure\"])\n",
    "    print(\"| 풍향 =\", data[\"wind\"][\"deg\"])\n",
    "    print(\"| 풍속 =\", data[\"wind\"][\"speed\"])\n",
    "    print()\n",
    "    "
   ]
  },
  {
   "cell_type": "markdown",
   "metadata": {},
   "source": [
    "##### 실습 5. 정기적인 크롤링"
   ]
  },
  {
   "cell_type": "code",
   "execution_count": 31,
   "metadata": {},
   "outputs": [
    {
     "name": "stdout",
     "output_type": "stream",
     "text": [
      "usd/krw 1,219.20\n"
     ]
    }
   ],
   "source": [
    "from bs4 import BeautifulSoup as bs\n",
    "import urllib.request as req\n",
    "import datetime\n",
    "\n",
    "# html 가져오기\n",
    "url = \"http://finance.naver.com/marketindex/\"\n",
    "res = req.urlopen(url)\n",
    "\n",
    "soup = bs(res, \"html.parser\")\n",
    "\n",
    "# 원하는 데이터를 추출\n",
    "price = soup.select_one(\"div.head_info > span.value\").string\n",
    "print(\"usd/krw\", price)\n",
    "\n",
    "# 저장할 파일\n",
    "t = datetime.date.today()\n",
    "fname = t.strftime(\"%Y-%m-%d\") + \".txt\"\n",
    "fname = 'd:/gilbaek/data/web/' + fname\n",
    "\n",
    "with open(fname, 'w', encoding='utf-8') as f:\n",
    "    f.write(\"usd/krw: \" + price)"
   ]
  },
  {
   "cell_type": "markdown",
   "metadata": {},
   "source": [
    "#####  웹크롤링의 자동화\n",
    ">* 정기적인 작업 스케쥴러 등록 : compmgmt.msc\n",
    ">>1. 상기코드를 메모장을 이용해서 utf-8로 저장 : DailyCurrencyRate.py\n",
    ">>2. 실행파일 작성 : \n",
    " - DailyCurrencyRate.bat파일을 메모장으로 작성 후 아래 명령으로 저장\n",
    " - python d:\\gilbaek\\python\\DailyCurrencyRate.py\n",
    ">> 윈도우메뉴 > 컴퓨터관리 > 작업스케쥴러 > 작업만들기\n",
    "   1) (Tab)일반   : 이름과 설명을 입력 - 이름=네이버일일환율정보, 설명=임의로 작성\n",
    "   2) (Tab)트리거 : (B)새로만들기 > (W)트리거 : 매일/오전 9:00:00 선택 -> (B)확인\n",
    "   3) (Tab)동작   : (B)새로만들기 > (B)찾아보기 : ‪D:\\gilbaek\\python\\DailyCurrencyRate.bat\n",
    "   4) 종료\n",
    "\n",
    "<img src=\"./images/DailyCurrencyRate.JPG\" width=\"500\" height=\"400\"/>"
   ]
  },
  {
   "cell_type": "markdown",
   "metadata": {},
   "source": [
    "### 연습문제\n",
    "\n",
    "1. mysql.pyweb에 테이블생성\n",
    "\n",
    "create table dailycurrencyrate (\n",
    "    date datetime not null primary key,\n",
    "    rate float\n",
    ")\n",
    "\n",
    "2. 네이버의 일일환율정보를 dailycurrencyrate에 추가하기\n",
    "\n",
    "(주의) 해당일에 자료가 있으면 삭제후 추가 없으면 그냥 추가\n",
    "\n",
    "3. 저장 파이썬 프로그램 완성"
   ]
  },
  {
   "cell_type": "markdown",
   "metadata": {},
   "source": [
    "##### 실습 6. 국제상품가격데이터\n",
    "\n",
    "파이썬에서 국제 원자재(금, 은, 구리, 원유)의 가격을 가져와 데이터분석\n",
    "\n",
    "* 국제 금가격 (LBM, 런던금은시장)\n",
    "* 국제 은가격 (LBMA, 런던 금시장협회)\n",
    "* 국제 구리 가격(LME, 런던 금속 거래소)\n",
    "* 국제 원유 가격(서부 텍사스 중질유, 두바이유, 북해 브렌트유)\n"
   ]
  },
  {
   "cell_type": "code",
   "execution_count": 32,
   "metadata": {},
   "outputs": [
    {
     "name": "stderr",
     "output_type": "stream",
     "text": [
      "C:\\Anaconda3\\lib\\site-packages\\pandas_datareader\\compat\\__init__.py:7: FutureWarning: pandas.util.testing is deprecated. Use the functions in the public API at pandas.testing instead.\n",
      "  from pandas.util.testing import assert_frame_equal\n"
     ]
    }
   ],
   "source": [
    "%matplotlib inline\n",
    "import numpy as np\n",
    "import pandas as pd\n",
    "import pandas_datareader as pdr # conda install pandas-datareader\n",
    "import matplotlib.pyplot as plt\n",
    "\n",
    "plt.rcParams[\"figure.figsize\"] = (14,4)\n",
    "plt.rcParams[\"axes.grid\"] = True"
   ]
  },
  {
   "cell_type": "markdown",
   "metadata": {},
   "source": [
    "###### 국제금가격(런던 금시장)\n",
    "\n",
    ">* Gold Fixing Price in London Bullion Market(based in U.S. Dollar)\n",
    "* 5개은행(HSBC, 도이치은행등)이 회의를 통해 Gold Fixing Price를 발표\n",
    "* 하루에 2회(10:30 AM, 3:00 PM 런던시기준)\n",
    "\n",
    ">* FRED (세인트루이스 연방준비은행 경제 데이터)\n",
    "* https://fred.stlouisfed.org/series/GOLDAMGBD228NLBM"
   ]
  },
  {
   "cell_type": "code",
   "execution_count": 36,
   "metadata": {},
   "outputs": [
    {
     "name": "stdout",
     "output_type": "stream",
     "text": [
      "row count: 2678\n"
     ]
    },
    {
     "data": {
      "text/html": [
       "<div>\n",
       "<style scoped>\n",
       "    .dataframe tbody tr th:only-of-type {\n",
       "        vertical-align: middle;\n",
       "    }\n",
       "\n",
       "    .dataframe tbody tr th {\n",
       "        vertical-align: top;\n",
       "    }\n",
       "\n",
       "    .dataframe thead th {\n",
       "        text-align: right;\n",
       "    }\n",
       "</style>\n",
       "<table border=\"1\" class=\"dataframe\">\n",
       "  <thead>\n",
       "    <tr style=\"text-align: right;\">\n",
       "      <th></th>\n",
       "      <th>GOLDAMGBD228NLBM</th>\n",
       "    </tr>\n",
       "    <tr>\n",
       "      <th>DATE</th>\n",
       "      <th></th>\n",
       "    </tr>\n",
       "  </thead>\n",
       "  <tbody>\n",
       "    <tr>\n",
       "      <th>2020-04-01</th>\n",
       "      <td>1594.25</td>\n",
       "    </tr>\n",
       "    <tr>\n",
       "      <th>2020-04-02</th>\n",
       "      <td>1588.05</td>\n",
       "    </tr>\n",
       "    <tr>\n",
       "      <th>2020-04-03</th>\n",
       "      <td>1609.75</td>\n",
       "    </tr>\n",
       "    <tr>\n",
       "      <th>2020-04-06</th>\n",
       "      <td>1636.60</td>\n",
       "    </tr>\n",
       "    <tr>\n",
       "      <th>2020-04-07</th>\n",
       "      <td>1652.20</td>\n",
       "    </tr>\n",
       "  </tbody>\n",
       "</table>\n",
       "</div>"
      ],
      "text/plain": [
       "            GOLDAMGBD228NLBM\n",
       "DATE                        \n",
       "2020-04-01           1594.25\n",
       "2020-04-02           1588.05\n",
       "2020-04-03           1609.75\n",
       "2020-04-06           1636.60\n",
       "2020-04-07           1652.20"
      ]
     },
     "metadata": {},
     "output_type": "display_data"
    }
   ],
   "source": [
    "df_gold = pdr.DataReader('GOLDAMGBD228NLBM', 'fred', start='2010-01-01')\n",
    "print('row count:', len(df_gold))\n",
    "display(df_gold.tail())"
   ]
  },
  {
   "cell_type": "code",
   "execution_count": 37,
   "metadata": {},
   "outputs": [
    {
     "data": {
      "image/png": "[encoded data removed]",
      "text/plain": [
       "<Figure size 1008x288 with 1 Axes>"
      ]
     },
     "metadata": {
      "needs_background": "light"
     },
     "output_type": "display_data"
    }
   ],
   "source": [
    "df_gold.plot()\n",
    "plt.show()"
   ]
  },
  {
   "cell_type": "markdown",
   "metadata": {},
   "source": [
    "###### 국제은가격\n",
    "\n",
    ">* https://www.quandl.com/ 다양한 금융, 경제 데이터와 API를 제공)\n",
    "* \"LBMA/SILVER\", 런던 금시장협회 (LBMA) 은 가격"
   ]
  },
  {
   "cell_type": "code",
   "execution_count": 38,
   "metadata": {},
   "outputs": [
    {
     "ename": "ValueError",
     "evalue": "The Quandl API key must be provided either through the api_key variable or through the environmental variable QUANDL_API_KEY.",
     "output_type": "error",
     "traceback": [
      "\u001b[1;31m---------------------------------------------------------------------------\u001b[0m",
      "\u001b[1;31mValueError\u001b[0m                                Traceback (most recent call last)",
      "\u001b[1;32m<ipython-input-38-f86c947b07f4>\u001b[0m in \u001b[0;36m<module>\u001b[1;34m\u001b[0m\n\u001b[0;32m      1\u001b[0m \u001b[1;31m# 영국은\u001b[0m\u001b[1;33m\u001b[0m\u001b[1;33m\u001b[0m\u001b[1;33m\u001b[0m\u001b[0m\n\u001b[1;32m----> 2\u001b[1;33m \u001b[0mdf_silver\u001b[0m \u001b[1;33m=\u001b[0m \u001b[0mpdr\u001b[0m\u001b[1;33m.\u001b[0m\u001b[0mDataReader\u001b[0m\u001b[1;33m(\u001b[0m\u001b[1;34m\"LBMA/SILVER\"\u001b[0m\u001b[1;33m,\u001b[0m \u001b[1;34m'quandl'\u001b[0m\u001b[1;33m,\u001b[0m \u001b[0mstart\u001b[0m\u001b[1;33m=\u001b[0m\u001b[1;34m\"2000-01-01\"\u001b[0m\u001b[1;33m)\u001b[0m\u001b[1;33m\u001b[0m\u001b[1;33m\u001b[0m\u001b[0m\n\u001b[0m\u001b[0;32m      3\u001b[0m \u001b[0mprint\u001b[0m\u001b[1;33m(\u001b[0m\u001b[1;34m'row count:'\u001b[0m\u001b[1;33m,\u001b[0m \u001b[0mlen\u001b[0m\u001b[1;33m(\u001b[0m\u001b[0mdf_silver\u001b[0m\u001b[1;33m)\u001b[0m\u001b[1;33m)\u001b[0m\u001b[1;33m\u001b[0m\u001b[1;33m\u001b[0m\u001b[0m\n\u001b[0;32m      4\u001b[0m \u001b[0mdisplay\u001b[0m\u001b[1;33m(\u001b[0m\u001b[0mdf_silver\u001b[0m\u001b[1;33m.\u001b[0m\u001b[0mtail\u001b[0m\u001b[1;33m(\u001b[0m\u001b[1;33m)\u001b[0m\u001b[1;33m)\u001b[0m\u001b[1;33m\u001b[0m\u001b[1;33m\u001b[0m\u001b[0m\n",
      "\u001b[1;32mC:\\Anaconda3\\lib\\site-packages\\pandas\\util\\_decorators.py\u001b[0m in \u001b[0;36mwrapper\u001b[1;34m(*args, **kwargs)\u001b[0m\n\u001b[0;32m    212\u001b[0m                 \u001b[1;32melse\u001b[0m\u001b[1;33m:\u001b[0m\u001b[1;33m\u001b[0m\u001b[1;33m\u001b[0m\u001b[0m\n\u001b[0;32m    213\u001b[0m                     \u001b[0mkwargs\u001b[0m\u001b[1;33m[\u001b[0m\u001b[0mnew_arg_name\u001b[0m\u001b[1;33m]\u001b[0m \u001b[1;33m=\u001b[0m \u001b[0mnew_arg_value\u001b[0m\u001b[1;33m\u001b[0m\u001b[1;33m\u001b[0m\u001b[0m\n\u001b[1;32m--> 214\u001b[1;33m             \u001b[1;32mreturn\u001b[0m \u001b[0mfunc\u001b[0m\u001b[1;33m(\u001b[0m\u001b[1;33m*\u001b[0m\u001b[0margs\u001b[0m\u001b[1;33m,\u001b[0m \u001b[1;33m**\u001b[0m\u001b[0mkwargs\u001b[0m\u001b[1;33m)\u001b[0m\u001b[1;33m\u001b[0m\u001b[1;33m\u001b[0m\u001b[0m\n\u001b[0m\u001b[0;32m    215\u001b[0m \u001b[1;33m\u001b[0m\u001b[0m\n\u001b[0;32m    216\u001b[0m         \u001b[1;32mreturn\u001b[0m \u001b[0mcast\u001b[0m\u001b[1;33m(\u001b[0m\u001b[0mF\u001b[0m\u001b[1;33m,\u001b[0m \u001b[0mwrapper\u001b[0m\u001b[1;33m)\u001b[0m\u001b[1;33m\u001b[0m\u001b[1;33m\u001b[0m\u001b[0m\n",
      "\u001b[1;32mC:\\Anaconda3\\lib\\site-packages\\pandas_datareader\\data.py\u001b[0m in \u001b[0;36mDataReader\u001b[1;34m(name, data_source, start, end, retry_count, pause, session, api_key)\u001b[0m\n\u001b[0;32m    505\u001b[0m             \u001b[0mpause\u001b[0m\u001b[1;33m=\u001b[0m\u001b[0mpause\u001b[0m\u001b[1;33m,\u001b[0m\u001b[1;33m\u001b[0m\u001b[1;33m\u001b[0m\u001b[0m\n\u001b[0;32m    506\u001b[0m             \u001b[0msession\u001b[0m\u001b[1;33m=\u001b[0m\u001b[0msession\u001b[0m\u001b[1;33m,\u001b[0m\u001b[1;33m\u001b[0m\u001b[1;33m\u001b[0m\u001b[0m\n\u001b[1;32m--> 507\u001b[1;33m             \u001b[0mapi_key\u001b[0m\u001b[1;33m=\u001b[0m\u001b[0mapi_key\u001b[0m\u001b[1;33m,\u001b[0m\u001b[1;33m\u001b[0m\u001b[1;33m\u001b[0m\u001b[0m\n\u001b[0m\u001b[0;32m    508\u001b[0m         ).read()\n\u001b[0;32m    509\u001b[0m     \u001b[1;32melif\u001b[0m \u001b[0mdata_source\u001b[0m \u001b[1;33m==\u001b[0m \u001b[1;34m\"moex\"\u001b[0m\u001b[1;33m:\u001b[0m\u001b[1;33m\u001b[0m\u001b[1;33m\u001b[0m\u001b[0m\n",
      "\u001b[1;32mC:\\Anaconda3\\lib\\site-packages\\pandas_datareader\\quandl.py\u001b[0m in \u001b[0;36m__init__\u001b[1;34m(self, symbols, start, end, retry_count, pause, session, chunksize, api_key)\u001b[0m\n\u001b[0;32m     64\u001b[0m         \u001b[1;32mif\u001b[0m \u001b[1;32mnot\u001b[0m \u001b[0mapi_key\u001b[0m \u001b[1;32mor\u001b[0m \u001b[1;32mnot\u001b[0m \u001b[0misinstance\u001b[0m\u001b[1;33m(\u001b[0m\u001b[0mapi_key\u001b[0m\u001b[1;33m,\u001b[0m \u001b[0mstr\u001b[0m\u001b[1;33m)\u001b[0m\u001b[1;33m:\u001b[0m\u001b[1;33m\u001b[0m\u001b[1;33m\u001b[0m\u001b[0m\n\u001b[0;32m     65\u001b[0m             raise ValueError(\n\u001b[1;32m---> 66\u001b[1;33m                 \u001b[1;34m\"The Quandl API key must be provided either \"\u001b[0m\u001b[1;33m\u001b[0m\u001b[1;33m\u001b[0m\u001b[0m\n\u001b[0m\u001b[0;32m     67\u001b[0m                 \u001b[1;34m\"through the api_key variable or through the \"\u001b[0m\u001b[1;33m\u001b[0m\u001b[1;33m\u001b[0m\u001b[0m\n\u001b[0;32m     68\u001b[0m                 \u001b[1;34m\"environmental variable QUANDL_API_KEY.\"\u001b[0m\u001b[1;33m\u001b[0m\u001b[1;33m\u001b[0m\u001b[0m\n",
      "\u001b[1;31mValueError\u001b[0m: The Quandl API key must be provided either through the api_key variable or through the environmental variable QUANDL_API_KEY."
     ]
    }
   ],
   "source": [
    "# 영국은가격\n",
    "df_silver = pdr.DataReader(\"LBMA/SILVER\", 'quandl', start=\"2000-01-01\")\n",
    "print('row count:', len(df_silver))\n",
    "display(df_silver.tail())"
   ]
  },
  {
   "cell_type": "code",
   "execution_count": 39,
   "metadata": {},
   "outputs": [
    {
     "ename": "NameError",
     "evalue": "name 'df_silver' is not defined",
     "output_type": "error",
     "traceback": [
      "\u001b[1;31m---------------------------------------------------------------------------\u001b[0m",
      "\u001b[1;31mNameError\u001b[0m                                 Traceback (most recent call last)",
      "\u001b[1;32m<ipython-input-39-e5afc98491f5>\u001b[0m in \u001b[0;36m<module>\u001b[1;34m\u001b[0m\n\u001b[1;32m----> 1\u001b[1;33m \u001b[0mdf_silver\u001b[0m\u001b[1;33m[\u001b[0m\u001b[1;34m'USD'\u001b[0m\u001b[1;33m]\u001b[0m\u001b[1;33m.\u001b[0m\u001b[0mplot\u001b[0m\u001b[1;33m(\u001b[0m\u001b[1;33m)\u001b[0m\u001b[1;33m\u001b[0m\u001b[1;33m\u001b[0m\u001b[0m\n\u001b[0m",
      "\u001b[1;31mNameError\u001b[0m: name 'df_silver' is not defined"
     ]
    }
   ],
   "source": [
    "df_silver['USD'].plot()"
   ]
  },
  {
   "cell_type": "markdown",
   "metadata": {},
   "source": [
    "###### 국제 구리 가격\n",
    "\n",
    "* 런던 금속 거래소(London Metal Exchange), 전 세계 비철금속거래의 지표\n",
    "* Cash(현금가격), 3Months(3개월 선물가격), 15Months(15개월 선물가격) 등\n",
    "* \"LME/PR_CU\""
   ]
  },
  {
   "cell_type": "code",
   "execution_count": 42,
   "metadata": {},
   "outputs": [
    {
     "ename": "ValueError",
     "evalue": "The Quandl API key must be provided either through the api_key variable or through the environmental variable QUANDL_API_KEY.",
     "output_type": "error",
     "traceback": [
      "\u001b[1;31m---------------------------------------------------------------------------\u001b[0m",
      "\u001b[1;31mValueError\u001b[0m                                Traceback (most recent call last)",
      "\u001b[1;32m<ipython-input-42-d79a8e7fc80f>\u001b[0m in \u001b[0;36m<module>\u001b[1;34m\u001b[0m\n\u001b[0;32m      1\u001b[0m \u001b[1;31m# LME 구리가격\u001b[0m\u001b[1;33m\u001b[0m\u001b[1;33m\u001b[0m\u001b[1;33m\u001b[0m\u001b[0m\n\u001b[1;32m----> 2\u001b[1;33m \u001b[0mdf_copper\u001b[0m \u001b[1;33m=\u001b[0m \u001b[0mpdr\u001b[0m\u001b[1;33m.\u001b[0m\u001b[0mDataReader\u001b[0m\u001b[1;33m(\u001b[0m\u001b[1;34m\"LME/PR_CU\"\u001b[0m\u001b[1;33m,\u001b[0m \u001b[1;34m\"quandl\"\u001b[0m\u001b[1;33m,\u001b[0m \u001b[0mstart\u001b[0m\u001b[1;33m=\u001b[0m\u001b[1;34m\"2000-01-01\"\u001b[0m\u001b[1;33m)\u001b[0m\u001b[1;33m\u001b[0m\u001b[1;33m\u001b[0m\u001b[0m\n\u001b[0m\u001b[0;32m      3\u001b[0m \u001b[0mprint\u001b[0m\u001b[1;33m(\u001b[0m\u001b[1;34m'row count:'\u001b[0m\u001b[1;33m,\u001b[0m \u001b[0mlen\u001b[0m\u001b[1;33m(\u001b[0m\u001b[0mdf_copper\u001b[0m\u001b[1;33m)\u001b[0m\u001b[1;33m)\u001b[0m\u001b[1;33m\u001b[0m\u001b[1;33m\u001b[0m\u001b[0m\n\u001b[0;32m      4\u001b[0m \u001b[0mdisplay\u001b[0m\u001b[1;33m(\u001b[0m\u001b[0mdf_copper\u001b[0m\u001b[1;33m.\u001b[0m\u001b[0mtail\u001b[0m\u001b[1;33m(\u001b[0m\u001b[1;33m)\u001b[0m\u001b[1;33m)\u001b[0m\u001b[1;33m\u001b[0m\u001b[1;33m\u001b[0m\u001b[0m\n",
      "\u001b[1;32mC:\\Anaconda3\\lib\\site-packages\\pandas\\util\\_decorators.py\u001b[0m in \u001b[0;36mwrapper\u001b[1;34m(*args, **kwargs)\u001b[0m\n\u001b[0;32m    212\u001b[0m                 \u001b[1;32melse\u001b[0m\u001b[1;33m:\u001b[0m\u001b[1;33m\u001b[0m\u001b[1;33m\u001b[0m\u001b[0m\n\u001b[0;32m    213\u001b[0m                     \u001b[0mkwargs\u001b[0m\u001b[1;33m[\u001b[0m\u001b[0mnew_arg_name\u001b[0m\u001b[1;33m]\u001b[0m \u001b[1;33m=\u001b[0m \u001b[0mnew_arg_value\u001b[0m\u001b[1;33m\u001b[0m\u001b[1;33m\u001b[0m\u001b[0m\n\u001b[1;32m--> 214\u001b[1;33m             \u001b[1;32mreturn\u001b[0m \u001b[0mfunc\u001b[0m\u001b[1;33m(\u001b[0m\u001b[1;33m*\u001b[0m\u001b[0margs\u001b[0m\u001b[1;33m,\u001b[0m \u001b[1;33m**\u001b[0m\u001b[0mkwargs\u001b[0m\u001b[1;33m)\u001b[0m\u001b[1;33m\u001b[0m\u001b[1;33m\u001b[0m\u001b[0m\n\u001b[0m\u001b[0;32m    215\u001b[0m \u001b[1;33m\u001b[0m\u001b[0m\n\u001b[0;32m    216\u001b[0m         \u001b[1;32mreturn\u001b[0m \u001b[0mcast\u001b[0m\u001b[1;33m(\u001b[0m\u001b[0mF\u001b[0m\u001b[1;33m,\u001b[0m \u001b[0mwrapper\u001b[0m\u001b[1;33m)\u001b[0m\u001b[1;33m\u001b[0m\u001b[1;33m\u001b[0m\u001b[0m\n",
      "\u001b[1;32mC:\\Anaconda3\\lib\\site-packages\\pandas_datareader\\data.py\u001b[0m in \u001b[0;36mDataReader\u001b[1;34m(name, data_source, start, end, retry_count, pause, session, api_key)\u001b[0m\n\u001b[0;32m    505\u001b[0m             \u001b[0mpause\u001b[0m\u001b[1;33m=\u001b[0m\u001b[0mpause\u001b[0m\u001b[1;33m,\u001b[0m\u001b[1;33m\u001b[0m\u001b[1;33m\u001b[0m\u001b[0m\n\u001b[0;32m    506\u001b[0m             \u001b[0msession\u001b[0m\u001b[1;33m=\u001b[0m\u001b[0msession\u001b[0m\u001b[1;33m,\u001b[0m\u001b[1;33m\u001b[0m\u001b[1;33m\u001b[0m\u001b[0m\n\u001b[1;32m--> 507\u001b[1;33m             \u001b[0mapi_key\u001b[0m\u001b[1;33m=\u001b[0m\u001b[0mapi_key\u001b[0m\u001b[1;33m,\u001b[0m\u001b[1;33m\u001b[0m\u001b[1;33m\u001b[0m\u001b[0m\n\u001b[0m\u001b[0;32m    508\u001b[0m         ).read()\n\u001b[0;32m    509\u001b[0m     \u001b[1;32melif\u001b[0m \u001b[0mdata_source\u001b[0m \u001b[1;33m==\u001b[0m \u001b[1;34m\"moex\"\u001b[0m\u001b[1;33m:\u001b[0m\u001b[1;33m\u001b[0m\u001b[1;33m\u001b[0m\u001b[0m\n",
      "\u001b[1;32mC:\\Anaconda3\\lib\\site-packages\\pandas_datareader\\quandl.py\u001b[0m in \u001b[0;36m__init__\u001b[1;34m(self, symbols, start, end, retry_count, pause, session, chunksize, api_key)\u001b[0m\n\u001b[0;32m     64\u001b[0m         \u001b[1;32mif\u001b[0m \u001b[1;32mnot\u001b[0m \u001b[0mapi_key\u001b[0m \u001b[1;32mor\u001b[0m \u001b[1;32mnot\u001b[0m \u001b[0misinstance\u001b[0m\u001b[1;33m(\u001b[0m\u001b[0mapi_key\u001b[0m\u001b[1;33m,\u001b[0m \u001b[0mstr\u001b[0m\u001b[1;33m)\u001b[0m\u001b[1;33m:\u001b[0m\u001b[1;33m\u001b[0m\u001b[1;33m\u001b[0m\u001b[0m\n\u001b[0;32m     65\u001b[0m             raise ValueError(\n\u001b[1;32m---> 66\u001b[1;33m                 \u001b[1;34m\"The Quandl API key must be provided either \"\u001b[0m\u001b[1;33m\u001b[0m\u001b[1;33m\u001b[0m\u001b[0m\n\u001b[0m\u001b[0;32m     67\u001b[0m                 \u001b[1;34m\"through the api_key variable or through the \"\u001b[0m\u001b[1;33m\u001b[0m\u001b[1;33m\u001b[0m\u001b[0m\n\u001b[0;32m     68\u001b[0m                 \u001b[1;34m\"environmental variable QUANDL_API_KEY.\"\u001b[0m\u001b[1;33m\u001b[0m\u001b[1;33m\u001b[0m\u001b[0m\n",
      "\u001b[1;31mValueError\u001b[0m: The Quandl API key must be provided either through the api_key variable or through the environmental variable QUANDL_API_KEY."
     ]
    }
   ],
   "source": [
    "# LME 구리가격\n",
    "df_copper = pdr.DataReader(\"LME/PR_CU\", \"quandl\", start=\"2000-01-01\")\n",
    "print('row count:', len(df_copper))\n",
    "display(df_copper.tail())\n",
    "df_cooper[\"CashSeller&Settlement\"].plot()\n",
    "plt.show()"
   ]
  },
  {
   "cell_type": "markdown",
   "metadata": {},
   "source": [
    "### 국제 원유 가격\n",
    "국제 원유 가격을 대표하는 3대 유종이 있으며, 생산지와 대표적인 소비지역이 다르다.\n",
    "\n",
    "1. 서부 텍사스 중질유 (POILWTIUSDM): 국제 원유가격을 대표\n",
    "2. 두바이유 (POILDUBUSDM): 한국이 주로 수입(국내 유가에 영향)\n",
    "3. 북해 브렌트유 (POILBREUSDM): 북해에서 생산, 유럽과 아프리카에서 소비\n",
    "\n",
    "FRED 링크는 각각 다음과 같다.\n",
    "\n",
    "* 서부 텍사스 중질유(WTI Crude): https://fred.stlouisfed.org/series/POILWTIUSDM\n",
    "* 두바이유 (Dubai Crude): https://fred.stlouisfed.org/series/POILDUBUSDM\n",
    "* 북해 브렌트유(Brent Crude): https://fred.stlouisfed.org/series/POILBREUSDM"
   ]
  },
  {
   "cell_type": "code",
   "execution_count": 45,
   "metadata": {},
   "outputs": [
    {
     "name": "stdout",
     "output_type": "stream",
     "text": [
      "row count: 243\n"
     ]
    },
    {
     "data": {
      "text/html": [
       "<div>\n",
       "<style scoped>\n",
       "    .dataframe tbody tr th:only-of-type {\n",
       "        vertical-align: middle;\n",
       "    }\n",
       "\n",
       "    .dataframe tbody tr th {\n",
       "        vertical-align: top;\n",
       "    }\n",
       "\n",
       "    .dataframe thead th {\n",
       "        text-align: right;\n",
       "    }\n",
       "</style>\n",
       "<table border=\"1\" class=\"dataframe\">\n",
       "  <thead>\n",
       "    <tr style=\"text-align: right;\">\n",
       "      <th></th>\n",
       "      <th>POILWTIUSDM</th>\n",
       "    </tr>\n",
       "    <tr>\n",
       "      <th>DATE</th>\n",
       "      <th></th>\n",
       "    </tr>\n",
       "  </thead>\n",
       "  <tbody>\n",
       "    <tr>\n",
       "      <th>2019-11-01</th>\n",
       "      <td>57.110476</td>\n",
       "    </tr>\n",
       "    <tr>\n",
       "      <th>2019-12-01</th>\n",
       "      <td>59.857727</td>\n",
       "    </tr>\n",
       "    <tr>\n",
       "      <th>2020-01-01</th>\n",
       "      <td>57.714783</td>\n",
       "    </tr>\n",
       "    <tr>\n",
       "      <th>2020-02-01</th>\n",
       "      <td>50.601500</td>\n",
       "    </tr>\n",
       "    <tr>\n",
       "      <th>2020-03-01</th>\n",
       "      <td>29.877273</td>\n",
       "    </tr>\n",
       "  </tbody>\n",
       "</table>\n",
       "</div>"
      ],
      "text/plain": [
       "            POILWTIUSDM\n",
       "DATE                   \n",
       "2019-11-01    57.110476\n",
       "2019-12-01    59.857727\n",
       "2020-01-01    57.714783\n",
       "2020-02-01    50.601500\n",
       "2020-03-01    29.877273"
      ]
     },
     "metadata": {},
     "output_type": "display_data"
    },
    {
     "data": {
      "image/png": "[encoded data removed]",
      "text/plain": [
       "<Figure size 1008x288 with 1 Axes>"
      ]
     },
     "metadata": {
      "needs_background": "light"
     },
     "output_type": "display_data"
    }
   ],
   "source": [
    "# 1. 서부텍사스중질유(WTI Crude), monthly\n",
    "df_wt = pdr.DataReader(\"POILWTIUSDM\", 'fred', start=\"2000-01-01\")\n",
    "print('row count:', len(df_wt))\n",
    "display(df_wt.tail())\n",
    "df_wt.columns = [\"WTI Crude\"]\n",
    "df_wt.plot()\n",
    "plt.show()"
   ]
  },
  {
   "cell_type": "code",
   "execution_count": 46,
   "metadata": {},
   "outputs": [
    {
     "name": "stdout",
     "output_type": "stream",
     "text": [
      "row count: 243\n"
     ]
    },
    {
     "data": {
      "text/html": [
       "<div>\n",
       "<style scoped>\n",
       "    .dataframe tbody tr th:only-of-type {\n",
       "        vertical-align: middle;\n",
       "    }\n",
       "\n",
       "    .dataframe tbody tr th {\n",
       "        vertical-align: top;\n",
       "    }\n",
       "\n",
       "    .dataframe thead th {\n",
       "        text-align: right;\n",
       "    }\n",
       "</style>\n",
       "<table border=\"1\" class=\"dataframe\">\n",
       "  <thead>\n",
       "    <tr style=\"text-align: right;\">\n",
       "      <th></th>\n",
       "      <th>POILDUBUSDM</th>\n",
       "    </tr>\n",
       "    <tr>\n",
       "      <th>DATE</th>\n",
       "      <th></th>\n",
       "    </tr>\n",
       "  </thead>\n",
       "  <tbody>\n",
       "    <tr>\n",
       "      <th>2019-11-01</th>\n",
       "      <td>61.407619</td>\n",
       "    </tr>\n",
       "    <tr>\n",
       "      <th>2019-12-01</th>\n",
       "      <td>64.477273</td>\n",
       "    </tr>\n",
       "    <tr>\n",
       "      <th>2020-01-01</th>\n",
       "      <td>63.732174</td>\n",
       "    </tr>\n",
       "    <tr>\n",
       "      <th>2020-02-01</th>\n",
       "      <td>54.512500</td>\n",
       "    </tr>\n",
       "    <tr>\n",
       "      <th>2020-03-01</th>\n",
       "      <td>33.750000</td>\n",
       "    </tr>\n",
       "  </tbody>\n",
       "</table>\n",
       "</div>"
      ],
      "text/plain": [
       "            POILDUBUSDM\n",
       "DATE                   \n",
       "2019-11-01    61.407619\n",
       "2019-12-01    64.477273\n",
       "2020-01-01    63.732174\n",
       "2020-02-01    54.512500\n",
       "2020-03-01    33.750000"
      ]
     },
     "metadata": {},
     "output_type": "display_data"
    },
    {
     "data": {
      "image/png": "[encoded data removed]",
      "text/plain": [
       "<Figure size 1008x288 with 1 Axes>"
      ]
     },
     "metadata": {
      "needs_background": "light"
     },
     "output_type": "display_data"
    }
   ],
   "source": [
    "# 2. 두바이유(Dubai Crude), monthly\n",
    "df_du = pdr.DataReader(\"POILDUBUSDM\", 'fred', start=\"2000-01-01\")\n",
    "print('row count:', len(df_du))\n",
    "display(df_du.tail())\n",
    "df_du.columns = [\"Dubai Crude\"]\n",
    "df_du.plot()\n",
    "plt.show()"
   ]
  },
  {
   "cell_type": "markdown",
   "metadata": {},
   "source": [
    "###### 두 가지 이상의 유가 보기\n",
    "\n",
    "DataReader함수의 항목을 리스트로 전달하면 여러 항목의 데이터를 가져올 수 있다."
   ]
  },
  {
   "cell_type": "code",
   "execution_count": 47,
   "metadata": {},
   "outputs": [
    {
     "name": "stdout",
     "output_type": "stream",
     "text": [
      "row count: 243\n"
     ]
    },
    {
     "data": {
      "text/html": [
       "<div>\n",
       "<style scoped>\n",
       "    .dataframe tbody tr th:only-of-type {\n",
       "        vertical-align: middle;\n",
       "    }\n",
       "\n",
       "    .dataframe tbody tr th {\n",
       "        vertical-align: top;\n",
       "    }\n",
       "\n",
       "    .dataframe thead th {\n",
       "        text-align: right;\n",
       "    }\n",
       "</style>\n",
       "<table border=\"1\" class=\"dataframe\">\n",
       "  <thead>\n",
       "    <tr style=\"text-align: right;\">\n",
       "      <th></th>\n",
       "      <th>POILDUBUSDM</th>\n",
       "      <th>POILWTIUSDM</th>\n",
       "    </tr>\n",
       "    <tr>\n",
       "      <th>DATE</th>\n",
       "      <th></th>\n",
       "      <th></th>\n",
       "    </tr>\n",
       "  </thead>\n",
       "  <tbody>\n",
       "    <tr>\n",
       "      <th>2019-11-01</th>\n",
       "      <td>61.407619</td>\n",
       "      <td>57.110476</td>\n",
       "    </tr>\n",
       "    <tr>\n",
       "      <th>2019-12-01</th>\n",
       "      <td>64.477273</td>\n",
       "      <td>59.857727</td>\n",
       "    </tr>\n",
       "    <tr>\n",
       "      <th>2020-01-01</th>\n",
       "      <td>63.732174</td>\n",
       "      <td>57.714783</td>\n",
       "    </tr>\n",
       "    <tr>\n",
       "      <th>2020-02-01</th>\n",
       "      <td>54.512500</td>\n",
       "      <td>50.601500</td>\n",
       "    </tr>\n",
       "    <tr>\n",
       "      <th>2020-03-01</th>\n",
       "      <td>33.750000</td>\n",
       "      <td>29.877273</td>\n",
       "    </tr>\n",
       "  </tbody>\n",
       "</table>\n",
       "</div>"
      ],
      "text/plain": [
       "            POILDUBUSDM  POILWTIUSDM\n",
       "DATE                                \n",
       "2019-11-01    61.407619    57.110476\n",
       "2019-12-01    64.477273    59.857727\n",
       "2020-01-01    63.732174    57.714783\n",
       "2020-02-01    54.512500    50.601500\n",
       "2020-03-01    33.750000    29.877273"
      ]
     },
     "metadata": {},
     "output_type": "display_data"
    }
   ],
   "source": [
    "# POILDUBUSDM: 두바이유\n",
    "# POILWTIUSDM: 서부 텍사스 중질유\n",
    "df_oil = pdr.DataReader(['POILDUBUSDM', 'POILWTIUSDM'], 'fred', start=\"2000-01-01\")\n",
    "print('row count:', len(df_oil))\n",
    "display(df_oil.tail())"
   ]
  },
  {
   "cell_type": "code",
   "execution_count": 48,
   "metadata": {},
   "outputs": [
    {
     "data": {
      "image/png": "[encoded data removed]",
      "text/plain": [
       "<Figure size 1008x288 with 1 Axes>"
      ]
     },
     "metadata": {
      "needs_background": "light"
     },
     "output_type": "display_data"
    }
   ],
   "source": [
    "df_oil.plot()\n",
    "plt.show()"
   ]
  },
  {
   "cell_type": "code",
   "execution_count": 49,
   "metadata": {},
   "outputs": [
    {
     "data": {
      "text/html": [
       "<div>\n",
       "<style scoped>\n",
       "    .dataframe tbody tr th:only-of-type {\n",
       "        vertical-align: middle;\n",
       "    }\n",
       "\n",
       "    .dataframe tbody tr th {\n",
       "        vertical-align: top;\n",
       "    }\n",
       "\n",
       "    .dataframe thead th {\n",
       "        text-align: right;\n",
       "    }\n",
       "</style>\n",
       "<table border=\"1\" class=\"dataframe\">\n",
       "  <thead>\n",
       "    <tr style=\"text-align: right;\">\n",
       "      <th></th>\n",
       "      <th>POILDUBUSDM</th>\n",
       "      <th>POILWTIUSDM</th>\n",
       "      <th>diff</th>\n",
       "    </tr>\n",
       "    <tr>\n",
       "      <th>DATE</th>\n",
       "      <th></th>\n",
       "      <th></th>\n",
       "      <th></th>\n",
       "    </tr>\n",
       "  </thead>\n",
       "  <tbody>\n",
       "    <tr>\n",
       "      <th>2019-11-01</th>\n",
       "      <td>61.407619</td>\n",
       "      <td>57.110476</td>\n",
       "      <td>4.297143</td>\n",
       "    </tr>\n",
       "    <tr>\n",
       "      <th>2019-12-01</th>\n",
       "      <td>64.477273</td>\n",
       "      <td>59.857727</td>\n",
       "      <td>4.619545</td>\n",
       "    </tr>\n",
       "    <tr>\n",
       "      <th>2020-01-01</th>\n",
       "      <td>63.732174</td>\n",
       "      <td>57.714783</td>\n",
       "      <td>6.017391</td>\n",
       "    </tr>\n",
       "    <tr>\n",
       "      <th>2020-02-01</th>\n",
       "      <td>54.512500</td>\n",
       "      <td>50.601500</td>\n",
       "      <td>3.911000</td>\n",
       "    </tr>\n",
       "    <tr>\n",
       "      <th>2020-03-01</th>\n",
       "      <td>33.750000</td>\n",
       "      <td>29.877273</td>\n",
       "      <td>3.872727</td>\n",
       "    </tr>\n",
       "  </tbody>\n",
       "</table>\n",
       "</div>"
      ],
      "text/plain": [
       "            POILDUBUSDM  POILWTIUSDM      diff\n",
       "DATE                                          \n",
       "2019-11-01    61.407619    57.110476  4.297143\n",
       "2019-12-01    64.477273    59.857727  4.619545\n",
       "2020-01-01    63.732174    57.714783  6.017391\n",
       "2020-02-01    54.512500    50.601500  3.911000\n",
       "2020-03-01    33.750000    29.877273  3.872727"
      ]
     },
     "execution_count": 49,
     "metadata": {},
     "output_type": "execute_result"
    }
   ],
   "source": [
    "# 두 가격의 차이 \n",
    "# 두 가격은 거의 같으나 약간의 차이가 있다. 이 차이를 한번에 나타내는\n",
    "# 데이터분석 즉, 시각화를 실행\n",
    "df_oil['diff'] = df_oil['POILDUBUSDM'] - df_oil['POILWTIUSDM']\n",
    "df_oil.tail()"
   ]
  },
  {
   "cell_type": "code",
   "execution_count": 50,
   "metadata": {},
   "outputs": [
    {
     "data": {
      "image/png": "[encoded data removed]",
      "text/plain": [
       "<Figure size 1008x288 with 1 Axes>"
      ]
     },
     "metadata": {
      "needs_background": "light"
     },
     "output_type": "display_data"
    }
   ],
   "source": [
    "df_oil['diff'].plot()\n",
    "plt.show()"
   ]
  },
  {
   "cell_type": "code",
   "execution_count": 52,
   "metadata": {},
   "outputs": [
    {
     "data": {
      "text/plain": [
       "<matplotlib.collections.PolyCollection at 0x1a99e714bc8>"
      ]
     },
     "execution_count": 52,
     "metadata": {},
     "output_type": "execute_result"
    },
    {
     "data": {
      "image/png": "[encoded data removed]",
      "text/plain": [
       "<Figure size 1008x288 with 1 Axes>"
      ]
     },
     "metadata": {
      "needs_background": "light"
     },
     "output_type": "display_data"
    }
   ],
   "source": [
    "# 가격의 차이를 좀 더 명확하게 표현하기\n",
    "# 0을 기준으로 낮으면 파란색, 높으면 빨간색으로 표시\n",
    "\n",
    "ax = df_oil['diff'].plot(color='k')\n",
    "x = df_oil['diff'].plot(color='k')\n",
    "\n",
    "x = df_oil.index\n",
    "y = df_oil['diff']\n",
    "\n",
    "ax.fill_between(x, 0, y, where=y>0, facecolor='r', alpha=0.6, interpolate=True)\n",
    "ax.fill_between(x, 0, y, where=y<=0, facecolor='b', alpha=0.6, interpolate=True)\n"
   ]
  }
 ],
 "metadata": {
  "kernelspec": {
   "display_name": "Python 3",
   "language": "python",
   "name": "python3"
  },
  "language_info": {
   "codemirror_mode": {
    "name": "ipython",
    "version": 3
   },
   "file_extension": ".py",
   "mimetype": "text/x-python",
   "name": "python",
   "nbconvert_exporter": "python",
   "pygments_lexer": "ipython3",
   "version": "3.7.6"
  }
 },
 "nbformat": 4,
 "nbformat_minor": 4
}
