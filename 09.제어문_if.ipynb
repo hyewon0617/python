{
 "cells": [
  {
   "cell_type": "markdown",
   "metadata": {},
   "source": [
    "### if문\n",
    "\n",
    "#### 1. 단순 if문\n",
    "<img src=\"./images/09.제어문_if_01_단순if문.png\" width=\"400\" height=\"200\" />\n",
    "\n",
    "#### 2. if~else문\n",
    "<img src=\"./images/09.제어문_if_02_단순if_else문.PNG\" width=\"400\" height=\"200\" />\n",
    "\n",
    "#### 3. if ~ elif ~else문"
   ]
  },
  {
   "cell_type": "code",
   "execution_count": 16,
   "metadata": {},
   "outputs": [
    {
     "name": "stdout",
     "output_type": "stream",
     "text": [
      "x = 10\n",
      "x = 10\n",
      "x = 10\n",
      "\n",
      "x = 10\n",
      "x는 10입니다!\n",
      "\n",
      "x는 10입니다!\n"
     ]
    }
   ],
   "source": [
    "# 1. 단순if문\n",
    "x = 10\n",
    "if x == 10:\n",
    "    print(\"x =\", x)\n",
    "    \n",
    "if x == 10: print(\"x =\", x)\n",
    "    \n",
    "if x == 10:\n",
    " print(\"x =\", x)\n",
    "print() \n",
    "\n",
    "if x == 10:\n",
    "    print(\"x =\", x)\n",
    "    print('x는 10입니다!')\n",
    "print()\n",
    "\n",
    "print('x는 10입니다!')"
   ]
  },
  {
   "cell_type": "code",
   "execution_count": 20,
   "metadata": {},
   "outputs": [
    {
     "name": "stdout",
     "output_type": "stream",
     "text": [
      "돈이 없습니다!\n",
      "불합격입니다\n"
     ]
    }
   ],
   "source": [
    "# 2. if~else\n",
    "money = 0\n",
    "\n",
    "if money:\n",
    "    print(f'돈이 {money}있습니다')    \n",
    "else:\n",
    "    print('돈이 없습니다!') \n",
    "    \n",
    "kor = 59\n",
    "if kor >= 60:\n",
    "    print(\"합격입니다\")\n",
    "else:\n",
    "    print(\"불합격입니다\")"
   ]
  },
  {
   "cell_type": "code",
   "execution_count": 22,
   "metadata": {},
   "outputs": [
    {
     "ename": "SyntaxError",
     "evalue": "invalid syntax (<ipython-input-22-957947e6e139>, line 8)",
     "output_type": "error",
     "traceback": [
      "\u001b[1;36m  File \u001b[1;32m\"<ipython-input-22-957947e6e139>\"\u001b[1;36m, line \u001b[1;32m8\u001b[0m\n\u001b[1;33m    elif score >= 80:\u001b[0m\n\u001b[1;37m       ^\u001b[0m\n\u001b[1;31mSyntaxError\u001b[0m\u001b[1;31m:\u001b[0m invalid syntax\n"
     ]
    }
   ],
   "source": [
    "# 3. if~elif~else\n",
    "\n",
    "score = 50\n",
    "if score >= 90:\n",
    "    print(\"A학점입니다\")\n",
    "elif score >= 80:\n",
    "    print(\"B학점입니다\")    \n",
    "elif score >= 70:\n",
    "    print(\"C학점입니다\")    \n",
    "elif score >= 60:\n",
    "    print(\"D학점입니다\")    \n",
    "else:\n",
    "    print(\"F학점입니다\")        "
   ]
  },
  {
   "cell_type": "code",
   "execution_count": 23,
   "metadata": {},
   "outputs": [
    {
     "name": "stdout",
     "output_type": "stream",
     "text": [
      "Taxi Call\n"
     ]
    }
   ],
   "source": [
    "# 4. 중첩 if문\n",
    "poket = ['paper', 'mobilephone']\n",
    "card = 1\n",
    "\n",
    "if 'money' in poket:\n",
    "    print(\"Taxi Call\")\n",
    "else: \n",
    "    if card:\n",
    "        print(\"Taxi Call\")\n",
    "    else:\n",
    "        print(\"도보\")"
   ]
  },
  {
   "cell_type": "code",
   "execution_count": 26,
   "metadata": {},
   "outputs": [],
   "source": [
    "# 5. if문(while문)에서 실행문장이 하나도 없을 경우에는 pass라는 키워드를 사용\n",
    "if 1:\n",
    "    pass\n",
    "\n",
    "if 2: pass"
   ]
  },
  {
   "cell_type": "code",
   "execution_count": 32,
   "metadata": {},
   "outputs": [
    {
     "name": "stdout",
     "output_type": "stream",
     "text": [
      "1이 있습니다\n",
      "True\n",
      "False\n",
      "True\n",
      "False\n",
      "False\n"
     ]
    }
   ],
   "source": [
    "# 6. if문장에서 파이썬 다른언어와 좀 다른 점은 in, not in함수를 사용할 수 있다\n",
    "# 는 점이다. in, not in을 사용해서 iterable자료형 즉, 리스트, 튜플, 문자열을\n",
    "# 비교할 수 있는 if문장을 사용할 수 있다는 점이다.\n",
    "# 사용법 \"비교할 값 in(not in) iterable(list/tuple/string)\"\n",
    "# 비교결과는 True 또는 False를 리턴한다.\n",
    "print(1 in [2,3,4,1,5])\n",
    "print(1 in (2,3,4,1,5))\n",
    "print(\"안\" in \"안녕하세요!\")\n",
    "print(1 not in [2,3,4,1,5])\n",
    "print(1 not in (2,3,4,1,5))\n",
    "print(\"안\" not in \"안녕하세요!\")\n",
    "\n",
    "print('a' not in [2,3,4,1,5])\n",
    "print('a' not in (2,3,4,1,5))\n",
    "print('a' not in \"안녕하세요!\")\n",
    "\n",
    "books = ['java', 'javascript', 'python']\n",
    "\n",
    "if 'python' in books:\n",
    "    print(\"파이썬을 공부합니다!\")\n",
    "else:\n",
    "    print(\"파이썬을 공부할 수 없습니다!\")"
   ]
  },
  {
   "cell_type": "markdown",
   "metadata": {},
   "source": [
    "#### 삼항연산자\n",
    "\n",
    ">\"True일 경우 수행문\" if (조건문) else \"False일 경우 수행문\""
   ]
  },
  {
   "cell_type": "code",
   "execution_count": 33,
   "metadata": {},
   "outputs": [
    {
     "name": "stdout",
     "output_type": "stream",
     "text": [
      "합격입니다\n"
     ]
    }
   ],
   "source": [
    "score = 60\n",
    "result = ''\n",
    "if score >= 60:\n",
    "    result = '합격입니다'\n",
    "else:\n",
    "    result = '불합격입니다'\n",
    "    \n",
    "print(result)    "
   ]
  },
  {
   "cell_type": "code",
   "execution_count": 34,
   "metadata": {},
   "outputs": [
    {
     "name": "stdout",
     "output_type": "stream",
     "text": [
      "불합격입니다.\n"
     ]
    }
   ],
   "source": [
    "score = 50\n",
    "result = '합격입니다' if (score>=60) else \"불합격입니다.\"\n",
    "print(result)"
   ]
  },
  {
   "cell_type": "markdown",
   "metadata": {},
   "source": [
    "#### 관계연산자\n",
    "\n",
    "##### 1. 비교연산자\n",
    "|비교연산자|설명|\n",
    "|-------------|---------------|\n",
    "|x<y| x가 y보다 작다|\n",
    "|x>y| x가 y보다 크다|\n",
    "|x==y| x와 y가 같다|\n",
    "|x!=y| x와 y가 같지 않다|\n",
    "|x>=y| x가 y보다 크거나 같다|\n",
    "|x<=y| x가 y보다 작거나 같다|\n",
    "\n",
    "##### 2. and, or, not\n",
    "|연산자|설명|\n",
    "|-------------|---------------|\n",
    "|x or y| x와 y 둘중에 하나만 참이면 True|\n",
    "|x and y| x와 y가 모두 참이어야 True|\n",
    "|not x| x가 거짓이면 True|\n",
    "\n",
    "##### 3. x in s, x not in s\n",
    "|in | not in |\n",
    "|-------------|---------------|\n",
    "| x in list | x not in list|\n",
    "| x in tuple | x not in tuple|\n",
    "|x in 문자열 | x not in 문자열|"
   ]
  },
  {
   "cell_type": "markdown",
   "metadata": {},
   "source": [
    "#### 실습문제"
   ]
  },
  {
   "cell_type": "code",
   "execution_count": 38,
   "metadata": {},
   "outputs": [
    {
     "name": "stdout",
     "output_type": "stream",
     "text": [
      "정수를 입력하세요 =>6\n",
      "<class 'str'>\n",
      "짝수입니다\n"
     ]
    }
   ],
   "source": [
    "# input()함수로 숫자를 입력받아서 짝수인지 홀수인지를 출력하세요!\n",
    "# 짝수일 경우에 print(\"짝수입니다\")\n",
    "# 홀수일 경우에 print(\"홀수입니다\")\n",
    "number = input('정수를 입력하세요 =>');\n",
    "print(type(number))\n",
    "\n",
    "number = int(number)\n",
    "if number % 2 == 0:\n",
    "    print(\"짝수입니다\")\n",
    "else:\n",
    "    print(\"홀수입니다\")"
   ]
  }
 ],
 "metadata": {
  "kernelspec": {
   "display_name": "Python 3",
   "language": "python",
   "name": "python3"
  },
  "language_info": {
   "codemirror_mode": {
    "name": "ipython",
    "version": 3
   },
   "file_extension": ".py",
   "mimetype": "text/x-python",
   "name": "python",
   "nbconvert_exporter": "python",
   "pygments_lexer": "ipython3",
   "version": "3.7.6"
  }
 },
 "nbformat": 4,
 "nbformat_minor": 4
}
