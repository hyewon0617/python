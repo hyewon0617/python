{
 "cells": [
  {
   "cell_type": "markdown",
   "metadata": {},
   "source": [
    "### 딕셔너리(Dictionary)\n",
    "\n",
    "파이썬에서의 딕셔너리자료형이란 Key와 Value로 대응관계를 나타낼 수 있는 자료형을 말한다.\n",
    "Java에서의 Map과 유사한 자료형으로서 이러한 대응관계를 나타내는 것을 연관배열(Associative array) 또는 해시(Hash)라고 한다.\n",
    "\n",
    "파이썬에서는 이러한 자료형을 Dictionary라고 하는 데 딕셔너리는 리스트나 튜플처럼 순차적(Sequential) 으로 해당 요소값을 처리하지 않고 Key를 통해 값을 처리한다.\n",
    "\n",
    "1. 딕셔너리의 선언은 빈 <code>중괄호 {}</code>로 선언한다.\n",
    "   (예) {key1:val1, key2:val2 ... keyn:valn}\n",
    "2. 딕셔너리는 immutable한 Key와 mutable한 Value로 맵핑되어 있는 순서가 없는 집합이다.\n",
    "3. Key값으로는 immutable한 값은 사용할 수 있지만 mutable한 객체는 사용할 수 없다.\n",
    "4. Value는 중복될 수 있지만 Key가 중복된다면 마지막 Value로 덮어쓴다.\n",
    "5. 순서가 없기 때문에 인덱스로는 접근할 수 없고 Key로 접근할 수 있다.\n",
    "6. mutable한 객체이므로 Key로 접근하여 Value를 수정할 수 있다.\n",
    "7. 리스트안에 리스트나 튜플, 튜플안에 리스트나 튜플의 값을 Key와 Value로 나란히 입력하면 dictionay 변형할 수 있다.\n",
    "8."
   ]
  },
  {
   "cell_type": "markdown",
   "metadata": {},
   "source": [
    "#### 1. 딕셔너리선언"
   ]
  },
  {
   "cell_type": "code",
   "execution_count": 6,
   "metadata": {},
   "outputs": [
    {
     "name": "stdout",
     "output_type": "stream",
     "text": [
      "<class 'dict'>\n",
      "<class 'dict'>\n",
      "{1: 5, 2: 4}\n",
      "{(1, 5): 5, (3, 3): 'a', (1, 2): [1, 2, 3]}\n",
      "{3.6: 5, 'abc': 100}\n"
     ]
    }
   ],
   "source": [
    "# A. immutable\n",
    "\n",
    "# 1. 중괄호로 선언\n",
    "a = {}\n",
    "print(type(a))\n",
    "\n",
    "# 2. dict()함수로 선언\n",
    "b = dict()\n",
    "print(type(b))\n",
    "\n",
    "# 3. 요소를 가진 딕셔너리 선언\n",
    "d = {1:5, 2:4} # itnt사용\n",
    "print(d)\n",
    "\n",
    "# 4. tuple로 선언\n",
    "e = {(1,5):5,(3,3):'a',(1,2):[1,2,3]}\n",
    "print(e)\n",
    "\n",
    "# 5. float로 선언\n",
    "f = {3.6: 5, \"abc\":100}\n",
    "print(f) \n",
    "\n",
    "# 6. boolean으로 선언\n",
    "g = {True:'a', False:'b'}"
   ]
  },
  {
   "cell_type": "code",
   "execution_count": 10,
   "metadata": {},
   "outputs": [
    {
     "ename": "TypeError",
     "evalue": "unhashable type: 'dict'",
     "output_type": "error",
     "traceback": [
      "\u001b[1;31m---------------------------------------------------------------------------\u001b[0m",
      "\u001b[1;31mTypeError\u001b[0m                                 Traceback (most recent call last)",
      "\u001b[1;32m<ipython-input-10-54d4a572893f>\u001b[0m in \u001b[0;36m<module>\u001b[1;34m\u001b[0m\n\u001b[0;32m      3\u001b[0m \u001b[1;31m# a = {{1,3}:'a',{5,6}: 'B'} # 에러 : unhashable type: 'set'\u001b[0m\u001b[1;33m\u001b[0m\u001b[1;33m\u001b[0m\u001b[1;33m\u001b[0m\u001b[0m\n\u001b[0;32m      4\u001b[0m \u001b[1;31m# b = {[1,3]:'a',[5,6]: 'B'} # 에러 : unhashable type: 'list'\u001b[0m\u001b[1;33m\u001b[0m\u001b[1;33m\u001b[0m\u001b[1;33m\u001b[0m\u001b[0m\n\u001b[1;32m----> 5\u001b[1;33m \u001b[0mc\u001b[0m \u001b[1;33m=\u001b[0m \u001b[1;33m{\u001b[0m\u001b[1;33m{\u001b[0m\u001b[1;34m'key'\u001b[0m\u001b[1;33m:\u001b[0m\u001b[1;34m'value'\u001b[0m\u001b[1;33m}\u001b[0m\u001b[1;33m:\u001b[0m\u001b[1;34m'a'\u001b[0m\u001b[1;33m,\u001b[0m\u001b[1;33m{\u001b[0m\u001b[1;34m'key'\u001b[0m\u001b[1;33m:\u001b[0m\u001b[1;34m'value'\u001b[0m\u001b[1;33m}\u001b[0m\u001b[1;33m:\u001b[0m\u001b[1;34m'b'\u001b[0m\u001b[1;33m}\u001b[0m\u001b[1;33m\u001b[0m\u001b[1;33m\u001b[0m\u001b[0m\n\u001b[0m",
      "\u001b[1;31mTypeError\u001b[0m: unhashable type: 'dict'"
     ]
    }
   ],
   "source": [
    "# B. Mutable : 에러발생\n",
    "\n",
    "# a = {{1,3}:'a',{5,6}: 'B'} # 에러 : unhashable type: 'set'\n",
    "# b = {[1,3]:'a',[5,6]: 'B'} # 에러 : unhashable type: 'list'\n",
    "# c = {{'key':'value'}:'a',{'key':'value'}:'b'} # 에러 : unhashable type: 'dict'"
   ]
  },
  {
   "cell_type": "code",
   "execution_count": 14,
   "metadata": {},
   "outputs": [
    {
     "data": {
      "text/plain": [
       "{1: 90, 2: 100, 3: 91}"
      ]
     },
     "execution_count": 14,
     "metadata": {},
     "output_type": "execute_result"
    }
   ],
   "source": [
    "# Key가 중복이 될 경우\n",
    "# 값은 중복될 수 있지만 키가 중복되면 마지막 값으로 덮어쓴다.\n",
    "a = {'key':100, 'key':2000}\n",
    "a\n",
    "b = {1:90, 2:88, 3:91, 2:100}\n",
    "b"
   ]
  },
  {
   "cell_type": "code",
   "execution_count": 19,
   "metadata": {},
   "outputs": [
    {
     "data": {
      "text/plain": [
       "'소향'"
      ]
     },
     "execution_count": 19,
     "metadata": {},
     "output_type": "execute_result"
    }
   ],
   "source": [
    "# 딕셔너리 접근하기\n",
    "a = {1:90, 2:88, 3:91, 2:100}\n",
    "# a[0] # dictionary는 인덱스를 사용할 수 없기 때문에 에러\n",
    "a[1] # 1은 인덱스가 아니라 key=1\n",
    "a[2]\n",
    "a[3]\n",
    "\n",
    "b = {'name':'소향', 'kor':95, 'eng':93, 'mat':89}\n",
    "b['name']"
   ]
  },
  {
   "cell_type": "markdown",
   "metadata": {},
   "source": [
    "#### 2. 딕셔너리 추가/삭제/수정"
   ]
  },
  {
   "cell_type": "code",
   "execution_count": 26,
   "metadata": {},
   "outputs": [
    {
     "name": "stdout",
     "output_type": "stream",
     "text": [
      "{1: 'a'}\n",
      "{1: 'a', 2: 'b'}\n",
      "{1: 'a', 2: 'b', 'name': '홍길동'}\n",
      "{1: 'a', 2: 'b', 'name': '홍길동', 3: [1, 2, 3, ['x', 'y', 'z']]}\n",
      "{1: 'a', 2: 'b', 'name': '홍길동', 3: [1, 2, 3, ['x', 'y', 'z']], 'address': ('서울', '종로구', '관철동', '더조은아카데미')}\n",
      "{1: 'a', 2: 'b', 'name': '홍길동', 3: [1, 2, 3, ['x', 'y', 'z']], 'address': ('서울', '종로구', '관철동', '더조은아카데미'), 'function': <built-in function print>}\n"
     ]
    },
    {
     "data": {
      "text/plain": [
       "<function print>"
      ]
     },
     "execution_count": 26,
     "metadata": {},
     "output_type": "execute_result"
    }
   ],
   "source": [
    "# 1. 딕셔너리 추가\n",
    "a = {1:'a'}\n",
    "print(a)\n",
    "\n",
    "a[2] = 'b' # 키가 숫자일 경우는 키는 지정된 숫자가 키가 된다.\n",
    "print(a)\n",
    "\n",
    "a['name'] = '홍길동'\n",
    "print(a)\n",
    "\n",
    "a[3] = [1,2,3,['x', 'y', 'z']]\n",
    "print(a)\n",
    "\n",
    "a['address'] = ('서울', '종로구', '관철동', '더조은아카데미')\n",
    "print(a)\n",
    "\n",
    "a['function'] = print\n",
    "print(a)\n",
    "\n",
    "a['function']"
   ]
  },
  {
   "cell_type": "code",
   "execution_count": 29,
   "metadata": {},
   "outputs": [
    {
     "name": "stdout",
     "output_type": "stream",
     "text": [
      "{1: 'a', 2: 'b', 'name': '홍길동', 3: [1, 2, 3, ['x', 'y', 'z']], 'function': <built-in function print>}\n"
     ]
    }
   ],
   "source": [
    "# 2. 딕셔너리 삭제\n",
    "# del a[10] # key가 없을 경우에 에러 발생\n",
    "del a['address']\n",
    "print(a)"
   ]
  },
  {
   "cell_type": "code",
   "execution_count": 32,
   "metadata": {},
   "outputs": [
    {
     "name": "stdout",
     "output_type": "stream",
     "text": [
      "{1: 'a', 2: 'b', 'name': '홍길동', 3: [1, 2, 3, ['x', 'y', 'z']], 'function': 'print', 10: 'print'}\n",
      "{1: 'a', 2: 'b', 'name': '홍길동', 3: [1, 2, 3, ['x', 'y', 'z']], 'function': 'print', 10: 'print'}\n"
     ]
    }
   ],
   "source": [
    "# 3. 딕셔너리 수정\n",
    "a['function'] = 'print'\n",
    "print(a)\n",
    "\n",
    "a[10] = 'print' # key가 없으면 수정이 아니라 추가가 된다.\n",
    "print(a)"
   ]
  },
  {
   "cell_type": "markdown",
   "metadata": {},
   "source": [
    "#### 3. 딕셔너리 사용하기"
   ]
  },
  {
   "cell_type": "code",
   "execution_count": 37,
   "metadata": {},
   "outputs": [
    {
     "name": "stdout",
     "output_type": "stream",
     "text": [
      "{'홍길동': 90, '손흥민': 80, '홍길순': 95}\n",
      "80\n",
      "hi\n"
     ]
    }
   ],
   "source": [
    "# key를 이용해서 value얻기\n",
    "grade = {'홍길동':90, '손흥민':85, '홍길순':95, '손흥민':80}\n",
    "print(grade) # key는 중복을 허용하지 않는다.\n",
    "\n",
    "print(grade['손흥민'])\n",
    "\n",
    "\"\"\"\n",
    "리스트나 튜플, 문자열은 요소값을 구할 때 인덱싱이나 슬라이싱을 이용하지만\n",
    "딕셔너리는 Key를 이용해서 값을 구하는 방법밖에 없다.\n",
    "\n",
    "딕셔너리를 만들 때 주의사항\n",
    "1. Key는 고유한 값이어야 하지만 중복오류는 발생하지 않느다. 하지만 Key로 \n",
    "   값을 구할 경우에는 맨 뒤에 정의한 값만 가져올 수 있다.\n",
    "2. Key에는 list같은 mutable객체는 사용할 수 없으나 tuple같은 immutable객체\n",
    "   는 사용할 수 있다.\n",
    "\"\"\"\n",
    "\n",
    "# a = {[1,2]: 'hi'} # TypeError: unhashable type: 'list'\n",
    "a = {(1,2):'hi'}\n",
    "print(a[(1,2)])"
   ]
  },
  {
   "cell_type": "markdown",
   "metadata": {},
   "source": [
    "#### 4. 딕셔너리 관련함수\n",
    "\n",
    "* keys()   : Key의 목록을 반환 \n",
    "* values() : Value의 목록을 반환\n",
    "* items()  : Key와 Vlaue를 동시에 반환\n",
    "* get()    : Key로 Value를 가져오기\n",
    "* clear()  : 딕셔너리 전체를 삭제\n",
    "* in, not in : 해당 Key의 유무를 반환(True, False)\n",
    "* update() : 여개의 값을 일괄로 수정하기\n",
    "* copy()   : 딕셔너리를 복사"
   ]
  },
  {
   "cell_type": "code",
   "execution_count": 46,
   "metadata": {},
   "outputs": [
    {
     "name": "stdout",
     "output_type": "stream",
     "text": [
      "dict_keys(['홍길동', '홍길순', '손흥민'])\n",
      "<class 'dict_keys'>\n"
     ]
    }
   ],
   "source": [
    "# 1. keys()\n",
    "d = {'홍길동':90, '홍길순':95, '손흥민':80}\n",
    "print(d.keys())\n",
    "print(type(d.keys()))\n",
    "\n",
    "# keys()라는 함수는 Key만 모아서 dict_keys라는 객체를 반환\n",
    "# dict_keys객체는 리스트를 사용하는 것과 유사하게 사용할 수 있지만\n",
    "# list고유함수인 append(), insert(), pop(), sort()등의 사용할 수 없다."
   ]
  },
  {
   "cell_type": "code",
   "execution_count": 48,
   "metadata": {},
   "outputs": [
    {
     "name": "stdout",
     "output_type": "stream",
     "text": [
      "dict_values([90, 95, 80])\n",
      "<class 'dict_values'>\n"
     ]
    }
   ],
   "source": [
    "# 2. values()\n",
    "# dict_values라는 객체를 반환\n",
    "print(d.values())\n",
    "print(type(d.values()))"
   ]
  },
  {
   "cell_type": "code",
   "execution_count": 53,
   "metadata": {},
   "outputs": [
    {
     "name": "stdout",
     "output_type": "stream",
     "text": [
      "dict_items([('홍길동', 90), ('홍길순', 95), ('손흥민', 80)])\n",
      "<class 'dict_items'>\n"
     ]
    },
    {
     "data": {
      "text/plain": [
       "dict_items"
      ]
     },
     "execution_count": 53,
     "metadata": {},
     "output_type": "execute_result"
    }
   ],
   "source": [
    "# 3. items()\n",
    "# dict_items라는 객체를 반환\n",
    "print(d.items())\n",
    "print(type(d.items()))\n",
    "\n",
    "a = d.items()\n",
    "type(a)\n",
    "# a[0] # 리스트형태이지만 list객체가 아니기 때문에 에러 발생"
   ]
  },
  {
   "cell_type": "code",
   "execution_count": 58,
   "metadata": {
    "scrolled": true
   },
   "outputs": [
    {
     "name": "stdout",
     "output_type": "stream",
     "text": [
      "90\n",
      "None\n",
      "키값을 찾지 못했습니다!\n"
     ]
    }
   ],
   "source": [
    "# 4. get() : key로 value를 가져오기\n",
    "# get(x)라는 함수는 x라는 key와 대응되는 value를 반환한다.\n",
    "# d['name']와 d.get('name')은 값을 가져오는 데 있어서는 동일하지만 차이점이 있다.\n",
    "# 차이점 d['name']는 키가 없을 경우에 익셉션에러가 발생하지만\n",
    "# d.get('name')은 키가 없을 경우에 default=None으로 설정된 None(거짓이라는 의미)\n",
    "# 이라는 값을 리턴한다.\n",
    "d = {'홍길동':90, '홍길순':95, '손흥민':80}\n",
    "print(d.get('홍길동'))\n",
    "print(d.get('아무개'))\n",
    "# print(d['아무개']) # KeyError\n",
    "\n",
    "# dictionary에 검색하려는 key가 없을 경우에 기본값을 설정해 두면 편리하다.\n",
    "# get(key, default_value)\n",
    "print(d.get('아무개', '키값을 찾지 못했습니다!'))"
   ]
  },
  {
   "cell_type": "code",
   "execution_count": 59,
   "metadata": {},
   "outputs": [
    {
     "name": "stdout",
     "output_type": "stream",
     "text": [
      "{}\n"
     ]
    }
   ],
   "source": [
    "# 5. clear()\n",
    "d.clear()\n",
    "print(d)"
   ]
  },
  {
   "cell_type": "code",
   "execution_count": 62,
   "metadata": {},
   "outputs": [
    {
     "name": "stdout",
     "output_type": "stream",
     "text": [
      "False\n",
      "True\n",
      "True\n",
      "False\n"
     ]
    }
   ],
   "source": [
    "# # 6.in, not in : 해당 키 값이 딕셔너리에 있는지 여부를 리턴\n",
    "# 있을 경우 True, 없을 경우 False\n",
    "d = {'홍길동':90, '홍길순':95, '손흥민':80}\n",
    "\n",
    "print('소향' in d)\n",
    "print('소향' not in d)\n",
    "print('홍길동' in d)\n",
    "print('홍길동' not in d)"
   ]
  },
  {
   "cell_type": "code",
   "execution_count": 74,
   "metadata": {},
   "outputs": [
    {
     "name": "stdout",
     "output_type": "stream",
     "text": [
      "{'홍길동': 100, '홍길순': 95, '손흥민': 100}\n"
     ]
    }
   ],
   "source": [
    "# 8. update : 여러개의 값을 동시에 수정하기\n",
    "# print(dir({}))\n",
    "d = {'홍길동':90, '홍길순':95, '손흥민':80}\n",
    "d['홍길동'] = 99\n",
    "d.update({'홍길동':100, '손흥민':100})\n",
    "print(d)"
   ]
  },
  {
   "cell_type": "code",
   "execution_count": 85,
   "metadata": {},
   "outputs": [
    {
     "name": "stdout",
     "output_type": "stream",
     "text": [
      "{'홍길동': [1, 2, 3], '홍길순': 95, '손흥민': 80}\n",
      "{'홍길동': [1, 2, 3], '홍길순': 95, '손흥민': 80}\n",
      "<class 'list'>\n",
      "{'홍길동': [1, 2, 3, 4], '홍길순': 95, '손흥민': 80}\n",
      "{'홍길동': [1, 2, 3, 4], '홍길순': 95, '손흥민': 80}\n",
      "1568158738456\n",
      "1568158739256\n",
      "1568143136328\n",
      "1568143136328\n"
     ]
    }
   ],
   "source": [
    "# 9. copy()\n",
    "# 9-1) shallow copy\n",
    "d = {'홍길동':[1,2,3], '홍길순':95, '손흥민':80}\n",
    "d1 = d.copy()\n",
    "print(d)\n",
    "print(d1)\n",
    "print(type(d1['홍길동']))\n",
    "d1['홍길동'].append(4)\n",
    "print(d1)\n",
    "print(d)\n",
    "print(id(d))\n",
    "print(id(d1))\n",
    "print(id(d['홍길동']))\n",
    "print(id(d1['홍길동']))"
   ]
  },
  {
   "cell_type": "code",
   "execution_count": 89,
   "metadata": {},
   "outputs": [
    {
     "name": "stdout",
     "output_type": "stream",
     "text": [
      "1568127956424\n",
      "1568127964232\n",
      "{'홍길동': [1, 2, 3], '홍길순': 95, '손흥민': 80}\n",
      "{'홍길동': [1, 2, 3, 'aaa'], '홍길순': 95, '손흥민': 80}\n"
     ]
    }
   ],
   "source": [
    "# 9-2) deepcopy\n",
    "import copy\n",
    "# copy?\n",
    "# print(dir(copy))\n",
    "d0 = {'홍길동':[1,2,3], '홍길순':95, '손흥민':80}\n",
    "d1 = copy.deepcopy(d0) \n",
    "print(id(d0['홍길동']))\n",
    "print(id(d1['홍길동']))\n",
    "\n",
    "d1['홍길동'].append('aaa')\n",
    "print(d0)\n",
    "print(d1)"
   ]
  },
  {
   "cell_type": "code",
   "execution_count": 70,
   "metadata": {},
   "outputs": [
    {
     "name": "stdout",
     "output_type": "stream",
     "text": [
      "['__add__', '__class__', '__contains__', '__delattr__', '__dir__', '__doc__', '__eq__', '__format__', '__ge__', '__getattribute__', '__getitem__', '__getnewargs__', '__gt__', '__hash__', '__init__', '__init_subclass__', '__iter__', '__le__', '__len__', '__lt__', '__mod__', '__mul__', '__ne__', '__new__', '__reduce__', '__reduce_ex__', '__repr__', '__rmod__', '__rmul__', '__setattr__', '__sizeof__', '__str__', '__subclasshook__', 'capitalize', 'casefold', 'center', 'count', 'encode', 'endswith', 'expandtabs', 'find', 'format', 'format_map', 'index', 'isalnum', 'isalpha', 'isascii', 'isdecimal', 'isdigit', 'isidentifier', 'islower', 'isnumeric', 'isprintable', 'isspace', 'istitle', 'isupper', 'join', 'ljust', 'lower', 'lstrip', 'maketrans', 'partition', 'replace', 'rfind', 'rindex', 'rjust', 'rpartition', 'rsplit', 'rstrip', 'split', 'splitlines', 'startswith', 'strip', 'swapcase', 'title', 'translate', 'upper', 'zfill'] \n",
      "\n",
      "['__class__', '__contains__', '__delattr__', '__delitem__', '__dir__', '__doc__', '__eq__', '__format__', '__ge__', '__getattribute__', '__getitem__', '__gt__', '__hash__', '__init__', '__init_subclass__', '__iter__', '__le__', '__len__', '__lt__', '__ne__', '__new__', '__reduce__', '__reduce_ex__', '__repr__', '__setattr__', '__setitem__', '__sizeof__', '__str__', '__subclasshook__', 'clear', 'copy', 'fromkeys', 'get', 'items', 'keys', 'pop', 'popitem', 'setdefault', 'update', 'values'] \n",
      "\n",
      "['__add__', '__class__', '__contains__', '__delattr__', '__delitem__', '__dir__', '__doc__', '__eq__', '__format__', '__ge__', '__getattribute__', '__getitem__', '__gt__', '__hash__', '__iadd__', '__imul__', '__init__', '__init_subclass__', '__iter__', '__le__', '__len__', '__lt__', '__mul__', '__ne__', '__new__', '__reduce__', '__reduce_ex__', '__repr__', '__reversed__', '__rmul__', '__setattr__', '__setitem__', '__sizeof__', '__str__', '__subclasshook__', 'append', 'clear', 'copy', 'count', 'extend', 'index', 'insert', 'pop', 'remove', 'reverse', 'sort'] \n",
      "\n",
      "Help on dict object:\n",
      "\n",
      "class dict(object)\n",
      " |  dict() -> new empty dictionary\n",
      " |  dict(mapping) -> new dictionary initialized from a mapping object's\n",
      " |      (key, value) pairs\n",
      " |  dict(iterable) -> new dictionary initialized as if via:\n",
      " |      d = {}\n",
      " |      for k, v in iterable:\n",
      " |          d[k] = v\n",
      " |  dict(**kwargs) -> new dictionary initialized with the name=value pairs\n",
      " |      in the keyword argument list.  For example:  dict(one=1, two=2)\n",
      " |  \n",
      " |  Methods defined here:\n",
      " |  \n",
      " |  __contains__(self, key, /)\n",
      " |      True if the dictionary has the specified key, else False.\n",
      " |  \n",
      " |  __delitem__(self, key, /)\n",
      " |      Delete self[key].\n",
      " |  \n",
      " |  __eq__(self, value, /)\n",
      " |      Return self==value.\n",
      " |  \n",
      " |  __ge__(self, value, /)\n",
      " |      Return self>=value.\n",
      " |  \n",
      " |  __getattribute__(self, name, /)\n",
      " |      Return getattr(self, name).\n",
      " |  \n",
      " |  __getitem__(...)\n",
      " |      x.__getitem__(y) <==> x[y]\n",
      " |  \n",
      " |  __gt__(self, value, /)\n",
      " |      Return self>value.\n",
      " |  \n",
      " |  __init__(self, /, *args, **kwargs)\n",
      " |      Initialize self.  See help(type(self)) for accurate signature.\n",
      " |  \n",
      " |  __iter__(self, /)\n",
      " |      Implement iter(self).\n",
      " |  \n",
      " |  __le__(self, value, /)\n",
      " |      Return self<=value.\n",
      " |  \n",
      " |  __len__(self, /)\n",
      " |      Return len(self).\n",
      " |  \n",
      " |  __lt__(self, value, /)\n",
      " |      Return self<value.\n",
      " |  \n",
      " |  __ne__(self, value, /)\n",
      " |      Return self!=value.\n",
      " |  \n",
      " |  __repr__(self, /)\n",
      " |      Return repr(self).\n",
      " |  \n",
      " |  __setitem__(self, key, value, /)\n",
      " |      Set self[key] to value.\n",
      " |  \n",
      " |  __sizeof__(...)\n",
      " |      D.__sizeof__() -> size of D in memory, in bytes\n",
      " |  \n",
      " |  clear(...)\n",
      " |      D.clear() -> None.  Remove all items from D.\n",
      " |  \n",
      " |  copy(...)\n",
      " |      D.copy() -> a shallow copy of D\n",
      " |  \n",
      " |  get(self, key, default=None, /)\n",
      " |      Return the value for key if key is in the dictionary, else default.\n",
      " |  \n",
      " |  items(...)\n",
      " |      D.items() -> a set-like object providing a view on D's items\n",
      " |  \n",
      " |  keys(...)\n",
      " |      D.keys() -> a set-like object providing a view on D's keys\n",
      " |  \n",
      " |  pop(...)\n",
      " |      D.pop(k[,d]) -> v, remove specified key and return the corresponding value.\n",
      " |      If key is not found, d is returned if given, otherwise KeyError is raised\n",
      " |  \n",
      " |  popitem(...)\n",
      " |      D.popitem() -> (k, v), remove and return some (key, value) pair as a\n",
      " |      2-tuple; but raise KeyError if D is empty.\n",
      " |  \n",
      " |  setdefault(self, key, default=None, /)\n",
      " |      Insert key with a value of default if key is not in the dictionary.\n",
      " |      \n",
      " |      Return the value for key if key is in the dictionary, else default.\n",
      " |  \n",
      " |  update(...)\n",
      " |      D.update([E, ]**F) -> None.  Update D from dict/iterable E and F.\n",
      " |      If E is present and has a .keys() method, then does:  for k in E: D[k] = E[k]\n",
      " |      If E is present and lacks a .keys() method, then does:  for k, v in E: D[k] = v\n",
      " |      In either case, this is followed by: for k in F:  D[k] = F[k]\n",
      " |  \n",
      " |  values(...)\n",
      " |      D.values() -> an object providing a view on D's values\n",
      " |  \n",
      " |  ----------------------------------------------------------------------\n",
      " |  Class methods defined here:\n",
      " |  \n",
      " |  fromkeys(iterable, value=None, /) from builtins.type\n",
      " |      Create a new dictionary with keys from iterable and values set to value.\n",
      " |  \n",
      " |  ----------------------------------------------------------------------\n",
      " |  Static methods defined here:\n",
      " |  \n",
      " |  __new__(*args, **kwargs) from builtins.type\n",
      " |      Create and return a new object.  See help(type) for accurate signature.\n",
      " |  \n",
      " |  ----------------------------------------------------------------------\n",
      " |  Data and other attributes defined here:\n",
      " |  \n",
      " |  __hash__ = None\n",
      "\n"
     ]
    }
   ],
   "source": [
    "# dir() : 이 함수는 특정 객체를 인자로 넣어 주면 해당객체가 어떤 변수와 어떤 메서드를\n",
    "# 가지고 있는지를 목록으로 리턴한다.\n",
    "print(dir('str'), '\\n')\n",
    "print(dir({}), '\\n')\n",
    "print(dir([]), '\\n')\n",
    "\n",
    "# 도움말 보기\n",
    "help({})"
   ]
  },
  {
   "cell_type": "code",
   "execution_count": 94,
   "metadata": {},
   "outputs": [
    {
     "name": "stdout",
     "output_type": "stream",
     "text": [
      "{'홍길녀': (1, 3, 5, 7, 9),\n",
      " '홍길동': [1, 2, 3],\n",
      " '홍길순': 90,\n",
      " '홍길자': 95,\n",
      " '홍미녀': '이쁘다',\n",
      " '홍수지': 89}\n"
     ]
    }
   ],
   "source": [
    "# pprint : ditionary를 읽기 쉽게 출력해주는 모듈\n",
    "from pprint import pprint as pp\n",
    "\n",
    "d = {'홍길동':[1,2,3], '홍길순':90, '홍길자':95, '홍수지':89, '홍길녀':(1,3,5,7,9), '홍미녀':\"이쁘다\"}\n",
    "pp(d)"
   ]
  },
  {
   "cell_type": "code",
   "execution_count": 100,
   "metadata": {},
   "outputs": [
    {
     "name": "stdout",
     "output_type": "stream",
     "text": [
      "<class 'list'>\n",
      "<class 'dict'>\n",
      "<class 'list'>\n",
      "<class 'dict'>\n"
     ]
    }
   ],
   "source": [
    "# dict(x) : 매개값으로 주어진 x를 딕셔너리자료형으로 변환. 단, 조건이 key와 value로 구성된 x\n",
    "name_addr = [['홍길동', '서울'], ['홍길자', '부산']]\n",
    "print(type(name_addr))\n",
    "d = dict(name_addr)\n",
    "print(type(d))\n",
    "\n",
    "l = list(d)\n",
    "print(type(l))\n",
    "\n",
    "name_addr = [('홍길동', '서울'), ('홍길자', '부산')]\n",
    "d = dict(name_addr)\n",
    "print(type(d))"
   ]
  },
  {
   "cell_type": "markdown",
   "metadata": {},
   "source": [
    "#### 연습문제"
   ]
  },
  {
   "cell_type": "code",
   "execution_count": 101,
   "metadata": {},
   "outputs": [
    {
     "name": "stdout",
     "output_type": "stream",
     "text": [
      "{'A': 90, 'C': 70}\n",
      "80\n"
     ]
    }
   ],
   "source": [
    "# 1. 딕셔너리 a에서 'B'에 해당되는 값을 추출하고 삭제\n",
    "a = {'A':90, 'B':80, 'C':70}\n",
    "result = a.pop('B')\n",
    "print(a)\n",
    "print(result)"
   ]
  },
  {
   "cell_type": "code",
   "execution_count": 103,
   "metadata": {},
   "outputs": [
    {
     "name": "stdout",
     "output_type": "stream",
     "text": [
      "최소값 = 70\n",
      "최대값 = 90\n"
     ]
    }
   ],
   "source": [
    "# 2. 딕셔너리 a의 value중에서 최소/최대 값을 출력  min(), max()\n",
    "# 내장함수 min() 함수\n",
    "a = {'A':90, 'B':80, 'C':70}\n",
    "\n",
    "print('최소값 =', min(a.values()))\n",
    "print('최대값 =', max(a.values()))"
   ]
  },
  {
   "cell_type": "code",
   "execution_count": 109,
   "metadata": {},
   "outputs": [
    {
     "name": "stdout",
     "output_type": "stream",
     "text": [
      "dict_items([('B', 80), ('A', 60), ('C', 70)])\n",
      "[('B', 80), ('A', 60), ('C', 70)]\n",
      "[('A', 60), ('B', 80), ('C', 70)]\n"
     ]
    }
   ],
   "source": [
    "# 3. 딕셔너리 a를 다음과 같은 리스트로 변환 list(), list로 변환된 변수를 dict으로 변환 dict()\n",
    "# a = {'A':90, 'B':80, 'C':70}\n",
    "# [('A', 90), ('B', 80), ('C', 70)]\n",
    "a = {'B':80, 'A':60, 'C':70}\n",
    "\n",
    "print(a.items())\n",
    "print(list(a.items()))\n",
    "print(sorted(list(a.items()))) # Key순으로 정렬"
   ]
  }
 ],
 "metadata": {
  "kernelspec": {
   "display_name": "Python 3",
   "language": "python",
   "name": "python3"
  },
  "language_info": {
   "codemirror_mode": {
    "name": "ipython",
    "version": 3
   },
   "file_extension": ".py",
   "mimetype": "text/x-python",
   "name": "python",
   "nbconvert_exporter": "python",
   "pygments_lexer": "ipython3",
   "version": "3.7.6"
  }
 },
 "nbformat": 4,
 "nbformat_minor": 4
}
